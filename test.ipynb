{
 "cells": [
  {
   "cell_type": "code",
   "execution_count": 1,
   "id": "ced01365",
   "metadata": {},
   "outputs": [
    {
     "name": "stderr",
     "output_type": "stream",
     "text": [
      "/gpcr/users/frann/networks/testenv5/lib/python3.9/site-packages/MDAnalysis/coordinates/chemfiles.py:108: DeprecationWarning: distutils Version classes are deprecated. Use packaging.version instead.\n",
      "  MIN_CHEMFILES_VERSION = LooseVersion(\"0.9\")\n",
      "/gpcr/users/frann/networks/testenv5/lib/python3.9/site-packages/MDAnalysis/coordinates/TRJ.py:1209: DeprecationWarning: Please use `netcdf_file` from the `scipy.io` namespace, the `scipy.io.netcdf` namespace is deprecated.\n",
      "  class NCDFPicklable(scipy.io.netcdf.netcdf_file):\n"
     ]
    },
    {
     "data": {
      "application/vnd.jupyter.widget-view+json": {
       "model_id": "aa833b6f772a448097e9bb758882ddc3",
       "version_major": 2,
       "version_minor": 0
      },
      "text/plain": []
     },
     "metadata": {},
     "output_type": "display_data"
    }
   ],
   "source": [
    "import AlloViz"
   ]
  },
  {
   "cell_type": "code",
   "execution_count": 2,
   "id": "572d3f7c-ca4c-4f78-a520-ae128a98be1c",
   "metadata": {},
   "outputs": [],
   "source": [
    "active = AlloViz.State(GPCRmdID=169)\n",
    "inactive = AlloViz.State(GPCRmdID=61)"
   ]
  },
  {
   "cell_type": "code",
   "execution_count": 3,
   "id": "3f1f408c-fb9b-4a30-92e0-e4f43e13e960",
   "metadata": {
    "tags": []
   },
   "outputs": [
    {
     "name": "stdout",
     "output_type": "stream",
     "text": [
      "Making trajectories of residue COM for 169/11579_dyn_169.pdb\n",
      "<multiprocess.pool.Pool state=RUN pool_size=1>\n",
      "adding raw data of CorrplusCOM for 169/11579_dyn_169.pdb:  ['169/data/CorrplusCOM/raw/1.pq', '169/data/CorrplusCOM/raw/2.pq', '169/data/CorrplusCOM/raw/3.pq']\n",
      "Making trajectories of residue COM for 61/10616_dyn_61.pdb\n",
      "<multiprocess.pool.Pool state=RUN pool_size=1>\n",
      "adding raw data of CorrplusCOM for 61/10616_dyn_61.pdb:  ['61/data/CorrplusCOM/raw/1.pq', '61/data/CorrplusCOM/raw/2.pq', '61/data/CorrplusCOM/raw/3.pq']\n"
     ]
    }
   ],
   "source": [
    "active.calculate(\"corrplusCOM\")\n",
    "inactive.calculate(\"corrplusCOM\")"
   ]
  },
  {
   "cell_type": "code",
   "execution_count": 4,
   "id": "e46681d9-242c-4ce0-9241-1a5fa24bfa06",
   "metadata": {},
   "outputs": [
    {
     "name": "stdout",
     "output_type": "stream",
     "text": [
      "<multiprocess.pool.Pool state=RUN pool_size=1>\n"
     ]
    },
    {
     "name": "stderr",
     "output_type": "stream",
     "text": [
      "<class 'networkx.utils.decorators.argmap'> compilation 20:4: FutureWarning: laplacian_matrix will return a scipy.sparse array instead of a matrix in Networkx 3.0.\n",
      "<class 'networkx.utils.decorators.argmap'> compilation 20:4: FutureWarning: laplacian_matrix will return a scipy.sparse array instead of a matrix in Networkx 3.0.\n",
      "<class 'networkx.utils.decorators.argmap'> compilation 20:4: FutureWarning: laplacian_matrix will return a scipy.sparse array instead of a matrix in Networkx 3.0.\n",
      "<class 'networkx.utils.decorators.argmap'> compilation 20:4: FutureWarning: laplacian_matrix will return a scipy.sparse array instead of a matrix in Networkx 3.0.\n"
     ]
    },
    {
     "name": "stdout",
     "output_type": "stream",
     "text": [
      "adding analyzed norm data of Whole for 169/11579_dyn_169.pdb\n",
      "<multiprocess.pool.Pool state=RUN pool_size=1>\n"
     ]
    },
    {
     "name": "stderr",
     "output_type": "stream",
     "text": [
      "<class 'networkx.utils.decorators.argmap'> compilation 20:4: FutureWarning: laplacian_matrix will return a scipy.sparse array instead of a matrix in Networkx 3.0.\n",
      "<class 'networkx.utils.decorators.argmap'> compilation 20:4: FutureWarning: laplacian_matrix will return a scipy.sparse array instead of a matrix in Networkx 3.0.\n",
      "<class 'networkx.utils.decorators.argmap'> compilation 20:4: FutureWarning: laplacian_matrix will return a scipy.sparse array instead of a matrix in Networkx 3.0.\n",
      "<class 'networkx.utils.decorators.argmap'> compilation 20:4: FutureWarning: laplacian_matrix will return a scipy.sparse array instead of a matrix in Networkx 3.0.\n"
     ]
    },
    {
     "name": "stdout",
     "output_type": "stream",
     "text": [
      "adding analyzed norm data of Whole for 61/10616_dyn_61.pdb\n"
     ]
    }
   ],
   "source": [
    "active.analyze(\"corrplusCOM\", metrics=\"cfb\", filterby=\"whole\")\n",
    "inactive.analyze(\"corrplusCOM\", metrics=\"cfb\", filterby=\"whole\")"
   ]
  },
  {
   "cell_type": "code",
   "execution_count": 9,
   "id": "b63d52cb-4592-4a2f-86c2-768a6d5a3b1c",
   "metadata": {},
   "outputs": [
    {
     "data": {
      "application/vnd.jupyter.widget-view+json": {
       "model_id": "9348b8ff33c24acb98c1091dc3bed403",
       "version_major": 2,
       "version_minor": 0
      },
      "text/plain": [
       "NGLWidget()"
      ]
     },
     "metadata": {},
     "output_type": "display_data"
    },
    {
     "data": {
      "image/png": "[encoded data removed]",
      "text/plain": [
       "<Figure size 432x288 with 2 Axes>"
      ]
     },
     "metadata": {
      "needs_background": "light"
     },
     "output_type": "display_data"
    }
   ],
   "source": [
    "active.view(\"corrplusCOM\", \"cfb_avg\", filterby=\"whole\")\n",
    "#active.CorrplusCOM.Whole.norm.view(\"cfb_avg\")"
   ]
  },
  {
   "cell_type": "code",
   "execution_count": 11,
   "id": "b8d698c3-992d-443e-a1e0-803f9eacb82d",
   "metadata": {},
   "outputs": [],
   "source": [
    "pair = AlloViz.Pair(active, inactive)\n",
    "\n",
    "delta = active - inactive # pair.get_delta()"
   ]
  },
  {
   "cell_type": "code",
   "execution_count": 13,
   "id": "b7e38fdb-3ba1-4727-89f5-7fdbf9883ffa",
   "metadata": {},
   "outputs": [
    {
     "name": "stdout",
     "output_type": "stream",
     "text": [
      "20\n"
     ]
    },
    {
     "data": {
      "application/vnd.jupyter.widget-view+json": {
       "model_id": "24d7525df6c441bcac4f98b640fee6c0",
       "version_major": 2,
       "version_minor": 0
      },
      "text/plain": [
       "NGLWidget()"
      ]
     },
     "metadata": {},
     "output_type": "display_data"
    },
    {
     "data": {
      "image/png": "[encoded data removed]",
      "text/plain": [
       "<Figure size 432x288 with 2 Axes>"
      ]
     },
     "metadata": {
      "needs_background": "light"
     },
     "output_type": "display_data"
    }
   ],
   "source": [
    "pair.view(\"corrplusCOM\", metric=\"cfb_avg\", filterby=\"whole\") # delta.CorrplusCOM.Whole.norm.view(\"cfb_avg\") "
   ]
  }
 ],
 "metadata": {
  "kernelspec": {
   "display_name": "Python 3 (ipykernel)",
   "language": "python",
   "name": "python3"
  },
  "language_info": {
   "codemirror_mode": {
    "name": "ipython",
    "version": 3
   },
   "file_extension": ".py",
   "mimetype": "text/x-python",
   "name": "python",
   "nbconvert_exporter": "python",
   "pygments_lexer": "ipython3",
   "version": "3.9.10"
  }
 },
 "nbformat": 4,
 "nbformat_minor": 5
}
