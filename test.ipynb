{
 "cells": [
  {
   "cell_type": "code",
   "execution_count": 1,
   "id": "ced01365",
   "metadata": {},
   "outputs": [
    {
     "name": "stderr",
     "output_type": "stream",
     "text": [
      "/gpcr/users/frann/networks/testenv3/lib/python3.9/site-packages/MDAnalysis/coordinates/chemfiles.py:108: DeprecationWarning: distutils Version classes are deprecated. Use packaging.version instead.\n",
      "  MIN_CHEMFILES_VERSION = LooseVersion(\"0.9\")\n",
      "/gpcr/users/frann/networks/testenv3/lib/python3.9/site-packages/MDAnalysis/coordinates/TRJ.py:1209: DeprecationWarning: Please use `netcdf_file` from the `scipy.io` namespace, the `scipy.io.netcdf` namespace is deprecated.\n",
      "  class NCDFPicklable(scipy.io.netcdf.netcdf_file):\n"
     ]
    },
    {
     "data": {
      "application/vnd.jupyter.widget-view+json": {
       "model_id": "1591d5c3ee5a45d992024ee04274503c",
       "version_major": 2,
       "version_minor": 0
      },
      "text/plain": []
     },
     "metadata": {},
     "output_type": "display_data"
    }
   ],
   "source": [
    "import AlloViz"
   ]
  },
  {
   "cell_type": "code",
   "execution_count": 18,
   "id": "572d3f7c-ca4c-4f78-a520-ae128a98be1c",
   "metadata": {},
   "outputs": [
    {
     "name": "stdout",
     "output_type": "stream",
     "text": [
      "downloading 61/10612_trj_61.xtc\n",
      "downloading 61/10613_trj_61.xtc\n",
      "downloading 61/10614_trj_61.xtc\n",
      "downloading 61/10615_dyn_61.psf\n",
      "downloading 61/10616_dyn_61.pdb\n",
      "downloading 61/10611_prm_61.tar.gz\n",
      "retrieving 61/data/gpcrdb_gennums.pdb\n"
     ]
    }
   ],
   "source": [
    "active = AlloViz.State(GPCRmdID=169)\n",
    "inactive = AlloViz.State(GPCRmdID=61)"
   ]
  },
  {
   "cell_type": "code",
   "execution_count": 19,
   "id": "3f1f408c-fb9b-4a30-92e0-e4f43e13e960",
   "metadata": {
    "tags": []
   },
   "outputs": [
    {
     "name": "stdout",
     "output_type": "stream",
     "text": [
      "<multiprocess.pool.Pool state=RUN pool_size=1>\n",
      "making 169/data/CorrplusCOM/raw/1.pq\n",
      "making 169/data/CorrplusCOM/raw/2.pq\n",
      "making 169/data/CorrplusCOM/raw/3.pq\n",
      "adding raw data of CorrplusCOM for 169/11579_dyn_169.pdb:  ['169/data/CorrplusCOM/raw/1.pq', '169/data/CorrplusCOM/raw/2.pq', '169/data/CorrplusCOM/raw/3.pq']\n",
      "<multiprocess.pool.Pool state=RUN pool_size=1>\n",
      "making 61/data/CorrplusCOM/raw/1.pq\n",
      "making 61/data/CorrplusCOM/raw/2.pq\n",
      "making 61/data/CorrplusCOM/raw/3.pq\n",
      "adding raw data of CorrplusCOM for 61/10616_dyn_61.pdb:  ['61/data/CorrplusCOM/raw/1.pq', '61/data/CorrplusCOM/raw/2.pq', '61/data/CorrplusCOM/raw/3.pq']\n"
     ]
    }
   ],
   "source": [
    "active.calculate(\"corrplusCOM\")\n",
    "inactive.calculate(\"corrplusCOM\")"
   ]
  },
  {
   "cell_type": "code",
   "execution_count": 20,
   "id": "e46681d9-242c-4ce0-9241-1a5fa24bfa06",
   "metadata": {},
   "outputs": [
    {
     "name": "stdout",
     "output_type": "stream",
     "text": [
      "<multiprocess.pool.Pool state=RUN pool_size=1>\n"
     ]
    },
    {
     "name": "stderr",
     "output_type": "stream",
     "text": [
      "<class 'networkx.utils.decorators.argmap'> compilation 20:4: FutureWarning: laplacian_matrix will return a scipy.sparse array instead of a matrix in Networkx 3.0.\n",
      "<class 'networkx.utils.decorators.argmap'> compilation 20:4: FutureWarning: laplacian_matrix will return a scipy.sparse array instead of a matrix in Networkx 3.0.\n",
      "<class 'networkx.utils.decorators.argmap'> compilation 20:4: FutureWarning: laplacian_matrix will return a scipy.sparse array instead of a matrix in Networkx 3.0.\n",
      "<class 'networkx.utils.decorators.argmap'> compilation 20:4: FutureWarning: laplacian_matrix will return a scipy.sparse array instead of a matrix in Networkx 3.0.\n"
     ]
    },
    {
     "name": "stdout",
     "output_type": "stream",
     "text": [
      "adding analyzed norm data of Whole for 169/11579_dyn_169.pdb\n",
      "<multiprocess.pool.Pool state=RUN pool_size=1>\n"
     ]
    },
    {
     "name": "stderr",
     "output_type": "stream",
     "text": [
      "<class 'networkx.utils.decorators.argmap'> compilation 20:4: FutureWarning: laplacian_matrix will return a scipy.sparse array instead of a matrix in Networkx 3.0.\n",
      "<class 'networkx.utils.decorators.argmap'> compilation 20:4: FutureWarning: laplacian_matrix will return a scipy.sparse array instead of a matrix in Networkx 3.0.\n",
      "<class 'networkx.utils.decorators.argmap'> compilation 20:4: FutureWarning: laplacian_matrix will return a scipy.sparse array instead of a matrix in Networkx 3.0.\n",
      "<class 'networkx.utils.decorators.argmap'> compilation 20:4: FutureWarning: laplacian_matrix will return a scipy.sparse array instead of a matrix in Networkx 3.0.\n"
     ]
    },
    {
     "name": "stdout",
     "output_type": "stream",
     "text": [
      "adding analyzed norm data of Whole for 61/10616_dyn_61.pdb\n"
     ]
    }
   ],
   "source": [
    "active.analyze(\"corrplusCOM\", metrics=\"cfb\", filterby=\"whole\")\n",
    "inactive.analyze(\"corrplusCOM\", metrics=\"cfb\", filterby=\"whole\")"
   ]
  },
  {
   "cell_type": "code",
   "execution_count": 30,
   "id": "b63d52cb-4592-4a2f-86c2-768a6d5a3b1c",
   "metadata": {},
   "outputs": [
    {
     "ename": "AttributeError",
     "evalue": "'State' object has no attribute '_get_norm_str'",
     "output_type": "error",
     "traceback": [
      "\u001b[0;31m---------------------------------------------------------------------------\u001b[0m",
      "\u001b[0;31mAttributeError\u001b[0m                            Traceback (most recent call last)",
      "Input \u001b[0;32mIn [30]\u001b[0m, in \u001b[0;36m<module>\u001b[0;34m\u001b[0m\n\u001b[1;32m      1\u001b[0m \u001b[38;5;66;03m# active.CorrplusCOM.Whole.norm.view(\"cfb_avg\")\u001b[39;00m\n\u001b[0;32m----> 2\u001b[0m \u001b[43mactive\u001b[49m\u001b[38;5;241;43m.\u001b[39;49m\u001b[43mview\u001b[49m\u001b[43m(\u001b[49m\u001b[38;5;124;43m\"\u001b[39;49m\u001b[38;5;124;43mcorrplusCOM\u001b[39;49m\u001b[38;5;124;43m\"\u001b[39;49m\u001b[43m,\u001b[49m\u001b[43m \u001b[49m\u001b[38;5;124;43m\"\u001b[39;49m\u001b[38;5;124;43mcfb_avg\u001b[39;49m\u001b[38;5;124;43m\"\u001b[39;49m\u001b[43m,\u001b[49m\u001b[43m \u001b[49m\u001b[43mfilterby\u001b[49m\u001b[38;5;241;43m=\u001b[39;49m\u001b[38;5;124;43m\"\u001b[39;49m\u001b[38;5;124;43mwhole\u001b[39;49m\u001b[38;5;124;43m\"\u001b[39;49m\u001b[43m)\u001b[49m\n",
      "File \u001b[0;32m/gpcr/users/frann/networks/testenv3/lib/python3.9/site-packages/AlloViz/Classes.py:449\u001b[0m, in \u001b[0;36mState.view\u001b[0;34m(self, pkg, metric, normalize, filterby, num)\u001b[0m\n\u001b[1;32m    448\u001b[0m \u001b[38;5;28;01mdef\u001b[39;00m \u001b[38;5;21mview\u001b[39m(\u001b[38;5;28mself\u001b[39m, pkg, metric, normalize\u001b[38;5;241m=\u001b[39m\u001b[38;5;28;01mTrue\u001b[39;00m, filterby\u001b[38;5;241m=\u001b[39m\u001b[38;5;124m\"\u001b[39m\u001b[38;5;124mincontact\u001b[39m\u001b[38;5;124m\"\u001b[39m, num\u001b[38;5;241m=\u001b[39m\u001b[38;5;241m20\u001b[39m):\n\u001b[0;32m--> 449\u001b[0m     norm \u001b[38;5;241m=\u001b[39m \u001b[38;5;28;43mself\u001b[39;49m\u001b[38;5;241;43m.\u001b[39;49m\u001b[43m_get_norm_str\u001b[49m(normalize)\n\u001b[1;32m    450\u001b[0m     \u001b[38;5;66;03m# if not rhasattr(self.data, filterby, norm, pkg):\u001b[39;00m\n\u001b[1;32m    451\u001b[0m     \u001b[38;5;66;03m#     self.analyze(pkg, normalize=normalize, filterby=filterby)\u001b[39;00m\n\u001b[1;32m    453\u001b[0m     \u001b[38;5;28;01mreturn\u001b[39;00m rgetattr(\u001b[38;5;28mself\u001b[39m, filterby, norm, pkg)\u001b[38;5;241m.\u001b[39mview(metric, num, filterby)\n",
      "\u001b[0;31mAttributeError\u001b[0m: 'State' object has no attribute '_get_norm_str'"
     ]
    }
   ],
   "source": [
    "# active.CorrplusCOM.Whole.norm.view(\"cfb_avg\")\n",
    "active.view(\"corrplusCOM\", \"cfb_avg\", filterby=\"whole\")"
   ]
  },
  {
   "cell_type": "code",
   "execution_count": 22,
   "id": "b8d698c3-992d-443e-a1e0-803f9eacb82d",
   "metadata": {},
   "outputs": [],
   "source": [
    "pair = AlloViz.Pair(active, inactive)"
   ]
  },
  {
   "cell_type": "code",
   "execution_count": 27,
   "id": "8ce298f7-3a86-4a1d-815a-5ff80e035dec",
   "metadata": {},
   "outputs": [],
   "source": [
    "delta = active - inactive"
   ]
  },
  {
   "cell_type": "code",
   "execution_count": 29,
   "id": "b7e38fdb-3ba1-4727-89f5-7fdbf9883ffa",
   "metadata": {},
   "outputs": [
    {
     "ename": "AttributeError",
     "evalue": "'State' object has no attribute '_get_norm_str'",
     "output_type": "error",
     "traceback": [
      "\u001b[0;31m---------------------------------------------------------------------------\u001b[0m",
      "\u001b[0;31mAttributeError\u001b[0m                            Traceback (most recent call last)",
      "Input \u001b[0;32mIn [29]\u001b[0m, in \u001b[0;36m<module>\u001b[0;34m\u001b[0m\n\u001b[1;32m      1\u001b[0m \u001b[38;5;66;03m# delta.CorrplusCOM.Whole.norm.view(\"cfb_avg\") #\u001b[39;00m\n\u001b[0;32m----> 2\u001b[0m \u001b[43mpair\u001b[49m\u001b[38;5;241;43m.\u001b[39;49m\u001b[43mview\u001b[49m\u001b[43m(\u001b[49m\u001b[38;5;124;43m\"\u001b[39;49m\u001b[38;5;124;43mcorrplusCOM\u001b[39;49m\u001b[38;5;124;43m\"\u001b[39;49m\u001b[43m,\u001b[49m\u001b[43m \u001b[49m\u001b[43mmetric\u001b[49m\u001b[38;5;241;43m=\u001b[39;49m\u001b[38;5;124;43m\"\u001b[39;49m\u001b[38;5;124;43mcfb_avg\u001b[39;49m\u001b[38;5;124;43m\"\u001b[39;49m\u001b[43m,\u001b[49m\u001b[43m \u001b[49m\u001b[43mfilterby\u001b[49m\u001b[38;5;241;43m=\u001b[39;49m\u001b[38;5;124;43m\"\u001b[39;49m\u001b[38;5;124;43mwhole\u001b[39;49m\u001b[38;5;124;43m\"\u001b[39;49m\u001b[43m)\u001b[49m\n",
      "File \u001b[0;32m/gpcr/users/frann/networks/testenv3/lib/python3.9/site-packages/AlloViz/Classes.py:205\u001b[0m, in \u001b[0;36mPair.view\u001b[0;34m(self, pkg, metric, normalize, filterby, num)\u001b[0m\n\u001b[1;32m    204\u001b[0m \u001b[38;5;28;01mdef\u001b[39;00m \u001b[38;5;21mview\u001b[39m(\u001b[38;5;28mself\u001b[39m, pkg, metric, normalize\u001b[38;5;241m=\u001b[39m\u001b[38;5;28;01mTrue\u001b[39;00m, filterby\u001b[38;5;241m=\u001b[39m\u001b[38;5;124m\"\u001b[39m\u001b[38;5;124mincontact\u001b[39m\u001b[38;5;124m\"\u001b[39m, num\u001b[38;5;241m=\u001b[39m\u001b[38;5;241m20\u001b[39m):\n\u001b[0;32m--> 205\u001b[0m     norm \u001b[38;5;241m=\u001b[39m \u001b[38;5;28;43mself\u001b[39;49m\u001b[38;5;241;43m.\u001b[39;49m\u001b[43mstate1\u001b[49m\u001b[38;5;241;43m.\u001b[39;49m\u001b[43m_get_norm_str\u001b[49m(normalize)\n\u001b[1;32m    206\u001b[0m     \u001b[38;5;28;01mif\u001b[39;00m \u001b[38;5;129;01mnot\u001b[39;00m \u001b[38;5;28mhasattr\u001b[39m(\u001b[38;5;28mself\u001b[39m, \u001b[38;5;124m\"\u001b[39m\u001b[38;5;124mdelta\u001b[39m\u001b[38;5;124m\"\u001b[39m): \u001b[38;5;28mself\u001b[39m\u001b[38;5;241m.\u001b[39mget_delta()\n\u001b[1;32m    207\u001b[0m     \u001b[38;5;28;01mif\u001b[39;00m \u001b[38;5;129;01mnot\u001b[39;00m rhasattr(\u001b[38;5;28mself\u001b[39m\u001b[38;5;241m.\u001b[39mdelta, filterby, norm, pkg): \u001b[38;5;28mself\u001b[39m\u001b[38;5;241m.\u001b[39manalyze(pkg)\n",
      "\u001b[0;31mAttributeError\u001b[0m: 'State' object has no attribute '_get_norm_str'"
     ]
    }
   ],
   "source": [
    "# delta.CorrplusCOM.Whole.norm.view(\"cfb_avg\") #\n",
    "pair.view(\"corrplusCOM\", metric=\"cfb_avg\", filterby=\"whole\")"
   ]
  }
 ],
 "metadata": {
  "kernelspec": {
   "display_name": "Python 3 (ipykernel)",
   "language": "python",
   "name": "python3"
  },
  "language_info": {
   "codemirror_mode": {
    "name": "ipython",
    "version": 3
   },
   "file_extension": ".py",
   "mimetype": "text/x-python",
   "name": "python",
   "nbconvert_exporter": "python",
   "pygments_lexer": "ipython3",
   "version": "3.9.10"
  }
 },
 "nbformat": 4,
 "nbformat_minor": 5
}
