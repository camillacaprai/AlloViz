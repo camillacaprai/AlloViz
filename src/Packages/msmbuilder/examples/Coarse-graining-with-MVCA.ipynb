{
 "cells": [
  {
   "cell_type": "markdown",
   "metadata": {},
   "source": [
    "# Minimum Variance Cluster Analysis\n",
    "We are going to use a minimum variance criterion with the\n",
    "Jensen-Shannon divergence to coarse-grain the quad well\n",
    "dataset."
   ]
  },
  {
   "cell_type": "code",
   "execution_count": null,
   "metadata": {
    "collapsed": false
   },
   "outputs": [],
   "source": [
    "from msmbuilder.example_datasets import QuadWell\n",
    "from msmbuilder.msm import MarkovStateModel\n",
    "from msmbuilder.lumping import MVCA\n",
    "import numpy as np\n",
    "import scipy.cluster.hierarchy\n",
    "import matplotlib.pyplot as plt\n",
    "% matplotlib inline"
   ]
  },
  {
   "cell_type": "markdown",
   "metadata": {},
   "source": [
    "### Get the dataset"
   ]
  },
  {
   "cell_type": "code",
   "execution_count": null,
   "metadata": {
    "collapsed": true
   },
   "outputs": [],
   "source": [
    "q = QuadWell(random_state=998).get()\n",
    "ds = q['trajectories']"
   ]
  },
  {
   "cell_type": "markdown",
   "metadata": {
    "collapsed": true
   },
   "source": [
    "### Define a regular spatial clusterer"
   ]
  },
  {
   "cell_type": "code",
   "execution_count": null,
   "metadata": {
    "collapsed": true
   },
   "outputs": [],
   "source": [
    "def regular_spatial_clustering(ds, n_bins=20, halfwidth=np.pi):\n",
    "    new_ds = []\n",
    "    for t in ds:\n",
    "        new_t = []\n",
    "        for i, f in enumerate(t):\n",
    "            width = 2*halfwidth\n",
    "            temp = f + halfwidth\n",
    "            reg = np.floor(n_bins*temp/width)\n",
    "            new_t.append(int(reg))\n",
    "        new_ds.append(np.array(new_t))\n",
    "    return new_ds"
   ]
  },
  {
   "cell_type": "code",
   "execution_count": null,
   "metadata": {
    "collapsed": false
   },
   "outputs": [],
   "source": [
    "halfwidth = max(np.abs([max(np.abs(f)) for f in ds]))[0]\n",
    "assignments = regular_spatial_clustering(ds, halfwidth=halfwidth)\n",
    "msm_mdl = MarkovStateModel()\n",
    "msm_mdl.fit(assignments)"
   ]
  },
  {
   "cell_type": "markdown",
   "metadata": {},
   "source": [
    "### Plot our MSM energies"
   ]
  },
  {
   "cell_type": "code",
   "execution_count": null,
   "metadata": {
    "collapsed": true
   },
   "outputs": [],
   "source": [
    "def get_centers(n_bins=20, halfwidth=np.pi):\n",
    "    centers = []\n",
    "    tot = 2*halfwidth\n",
    "    interval = tot/n_bins\n",
    "    for i in range(n_bins):\n",
    "        c = (i+1)*interval - interval/2. - halfwidth\n",
    "        centers.append(c)\n",
    "    return(centers)"
   ]
  },
  {
   "cell_type": "code",
   "execution_count": null,
   "metadata": {
    "collapsed": false
   },
   "outputs": [],
   "source": [
    "ccs = get_centers(halfwidth=halfwidth)\n",
    "nrgs = [-0.6*np.log(p) for p in msm_mdl.populations_]\n",
    "m,s,b = plt.stem(ccs, nrgs, 'deepskyblue', bottom=-1)\n",
    "for i in s:\n",
    "    i.set_linewidth(8)\n",
    "    \n",
    "potential = lambda x: 4 * (x ** 8 + 0.8 * np.exp(-80 * x ** 2) + 0.2 * np.exp(\n",
    "            -80 * (x - 0.5) ** 2) +\n",
    "                    0.5 * np.exp(-40 * (x + 0.5) ** 2))\n",
    "exes = np.linspace(-np.pi,np.pi,1000)\n",
    "whys = potential(exes)\n",
    "plt.plot(exes, whys, linewidth=2, color='k')\n",
    "    \n",
    "plt.xlim([-halfwidth, halfwidth])\n",
    "plt.ylim([0,4])"
   ]
  },
  {
   "cell_type": "markdown",
   "metadata": {},
   "source": [
    "### Make a model with out macrostating to get linkage information"
   ]
  },
  {
   "cell_type": "code",
   "execution_count": null,
   "metadata": {
    "collapsed": true
   },
   "outputs": [],
   "source": [
    "mvca = MVCA.from_msm(msm_mdl, n_macrostates=None, get_linkage=True)"
   ]
  },
  {
   "cell_type": "markdown",
   "metadata": {},
   "source": [
    "Use mvca.linkage to get a scipy linkage object"
   ]
  },
  {
   "cell_type": "code",
   "execution_count": null,
   "metadata": {
    "collapsed": false
   },
   "outputs": [],
   "source": [
    "scipy.cluster.hierarchy.dendrogram(mvca.linkage,\n",
    "                                   color_threshold=1.1,\n",
    "                                   no_labels=True)\n",
    "plt.show()"
   ]
  },
  {
   "cell_type": "markdown",
   "metadata": {},
   "source": [
    "Use mvca.elbow_distance to get the objective function change with agglomeration"
   ]
  },
  {
   "cell_type": "code",
   "execution_count": null,
   "metadata": {
    "collapsed": false
   },
   "outputs": [],
   "source": [
    "for i in range(19):\n",
    "    s = str(i+1)\n",
    "    plt.scatter([i+1], mvca.elbow_data[i], color='k', marker=r'$%s$'%(i+1),\n",
    "            s=60*(np.floor((i+1)/10)+1)) # so numbers are approximately the same size\n",
    "plt.xlabel('Number of macrostates')\n",
    "plt.xticks([])\n",
    "plt.show()"
   ]
  },
  {
   "cell_type": "markdown",
   "metadata": {},
   "source": [
    "### Plot some macrostate models "
   ]
  },
  {
   "cell_type": "code",
   "execution_count": null,
   "metadata": {
    "collapsed": true
   },
   "outputs": [],
   "source": [
    "color_list = ['deepskyblue', 'hotpink', 'turquoise', 'indigo', 'gold',\n",
    "              'olivedrab', 'orangered', 'whitesmoke']"
   ]
  },
  {
   "cell_type": "code",
   "execution_count": null,
   "metadata": {
    "collapsed": true
   },
   "outputs": [],
   "source": [
    "def plot_macrostates(n_macrostates=4):\n",
    "    mvca_mdl = MVCA.from_msm(msm_mdl, n_macrostates=n_macrostates)\n",
    "    for i, _ in enumerate(mvca_mdl.microstate_mapping_):\n",
    "        m,s,b = plt.stem([ccs[i]], [nrgs[i]],\n",
    "                     color_list[mvca_mdl.microstate_mapping_[i]],\n",
    "                     markerfmt=' ', bottom=-1)\n",
    "        for i in s:\n",
    "            i.set_linewidth(5)\n",
    "    plt.plot(exes, whys, color='black', linewidth=1.5)\n",
    "    plt.ylim([0,4])\n",
    "    plt.xlim([-halfwidth,halfwidth])"
   ]
  },
  {
   "cell_type": "code",
   "execution_count": null,
   "metadata": {
    "collapsed": false
   },
   "outputs": [],
   "source": [
    "plt.subplots(nrows=2, ncols=3, figsize=(12,6))\n",
    "\n",
    "for i in range(6):\n",
    "    plt.subplot(2,3,i+1)\n",
    "    plot_macrostates(n_macrostates=i+2)\n",
    "    plt.title('%i macrostates'%(i+2))\n",
    "    \n",
    "plt.tight_layout()"
   ]
  }
 ],
 "metadata": {
  "anaconda-cloud": {},
  "kernelspec": {
   "display_name": "Python 3",
   "language": "python",
   "name": "python3"
  },
  "language_info": {
   "codemirror_mode": {
    "name": "ipython",
    "version": 3
   },
   "file_extension": ".py",
   "mimetype": "text/x-python",
   "name": "python",
   "nbconvert_exporter": "python",
   "pygments_lexer": "ipython3",
   "version": "3.5.2"
  }
 },
 "nbformat": 4,
 "nbformat_minor": 2
}
