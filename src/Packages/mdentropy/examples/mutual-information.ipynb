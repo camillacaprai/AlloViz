{
 "cells": [
  {
   "cell_type": "markdown",
   "metadata": {},
   "source": [
    "Imports\n",
    "-------"
   ]
  },
  {
   "cell_type": "code",
   "execution_count": null,
   "metadata": {
    "collapsed": false
   },
   "outputs": [],
   "source": [
    "%matplotlib inline\n",
    "\n",
    "import numpy as np\n",
    "\n",
    "from sklearn.pipeline import Pipeline\n",
    "from msmbuilder.example_datasets import FsPeptide\n",
    "from msmbuilder.featurizer import DihedralFeaturizer\n",
    "from msmbuilder.preprocessing import RobustScaler\n",
    "from msmbuilder.decomposition import tICA\n",
    "from msmbuilder.cluster import KMeans\n",
    "from msmbuilder.msm import MarkovStateModel\n",
    "from msmbuilder.tpt import net_fluxes, paths\n",
    "\n",
    "import mdtraj as md\n",
    "\n",
    "from matplotlib.colors import rgb2hex\n",
    "from nglview import MDTrajTrajectory, NGLWidget\n",
    "import msmexplorer as msme\n",
    "\n",
    "from mdentropy.metrics import DihedralMutualInformation\n",
    "\n",
    "rs = np.random.RandomState(42)"
   ]
  },
  {
   "cell_type": "markdown",
   "metadata": {},
   "source": [
    "Load Trajectories\n",
    "-----------------"
   ]
  },
  {
   "cell_type": "code",
   "execution_count": null,
   "metadata": {
    "collapsed": false
   },
   "outputs": [],
   "source": [
    "trajectories = FsPeptide(verbose=False).get().trajectories"
   ]
  },
  {
   "cell_type": "markdown",
   "metadata": {},
   "source": [
    "Build Markov Model\n",
    "------------------"
   ]
  },
  {
   "cell_type": "code",
   "execution_count": null,
   "metadata": {
    "collapsed": false
   },
   "outputs": [],
   "source": [
    "pipeline = Pipeline([\n",
    "        ('dihedrals', DihedralFeaturizer()),\n",
    "        ('scaler', RobustScaler()),\n",
    "        ('tica', tICA(n_components=2, lag_time=10)),\n",
    "        ('kmeans', KMeans(n_clusters=12, random_state=rs)),\n",
    "        ('msm', MarkovStateModel(lag_time=1))             \n",
    "        ])\n",
    "\n",
    "msm_assignments = pipeline.fit_transform(trajectories)\n",
    "msm = pipeline.get_params()['msm']"
   ]
  },
  {
   "cell_type": "markdown",
   "metadata": {},
   "source": [
    "Identify Top Folding Pathway\n",
    "----------------------------"
   ]
  },
  {
   "cell_type": "code",
   "execution_count": null,
   "metadata": {
    "collapsed": false
   },
   "outputs": [],
   "source": [
    "sources, sinks = [msm.populations_.argmin()], [msm.populations_.argmax()]\n",
    "net_flux = net_fluxes(sources, sinks, msm)\n",
    "paths, _ = paths(sources, sinks, net_flux, num_paths=0)\n",
    "\n",
    "samples = msm.draw_samples(msm_assignments, n_samples=1000, random_state=rs)\n",
    "\n",
    "xyz = []\n",
    "for state in paths[0]:\n",
    "    for traj_id, frame in samples[state]:\n",
    "        xyz.append(trajectories[traj_id][frame].xyz)\n",
    "pathway = md.Trajectory(np.concatenate(xyz, axis=0), trajectories[0].topology)\n",
    "pathway.superpose(pathway[0])"
   ]
  },
  {
   "cell_type": "markdown",
   "metadata": {},
   "source": [
    "Calculate Mutual information\n",
    "----------------------------"
   ]
  },
  {
   "cell_type": "code",
   "execution_count": null,
   "metadata": {
    "collapsed": false
   },
   "outputs": [],
   "source": [
    "dmutinf = DihedralMutualInformation(n_bins=3, method='knn', normed=True)\n",
    "M = dmutinf.partial_transform(pathway)\n",
    "M -= M.diagonal() * np.eye(*M.shape) \n",
    "\n",
    "labels = [str(res.index) for res in trajectories[0].topology.residues\n",
    "          if res.name not in ['ACE', 'NME']]\n",
    "ax = msme.plot_chord(M, threshold=.5, labels=labels,)"
   ]
  },
  {
   "cell_type": "code",
   "execution_count": null,
   "metadata": {
    "collapsed": true
   },
   "outputs": [],
   "source": [
    "from nglview import MDTrajTrajectory, NGLWidget\n",
    "\n",
    "t = MDTrajTrajectory(pathway)\n",
    "view = NGLWidget(t)\n",
    "view"
   ]
  },
  {
   "cell_type": "code",
   "execution_count": null,
   "metadata": {
    "collapsed": true
   },
   "outputs": [],
   "source": [
    "scores = np.real(np.linalg.eig(M)[1][0])\n",
    "scores -= scores.min()\n",
    "scores /= scores.max()\n",
    "\n",
    "cmap = msme.utils.make_colormap(['rawdenim', 'lightgrey', 'pomegranate'])\n",
    "reslist = [str(res.index) for res in pathway.topology.residues][1:-1]\n",
    "\n",
    "view.clear()\n",
    "view.clear_representations()\n",
    "view.add_cartoon('protein', color='white')\n",
    "for i, color in enumerate(cmap(scores)):\n",
    "    view.add_representation('ball+stick', reslist[i], color=rgb2hex(color))\n",
    "view.camera = 'orthographic'"
   ]
  }
 ],
 "metadata": {
  "anaconda-cloud": {},
  "kernelspec": {
   "display_name": "Python 3",
   "language": "python",
   "name": "python3"
  },
  "language_info": {
   "codemirror_mode": {
    "name": "ipython",
    "version": 3
   },
   "file_extension": ".py",
   "mimetype": "text/x-python",
   "name": "python",
   "nbconvert_exporter": "python",
   "pygments_lexer": "ipython3",
   "version": "3.5.2"
  }
 },
 "nbformat": 4,
 "nbformat_minor": 1
}
