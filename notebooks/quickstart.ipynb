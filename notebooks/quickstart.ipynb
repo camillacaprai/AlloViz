{
 "cells": [
  {
   "cell_type": "markdown",
   "id": "d22f2260-263c-446d-bd8d-562df50a0fd9",
   "metadata": {},
   "source": [
    "# Quickstart"
   ]
  },
  {
   "cell_type": "code",
   "execution_count": 1,
   "id": "ced01365",
   "metadata": {},
   "outputs": [],
   "source": [
    "import AlloViz"
   ]
  },
  {
   "cell_type": "markdown",
   "id": "1246eada-adb5-4b1f-bba7-25742106a758",
   "metadata": {},
   "source": [
    "## System setup\n",
    "\n",
    "The [Protein](../api/AlloViz.Protein.rst) class constructor processes the input data to prepare it for the downstream calculations, analyses and visualization.\n",
    "\n",
    "A structure and strided Molecular Dynamics simulation of SARS-CoV2's NSP3 protein (from [SCov2-MD database](https://submission.gpcrmd.org/covid19/259/)) are included in the `test` folder in AlloViz. Multiple trajectories can be passed in a list, e.g.: `[\"../test/data/traj_1.xtc\", \"../test/data/traj_2.xtc\", \"../test/data/traj_3.xtc\"]`"
   ]
  },
  {
   "cell_type": "code",
   "execution_count": 2,
   "id": "572d3f7c-ca4c-4f78-a520-ae128a98be1c",
   "metadata": {},
   "outputs": [
    {
     "name": "stderr",
     "output_type": "stream",
     "text": [
      "/home/frann/miniconda3/envs/alloviz/lib/python3.9/site-packages/MDAnalysis/topology/PDBParser.py:328: UserWarning: Element information is missing, elements attribute will not be populated. If needed these can be guessed using MDAnalysis.topology.guessers.\n",
      "  warnings.warn(\"Element information is missing, elements attribute \"\n"
     ]
    }
   ],
   "source": [
    "system = AlloViz.Protein(pdb=\"../test/data/protein.pdb\",\n",
    "                         trajs=\"../test/data/traj_1.xtc\")"
   ]
  },
  {
   "cell_type": "markdown",
   "id": "452dab23-2dc1-4903-a260-2016ba49ab7c",
   "metadata": {},
   "source": [
    "### Network calculation\n",
    "\n",
    "AlloViz brings together 8 different Python packages, previously peer-reviewed and published, which allow the construction of allosteric communication networks using different descriptors (plus a network construction method we implemented ourselves). All the available options can be found in [this table](../table.rst) (the last column has the names to be used in the [calculate](../api/AlloViz.Protein.calculate.rst) method below).\n",
    "\n",
    "We are going to use `pytraj_CA` as network construction method, which measures the correlation of the residues' alpha-carbons positions along the trajectory using the Pearson's correlation coefficient. Multiple networks can be calculated at the same time supplying a list of names, e.g. `[\"pytraj_CA\", \"pytraj_CB\"]`"
   ]
  },
  {
   "cell_type": "code",
   "execution_count": 3,
   "id": "3f1f408c-fb9b-4a30-92e0-e4f43e13e960",
   "metadata": {
    "tags": []
   },
   "outputs": [
    {
     "name": "stdout",
     "output_type": "stream",
     "text": [
      "<AlloViz.AlloViz.utils.dummypool object at 0x7ff07b664c70>\n",
      "pytraj_CA\n",
      "adding raw data of pytraj_CA for ../test/data/protein.pdb:  ['./data/pytraj_CA/raw/1.pq']\n"
     ]
    },
    {
     "data": {
      "text/plain": [
       "<AlloViz.Wrappers.pytraj_w.pytraj_CA at 0x7ff07b6648e0>"
      ]
     },
     "execution_count": 3,
     "metadata": {},
     "output_type": "execute_result"
    }
   ],
   "source": [
    "system.calculate(pkgs=\"pytraj_CA\")"
   ]
  },
  {
   "cell_type": "markdown",
   "id": "a02bb7c9-13d6-4f10-a0b2-660e331f8098",
   "metadata": {},
   "source": [
    "The calculated raw data is both saved as a file for reconstitution later and added as an attribute of the Protein object:"
   ]
  },
  {
   "cell_type": "code",
   "execution_count": 4,
   "id": "66ee4cac-ac53-4681-9b54-8ede6150445e",
   "metadata": {},
   "outputs": [
    {
     "data": {
      "text/html": [
       "<div>\n",
       "<style scoped>\n",
       "    .dataframe tbody tr th:only-of-type {\n",
       "        vertical-align: middle;\n",
       "    }\n",
       "\n",
       "    .dataframe tbody tr th {\n",
       "        vertical-align: top;\n",
       "    }\n",
       "\n",
       "    .dataframe thead th {\n",
       "        text-align: right;\n",
       "    }\n",
       "</style>\n",
       "<table border=\"1\" class=\"dataframe\">\n",
       "  <thead>\n",
       "    <tr style=\"text-align: right;\">\n",
       "      <th></th>\n",
       "      <th></th>\n",
       "      <th>weight</th>\n",
       "    </tr>\n",
       "  </thead>\n",
       "  <tbody>\n",
       "    <tr>\n",
       "      <th rowspan=\"5\" valign=\"top\">VAL:3</th>\n",
       "      <th>ASN:4</th>\n",
       "      <td>0.761503</td>\n",
       "    </tr>\n",
       "    <tr>\n",
       "      <th>SER:5</th>\n",
       "      <td>0.222442</td>\n",
       "    </tr>\n",
       "    <tr>\n",
       "      <th>PHE:6</th>\n",
       "      <td>-0.321400</td>\n",
       "    </tr>\n",
       "    <tr>\n",
       "      <th>SER:7</th>\n",
       "      <td>-0.413723</td>\n",
       "    </tr>\n",
       "    <tr>\n",
       "      <th>GLY:8</th>\n",
       "      <td>-0.408100</td>\n",
       "    </tr>\n",
       "    <tr>\n",
       "      <th>...</th>\n",
       "      <th>...</th>\n",
       "      <td>...</td>\n",
       "    </tr>\n",
       "    <tr>\n",
       "      <th rowspan=\"2\" valign=\"top\">PHE:168</th>\n",
       "      <th>GLU:170</th>\n",
       "      <td>0.582612</td>\n",
       "    </tr>\n",
       "    <tr>\n",
       "      <th>MET:171</th>\n",
       "      <td>0.199945</td>\n",
       "    </tr>\n",
       "    <tr>\n",
       "      <th rowspan=\"2\" valign=\"top\">LEU:169</th>\n",
       "      <th>GLU:170</th>\n",
       "      <td>0.707977</td>\n",
       "    </tr>\n",
       "    <tr>\n",
       "      <th>MET:171</th>\n",
       "      <td>0.322396</td>\n",
       "    </tr>\n",
       "    <tr>\n",
       "      <th>GLU:170</th>\n",
       "      <th>MET:171</th>\n",
       "      <td>0.686412</td>\n",
       "    </tr>\n",
       "  </tbody>\n",
       "</table>\n",
       "<p>14196 rows × 1 columns</p>\n",
       "</div>"
      ],
      "text/plain": [
       "                   weight\n",
       "VAL:3   ASN:4    0.761503\n",
       "        SER:5    0.222442\n",
       "        PHE:6   -0.321400\n",
       "        SER:7   -0.413723\n",
       "        GLY:8   -0.408100\n",
       "...                   ...\n",
       "PHE:168 GLU:170  0.582612\n",
       "        MET:171  0.199945\n",
       "LEU:169 GLU:170  0.707977\n",
       "        MET:171  0.322396\n",
       "GLU:170 MET:171  0.686412\n",
       "\n",
       "[14196 rows x 1 columns]"
      ]
     },
     "execution_count": 4,
     "metadata": {},
     "output_type": "execute_result"
    }
   ],
   "source": [
    "system.pytraj_CA.raw"
   ]
  },
  {
   "cell_type": "markdown",
   "id": "b91d5606-7a9b-481e-9b39-f9044516fc15",
   "metadata": {},
   "source": [
    "### Network filtering\n",
    "\n",
    "AlloViz allows to filter the calculated networks according to different criteria (the different options are each of the functions defined in the [Filtering](../api/AlloViz.AlloViz.Filtering.rst) module).\n",
    "\n",
    "We are going to filter the pytraj_CA network using the [Spatially_distant](../api/AlloViz.AlloViz.Filtering.Spatially_distant.rst) filter, which filters out residue pairs of the network with a CA-CA distance below a threshold (default: 10 angstroms) to focus on long-range residue pairs. Multiple filterings can be performed supplying a list of strings to the [filter](../api/AlloViz.Protein.filter.rst) method, and this list can also contain a list inside if we wish to filter with a combination of two criteria sequentially, e.g. `[\"Spatially_distant\", [\"No_Sequence_Neighbors\", \"Spatially_distant\"]]`"
   ]
  },
  {
   "cell_type": "code",
   "execution_count": 5,
   "id": "ba3c8852-0f39-4d38-83e5-acb9a4ad5730",
   "metadata": {},
   "outputs": [
    {
     "data": {
      "text/plain": [
       "<AlloViz.AlloViz.Filtering.Filtering at 0x7ff0787b5b20>"
      ]
     },
     "execution_count": 5,
     "metadata": {},
     "output_type": "execute_result"
    }
   ],
   "source": [
    "system.filter(filterings=\"Spatially_distant\")\n",
    "# the same as doing: system.pyraj_CA.filter(filterings=\"Spatially_distant\")"
   ]
  },
  {
   "cell_type": "markdown",
   "id": "0d265117-581a-4cc0-b169-5390e114cfd1",
   "metadata": {},
   "source": [
    "The results are stored as a new attribute of the `pytraj_CA` results, with the filtered network stored as NetworkX's Graph object for later analysis:"
   ]
  },
  {
   "cell_type": "code",
   "execution_count": 6,
   "id": "53a80614-1a92-4134-aa99-d32bda37ad08",
   "metadata": {},
   "outputs": [
    {
     "data": {
      "text/plain": [
       "{'weight': <networkx.classes.graph.Graph at 0x7ff078760e50>}"
      ]
     },
     "execution_count": 6,
     "metadata": {},
     "output_type": "execute_result"
    }
   ],
   "source": [
    "system.pytraj_CA.Spatially_distant.graphs"
   ]
  },
  {
   "cell_type": "markdown",
   "id": "bfe55fec-9897-438e-9a58-58ca997cb6ae",
   "metadata": {},
   "source": [
    "### Network analysis\n",
    "\n",
    "AlloViz can analyze the filtered networks with the betweenness centrality and current-flow betweenness centrality metrics (for edges and/or for nodes) functions of NetworkX. Other NetworkX functions that return per-edge or per-residue values can be passed to the [analyze](../api/AlloViz.Protein.analyze.rst) method using the instructions in the documentation.\n",
    "\n",
    "For example, we can analyze the betweenness centrality (\"btw\") of both the edges and the nodes of the filtered network. As before, we can run multiple analysis at the same time by supplying lists."
   ]
  },
  {
   "cell_type": "code",
   "execution_count": 7,
   "id": "e46681d9-242c-4ce0-9241-1a5fa24bfa06",
   "metadata": {},
   "outputs": [
    {
     "name": "stdout",
     "output_type": "stream",
     "text": [
      "<AlloViz.AlloViz.utils.dummypool object at 0x7ff0787b57c0>\n",
      "<AlloViz.AlloViz.utils.dummypool object at 0x7ff0787b5ee0>\n",
      "adding analyzed edges <AlloViz.Wrappers.pytraj_w.pytraj_CA object at 0x7ff07b6648e0> Spatially_distant data of for ../test/data/protein.pdb\n",
      "adding analyzed nodes <AlloViz.Wrappers.pytraj_w.pytraj_CA object at 0x7ff07b6648e0> Spatially_distant data of for ../test/data/protein.pdb\n"
     ]
    }
   ],
   "source": [
    "system.analyze(elements=[\"edges\", \"nodes\"], metrics=\"btw\")\n",
    "# the same as: system.pyraj_CA.Spatially_distant.analyze(elements=[\"edges\", \"nodes\"], metrics=\"btw\")"
   ]
  },
  {
   "cell_type": "markdown",
   "id": "7e520509-3311-4d31-a3aa-25823a8f98c1",
   "metadata": {},
   "source": [
    "The results are stored as DataFrames as new attributes of the `Spatially_distant` filtering results, one for each element (nodes and edges) of the network."
   ]
  },
  {
   "cell_type": "code",
   "execution_count": 8,
   "id": "da8d8eb6-dcb0-4818-8f39-75c5ad83cfe0",
   "metadata": {},
   "outputs": [
    {
     "data": {
      "text/html": [
       "<div>\n",
       "<style scoped>\n",
       "    .dataframe tbody tr th:only-of-type {\n",
       "        vertical-align: middle;\n",
       "    }\n",
       "\n",
       "    .dataframe tbody tr th {\n",
       "        vertical-align: top;\n",
       "    }\n",
       "\n",
       "    .dataframe thead th {\n",
       "        text-align: right;\n",
       "    }\n",
       "</style>\n",
       "<table border=\"1\" class=\"dataframe\">\n",
       "  <thead>\n",
       "    <tr style=\"text-align: right;\">\n",
       "      <th></th>\n",
       "      <th>btw</th>\n",
       "    </tr>\n",
       "  </thead>\n",
       "  <tbody>\n",
       "    <tr>\n",
       "      <th>VAL:3</th>\n",
       "      <td>0.011192</td>\n",
       "    </tr>\n",
       "    <tr>\n",
       "      <th>SER:7</th>\n",
       "      <td>0.001925</td>\n",
       "    </tr>\n",
       "    <tr>\n",
       "      <th>GLY:8</th>\n",
       "      <td>0.006131</td>\n",
       "    </tr>\n",
       "    <tr>\n",
       "      <th>TYR:9</th>\n",
       "      <td>0.000143</td>\n",
       "    </tr>\n",
       "    <tr>\n",
       "      <th>LEU:10</th>\n",
       "      <td>0.001212</td>\n",
       "    </tr>\n",
       "    <tr>\n",
       "      <th>...</th>\n",
       "      <td>...</td>\n",
       "    </tr>\n",
       "    <tr>\n",
       "      <th>ALA:27</th>\n",
       "      <td>0.003849</td>\n",
       "    </tr>\n",
       "    <tr>\n",
       "      <th>LYS:31</th>\n",
       "      <td>0.000998</td>\n",
       "    </tr>\n",
       "    <tr>\n",
       "      <th>PRO:32</th>\n",
       "      <td>0.000713</td>\n",
       "    </tr>\n",
       "    <tr>\n",
       "      <th>LYS:29</th>\n",
       "      <td>0.000855</td>\n",
       "    </tr>\n",
       "    <tr>\n",
       "      <th>VAL:30</th>\n",
       "      <td>0.002067</td>\n",
       "    </tr>\n",
       "  </tbody>\n",
       "</table>\n",
       "<p>169 rows × 1 columns</p>\n",
       "</div>"
      ],
      "text/plain": [
       "             btw\n",
       "VAL:3   0.011192\n",
       "SER:7   0.001925\n",
       "GLY:8   0.006131\n",
       "TYR:9   0.000143\n",
       "LEU:10  0.001212\n",
       "...          ...\n",
       "ALA:27  0.003849\n",
       "LYS:31  0.000998\n",
       "PRO:32  0.000713\n",
       "LYS:29  0.000855\n",
       "VAL:30  0.002067\n",
       "\n",
       "[169 rows x 1 columns]"
      ]
     },
     "execution_count": 8,
     "metadata": {},
     "output_type": "execute_result"
    }
   ],
   "source": [
    "system.pytraj_CA.Spatially_distant.nodes"
   ]
  },
  {
   "cell_type": "markdown",
   "id": "537df4c2-8b6f-4ce7-b20e-d660d1f713d3",
   "metadata": {},
   "source": [
    "### Network visualization\n",
    "\n",
    "The analysis results of the edges or the nodes (and also both together) can be visualised on the protein structure with an interactive widget. The exact element that we wish to visualise can be specified to the [view](../api/AlloViz.Protein.view.rst) method, or we can exploit the custom edges' and nodes' [DataFrames' view](../api/AlloViz.AlloViz.Elements.Element.view.rst) method.\n",
    "\n",
    "For example, to view the edges' betweenness centrality analysis results:"
   ]
  },
  {
   "cell_type": "code",
   "execution_count": 9,
   "id": "b63d52cb-4592-4a2f-86c2-768a6d5a3b1c",
   "metadata": {},
   "outputs": [
    {
     "data": {
      "application/vnd.jupyter.widget-view+json": {
       "model_id": "18db97a6936046398c7901b65006b381",
       "version_major": 2,
       "version_minor": 0
      },
      "text/plain": []
     },
     "metadata": {},
     "output_type": "display_data"
    },
    {
     "data": {
      "application/vnd.jupyter.widget-view+json": {
       "model_id": "aa9e528013d04be7995679d408ca9214",
       "version_major": 2,
       "version_minor": 0
      },
      "text/plain": [
       "NGLWidget()"
      ]
     },
     "metadata": {},
     "output_type": "display_data"
    },
    {
     "data": {
      "image/png": "[encoded data removed]",
      "text/plain": [
       "<Figure size 640x480 with 2 Axes>"
      ]
     },
     "metadata": {},
     "output_type": "display_data"
    }
   ],
   "source": [
    "system.pytraj_CA.Spatially_distant.edges.view(\"btw\")\n",
    "# the same as: system.view(pkg=\"pytraj_CA\", metric=\"btw\", filtering=\"Spatially_distant\", element=\"edges\")"
   ]
  }
 ],
 "metadata": {
  "kernelspec": {
   "display_name": "Python [conda env:alloviz] *",
   "language": "python",
   "name": "conda-env-alloviz-py"
  },
  "language_info": {
   "codemirror_mode": {
    "name": "ipython",
    "version": 3
   },
   "file_extension": ".py",
   "mimetype": "text/x-python",
   "name": "python",
   "nbconvert_exporter": "python",
   "pygments_lexer": "ipython3",
   "version": "3.9.16"
  },
  "toc-autonumbering": false,
  "toc-showtags": true,
  "widgets": {
   "application/vnd.jupyter.widget-state+json": {
    "state": {
     "0242d0ad485f44dfa8cd198374282b36": {
      "model_module": "@jupyter-widgets/base",
      "model_module_version": "1.2.0",
      "model_name": "LayoutModel",
      "state": {}
     },
     "18db97a6936046398c7901b65006b381": {
      "model_module": "nglview-js-widgets",
      "model_module_version": "3.0.1",
      "model_name": "ColormakerRegistryModel",
      "state": {
       "_msg_ar": [],
       "_msg_q": [],
       "_ready": true,
       "layout": "IPY_MODEL_872fb078556a471fb7ec2953c92bb5e6"
      }
     },
     "212841efd3984a3a85c5571e04147409": {
      "model_module": "@jupyter-widgets/controls",
      "model_module_version": "1.5.0",
      "model_name": "LinkModel",
      "state": {
       "source": [
        "IPY_MODEL_f4eb83d07ff44d45bd9b0482ac7410ad",
        "max"
       ],
       "target": [
        "IPY_MODEL_aa9e528013d04be7995679d408ca9214",
        "max_frame"
       ]
      }
     },
     "3073fca179b54da583130839dd2863ef": {
      "model_module": "@jupyter-widgets/controls",
      "model_module_version": "1.5.0",
      "model_name": "PlayModel",
      "state": {
       "layout": "IPY_MODEL_544678c02868462da92de0178a5b3865",
       "max": 0,
       "style": "IPY_MODEL_b355b2449f494ae7a622ce44ae6ff1ff"
      }
     },
     "544678c02868462da92de0178a5b3865": {
      "model_module": "@jupyter-widgets/base",
      "model_module_version": "1.2.0",
      "model_name": "LayoutModel",
      "state": {}
     },
     "7c438b255c2d48128945784a1efd39b4": {
      "model_module": "@jupyter-widgets/controls",
      "model_module_version": "1.5.0",
      "model_name": "ButtonModel",
      "state": {
       "icon": "compress",
       "layout": "IPY_MODEL_faecb172e27247fe9892636883979a35",
       "style": "IPY_MODEL_ac79511fbf9e42d09d3c577519fde8a2"
      }
     },
     "8062ae128c784bbfaf2c2c63f71be9a0": {
      "model_module": "@jupyter-widgets/base",
      "model_module_version": "1.2.0",
      "model_name": "LayoutModel",
      "state": {}
     },
     "872fb078556a471fb7ec2953c92bb5e6": {
      "model_module": "@jupyter-widgets/base",
      "model_module_version": "1.2.0",
      "model_name": "LayoutModel",
      "state": {}
     },
     "8ffc62cb1f6b4812971ab9b12ca6287a": {
      "model_module": "@jupyter-widgets/controls",
      "model_module_version": "1.5.0",
      "model_name": "ImageModel",
      "state": {
       "layout": "IPY_MODEL_f0b6ac41b8394457986bc856a8cd080f",
       "width": "900.0"
      }
     },
     "93fce3e4d77e48f78efef4ffdc8d197f": {
      "model_module": "@jupyter-widgets/base",
      "model_module_version": "1.2.0",
      "model_name": "LayoutModel",
      "state": {}
     },
     "99929cebecf449d08d7070a3ed8258ae": {
      "model_module": "@jupyter-widgets/controls",
      "model_module_version": "1.5.0",
      "model_name": "HBoxModel",
      "state": {
       "children": [
        "IPY_MODEL_3073fca179b54da583130839dd2863ef",
        "IPY_MODEL_f4eb83d07ff44d45bd9b0482ac7410ad"
       ],
       "layout": "IPY_MODEL_0242d0ad485f44dfa8cd198374282b36"
      }
     },
     "aa9e528013d04be7995679d408ca9214": {
      "model_module": "nglview-js-widgets",
      "model_module_version": "3.0.1",
      "model_name": "NGLModel",
      "state": {
       "_camera_orientation": [
        129.7320400689125,
        0,
        0,
        0,
        0,
        129.7320400689125,
        0,
        0,
        0,
        0,
        129.7320400689125,
        0,
        -1.9800004959106445,
        -69.0149974822998,
        0.2200002670288086,
        1
       ],
       "_camera_str": "orthographic",
       "_gui_theme": null,
       "_ibtn_fullscreen": "IPY_MODEL_7c438b255c2d48128945784a1efd39b4",
       "_igui": null,
       "_iplayer": "IPY_MODEL_99929cebecf449d08d7070a3ed8258ae",
       "_ngl_color_dict": {},
       "_ngl_coordinate_resource": {},
       "_ngl_full_stage_parameters": {
        "ambientColor": 14540253,
        "ambientIntensity": 0.2,
        "backgroundColor": "white",
        "cameraEyeSep": 0.3,
        "cameraFov": 40,
        "cameraType": "perspective",
        "clipDist": 10,
        "clipFar": 100,
        "clipNear": 0,
        "fogFar": 100,
        "fogNear": 50,
        "hoverTimeout": 0,
        "impostor": true,
        "lightColor": 14540253,
        "lightIntensity": 1,
        "mousePreset": "default",
        "panSpeed": 1,
        "quality": "medium",
        "rotateSpeed": 2,
        "sampleLevel": 0,
        "tooltip": true,
        "workerDefault": true,
        "zoomSpeed": 1.2
       },
       "_ngl_msg_archive": [
        {
         "args": [
          {
           "binary": false,
           "data": "HEADER    \nTITLE     MDANALYSIS FRAME 0: Created by PDBWriter\nCRYST1   69.229   69.229   69.229  90.00  90.00  90.00 P 1           1\nATOM      1  CAY VAL P   3       3.750  49.140   7.330  0.00  0.00      PROA    \nATOM      2  HY1 VAL P   3       4.620  49.010   8.000  0.00  0.00      PROA    \nATOM      3  HY2 VAL P   3       3.950  48.550   6.410  0.00  0.00      PROA    \nATOM      4  HY3 VAL P   3       2.920  48.510   7.720  0.00  0.00      PROA    \nATOM      5  CY  VAL P   3       3.470  50.510   7.020  0.00  0.00      PROA    \nATOM      6  OY  VAL P   3       4.040  51.060   6.080  0.00  0.00      PROA    \nATOM      7  N   VAL P   3       2.650  51.180   7.800  0.00  0.00      PROA    \nATOM      8  HN  VAL P   3       2.250  50.730   8.590  0.00  0.00      PROA    \nATOM      9  CA  VAL P   3       2.300  52.590   7.690  0.00  0.00      PROA    \nATOM     10  HA  VAL P   3       2.050  52.670   6.640  0.00  0.00      PROA    \nATOM     11  CB  VAL P   3       1.140  52.860   8.600  0.00  0.00      PROA    \nATOM     12  HB  VAL P   3       1.280  52.550   9.660  0.00  0.00      PROA    \nATOM     13  CG1 VAL P   3       0.680  54.300   8.550  0.00  0.00      PROA    \nATOM     14 HG11 VAL P   3      -0.240  54.540   9.120  0.00  0.00      PROA    \nATOM     15 HG12 VAL P   3       0.440  54.520   7.480  0.00  0.00      PROA    \nATOM     16 HG13 VAL P   3       1.280  55.150   8.940  0.00  0.00      PROA    \nATOM     17  CG2 VAL P   3       0.060  51.820   8.160  0.00  0.00      PROA    \nATOM     18 HG21 VAL P   3      -0.180  51.750   7.080  0.00  0.00      PROA    \nATOM     19 HG22 VAL P   3      -0.870  52.090   8.710  0.00  0.00      PROA    \nATOM     20 HG23 VAL P   3       0.310  50.820   8.580  0.00  0.00      PROA    \nATOM     21  C   VAL P   3       3.540  53.520   7.840  0.00  0.00      PROA    \nATOM     22  O   VAL P   3       4.280  53.450   8.780  0.00  0.00      PROA    \nATOM     23  N   ASN P   4       3.690  54.460   6.910  0.00  0.00      PROA    \nATOM     24  HN  ASN P   4       3.050  54.500   6.150  0.00  0.00      PROA    \nATOM     25  CA  ASN P   4       4.670  55.530   6.940  0.00  0.00      PROA    \nATOM     26  HA  ASN P   4       4.420  56.180   6.120  0.00  0.00      PROA    \nATOM     27  CB  ASN P   4       4.560  56.450   8.300  0.00  0.00      PROA    \nATOM     28  HB1 ASN P   4       4.650  55.850   9.230  0.00  0.00      PROA    \nATOM     29  HB2 ASN P   4       5.360  57.220   8.340  0.00  0.00      PROA    \nATOM     30  CG  ASN P   4       3.260  57.270   8.460  0.00  0.00      PROA    \nATOM     31  OD1 ASN P   4       2.670  57.710   7.460  0.00  0.00      PROA    \nATOM     32  ND2 ASN P   4       2.980  57.510   9.740  0.00  0.00      PROA    \nATOM     33 HD21 ASN P   4       2.230  58.150   9.910  0.00  0.00      PROA    \nATOM     34 HD22 ASN P   4       3.520  57.040  10.440  0.00  0.00      PROA    \nATOM     35  C   ASN P   4       6.130  55.020   6.710  0.00  0.00      PROA    \nATOM     36  O   ASN P   4       7.080  55.530   7.300  0.00  0.00      PROA    \nATOM     37  N   SER P   5       6.240  53.900   5.890  0.00  0.00      PROA    \nATOM     38  HN  SER P   5       5.420  53.460   5.510  0.00  0.00      PROA    \nATOM     39  CA  SER P   5       7.540  53.270   5.450  0.00  0.00      PROA    \nATOM     40  HA  SER P   5       8.270  53.410   6.230  0.00  0.00      PROA    \nATOM     41  CB  SER P   5       7.390  51.770   5.040  0.00  0.00      PROA    \nATOM     42  HB1 SER P   5       8.250  51.480   4.400  0.00  0.00      PROA    \nATOM     43  HB2 SER P   5       7.420  51.110   5.940  0.00  0.00      PROA    \nATOM     44  OG  SER P   5       6.200  51.470   4.240  0.00  0.00      PROA    \nATOM     45  HG1 SER P   5       5.440  51.350   4.820  0.00  0.00      PROA    \nATOM     46  C   SER P   5       8.130  53.940   4.190  0.00  0.00      PROA    \nATOM     47  O   SER P   5       8.770  53.380   3.320  0.00  0.00      PROA    \nATOM     48  N   PHE P   6       8.080  55.250   4.220  0.00  0.00      PROA    \nATOM     49  HN  PHE P   6       7.590  55.810   4.880  0.00  0.00      PROA    \nATOM     50  CA  PHE P   6       8.850  56.130   3.390  0.00  0.00      PROA    \nATOM     51  HA  PHE P   6       8.380  56.130   2.410  0.00  0.00      PROA    \nATOM     52  CB  PHE P   6       8.850  57.610   4.030  0.00  0.00      PROA    \nATOM     53  HB1 PHE P   6       9.270  57.670   5.050  0.00  0.00      PROA    \nATOM     54  HB2 PHE P   6       9.410  58.340   3.410  0.00  0.00      PROA    \nATOM     55  CG  PHE P   6       7.450  58.170   4.110  0.00  0.00      PROA    \nATOM     56  CD1 PHE P   6       6.860  58.570   2.920  0.00  0.00      PROA    \nATOM     57  HD1 PHE P   6       7.360  58.640   1.970  0.00  0.00      PROA    \nATOM     58  CE1 PHE P   6       5.560  59.070   2.980  0.00  0.00      PROA    \nATOM     59  HE1 PHE P   6       4.960  59.210   2.090  0.00  0.00      PROA    \nATOM     60  CZ  PHE P   6       4.850  59.070   4.190  0.00  0.00      PROA    \nATOM     61  HZ  PHE P   6       3.870  59.510   4.310  0.00  0.00      PROA    \nATOM     62  CD2 PHE P   6       6.850  58.200   5.350  0.00  0.00      PROA    \nATOM     63  HD2 PHE P   6       7.300  57.820   6.250  0.00  0.00      PROA    \nATOM     64  CE2 PHE P   6       5.490  58.680   5.360  0.00  0.00      PROA    \nATOM     65  HE2 PHE P   6       5.020  58.830   6.330  0.00  0.00      PROA    \nATOM     66  C   PHE P   6      10.330  55.690   3.180  0.00  0.00      PROA    \nATOM     67  O   PHE P   6      11.090  55.390   4.110  0.00  0.00      PROA    \nATOM     68  N   SER P   7      10.760  55.600   1.920  0.00  0.00      PROA    \nATOM     69  HN  SER P   7      10.250  55.810   1.090  0.00  0.00      PROA    \nATOM     70  CA  SER P   7      11.980  55.100   1.540  0.00  0.00      PROA    \nATOM     71  HA  SER P   7      12.710  55.380   2.280  0.00  0.00      PROA    \nATOM     72  CB  SER P   7      12.080  53.590   1.250  0.00  0.00      PROA    \nATOM     73  HB1 SER P   7      11.450  53.270   0.390  0.00  0.00      PROA    \nATOM     74  HB2 SER P   7      13.120  53.330   0.980  0.00  0.00      PROA    \nATOM     75  OG  SER P   7      11.770  52.860   2.410  0.00  0.00      PROA    \nATOM     76  HG1 SER P   7      10.830  52.990   2.490  0.00  0.00      PROA    \nATOM     77  C   SER P   7      12.420  55.790   0.320  0.00  0.00      PROA    \nATOM     78  O   SER P   7      11.580  56.130  -0.530  0.00  0.00      PROA    \nATOM     79  N   GLY P   8      13.740  56.040   0.150  0.00  0.00      PROA    \nATOM     80  HN  GLY P   8      14.520  55.670   0.650  0.00  0.00      PROA    \nATOM     81  CA  GLY P   8      14.310  56.580  -1.040  0.00  0.00      PROA    \nATOM     82  HA1 GLY P   8      13.870  56.200  -1.950  0.00  0.00      PROA    \nATOM     83  HA2 GLY P   8      15.370  56.440  -0.930  0.00  0.00      PROA    \nATOM     84  C   GLY P   8      14.190  58.090  -1.120  0.00  0.00      PROA    \nATOM     85  O   GLY P   8      14.330  58.700  -2.190  0.00  0.00      PROA    \nATOM     86  N   TYR P   9      13.950  58.710   0.030  0.00  0.00      PROA    \nATOM     87  HN  TYR P   9      13.980  58.050   0.780  0.00  0.00      PROA    \nATOM     88  CA  TYR P   9      13.830  60.130   0.260  0.00  0.00      PROA    \nATOM     89  HA  TYR P   9      13.440  60.650  -0.600  0.00  0.00      PROA    \nATOM     90  CB  TYR P   9      12.790  60.500   1.390  0.00  0.00      PROA    \nATOM     91  HB1 TYR P   9      12.860  59.930   2.340  0.00  0.00      PROA    \nATOM     92  HB2 TYR P   9      12.730  61.570   1.700  0.00  0.00      PROA    \nATOM     93  CG  TYR P   9      11.380  60.370   0.780  0.00  0.00      PROA    \nATOM     94  CD1 TYR P   9      10.670  61.500   0.330  0.00  0.00      PROA    \nATOM     95  HD1 TYR P   9      11.130  62.480   0.370  0.00  0.00      PROA    \nATOM     96  CE1 TYR P   9       9.370  61.280  -0.200  0.00  0.00      PROA    \nATOM     97  HE1 TYR P   9       8.910  62.150  -0.640  0.00  0.00      PROA    \nATOM     98  CZ  TYR P   9       8.750  60.040  -0.220  0.00  0.00      PROA    \nATOM     99  OH  TYR P   9       7.570  59.880  -0.930  0.00  0.00      PROA    \nATOM    100  HH  TYR P   9       7.500  58.950  -1.130  0.00  0.00      PROA    \nATOM    101  CD2 TYR P   9      10.750  59.120   0.780  0.00  0.00      PROA    \nATOM    102  HD2 TYR P   9      11.210  58.320   1.330  0.00  0.00      PROA    \nATOM    103  CE2 TYR P   9       9.420  58.960   0.310  0.00  0.00      PROA    \nATOM    104  HE2 TYR P   9       9.070  57.970   0.580  0.00  0.00      PROA    \nATOM    105  C   TYR P   9      15.140  60.750   0.620  0.00  0.00      PROA    \nATOM    106  O   TYR P   9      15.870  60.430   1.520  0.00  0.00      PROA    \nATOM    107  N   LEU P  10      15.490  61.740  -0.190  0.00  0.00      PROA    \nATOM    108  HN  LEU P  10      14.860  62.020  -0.910  0.00  0.00      PROA    \nATOM    109  CA  LEU P  10      16.400  62.720   0.110  0.00  0.00      PROA    \nATOM    110  HA  LEU P  10      17.300  62.200   0.410  0.00  0.00      PROA    \nATOM    111  CB  LEU P  10      16.860  63.450  -1.150  0.00  0.00      PROA    \nATOM    112  HB1 LEU P  10      17.350  62.700  -1.810  0.00  0.00      PROA    \nATOM    113  HB2 LEU P  10      15.950  63.840  -1.650  0.00  0.00      PROA    \nATOM    114  CG  LEU P  10      18.030  64.490  -0.960  0.00  0.00      PROA    \nATOM    115  HG  LEU P  10      17.750  65.150  -0.110  0.00  0.00      PROA    \nATOM    116  CD1 LEU P  10      19.470  63.880  -0.770  0.00  0.00      PROA    \nATOM    117 HD11 LEU P  10      19.260  63.080  -0.030  0.00  0.00      PROA    \nATOM    118 HD12 LEU P  10      19.710  63.380  -1.740  0.00  0.00      PROA    \nATOM    119 HD13 LEU P  10      20.220  64.610  -0.400  0.00  0.00      PROA    \nATOM    120  CD2 LEU P  10      18.170  65.530  -2.100  0.00  0.00      PROA    \nATOM    121 HD21 LEU P  10      19.000  66.280  -2.050  0.00  0.00      PROA    \nATOM    122 HD22 LEU P  10      18.210  65.030  -3.090  0.00  0.00      PROA    \nATOM    123 HD23 LEU P  10      17.260  66.150  -2.230  0.00  0.00      PROA    \nATOM    124  C   LEU P  10      16.100  63.680   1.290  0.00  0.00      PROA    \nATOM    125  O   LEU P  10      14.930  64.030   1.490  0.00  0.00      PROA    \nATOM    126  N   LYS P  11      17.060  63.760   2.230  0.00  0.00      PROA    \nATOM    127  HN  LYS P  11      17.810  63.110   2.140  0.00  0.00      PROA    \nATOM    128  CA  LYS P  11      16.920  64.580   3.460  0.00  0.00      PROA    \nATOM    129  HA  LYS P  11      15.920  64.810   3.780  0.00  0.00      PROA    \nATOM    130  CB  LYS P  11      17.770  63.810   4.520  0.00  0.00      PROA    \nATOM    131  HB1 LYS P  11      17.600  62.710   4.560  0.00  0.00      PROA    \nATOM    132  HB2 LYS P  11      18.830  64.060   4.280  0.00  0.00      PROA    \nATOM    133  CG  LYS P  11      17.670  64.530   5.870  0.00  0.00      PROA    \nATOM    134  HG1 LYS P  11      17.780  65.630   5.760  0.00  0.00      PROA    \nATOM    135  HG2 LYS P  11      16.630  64.240   6.120  0.00  0.00      PROA    \nATOM    136  CD  LYS P  11      18.500  63.910   7.000  0.00  0.00      PROA    \nATOM    137  HD1 LYS P  11      18.360  62.810   7.030  0.00  0.00      PROA    \nATOM    138  HD2 LYS P  11      19.540  64.090   6.650  0.00  0.00      PROA    \nATOM    139  CE  LYS P  11      18.150  64.340   8.430  0.00  0.00      PROA    \nATOM    140  HE1 LYS P  11      17.060  64.450   8.550  0.00  0.00      PROA    \nATOM    141  HE2 LYS P  11      18.530  63.580   9.150  0.00  0.00      PROA    \nATOM    142  NZ  LYS P  11      18.840  65.640   8.700  0.00  0.00      PROA    \nATOM    143  HZ1 LYS P  11      19.830  65.440   8.460  0.00  0.00      PROA    \nATOM    144  HZ2 LYS P  11      18.510  66.470   8.160  0.00  0.00      PROA    \nATOM    145  HZ3 LYS P  11      18.650  65.790   9.710  0.00  0.00      PROA    \nATOM    146  C   LYS P  11      17.450  65.930   3.070  0.00  0.00      PROA    \nATOM    147  O   LYS P  11      18.600  66.220   2.820  0.00  0.00      PROA    \nATOM    148  N   LEU P  12      16.430  66.930   2.960  0.00  0.00      PROA    \nATOM    149  HN  LEU P  12      15.480  66.640   2.940  0.00  0.00      PROA    \nATOM    150  CA  LEU P  12      16.690  68.370   2.830  0.00  0.00      PROA    \nATOM    151  HA  LEU P  12      17.590  68.590   2.270  0.00  0.00      PROA    \nATOM    152  CB  LEU P  12      15.580  69.130   2.070  0.00  0.00      PROA    \nATOM    153  HB1 LEU P  12      14.680  69.150   2.730  0.00  0.00      PROA    \nATOM    154  HB2 LEU P  12      15.880  70.160   1.800  0.00  0.00      PROA    \nATOM    155  CG  LEU P  12      15.220  68.530   0.630  0.00  0.00      PROA    \nATOM    156  HG  LEU P  12      14.750  67.560   0.910  0.00  0.00      PROA    \nATOM    157  CD1 LEU P  12      14.300  69.430  -0.090  0.00  0.00      PROA    \nATOM    158 HD11 LEU P  12      14.730  70.450  -0.220  0.00  0.00      PROA    \nATOM    159 HD12 LEU P  12      13.900  68.960  -1.010  0.00  0.00      PROA    \nATOM    160 HD13 LEU P  12      13.420  69.660   0.540  0.00  0.00      PROA    \nATOM    161  CD2 LEU P  12      16.500  68.380  -0.150  0.00  0.00      PROA    \nATOM    162 HD21 LEU P  12      16.260  67.960  -1.150  0.00  0.00      PROA    \nATOM    163 HD22 LEU P  12      16.900  69.380  -0.430  0.00  0.00      PROA    \nATOM    164 HD23 LEU P  12      17.310  67.820   0.360  0.00  0.00      PROA    \nATOM    165  C   LEU P  12      16.940  68.930   4.210  0.00  0.00      PROA    \nATOM    166  O   LEU P  12      17.830  69.810   4.370  0.00  0.00      PROA    \nATOM    167  N   THR P  13      16.120  68.550   5.200  0.00  0.00      PROA    \nATOM    168  HN  THR P  13      15.280  68.030   5.080  0.00  0.00      PROA    \nATOM    169  CA  THR P  13      16.300  69.040   6.580  0.00  0.00      PROA    \nATOM    170  HA  THR P  13      17.320  69.390   6.670  0.00  0.00      PROA    \nATOM    171  CB  THR P  13      15.470  70.310   6.950  0.00  0.00      PROA    \nATOM    172  HB  THR P  13      15.940  70.730   7.860  0.00  0.00      PROA    \nATOM    173  OG1 THR P  13      14.240  70.000   7.460  0.00  0.00      PROA    \nATOM    174  HG1 THR P  13      13.940  70.790   7.900  0.00  0.00      PROA    \nATOM    175  CG2 THR P  13      15.340  71.460   5.850  0.00  0.00      PROA    \nATOM    176 HG21 THR P  13      16.270  71.790   5.340  0.00  0.00      PROA    \nATOM    177 HG22 THR P  13      14.550  71.170   5.130  0.00  0.00      PROA    \nATOM    178 HG23 THR P  13      14.920  72.370   6.320  0.00  0.00      PROA    \nATOM    179  C   THR P  13      16.100  67.850   7.510  0.00  0.00      PROA    \nATOM    180  O   THR P  13      16.030  66.720   7.050  0.00  0.00      PROA    \nATOM    181  N   ASP P  14      16.070  68.030   8.850  0.00  0.00      PROA    \nATOM    182  HN  ASP P  14      16.490  68.840   9.260  0.00  0.00      PROA    \nATOM    183  CA  ASP P  14      15.700  66.960   9.740  0.00  0.00      PROA    \nATOM    184  HA  ASP P  14      16.260  66.070   9.510  0.00  0.00      PROA    \nATOM    185  CB  ASP P  14      15.980  67.560  11.130  0.00  0.00      PROA    \nATOM    186  HB1 ASP P  14      15.660  68.620  11.260  0.00  0.00      PROA    \nATOM    187  HB2 ASP P  14      15.500  67.040  11.990  0.00  0.00      PROA    \nATOM    188  CG  ASP P  14      17.440  67.480  11.440  0.00  0.00      PROA    \nATOM    189  OD1 ASP P  14      18.090  66.500  11.030  0.00  0.00      PROA    \nATOM    190  OD2 ASP P  14      17.800  68.150  12.420  0.00  0.00      PROA    \nATOM    191  C   ASP P  14      14.270  66.520   9.540  0.00  0.00      PROA    \nATOM    192  O   ASP P  14      13.960  65.340   9.730  0.00  0.00      PROA    \nATOM    193  N   ASN P  15      13.350  67.420   9.120  0.00  0.00      PROA    \nATOM    194  HN  ASN P  15      13.730  68.330   9.260  0.00  0.00      PROA    \nATOM    195  CA  ASN P  15      11.960  67.130   9.130  0.00  0.00      PROA    \nATOM    196  HA  ASN P  15      11.690  66.130   9.410  0.00  0.00      PROA    \nATOM    197  CB  ASN P  15      11.090  67.970  10.150  0.00  0.00      PROA    \nATOM    198  HB1 ASN P  15      10.070  67.540  10.010  0.00  0.00      PROA    \nATOM    199  HB2 ASN P  15      11.240  67.790  11.230  0.00  0.00      PROA    \nATOM    200  CG  ASN P  15      11.110  69.390   9.790  0.00  0.00      PROA    \nATOM    201  OD1 ASN P  15      12.170  70.020   9.990  0.00  0.00      PROA    \nATOM    202  ND2 ASN P  15      10.020  69.970   9.230  0.00  0.00      PROA    \nATOM    203 HD21 ASN P  15       9.140  69.500   9.290  0.00  0.00      PROA    \nATOM    204 HD22 ASN P  15      10.020  70.940   9.000  0.00  0.00      PROA    \nATOM    205  C   ASN P  15      11.460  67.230   7.700  0.00  0.00      PROA    \nATOM    206  O   ASN P  15      10.380  66.720   7.380  0.00  0.00      PROA    \nATOM    207  N   VAL P  16      12.330  67.790   6.830  0.00  0.00      PROA    \nATOM    208  HN  VAL P  16      13.240  68.010   7.180  0.00  0.00      PROA    \nATOM    209  CA  VAL P  16      11.890  68.020   5.430  0.00  0.00      PROA    \nATOM    210  HA  VAL P  16      10.840  67.780   5.370  0.00  0.00      PROA    \nATOM    211  CB  VAL P  16      12.000  69.420   4.900  0.00  0.00      PROA    \nATOM    212  HB  VAL P  16      13.060  69.770   4.900  0.00  0.00      PROA    \nATOM    213  CG1 VAL P  16      11.250  69.530   3.480  0.00  0.00      PROA    \nATOM    214 HG11 VAL P  16      11.810  68.880   2.770  0.00  0.00      PROA    \nATOM    215 HG12 VAL P  16      10.170  69.290   3.480  0.00  0.00      PROA    \nATOM    216 HG13 VAL P  16      11.400  70.580   3.120  0.00  0.00      PROA    \nATOM    217  CG2 VAL P  16      11.160  70.320   5.810  0.00  0.00      PROA    \nATOM    218 HG21 VAL P  16      11.770  70.480   6.720  0.00  0.00      PROA    \nATOM    219 HG22 VAL P  16      11.030  71.360   5.420  0.00  0.00      PROA    \nATOM    220 HG23 VAL P  16      10.190  69.950   6.210  0.00  0.00      PROA    \nATOM    221  C   VAL P  16      12.620  67.080   4.510  0.00  0.00      PROA    \nATOM    222  O   VAL P  16      13.870  67.040   4.460  0.00  0.00      PROA    \nATOM    223  N   TYR P  17      11.840  66.350   3.710  0.00  0.00      PROA    \nATOM    224  HN  TYR P  17      10.860  66.460   3.780  0.00  0.00      PROA    \nATOM    225  CA  TYR P  17      12.380  65.310   2.920  0.00  0.00      PROA    \nATOM    226  HA  TYR P  17      13.460  65.330   2.940  0.00  0.00      PROA    \nATOM    227  CB  TYR P  17      11.900  63.960   3.460  0.00  0.00      PROA    \nATOM    228  HB1 TYR P  17      10.810  63.970   3.700  0.00  0.00      PROA    \nATOM    229  HB2 TYR P  17      12.150  63.120   2.790  0.00  0.00      PROA    \nATOM    230  CG  TYR P  17      12.670  63.680   4.760  0.00  0.00      PROA    \nATOM    231  CD1 TYR P  17      13.820  62.840   4.760  0.00  0.00      PROA    \nATOM    232  HD1 TYR P  17      14.160  62.500   3.790  0.00  0.00      PROA    \nATOM    233  CE1 TYR P  17      14.510  62.640   5.960  0.00  0.00      PROA    \nATOM    234  HE1 TYR P  17      15.490  62.190   5.930  0.00  0.00      PROA    \nATOM    235  CZ  TYR P  17      13.880  63.040   7.160  0.00  0.00      PROA    \nATOM    236  OH  TYR P  17      14.470  62.770   8.410  0.00  0.00      PROA    \nATOM    237  HH  TYR P  17      14.330  63.550   8.950  0.00  0.00      PROA    \nATOM    238  CD2 TYR P  17      12.130  64.110   6.020  0.00  0.00      PROA    \nATOM    239  HD2 TYR P  17      11.190  64.660   5.960  0.00  0.00      PROA    \nATOM    240  CE2 TYR P  17      12.700  63.830   7.210  0.00  0.00      PROA    \nATOM    241  HE2 TYR P  17      12.340  64.170   8.170  0.00  0.00      PROA    \nATOM    242  C   TYR P  17      11.860  65.530   1.550  0.00  0.00      PROA    \nATOM    243  O   TYR P  17      10.860  66.180   1.320  0.00  0.00      PROA    \nATOM    244  N   ILE P  18      12.590  64.930   0.510  0.00  0.00      PROA    \nATOM    245  HN  ILE P  18      13.480  64.500   0.670  0.00  0.00      PROA    \nATOM    246  CA  ILE P  18      12.170  65.050  -0.920  0.00  0.00      PROA    \nATOM    247  HA  ILE P  18      11.140  65.360  -1.040  0.00  0.00      PROA    \nATOM    248  CB  ILE P  18      12.790  66.250  -1.600  0.00  0.00      PROA    \nATOM    249  HB  ILE P  18      12.770  67.170  -0.970  0.00  0.00      PROA    \nATOM    250  CG2 ILE P  18      14.300  66.040  -1.880  0.00  0.00      PROA    \nATOM    251 HG21 ILE P  18      14.470  65.240  -2.630  0.00  0.00      PROA    \nATOM    252 HG22 ILE P  18      14.760  66.920  -2.360  0.00  0.00      PROA    \nATOM    253 HG23 ILE P  18      14.830  65.680  -0.970  0.00  0.00      PROA    \nATOM    254  CG1 ILE P  18      12.060  66.670  -2.840  0.00  0.00      PROA    \nATOM    255 HG11 ILE P  18      12.630  66.260  -3.700  0.00  0.00      PROA    \nATOM    256 HG12 ILE P  18      11.050  66.210  -2.760  0.00  0.00      PROA    \nATOM    257  CD  ILE P  18      11.880  68.130  -2.960  0.00  0.00      PROA    \nATOM    258  HD1 ILE P  18      12.840  68.670  -3.040  0.00  0.00      PROA    \nATOM    259  HD2 ILE P  18      11.200  68.380  -3.800  0.00  0.00      PROA    \nATOM    260  HD3 ILE P  18      11.510  68.650  -2.050  0.00  0.00      PROA    \nATOM    261  C   ILE P  18      12.460  63.800  -1.770  0.00  0.00      PROA    \nATOM    262  O   ILE P  18      13.410  63.040  -1.620  0.00  0.00      PROA    \nATOM    263  N   LYS P  19      11.510  63.520  -2.750  0.00  0.00      PROA    \nATOM    264  HN  LYS P  19      10.670  64.030  -2.890  0.00  0.00      PROA    \nATOM    265  CA  LYS P  19      11.810  62.440  -3.690  0.00  0.00      PROA    \nATOM    266  HA  LYS P  19      12.870  62.390  -3.890  0.00  0.00      PROA    \nATOM    267  CB  LYS P  19      11.210  61.090  -3.040  0.00  0.00      PROA    \nATOM    268  HB1 LYS P  19      11.700  61.010  -2.050  0.00  0.00      PROA    \nATOM    269  HB2 LYS P  19      10.120  61.190  -2.840  0.00  0.00      PROA    \nATOM    270  CG  LYS P  19      11.500  59.830  -3.840  0.00  0.00      PROA    \nATOM    271  HG1 LYS P  19      10.940  59.900  -4.800  0.00  0.00      PROA    \nATOM    272  HG2 LYS P  19      12.600  59.840  -3.990  0.00  0.00      PROA    \nATOM    273  CD  LYS P  19      11.040  58.610  -2.960  0.00  0.00      PROA    \nATOM    274  HD1 LYS P  19      11.760  58.370  -2.150  0.00  0.00      PROA    \nATOM    275  HD2 LYS P  19      10.010  58.790  -2.600  0.00  0.00      PROA    \nATOM    276  CE  LYS P  19      10.840  57.280  -3.770  0.00  0.00      PROA    \nATOM    277  HE1 LYS P  19      10.110  57.500  -4.570  0.00  0.00      PROA    \nATOM    278  HE2 LYS P  19      11.730  56.730  -4.140  0.00  0.00      PROA    \nATOM    279  NZ  LYS P  19      10.110  56.270  -2.920  0.00  0.00      PROA    \nATOM    280  HZ1 LYS P  19      10.560  56.190  -1.990  0.00  0.00      PROA    \nATOM    281  HZ2 LYS P  19       9.100  56.510  -2.810  0.00  0.00      PROA    \nATOM    282  HZ3 LYS P  19      10.230  55.380  -3.440  0.00  0.00      PROA    \nATOM    283  C   LYS P  19      11.200  62.640  -5.070  0.00  0.00      PROA    \nATOM    284  O   LYS P  19      10.070  63.080  -5.240  0.00  0.00      PROA    \nATOM    285  N   ASN P  20      11.850  62.160  -6.220  0.00  0.00      PROA    \nATOM    286  HN  ASN P  20      12.790  61.830  -6.170  0.00  0.00      PROA    \nATOM    287  CA  ASN P  20      11.240  62.150  -7.500  0.00  0.00      PROA    \nATOM    288  HA  ASN P  20      10.660  63.070  -7.510  0.00  0.00      PROA    \nATOM    289  CB  ASN P  20      12.340  62.280  -8.610  0.00  0.00      PROA    \nATOM    290  HB1 ASN P  20      12.990  63.180  -8.540  0.00  0.00      PROA    \nATOM    291  HB2 ASN P  20      12.960  61.360  -8.590  0.00  0.00      PROA    \nATOM    292  CG  ASN P  20      11.680  62.430 -10.030  0.00  0.00      PROA    \nATOM    293  OD1 ASN P  20      11.980  61.560 -10.940  0.00  0.00      PROA    \nATOM    294  ND2 ASN P  20      10.910  63.490 -10.240  0.00  0.00      PROA    \nATOM    295 HD21 ASN P  20      10.200  63.380 -10.940  0.00  0.00      PROA    \nATOM    296 HD22 ASN P  20      10.760  64.130  -9.490  0.00  0.00      PROA    \nATOM    297  C   ASN P  20      10.230  61.060  -7.730  0.00  0.00      PROA    \nATOM    298  O   ASN P  20      10.520  60.000  -8.170  0.00  0.00      PROA    \nATOM    299  N   ALA P  21       9.010  61.320  -7.400  0.00  0.00      PROA    \nATOM    300  HN  ALA P  21       8.670  62.180  -7.040  0.00  0.00      PROA    \nATOM    301  CA  ALA P  21       7.940  60.280  -7.650  0.00  0.00      PROA    \nATOM    302  HA  ALA P  21       8.220  60.010  -8.650  0.00  0.00      PROA    \nATOM    303  CB  ALA P  21       8.140  59.160  -6.620  0.00  0.00      PROA    \nATOM    304  HB1 ALA P  21       8.080  59.640  -5.620  0.00  0.00      PROA    \nATOM    305  HB2 ALA P  21       7.370  58.360  -6.630  0.00  0.00      PROA    \nATOM    306  HB3 ALA P  21       9.050  58.550  -6.780  0.00  0.00      PROA    \nATOM    307  C   ALA P  21       6.520  60.740  -7.790  0.00  0.00      PROA    \nATOM    308  O   ALA P  21       6.160  61.920  -7.590  0.00  0.00      PROA    \nATOM    309  N   ASP P  22       5.640  59.840  -8.140  0.00  0.00      PROA    \nATOM    310  HN  ASP P  22       5.960  58.960  -8.500  0.00  0.00      PROA    \nATOM    311  CA  ASP P  22       4.190  60.050  -8.230  0.00  0.00      PROA    \nATOM    312  HA  ASP P  22       4.020  61.100  -8.400  0.00  0.00      PROA    \nATOM    313  CB  ASP P  22       3.670  59.130  -9.310  0.00  0.00      PROA    \nATOM    314  HB1 ASP P  22       4.110  59.520 -10.250  0.00  0.00      PROA    \nATOM    315  HB2 ASP P  22       3.980  58.070  -9.170  0.00  0.00      PROA    \nATOM    316  CG  ASP P  22       2.150  59.230  -9.570  0.00  0.00      PROA    \nATOM    317  OD1 ASP P  22       1.410  59.930  -8.880  0.00  0.00      PROA    \nATOM    318  OD2 ASP P  22       1.710  58.460 -10.490  0.00  0.00      PROA    \nATOM    319  C   ASP P  22       3.660  59.750  -6.850  0.00  0.00      PROA    \nATOM    320  O   ASP P  22       3.880  58.700  -6.250  0.00  0.00      PROA    \nATOM    321  N   ILE P  23       2.860  60.730  -6.320  0.00  0.00      PROA    \nATOM    322  HN  ILE P  23       2.640  61.510  -6.900  0.00  0.00      PROA    \nATOM    323  CA  ILE P  23       2.300  60.650  -4.960  0.00  0.00      PROA    \nATOM    324  HA  ILE P  23       3.120  60.500  -4.270  0.00  0.00      PROA    \nATOM    325  CB  ILE P  23       1.560  61.970  -4.510  0.00  0.00      PROA    \nATOM    326  HB  ILE P  23       2.300  62.750  -4.800  0.00  0.00      PROA    \nATOM    327  CG2 ILE P  23       0.290  62.280  -5.270  0.00  0.00      PROA    \nATOM    328 HG21 ILE P  23       0.110  63.370  -5.360  0.00  0.00      PROA    \nATOM    329 HG22 ILE P  23       0.350  62.020  -6.350  0.00  0.00      PROA    \nATOM    330 HG23 ILE P  23      -0.520  61.570  -5.000  0.00  0.00      PROA    \nATOM    331  CG1 ILE P  23       1.520  62.060  -2.980  0.00  0.00      PROA    \nATOM    332 HG11 ILE P  23       0.870  61.200  -2.720  0.00  0.00      PROA    \nATOM    333 HG12 ILE P  23       2.500  61.710  -2.570  0.00  0.00      PROA    \nATOM    334  CD  ILE P  23       1.050  63.450  -2.470  0.00  0.00      PROA    \nATOM    335  HD1 ILE P  23       1.940  64.110  -2.600  0.00  0.00      PROA    \nATOM    336  HD2 ILE P  23       0.140  63.780  -3.020  0.00  0.00      PROA    \nATOM    337  HD3 ILE P  23       0.740  63.420  -1.410  0.00  0.00      PROA    \nATOM    338  C   ILE P  23       1.290  59.500  -4.800  0.00  0.00      PROA    \nATOM    339  O   ILE P  23       1.380  58.800  -3.770  0.00  0.00      PROA    \nATOM    340  N   VAL P  24       0.660  59.110  -5.960  0.00  0.00      PROA    \nATOM    341  HN  VAL P  24       1.010  59.520  -6.790  0.00  0.00      PROA    \nATOM    342  CA  VAL P  24      -0.150  57.880  -6.000  0.00  0.00      PROA    \nATOM    343  HA  VAL P  24      -0.870  57.970  -5.200  0.00  0.00      PROA    \nATOM    344  CB  VAL P  24      -1.000  57.720  -7.310  0.00  0.00      PROA    \nATOM    345  HB  VAL P  24      -0.280  57.940  -8.130  0.00  0.00      PROA    \nATOM    346  CG1 VAL P  24      -1.580  56.320  -7.460  0.00  0.00      PROA    \nATOM    347 HG11 VAL P  24      -2.220  56.230  -8.360  0.00  0.00      PROA    \nATOM    348 HG12 VAL P  24      -0.740  55.680  -7.800  0.00  0.00      PROA    \nATOM    349 HG13 VAL P  24      -2.210  55.990  -6.600  0.00  0.00      PROA    \nATOM    350  CG2 VAL P  24      -2.160  58.750  -7.180  0.00  0.00      PROA    \nATOM    351 HG21 VAL P  24      -1.760  59.760  -6.920  0.00  0.00      PROA    \nATOM    352 HG22 VAL P  24      -2.720  58.930  -8.120  0.00  0.00      PROA    \nATOM    353 HG23 VAL P  24      -2.880  58.410  -6.410  0.00  0.00      PROA    \nATOM    354  C   VAL P  24       0.650  56.550  -5.890  0.00  0.00      PROA    \nATOM    355  O   VAL P  24       0.410  55.690  -5.040  0.00  0.00      PROA    \nATOM    356  N   GLU P  25       1.790  56.350  -6.640  0.00  0.00      PROA    \nATOM    357  HN  GLU P  25       2.100  57.070  -7.260  0.00  0.00      PROA    \nATOM    358  CA  GLU P  25       2.650  55.220  -6.380  0.00  0.00      PROA    \nATOM    359  HA  GLU P  25       2.000  54.380  -6.570  0.00  0.00      PROA    \nATOM    360  CB  GLU P  25       3.800  55.260  -7.470  0.00  0.00      PROA    \nATOM    361  HB1 GLU P  25       4.130  56.320  -7.440  0.00  0.00      PROA    \nATOM    362  HB2 GLU P  25       4.610  54.660  -7.020  0.00  0.00      PROA    \nATOM    363  CG  GLU P  25       3.390  54.960  -8.950  0.00  0.00      PROA    \nATOM    364  HG1 GLU P  25       2.580  54.200  -8.970  0.00  0.00      PROA    \nATOM    365  HG2 GLU P  25       2.930  55.850  -9.440  0.00  0.00      PROA    \nATOM    366  CD  GLU P  25       4.510  54.410  -9.790  0.00  0.00      PROA    \nATOM    367  OE1 GLU P  25       5.730  54.390  -9.370  0.00  0.00      PROA    \nATOM    368  OE2 GLU P  25       4.330  54.080 -10.990  0.00  0.00      PROA    \nATOM    369  C   GLU P  25       3.270  55.050  -4.980  0.00  0.00      PROA    \nATOM    370  O   GLU P  25       3.350  53.950  -4.440  0.00  0.00      PROA    \nATOM    371  N   GLU P  26       3.760  56.170  -4.460  0.00  0.00      PROA    \nATOM    372  HN  GLU P  26       3.860  56.920  -5.110  0.00  0.00      PROA    \nATOM    373  CA  GLU P  26       4.160  56.360  -3.110  0.00  0.00      PROA    \nATOM    374  HA  GLU P  26       4.840  55.570  -2.850  0.00  0.00      PROA    \nATOM    375  CB  GLU P  26       4.720  57.730  -2.820  0.00  0.00      PROA    \nATOM    376  HB1 GLU P  26       3.960  58.530  -2.950  0.00  0.00      PROA    \nATOM    377  HB2 GLU P  26       5.010  57.800  -1.760  0.00  0.00      PROA    \nATOM    378  CG  GLU P  26       6.000  58.120  -3.540  0.00  0.00      PROA    \nATOM    379  HG1 GLU P  26       6.030  57.900  -4.630  0.00  0.00      PROA    \nATOM    380  HG2 GLU P  26       6.370  59.170  -3.510  0.00  0.00      PROA    \nATOM    381  CD  GLU P  26       7.190  57.330  -3.050  0.00  0.00      PROA    \nATOM    382  OE1 GLU P  26       7.830  57.550  -2.030  0.00  0.00      PROA    \nATOM    383  OE2 GLU P  26       7.610  56.410  -3.850  0.00  0.00      PROA    \nATOM    384  C   GLU P  26       3.070  56.090  -2.100  0.00  0.00      PROA    \nATOM    385  O   GLU P  26       3.340  55.520  -1.070  0.00  0.00      PROA    \nATOM    386  N   ALA P  27       1.810  56.560  -2.270  0.00  0.00      PROA    \nATOM    387  HN  ALA P  27       1.670  57.310  -2.910  0.00  0.00      PROA    \nATOM    388  CA  ALA P  27       0.850  56.340  -1.250  0.00  0.00      PROA    \nATOM    389  HA  ALA P  27       1.170  56.710  -0.290  0.00  0.00      PROA    \nATOM    390  CB  ALA P  27      -0.470  57.050  -1.740  0.00  0.00      PROA    \nATOM    391  HB1 ALA P  27      -0.230  58.120  -1.630  0.00  0.00      PROA    \nATOM    392  HB2 ALA P  27      -0.590  56.760  -2.810  0.00  0.00      PROA    \nATOM    393  HB3 ALA P  27      -1.400  56.870  -1.170  0.00  0.00      PROA    \nATOM    394  C   ALA P  27       0.490  54.830  -1.210  0.00  0.00      PROA    \nATOM    395  O   ALA P  27       0.130  54.360  -0.170  0.00  0.00      PROA    \nATOM    396  N   LYS P  28       0.530  54.060  -2.330  0.00  0.00      PROA    \nATOM    397  HN  LYS P  28       0.590  54.490  -3.230  0.00  0.00      PROA    \nATOM    398  CA  LYS P  28       0.280  52.640  -2.410  0.00  0.00      PROA    \nATOM    399  HA  LYS P  28      -0.470  52.540  -1.630  0.00  0.00      PROA    \nATOM    400  CB  LYS P  28      -0.250  52.200  -3.850  0.00  0.00      PROA    \nATOM    401  HB1 LYS P  28       0.590  52.330  -4.570  0.00  0.00      PROA    \nATOM    402  HB2 LYS P  28      -0.420  51.100  -3.890  0.00  0.00      PROA    \nATOM    403  CG  LYS P  28      -1.550  52.930  -4.280  0.00  0.00      PROA    \nATOM    404  HG1 LYS P  28      -2.370  52.400  -3.730  0.00  0.00      PROA    \nATOM    405  HG2 LYS P  28      -1.320  54.000  -4.050  0.00  0.00      PROA    \nATOM    406  CD  LYS P  28      -1.710  52.880  -5.830  0.00  0.00      PROA    \nATOM    407  HD1 LYS P  28      -2.640  53.470  -6.030  0.00  0.00      PROA    \nATOM    408  HD2 LYS P  28      -0.880  53.440  -6.310  0.00  0.00      PROA    \nATOM    409  CE  LYS P  28      -1.820  51.380  -6.300  0.00  0.00      PROA    \nATOM    410  HE1 LYS P  28      -0.810  50.910  -6.230  0.00  0.00      PROA    \nATOM    411  HE2 LYS P  28      -2.620  50.850  -5.750  0.00  0.00      PROA    \nATOM    412  NZ  LYS P  28      -2.110  51.280  -7.740  0.00  0.00      PROA    \nATOM    413  HZ1 LYS P  28      -2.830  51.950  -8.090  0.00  0.00      PROA    \nATOM    414  HZ2 LYS P  28      -1.250  51.380  -8.310  0.00  0.00      PROA    \nATOM    415  HZ3 LYS P  28      -2.490  50.340  -7.990  0.00  0.00      PROA    \nATOM    416  C   LYS P  28       1.480  51.790  -1.930  0.00  0.00      PROA    \nATOM    417  O   LYS P  28       1.260  50.830  -1.210  0.00  0.00      PROA    \nATOM    418  N   LYS P  29       2.680  52.170  -2.160  0.00  0.00      PROA    \nATOM    419  HN  LYS P  29       2.840  52.830  -2.890  0.00  0.00      PROA    \nATOM    420  CA  LYS P  29       3.860  51.670  -1.460  0.00  0.00      PROA    \nATOM    421  HA  LYS P  29       3.860  50.590  -1.490  0.00  0.00      PROA    \nATOM    422  CB  LYS P  29       5.160  52.170  -2.200  0.00  0.00      PROA    \nATOM    423  HB1 LYS P  29       4.960  51.850  -3.250  0.00  0.00      PROA    \nATOM    424  HB2 LYS P  29       5.190  53.280  -2.150  0.00  0.00      PROA    \nATOM    425  CG  LYS P  29       6.490  51.630  -1.620  0.00  0.00      PROA    \nATOM    426  HG1 LYS P  29       7.360  52.010  -2.200  0.00  0.00      PROA    \nATOM    427  HG2 LYS P  29       6.750  52.070  -0.630  0.00  0.00      PROA    \nATOM    428  CD  LYS P  29       6.730  50.130  -1.560  0.00  0.00      PROA    \nATOM    429  HD1 LYS P  29       5.990  49.780  -0.810  0.00  0.00      PROA    \nATOM    430  HD2 LYS P  29       6.460  49.750  -2.570  0.00  0.00      PROA    \nATOM    431  CE  LYS P  29       8.140  49.620  -1.190  0.00  0.00      PROA    \nATOM    432  HE1 LYS P  29       8.050  48.540  -1.420  0.00  0.00      PROA    \nATOM    433  HE2 LYS P  29       8.820  50.110  -1.930  0.00  0.00      PROA    \nATOM    434  NZ  LYS P  29       8.420  49.720   0.180  0.00  0.00      PROA    \nATOM    435  HZ1 LYS P  29       8.730  50.670   0.450  0.00  0.00      PROA    \nATOM    436  HZ2 LYS P  29       9.280  49.170   0.410  0.00  0.00      PROA    \nATOM    437  HZ3 LYS P  29       7.600  49.480   0.760  0.00  0.00      PROA    \nATOM    438  C   LYS P  29       3.920  51.930   0.030  0.00  0.00      PROA    \nATOM    439  O   LYS P  29       4.200  51.000   0.840  0.00  0.00      PROA    \nATOM    440  N   VAL P  30       3.620  53.150   0.500  0.00  0.00      PROA    \nATOM    441  HN  VAL P  30       3.470  53.950  -0.070  0.00  0.00      PROA    \nATOM    442  CA  VAL P  30       3.850  53.600   1.930  0.00  0.00      PROA    \nATOM    443  HA  VAL P  30       4.570  52.890   2.310  0.00  0.00      PROA    \nATOM    444  CB  VAL P  30       4.450  55.060   1.910  0.00  0.00      PROA    \nATOM    445  HB  VAL P  30       3.730  55.720   1.370  0.00  0.00      PROA    \nATOM    446  CG1 VAL P  30       4.810  55.450   3.330  0.00  0.00      PROA    \nATOM    447 HG11 VAL P  30       5.560  54.690   3.640  0.00  0.00      PROA    \nATOM    448 HG12 VAL P  30       5.280  56.460   3.380  0.00  0.00      PROA    \nATOM    449 HG13 VAL P  30       3.890  55.520   3.950  0.00  0.00      PROA    \nATOM    450  CG2 VAL P  30       5.710  54.910   1.070  0.00  0.00      PROA    \nATOM    451 HG21 VAL P  30       6.300  55.820   1.280  0.00  0.00      PROA    \nATOM    452 HG22 VAL P  30       6.290  54.030   1.420  0.00  0.00      PROA    \nATOM    453 HG23 VAL P  30       5.680  54.880  -0.040  0.00  0.00      PROA    \nATOM    454  C   VAL P  30       2.640  53.490   2.840  0.00  0.00      PROA    \nATOM    455  O   VAL P  30       2.880  53.310   4.040  0.00  0.00      PROA    \nATOM    456  N   LYS P  31       1.430  53.410   2.290  0.00  0.00      PROA    \nATOM    457  HN  LYS P  31       1.470  53.520   1.300  0.00  0.00      PROA    \nATOM    458  CA  LYS P  31       0.140  53.310   2.920  0.00  0.00      PROA    \nATOM    459  HA  LYS P  31      -0.600  53.530   2.170  0.00  0.00      PROA    \nATOM    460  CB  LYS P  31      -0.120  51.860   3.330  0.00  0.00      PROA    \nATOM    461  HB1 LYS P  31       0.640  51.540   4.080  0.00  0.00      PROA    \nATOM    462  HB2 LYS P  31      -1.120  51.840   3.810  0.00  0.00      PROA    \nATOM    463  CG  LYS P  31      -0.120  50.920   2.100  0.00  0.00      PROA    \nATOM    464  HG1 LYS P  31       0.900  50.900   1.670  0.00  0.00      PROA    \nATOM    465  HG2 LYS P  31      -0.370  49.880   2.400  0.00  0.00      PROA    \nATOM    466  CD  LYS P  31      -1.200  51.270   1.040  0.00  0.00      PROA    \nATOM    467  HD1 LYS P  31      -0.700  52.150   0.590  0.00  0.00      PROA    \nATOM    468  HD2 LYS P  31      -1.190  50.470   0.270  0.00  0.00      PROA    \nATOM    469  CE  LYS P  31      -2.640  51.550   1.650  0.00  0.00      PROA    \nATOM    470  HE1 LYS P  31      -2.620  52.330   2.440  0.00  0.00      PROA    \nATOM    471  HE2 LYS P  31      -3.350  51.810   0.840  0.00  0.00      PROA    \nATOM    472  NZ  LYS P  31      -3.100  50.360   2.420  0.00  0.00      PROA    \nATOM    473  HZ1 LYS P  31      -2.850  50.240   3.430  0.00  0.00      PROA    \nATOM    474  HZ2 LYS P  31      -4.140  50.410   2.420  0.00  0.00      PROA    \nATOM    475  HZ3 LYS P  31      -2.620  49.580   1.930  0.00  0.00      PROA    \nATOM    476  C   LYS P  31      -0.070  54.230   4.150  0.00  0.00      PROA    \nATOM    477  O   LYS P  31      -0.420  53.720   5.260  0.00  0.00      PROA    \nATOM    478  N   PRO P  32       0.180  55.570   3.990  0.00  0.00      PROA    \nATOM    479  CD  PRO P  32      -0.010  56.260   2.750  0.00  0.00      PROA    \nATOM    480  HD1 PRO P  32       0.720  55.960   1.980  0.00  0.00      PROA    \nATOM    481  HD2 PRO P  32      -1.000  56.040   2.300  0.00  0.00      PROA    \nATOM    482  CA  PRO P  32       0.600  56.420   5.070  0.00  0.00      PROA    \nATOM    483  HA  PRO P  32       1.310  55.810   5.600  0.00  0.00      PROA    \nATOM    484  CB  PRO P  32       1.250  57.560   4.260  0.00  0.00      PROA    \nATOM    485  HB1 PRO P  32       2.150  57.230   3.690  0.00  0.00      PROA    \nATOM    486  HB2 PRO P  32       1.400  58.440   4.920  0.00  0.00      PROA    \nATOM    487  CG  PRO P  32       0.330  57.710   3.130  0.00  0.00      PROA    \nATOM    488  HG1 PRO P  32      -0.600  58.270   3.400  0.00  0.00      PROA    \nATOM    489  HG2 PRO P  32       0.730  58.280   2.270  0.00  0.00      PROA    \nATOM    490  C   PRO P  32      -0.400  56.980   6.010  0.00  0.00      PROA    \nATOM    491  O   PRO P  32      -1.570  56.770   5.850  0.00  0.00      PROA    \nATOM    492  N   THR P  33      -0.010  57.600   7.110  0.00  0.00      PROA    \nATOM    493  HN  THR P  33       0.950  57.820   7.260  0.00  0.00      PROA    \nATOM    494  CA  THR P  33      -0.940  58.360   8.040  0.00  0.00      PROA    \nATOM    495  HA  THR P  33      -1.760  57.690   8.260  0.00  0.00      PROA    \nATOM    496  CB  THR P  33      -0.560  58.690   9.480  0.00  0.00      PROA    \nATOM    497  HB  THR P  33      -1.410  59.260   9.910  0.00  0.00      PROA    \nATOM    498  OG1 THR P  33       0.580  59.580   9.600  0.00  0.00      PROA    \nATOM    499  HG1 THR P  33       0.470  60.380   9.090  0.00  0.00      PROA    \nATOM    500  CG2 THR P  33      -0.390  57.440  10.290  0.00  0.00      PROA    \nATOM    501 HG21 THR P  33      -1.320  56.840  10.320  0.00  0.00      PROA    \nATOM    502 HG22 THR P  33       0.410  56.750   9.920  0.00  0.00      PROA    \nATOM    503 HG23 THR P  33      -0.030  57.680  11.310  0.00  0.00      PROA    \nATOM    504  C   THR P  33      -1.750  59.440   7.370  0.00  0.00      PROA    \nATOM    505  O   THR P  33      -3.010  59.540   7.460  0.00  0.00      PROA    \nATOM    506  N   VAL P  34      -0.970  60.340   6.640  0.00  0.00      PROA    \nATOM    507  HN  VAL P  34      -0.030  60.090   6.430  0.00  0.00      PROA    \nATOM    508  CA  VAL P  34      -1.580  61.450   5.990  0.00  0.00      PROA    \nATOM    509  HA  VAL P  34      -2.650  61.410   6.040  0.00  0.00      PROA    \nATOM    510  CB  VAL P  34      -1.240  62.680   6.810  0.00  0.00      PROA    \nATOM    511  HB  VAL P  34      -0.180  63.010   6.740  0.00  0.00      PROA    \nATOM    512  CG1 VAL P  34      -2.180  63.790   6.340  0.00  0.00      PROA    \nATOM    513 HG11 VAL P  34      -3.230  63.720   6.690  0.00  0.00      PROA    \nATOM    514 HG12 VAL P  34      -1.780  64.760   6.710  0.00  0.00      PROA    \nATOM    515 HG13 VAL P  34      -2.070  63.960   5.240  0.00  0.00      PROA    \nATOM    516  CG2 VAL P  34      -1.580  62.550   8.270  0.00  0.00      PROA    \nATOM    517 HG21 VAL P  34      -1.640  63.580   8.690  0.00  0.00      PROA    \nATOM    518 HG22 VAL P  34      -2.640  62.250   8.390  0.00  0.00      PROA    \nATOM    519 HG23 VAL P  34      -0.780  62.020   8.840  0.00  0.00      PROA    \nATOM    520  C   VAL P  34      -1.060  61.590   4.590  0.00  0.00      PROA    \nATOM    521  O   VAL P  34       0.100  61.640   4.340  0.00  0.00      PROA    \nATOM    522  N   VAL P  35      -2.060  61.740   3.670  0.00  0.00      PROA    \nATOM    523  HN  VAL P  35      -3.040  61.610   3.790  0.00  0.00      PROA    \nATOM    524  CA  VAL P  35      -1.780  62.130   2.290  0.00  0.00      PROA    \nATOM    525  HA  VAL P  35      -0.710  62.160   2.160  0.00  0.00      PROA    \nATOM    526  CB  VAL P  35      -2.220  61.180   1.160  0.00  0.00      PROA    \nATOM    527  HB  VAL P  35      -1.920  60.230   1.640  0.00  0.00      PROA    \nATOM    528  CG1 VAL P  35      -3.730  61.180   0.760  0.00  0.00      PROA    \nATOM    529 HG11 VAL P  35      -4.030  62.240   0.610  0.00  0.00      PROA    \nATOM    530 HG12 VAL P  35      -3.930  60.540  -0.120  0.00  0.00      PROA    \nATOM    531 HG13 VAL P  35      -4.250  60.740   1.640  0.00  0.00      PROA    \nATOM    532  CG2 VAL P  35      -1.230  61.320  -0.150  0.00  0.00      PROA    \nATOM    533 HG21 VAL P  35      -1.350  60.420  -0.780  0.00  0.00      PROA    \nATOM    534 HG22 VAL P  35      -1.610  62.100  -0.840  0.00  0.00      PROA    \nATOM    535 HG23 VAL P  35      -0.140  61.520  -0.030  0.00  0.00      PROA    \nATOM    536  C   VAL P  35      -2.320  63.560   2.090  0.00  0.00      PROA    \nATOM    537  O   VAL P  35      -3.480  63.800   2.420  0.00  0.00      PROA    \nATOM    538  N   VAL P  36      -1.500  64.480   1.600  0.00  0.00      PROA    \nATOM    539  HN  VAL P  36      -0.510  64.400   1.490  0.00  0.00      PROA    \nATOM    540  CA  VAL P  36      -2.030  65.860   1.470  0.00  0.00      PROA    \nATOM    541  HA  VAL P  36      -2.810  66.100   2.180  0.00  0.00      PROA    \nATOM    542  CB  VAL P  36      -0.930  66.880   1.920  0.00  0.00      PROA    \nATOM    543  HB  VAL P  36      -0.120  66.920   1.160  0.00  0.00      PROA    \nATOM    544  CG1 VAL P  36      -1.610  68.250   2.000  0.00  0.00      PROA    \nATOM    545 HG11 VAL P  36      -2.370  68.220   2.810  0.00  0.00      PROA    \nATOM    546 HG12 VAL P  36      -0.900  69.090   2.150  0.00  0.00      PROA    \nATOM    547 HG13 VAL P  36      -2.100  68.560   1.050  0.00  0.00      PROA    \nATOM    548  CG2 VAL P  36      -0.300  66.520   3.240  0.00  0.00      PROA    \nATOM    549 HG21 VAL P  36       0.210  67.360   3.750  0.00  0.00      PROA    \nATOM    550 HG22 VAL P  36      -1.040  66.100   3.960  0.00  0.00      PROA    \nATOM    551 HG23 VAL P  36       0.380  65.650   3.120  0.00  0.00      PROA    \nATOM    552  C   VAL P  36      -2.480  66.130   0.070  0.00  0.00      PROA    \nATOM    553  O   VAL P  36      -1.810  65.820  -0.920  0.00  0.00      PROA    \nATOM    554  N   ASN P  37      -3.690  66.760   0.040  0.00  0.00      PROA    \nATOM    555  HN  ASN P  37      -4.190  66.950   0.880  0.00  0.00      PROA    \nATOM    556  CA  ASN P  37      -4.270  67.090  -1.160  0.00  0.00      PROA    \nATOM    557  HA  ASN P  37      -3.710  66.730  -2.010  0.00  0.00      PROA    \nATOM    558  CB  ASN P  37      -5.680  66.590  -1.060  0.00  0.00      PROA    \nATOM    559  HB1 ASN P  37      -5.670  65.560  -0.640  0.00  0.00      PROA    \nATOM    560  HB2 ASN P  37      -6.340  67.040  -0.290  0.00  0.00      PROA    \nATOM    561  CG  ASN P  37      -6.290  66.430  -2.480  0.00  0.00      PROA    \nATOM    562  OD1 ASN P  37      -6.590  65.370  -2.960  0.00  0.00      PROA    \nATOM    563  ND2 ASN P  37      -6.570  67.600  -3.210  0.00  0.00      PROA    \nATOM    564 HD21 ASN P  37      -7.010  67.450  -4.090  0.00  0.00      PROA    \nATOM    565 HD22 ASN P  37      -5.950  68.340  -2.970  0.00  0.00      PROA    \nATOM    566  C   ASN P  37      -4.420  68.600  -1.280  0.00  0.00      PROA    \nATOM    567  O   ASN P  37      -5.040  69.340  -0.500  0.00  0.00      PROA    \nATOM    568  N   ALA P  38      -3.800  69.130  -2.380  0.00  0.00      PROA    \nATOM    569  HN  ALA P  38      -3.120  68.610  -2.900  0.00  0.00      PROA    \nATOM    570  CA  ALA P  38      -3.870  70.520  -2.610  0.00  0.00      PROA    \nATOM    571  HA  ALA P  38      -3.480  71.110  -1.790  0.00  0.00      PROA    \nATOM    572  CB  ALA P  38      -3.050  70.970  -3.810  0.00  0.00      PROA    \nATOM    573  HB1 ALA P  38      -3.230  70.330  -4.700  0.00  0.00      PROA    \nATOM    574  HB2 ALA P  38      -3.110  72.020  -4.140  0.00  0.00      PROA    \nATOM    575  HB3 ALA P  38      -1.970  70.780  -3.640  0.00  0.00      PROA    \nATOM    576  C   ALA P  38      -5.360  70.890  -2.950  0.00  0.00      PROA    \nATOM    577  O   ALA P  38      -5.920  70.470  -3.960  0.00  0.00      PROA    \nATOM    578  N   ALA P  39      -6.040  71.610  -2.100  0.00  0.00      PROA    \nATOM    579  HN  ALA P  39      -5.630  71.920  -1.240  0.00  0.00      PROA    \nATOM    580  CA  ALA P  39      -7.480  71.910  -2.300  0.00  0.00      PROA    \nATOM    581  HA  ALA P  39      -7.940  71.280  -3.040  0.00  0.00      PROA    \nATOM    582  CB  ALA P  39      -8.130  71.630  -1.000  0.00  0.00      PROA    \nATOM    583  HB1 ALA P  39      -8.260  70.550  -0.780  0.00  0.00      PROA    \nATOM    584  HB2 ALA P  39      -7.550  72.100  -0.180  0.00  0.00      PROA    \nATOM    585  HB3 ALA P  39      -9.090  72.180  -0.880  0.00  0.00      PROA    \nATOM    586  C   ALA P  39      -7.710  73.340  -2.750  0.00  0.00      PROA    \nATOM    587  O   ALA P  39      -6.840  74.210  -2.830  0.00  0.00      PROA    \nATOM    588  N   ASN P  40      -9.000  73.650  -3.160  0.00  0.00      PROA    \nATOM    589  HN  ASN P  40      -9.670  72.960  -2.890  0.00  0.00      PROA    \nATOM    590  CA  ASN P  40      -9.550  74.880  -3.620  0.00  0.00      PROA    \nATOM    591  HA  ASN P  40      -8.850  75.670  -3.380  0.00  0.00      PROA    \nATOM    592  CB  ASN P  40     -10.180  74.960  -5.040  0.00  0.00      PROA    \nATOM    593  HB1 ASN P  40     -10.890  75.800  -5.230  0.00  0.00      PROA    \nATOM    594  HB2 ASN P  40      -9.410  75.050  -5.840  0.00  0.00      PROA    \nATOM    595  CG  ASN P  40     -10.940  73.740  -5.600  0.00  0.00      PROA    \nATOM    596  OD1 ASN P  40     -12.180  73.760  -5.630  0.00  0.00      PROA    \nATOM    597  ND2 ASN P  40     -10.190  72.620  -5.880  0.00  0.00      PROA    \nATOM    598 HD21 ASN P  40      -9.210  72.600  -5.670  0.00  0.00      PROA    \nATOM    599 HD22 ASN P  40     -10.790  71.830  -6.050  0.00  0.00      PROA    \nATOM    600  C   ASN P  40     -10.710  75.150  -2.620  0.00  0.00      PROA    \nATOM    601  O   ASN P  40     -11.070  74.190  -1.890  0.00  0.00      PROA    \nATOM    602  N   VAL P  41     -11.280  76.340  -2.570  0.00  0.00      PROA    \nATOM    603  HN  VAL P  41     -11.060  76.980  -3.300  0.00  0.00      PROA    \nATOM    604  CA  VAL P  41     -12.340  76.650  -1.590  0.00  0.00      PROA    \nATOM    605  HA  VAL P  41     -11.960  76.280  -0.640  0.00  0.00      PROA    \nATOM    606  CB  VAL P  41     -12.700  78.140  -1.470  0.00  0.00      PROA    \nATOM    607  HB  VAL P  41     -13.400  78.180  -0.610  0.00  0.00      PROA    \nATOM    608  CG1 VAL P  41     -11.490  79.020  -1.000  0.00  0.00      PROA    \nATOM    609 HG11 VAL P  41     -11.190  78.700   0.020  0.00  0.00      PROA    \nATOM    610 HG12 VAL P  41     -10.670  78.770  -1.700  0.00  0.00      PROA    \nATOM    611 HG13 VAL P  41     -11.780  80.080  -1.130  0.00  0.00      PROA    \nATOM    612  CG2 VAL P  41     -13.390  78.630  -2.810  0.00  0.00      PROA    \nATOM    613 HG21 VAL P  41     -12.800  78.300  -3.700  0.00  0.00      PROA    \nATOM    614 HG22 VAL P  41     -14.390  78.140  -2.840  0.00  0.00      PROA    \nATOM    615 HG23 VAL P  41     -13.480  79.740  -2.860  0.00  0.00      PROA    \nATOM    616  C   VAL P  41     -13.580  75.730  -1.700  0.00  0.00      PROA    \nATOM    617  O   VAL P  41     -14.220  75.500  -0.680  0.00  0.00      PROA    \nATOM    618  N   TYR P  42     -14.080  75.280  -2.910  0.00  0.00      PROA    \nATOM    619  HN  TYR P  42     -13.640  75.550  -3.760  0.00  0.00      PROA    \nATOM    620  CA  TYR P  42     -15.240  74.490  -3.200  0.00  0.00      PROA    \nATOM    621  HA  TYR P  42     -15.920  74.720  -2.400  0.00  0.00      PROA    \nATOM    622  CB  TYR P  42     -15.730  74.940  -4.620  0.00  0.00      PROA    \nATOM    623  HB1 TYR P  42     -15.050  74.590  -5.430  0.00  0.00      PROA    \nATOM    624  HB2 TYR P  42     -16.690  74.400  -4.830  0.00  0.00      PROA    \nATOM    625  CG  TYR P  42     -16.130  76.330  -4.640  0.00  0.00      PROA    \nATOM    626  CD1 TYR P  42     -15.670  77.190  -5.560  0.00  0.00      PROA    \nATOM    627  HD1 TYR P  42     -14.920  76.960  -6.310  0.00  0.00      PROA    \nATOM    628  CE1 TYR P  42     -16.060  78.550  -5.590  0.00  0.00      PROA    \nATOM    629  HE1 TYR P  42     -15.630  79.250  -6.280  0.00  0.00      PROA    \nATOM    630  CZ  TYR P  42     -16.910  79.080  -4.590  0.00  0.00      PROA    \nATOM    631  OH  TYR P  42     -17.360  80.450  -4.660  0.00  0.00      PROA    \nATOM    632  HH  TYR P  42     -16.810  80.870  -5.330  0.00  0.00      PROA    \nATOM    633  CD2 TYR P  42     -17.020  76.820  -3.690  0.00  0.00      PROA    \nATOM    634  HD2 TYR P  42     -17.390  76.180  -2.900  0.00  0.00      PROA    \nATOM    635  CE2 TYR P  42     -17.400  78.210  -3.670  0.00  0.00      PROA    \nATOM    636  HE2 TYR P  42     -17.900  78.620  -2.800  0.00  0.00      PROA    \nATOM    637  C   TYR P  42     -14.950  72.990  -3.190  0.00  0.00      PROA    \nATOM    638  O   TYR P  42     -15.820  72.190  -3.640  0.00  0.00      PROA    \nATOM    639  N   LEU P  43     -13.780  72.630  -2.660  0.00  0.00      PROA    \nATOM    640  HN  LEU P  43     -13.180  73.350  -2.310  0.00  0.00      PROA    \nATOM    641  CA  LEU P  43     -13.140  71.300  -2.610  0.00  0.00      PROA    \nATOM    642  HA  LEU P  43     -12.100  71.600  -2.620  0.00  0.00      PROA    \nATOM    643  CB  LEU P  43     -13.540  70.480  -1.380  0.00  0.00      PROA    \nATOM    644  HB1 LEU P  43     -14.560  70.090  -1.210  0.00  0.00      PROA    \nATOM    645  HB2 LEU P  43     -12.950  69.540  -1.430  0.00  0.00      PROA    \nATOM    646  CG  LEU P  43     -13.220  71.230  -0.060  0.00  0.00      PROA    \nATOM    647  HG  LEU P  43     -13.680  72.230   0.070  0.00  0.00      PROA    \nATOM    648  CD1 LEU P  43     -13.700  70.460   1.220  0.00  0.00      PROA    \nATOM    649 HD11 LEU P  43     -14.770  70.180   1.230  0.00  0.00      PROA    \nATOM    650 HD12 LEU P  43     -13.210  69.470   1.340  0.00  0.00      PROA    \nATOM    651 HD13 LEU P  43     -13.390  70.920   2.180  0.00  0.00      PROA    \nATOM    652  CD2 LEU P  43     -11.660  71.340   0.070  0.00  0.00      PROA    \nATOM    653 HD21 LEU P  43     -11.500  71.780   1.080  0.00  0.00      PROA    \nATOM    654 HD22 LEU P  43     -11.210  70.340   0.200  0.00  0.00      PROA    \nATOM    655 HD23 LEU P  43     -11.310  71.920  -0.810  0.00  0.00      PROA    \nATOM    656  C   LEU P  43     -13.220  70.510  -3.870  0.00  0.00      PROA    \nATOM    657  O   LEU P  43     -13.590  69.300  -3.850  0.00  0.00      PROA    \nATOM    658  N   LYS P  44     -13.000  71.010  -5.120  0.00  0.00      PROA    \nATOM    659  HN  LYS P  44     -12.830  71.970  -5.350  0.00  0.00      PROA    \nATOM    660  CA  LYS P  44     -13.180  70.250  -6.410  0.00  0.00      PROA    \nATOM    661  HA  LYS P  44     -13.970  69.520  -6.360  0.00  0.00      PROA    \nATOM    662  CB  LYS P  44     -13.620  71.030  -7.670  0.00  0.00      PROA    \nATOM    663  HB1 LYS P  44     -12.730  71.560  -8.060  0.00  0.00      PROA    \nATOM    664  HB2 LYS P  44     -13.860  70.200  -8.360  0.00  0.00      PROA    \nATOM    665  CG  LYS P  44     -14.800  71.940  -7.450  0.00  0.00      PROA    \nATOM    666  HG1 LYS P  44     -14.590  72.680  -6.640  0.00  0.00      PROA    \nATOM    667  HG2 LYS P  44     -14.940  72.550  -8.370  0.00  0.00      PROA    \nATOM    668  CD  LYS P  44     -15.990  71.310  -6.830  0.00  0.00      PROA    \nATOM    669  HD1 LYS P  44     -15.620  70.850  -5.890  0.00  0.00      PROA    \nATOM    670  HD2 LYS P  44     -16.810  72.000  -6.520  0.00  0.00      PROA    \nATOM    671  CE  LYS P  44     -16.750  70.340  -7.740  0.00  0.00      PROA    \nATOM    672  HE1 LYS P  44     -17.090  70.950  -8.610  0.00  0.00      PROA    \nATOM    673  HE2 LYS P  44     -16.130  69.460  -8.010  0.00  0.00      PROA    \nATOM    674  NZ  LYS P  44     -17.970  69.760  -7.140  0.00  0.00      PROA    \nATOM    675  HZ1 LYS P  44     -17.940  69.310  -6.200  0.00  0.00      PROA    \nATOM    676  HZ2 LYS P  44     -18.620  70.570  -7.090  0.00  0.00      PROA    \nATOM    677  HZ3 LYS P  44     -18.390  69.180  -7.900  0.00  0.00      PROA    \nATOM    678  C   LYS P  44     -11.890  69.390  -6.610  0.00  0.00      PROA    \nATOM    679  O   LYS P  44     -10.800  69.790  -6.190  0.00  0.00      PROA    \nATOM    680  N   HIS P  45     -12.010  68.170  -7.260  0.00  0.00      PROA    \nATOM    681  HN  HIS P  45     -12.920  67.770  -7.380  0.00  0.00      PROA    \nATOM    682  CA  HIS P  45     -10.940  67.270  -7.430  0.00  0.00      PROA    \nATOM    683  HA  HIS P  45     -10.040  67.770  -7.110  0.00  0.00      PROA    \nATOM    684  CB  HIS P  45     -11.170  65.990  -6.630  0.00  0.00      PROA    \nATOM    685  HB1 HIS P  45     -12.080  65.430  -6.930  0.00  0.00      PROA    \nATOM    686  HB2 HIS P  45     -10.350  65.250  -6.760  0.00  0.00      PROA    \nATOM    687  ND1 HIS P  45     -12.210  66.900  -4.420  0.00  0.00      PROA    \nATOM    688  HD1 HIS P  45     -13.160  67.130  -4.640  0.00  0.00      PROA    \nATOM    689  CG  HIS P  45     -11.120  66.420  -5.190  0.00  0.00      PROA    \nATOM    690  CE1 HIS P  45     -11.760  67.210  -3.170  0.00  0.00      PROA    \nATOM    691  HE1 HIS P  45     -12.470  67.660  -2.480  0.00  0.00      PROA    \nATOM    692  NE2 HIS P  45     -10.500  66.940  -3.050  0.00  0.00      PROA    \nATOM    693  CD2 HIS P  45     -10.090  66.440  -4.300  0.00  0.00      PROA    \nATOM    694  HD2 HIS P  45      -9.040  66.240  -4.520  0.00  0.00      PROA    \nATOM    695  C   HIS P  45     -10.620  66.950  -8.890  0.00  0.00      PROA    \nATOM    696  O   HIS P  45     -10.350  65.860  -9.400  0.00  0.00      PROA    \nATOM    697  N   GLY P  46     -10.520  67.980  -9.700  0.00  0.00      PROA    \nATOM    698  HN  GLY P  46     -10.870  68.860  -9.380  0.00  0.00      PROA    \nATOM    699  CA  GLY P  46      -9.950  68.080 -11.030  0.00  0.00      PROA    \nATOM    700  HA1 GLY P  46     -10.330  69.010 -11.420  0.00  0.00      PROA    \nATOM    701  HA2 GLY P  46     -10.190  67.180 -11.570  0.00  0.00      PROA    \nATOM    702  C   GLY P  46      -8.410  68.090 -11.010  0.00  0.00      PROA    \nATOM    703  O   GLY P  46      -7.670  67.750 -10.090  0.00  0.00      PROA    \nATOM    704  N   GLY P  47      -7.880  68.690 -12.130  0.00  0.00      PROA    \nATOM    705  HN  GLY P  47      -8.430  68.860 -12.950  0.00  0.00      PROA    \nATOM    706  CA  GLY P  47      -6.500  69.230 -12.180  0.00  0.00      PROA    \nATOM    707  HA1 GLY P  47      -6.410  70.020 -11.440  0.00  0.00      PROA    \nATOM    708  HA2 GLY P  47      -6.300  69.620 -13.170  0.00  0.00      PROA    \nATOM    709  C   GLY P  47      -5.250  68.240 -11.920  0.00  0.00      PROA    \nATOM    710  O   GLY P  47      -5.270  67.120 -12.420  0.00  0.00      PROA    \nATOM    711  N   GLY P  48      -4.230  68.620 -11.130  0.00  0.00      PROA    \nATOM    712  HN  GLY P  48      -4.350  69.580 -10.900  0.00  0.00      PROA    \nATOM    713  CA  GLY P  48      -3.000  67.930 -10.830  0.00  0.00      PROA    \nATOM    714  HA1 GLY P  48      -2.420  68.720 -10.360  0.00  0.00      PROA    \nATOM    715  HA2 GLY P  48      -2.510  67.550 -11.710  0.00  0.00      PROA    \nATOM    716  C   GLY P  48      -3.170  66.820  -9.820  0.00  0.00      PROA    \nATOM    717  O   GLY P  48      -3.820  65.750 -10.140  0.00  0.00      PROA    \nATOM    718  N   VAL P  49      -2.590  67.070  -8.670  0.00  0.00      PROA    \nATOM    719  HN  VAL P  49      -2.210  67.960  -8.450  0.00  0.00      PROA    \nATOM    720  CA  VAL P  49      -2.450  66.050  -7.560  0.00  0.00      PROA    \nATOM    721  HA  VAL P  49      -1.750  65.300  -7.900  0.00  0.00      PROA    \nATOM    722  CB  VAL P  49      -1.610  66.620  -6.300  0.00  0.00      PROA    \nATOM    723  HB  VAL P  49      -2.140  67.470  -5.830  0.00  0.00      PROA    \nATOM    724  CG1 VAL P  49      -1.570  65.560  -5.210  0.00  0.00      PROA    \nATOM    725 HG11 VAL P  49      -1.310  64.600  -5.710  0.00  0.00      PROA    \nATOM    726 HG12 VAL P  49      -0.890  65.950  -4.430  0.00  0.00      PROA    \nATOM    727 HG13 VAL P  49      -2.590  65.530  -4.760  0.00  0.00      PROA    \nATOM    728  CG2 VAL P  49      -0.180  67.100  -6.720  0.00  0.00      PROA    \nATOM    729 HG21 VAL P  49       0.390  66.180  -6.990  0.00  0.00      PROA    \nATOM    730 HG22 VAL P  49      -0.220  67.760  -7.620  0.00  0.00      PROA    \nATOM    731 HG23 VAL P  49       0.250  67.720  -5.910  0.00  0.00      PROA    \nATOM    732  C   VAL P  49      -3.790  65.520  -7.060  0.00  0.00      PROA    \nATOM    733  O   VAL P  49      -4.030  64.350  -6.900  0.00  0.00      PROA    \nATOM    734  N   ALA P  50      -4.740  66.480  -6.980  0.00  0.00      PROA    \nATOM    735  HN  ALA P  50      -4.530  67.450  -6.960  0.00  0.00      PROA    \nATOM    736  CA  ALA P  50      -6.130  66.210  -6.610  0.00  0.00      PROA    \nATOM    737  HA  ALA P  50      -6.070  65.690  -5.670  0.00  0.00      PROA    \nATOM    738  CB  ALA P  50      -6.920  67.500  -6.630  0.00  0.00      PROA    \nATOM    739  HB1 ALA P  50      -6.450  68.330  -6.060  0.00  0.00      PROA    \nATOM    740  HB2 ALA P  50      -7.220  67.830  -7.650  0.00  0.00      PROA    \nATOM    741  HB3 ALA P  50      -7.860  67.350  -6.070  0.00  0.00      PROA    \nATOM    742  C   ALA P  50      -6.840  65.170  -7.550  0.00  0.00      PROA    \nATOM    743  O   ALA P  50      -7.510  64.250  -7.070  0.00  0.00      PROA    \nATOM    744  N   GLY P  51      -6.600  65.440  -8.860  0.00  0.00      PROA    \nATOM    745  HN  GLY P  51      -5.980  66.180  -9.120  0.00  0.00      PROA    \nATOM    746  CA  GLY P  51      -7.100  64.570  -9.920  0.00  0.00      PROA    \nATOM    747  HA1 GLY P  51      -6.800  64.920 -10.900  0.00  0.00      PROA    \nATOM    748  HA2 GLY P  51      -8.140  64.290  -9.830  0.00  0.00      PROA    \nATOM    749  C   GLY P  51      -6.600  63.160  -9.920  0.00  0.00      PROA    \nATOM    750  O   GLY P  51      -7.300  62.180 -10.050  0.00  0.00      PROA    \nATOM    751  N   ALA P  52      -5.340  63.060  -9.630  0.00  0.00      PROA    \nATOM    752  HN  ALA P  52      -4.780  63.880  -9.570  0.00  0.00      PROA    \nATOM    753  CA  ALA P  52      -4.530  61.820  -9.450  0.00  0.00      PROA    \nATOM    754  HA  ALA P  52      -4.820  61.130 -10.230  0.00  0.00      PROA    \nATOM    755  CB  ALA P  52      -3.000  62.300  -9.560  0.00  0.00      PROA    \nATOM    756  HB1 ALA P  52      -2.320  61.420  -9.570  0.00  0.00      PROA    \nATOM    757  HB2 ALA P  52      -2.730  62.880 -10.460  0.00  0.00      PROA    \nATOM    758  HB3 ALA P  52      -2.650  62.970  -8.740  0.00  0.00      PROA    \nATOM    759  C   ALA P  52      -4.990  61.060  -8.220  0.00  0.00      PROA    \nATOM    760  O   ALA P  52      -5.240  59.850  -8.120  0.00  0.00      PROA    \nATOM    761  N   LEU P  53      -5.230  61.710  -7.060  0.00  0.00      PROA    \nATOM    762  HN  LEU P  53      -5.030  62.680  -6.990  0.00  0.00      PROA    \nATOM    763  CA  LEU P  53      -5.680  61.050  -5.900  0.00  0.00      PROA    \nATOM    764  HA  LEU P  53      -5.100  60.150  -5.770  0.00  0.00      PROA    \nATOM    765  CB  LEU P  53      -5.460  61.960  -4.640  0.00  0.00      PROA    \nATOM    766  HB1 LEU P  53      -5.890  62.960  -4.850  0.00  0.00      PROA    \nATOM    767  HB2 LEU P  53      -5.920  61.380  -3.810  0.00  0.00      PROA    \nATOM    768  CG  LEU P  53      -3.940  62.170  -4.160  0.00  0.00      PROA    \nATOM    769  HG  LEU P  53      -3.420  62.610  -5.030  0.00  0.00      PROA    \nATOM    770  CD1 LEU P  53      -3.870  63.130  -2.940  0.00  0.00      PROA    \nATOM    771 HD11 LEU P  53      -4.250  64.100  -3.330  0.00  0.00      PROA    \nATOM    772 HD12 LEU P  53      -4.360  62.740  -2.030  0.00  0.00      PROA    \nATOM    773 HD13 LEU P  53      -2.820  63.140  -2.570  0.00  0.00      PROA    \nATOM    774  CD2 LEU P  53      -3.270  60.890  -3.830  0.00  0.00      PROA    \nATOM    775 HD21 LEU P  53      -3.870  60.350  -3.070  0.00  0.00      PROA    \nATOM    776 HD22 LEU P  53      -3.180  60.180  -4.680  0.00  0.00      PROA    \nATOM    777 HD23 LEU P  53      -2.280  60.970  -3.330  0.00  0.00      PROA    \nATOM    778  C   LEU P  53      -7.150  60.680  -5.940  0.00  0.00      PROA    \nATOM    779  O   LEU P  53      -7.510  59.570  -5.480  0.00  0.00      PROA    \nATOM    780  N   ASN P  54      -7.980  61.520  -6.620  0.00  0.00      PROA    \nATOM    781  HN  ASN P  54      -7.610  62.390  -6.920  0.00  0.00      PROA    \nATOM    782  CA  ASN P  54      -9.330  61.290  -7.030  0.00  0.00      PROA    \nATOM    783  HA  ASN P  54      -9.690  60.990  -6.050  0.00  0.00      PROA    \nATOM    784  CB  ASN P  54      -9.890  62.580  -7.590  0.00  0.00      PROA    \nATOM    785  HB1 ASN P  54      -9.520  63.360  -6.900  0.00  0.00      PROA    \nATOM    786  HB2 ASN P  54      -9.520  62.730  -8.620  0.00  0.00      PROA    \nATOM    787  CG  ASN P  54     -11.410  62.340  -7.450  0.00  0.00      PROA    \nATOM    788  OD1 ASN P  54     -12.030  62.010  -6.410  0.00  0.00      PROA    \nATOM    789  ND2 ASN P  54     -12.160  62.690  -8.540  0.00  0.00      PROA    \nATOM    790 HD21 ASN P  54     -13.140  62.510  -8.590  0.00  0.00      PROA    \nATOM    791 HD22 ASN P  54     -11.680  63.130  -9.300  0.00  0.00      PROA    \nATOM    792  C   ASN P  54      -9.390  60.050  -7.920  0.00  0.00      PROA    \nATOM    793  O   ASN P  54     -10.120  59.120  -7.560  0.00  0.00      PROA    \nATOM    794  N   LYS P  55      -8.630  60.050  -9.050  0.00  0.00      PROA    \nATOM    795  HN  LYS P  55      -8.110  60.880  -9.210  0.00  0.00      PROA    \nATOM    796  CA  LYS P  55      -8.560  58.980 -10.000  0.00  0.00      PROA    \nATOM    797  HA  LYS P  55      -9.590  58.940 -10.300  0.00  0.00      PROA    \nATOM    798  CB  LYS P  55      -7.510  59.450 -11.020  0.00  0.00      PROA    \nATOM    799  HB1 LYS P  55      -7.730  60.440 -11.470  0.00  0.00      PROA    \nATOM    800  HB2 LYS P  55      -6.540  59.640 -10.520  0.00  0.00      PROA    \nATOM    801  CG  LYS P  55      -7.080  58.500 -12.200  0.00  0.00      PROA    \nATOM    802  HG1 LYS P  55      -8.040  58.090 -12.570  0.00  0.00      PROA    \nATOM    803  HG2 LYS P  55      -6.530  59.150 -12.900  0.00  0.00      PROA    \nATOM    804  CD  LYS P  55      -6.250  57.240 -11.880  0.00  0.00      PROA    \nATOM    805  HD1 LYS P  55      -5.340  57.500 -11.300  0.00  0.00      PROA    \nATOM    806  HD2 LYS P  55      -6.780  56.470 -11.280  0.00  0.00      PROA    \nATOM    807  CE  LYS P  55      -5.470  56.450 -13.040  0.00  0.00      PROA    \nATOM    808  HE1 LYS P  55      -5.000  57.060 -13.840  0.00  0.00      PROA    \nATOM    809  HE2 LYS P  55      -4.720  55.860 -12.460  0.00  0.00      PROA    \nATOM    810  NZ  LYS P  55      -6.450  55.660 -13.800  0.00  0.00      PROA    \nATOM    811  HZ1 LYS P  55      -7.050  55.130 -13.140  0.00  0.00      PROA    \nATOM    812  HZ2 LYS P  55      -6.990  56.380 -14.330  0.00  0.00      PROA    \nATOM    813  HZ3 LYS P  55      -5.940  55.090 -14.500  0.00  0.00      PROA    \nATOM    814  C   LYS P  55      -8.070  57.630  -9.410  0.00  0.00      PROA    \nATOM    815  O   LYS P  55      -8.720  56.620  -9.700  0.00  0.00      PROA    \nATOM    816  N   ALA P  56      -7.060  57.620  -8.550  0.00  0.00      PROA    \nATOM    817  HN  ALA P  56      -6.520  58.400  -8.240  0.00  0.00      PROA    \nATOM    818  CA  ALA P  56      -6.500  56.490  -7.930  0.00  0.00      PROA    \nATOM    819  HA  ALA P  56      -6.350  55.670  -8.620  0.00  0.00      PROA    \nATOM    820  CB  ALA P  56      -5.150  56.950  -7.310  0.00  0.00      PROA    \nATOM    821  HB1 ALA P  56      -5.330  57.880  -6.720  0.00  0.00      PROA    \nATOM    822  HB2 ALA P  56      -4.760  56.200  -6.600  0.00  0.00      PROA    \nATOM    823  HB3 ALA P  56      -4.330  57.110  -8.040  0.00  0.00      PROA    \nATOM    824  C   ALA P  56      -7.380  55.910  -6.740  0.00  0.00      PROA    \nATOM    825  O   ALA P  56      -7.190  54.850  -6.220  0.00  0.00      PROA    \nATOM    826  N   THR P  57      -8.400  56.800  -6.370  0.00  0.00      PROA    \nATOM    827  HN  THR P  57      -8.500  57.680  -6.840  0.00  0.00      PROA    \nATOM    828  CA  THR P  57      -9.420  56.320  -5.410  0.00  0.00      PROA    \nATOM    829  HA  THR P  57      -9.190  55.400  -4.900  0.00  0.00      PROA    \nATOM    830  CB  THR P  57      -9.540  57.270  -4.210  0.00  0.00      PROA    \nATOM    831  HB  THR P  57     -10.370  56.900  -3.570  0.00  0.00      PROA    \nATOM    832  OG1 THR P  57      -9.950  58.640  -4.530  0.00  0.00      PROA    \nATOM    833  HG1 THR P  57      -9.140  59.120  -4.720  0.00  0.00      PROA    \nATOM    834  CG2 THR P  57      -8.260  57.360  -3.340  0.00  0.00      PROA    \nATOM    835 HG21 THR P  57      -7.900  56.410  -2.880  0.00  0.00      PROA    \nATOM    836 HG22 THR P  57      -7.460  57.840  -3.940  0.00  0.00      PROA    \nATOM    837 HG23 THR P  57      -8.490  58.000  -2.460  0.00  0.00      PROA    \nATOM    838  C   THR P  57     -10.700  56.080  -6.080  0.00  0.00      PROA    \nATOM    839  O   THR P  57     -11.720  55.870  -5.430  0.00  0.00      PROA    \nATOM    840  N   ASN P  58     -10.820  56.200  -7.410  0.00  0.00      PROA    \nATOM    841  HN  ASN P  58     -10.030  56.290  -8.020  0.00  0.00      PROA    \nATOM    842  CA  ASN P  58     -11.990  55.940  -8.150  0.00  0.00      PROA    \nATOM    843  HA  ASN P  58     -11.820  56.040  -9.210  0.00  0.00      PROA    \nATOM    844  CB  ASN P  58     -12.440  54.450  -7.910  0.00  0.00      PROA    \nATOM    845  HB1 ASN P  58     -12.810  54.250  -6.880  0.00  0.00      PROA    \nATOM    846  HB2 ASN P  58     -13.160  54.240  -8.720  0.00  0.00      PROA    \nATOM    847  CG  ASN P  58     -11.270  53.430  -8.100  0.00  0.00      PROA    \nATOM    848  OD1 ASN P  58     -10.570  52.990  -7.180  0.00  0.00      PROA    \nATOM    849  ND2 ASN P  58     -11.030  52.960  -9.360  0.00  0.00      PROA    \nATOM    850 HD21 ASN P  58     -11.630  52.980 -10.150  0.00  0.00      PROA    \nATOM    851 HD22 ASN P  58     -10.090  52.750  -9.650  0.00  0.00      PROA    \nATOM    852  C   ASN P  58     -13.160  57.020  -7.900  0.00  0.00      PROA    \nATOM    853  O   ASN P  58     -14.340  56.670  -7.960  0.00  0.00      PROA    \nATOM    854  N   ASN P  59     -12.820  58.270  -7.610  0.00  0.00      PROA    \nATOM    855  HN  ASN P  59     -11.880  58.520  -7.430  0.00  0.00      PROA    \nATOM    856  CA  ASN P  59     -13.690  59.390  -7.290  0.00  0.00      PROA    \nATOM    857  HA  ASN P  59     -13.050  60.260  -7.400  0.00  0.00      PROA    \nATOM    858  CB  ASN P  59     -14.820  59.420  -8.460  0.00  0.00      PROA    \nATOM    859  HB1 ASN P  59     -14.280  59.110  -9.380  0.00  0.00      PROA    \nATOM    860  HB2 ASN P  59     -15.690  58.740  -8.330  0.00  0.00      PROA    \nATOM    861  CG  ASN P  59     -15.330  60.830  -8.710  0.00  0.00      PROA    \nATOM    862  OD1 ASN P  59     -14.690  61.710  -9.320  0.00  0.00      PROA    \nATOM    863  ND2 ASN P  59     -16.630  61.030  -8.340  0.00  0.00      PROA    \nATOM    864 HD21 ASN P  59     -17.180  61.670  -8.890  0.00  0.00      PROA    \nATOM    865 HD22 ASN P  59     -17.050  60.220  -7.940  0.00  0.00      PROA    \nATOM    866  C   ASN P  59     -14.230  59.460  -5.810  0.00  0.00      PROA    \nATOM    867  O   ASN P  59     -15.090  60.230  -5.490  0.00  0.00      PROA    \nATOM    868  N   ALA P  60     -13.640  58.720  -4.920  0.00  0.00      PROA    \nATOM    869  HN  ALA P  60     -13.020  58.050  -5.310  0.00  0.00      PROA    \nATOM    870  CA  ALA P  60     -13.950  58.530  -3.540  0.00  0.00      PROA    \nATOM    871  HA  ALA P  60     -14.980  58.210  -3.550  0.00  0.00      PROA    \nATOM    872  CB  ALA P  60     -13.140  57.410  -2.790  0.00  0.00      PROA    \nATOM    873  HB1 ALA P  60     -13.370  56.430  -3.250  0.00  0.00      PROA    \nATOM    874  HB2 ALA P  60     -12.040  57.600  -2.750  0.00  0.00      PROA    \nATOM    875  HB3 ALA P  60     -13.550  57.380  -1.760  0.00  0.00      PROA    \nATOM    876  C   ALA P  60     -13.740  59.840  -2.830  0.00  0.00      PROA    \nATOM    877  O   ALA P  60     -14.690  60.240  -2.130  0.00  0.00      PROA    \nATOM    878  N   MET P  61     -12.520  60.410  -2.840  0.00  0.00      PROA    \nATOM    879  HN  MET P  61     -11.740  60.070  -3.350  0.00  0.00      PROA    \nATOM    880  CA  MET P  61     -12.160  61.730  -2.180  0.00  0.00      PROA    \nATOM    881  HA  MET P  61     -12.160  61.570  -1.110  0.00  0.00      PROA    \nATOM    882  CB  MET P  61     -10.730  62.370  -2.390  0.00  0.00      PROA    \nATOM    883  HB1 MET P  61     -10.690  62.630  -3.470  0.00  0.00      PROA    \nATOM    884  HB2 MET P  61     -10.540  63.260  -1.740  0.00  0.00      PROA    \nATOM    885  CG  MET P  61      -9.500  61.410  -2.190  0.00  0.00      PROA    \nATOM    886  HG1 MET P  61      -9.670  60.480  -2.780  0.00  0.00      PROA    \nATOM    887  HG2 MET P  61      -8.630  61.760  -2.780  0.00  0.00      PROA    \nATOM    888  SD  MET P  61      -8.920  60.880  -0.540  0.00  0.00      PROA    \nATOM    889  CE  MET P  61      -7.150  60.730  -0.920  0.00  0.00      PROA    \nATOM    890  HE1 MET P  61      -6.530  60.370  -0.070  0.00  0.00      PROA    \nATOM    891  HE2 MET P  61      -7.040  60.000  -1.750  0.00  0.00      PROA    \nATOM    892  HE3 MET P  61      -6.750  61.670  -1.360  0.00  0.00      PROA    \nATOM    893  C   MET P  61     -13.160  62.820  -2.470  0.00  0.00      PROA    \nATOM    894  O   MET P  61     -13.610  63.610  -1.620  0.00  0.00      PROA    \nATOM    895  N   GLN P  62     -13.630  62.960  -3.810  0.00  0.00      PROA    \nATOM    896  HN  GLN P  62     -13.210  62.440  -4.550  0.00  0.00      PROA    \nATOM    897  CA  GLN P  62     -14.710  63.870  -4.130  0.00  0.00      PROA    \nATOM    898  HA  GLN P  62     -14.470  64.890  -3.850  0.00  0.00      PROA    \nATOM    899  CB  GLN P  62     -14.790  63.990  -5.700  0.00  0.00      PROA    \nATOM    900  HB1 GLN P  62     -13.780  64.250  -6.070  0.00  0.00      PROA    \nATOM    901  HB2 GLN P  62     -14.910  62.990  -6.180  0.00  0.00      PROA    \nATOM    902  CG  GLN P  62     -15.790  64.990  -6.410  0.00  0.00      PROA    \nATOM    903  HG1 GLN P  62     -15.390  64.950  -7.450  0.00  0.00      PROA    \nATOM    904  HG2 GLN P  62     -16.840  64.630  -6.370  0.00  0.00      PROA    \nATOM    905  CD  GLN P  62     -15.640  66.460  -5.860  0.00  0.00      PROA    \nATOM    906  OE1 GLN P  62     -14.630  67.130  -6.170  0.00  0.00      PROA    \nATOM    907  NE2 GLN P  62     -16.590  66.910  -5.030  0.00  0.00      PROA    \nATOM    908 HE21 GLN P  62     -16.370  67.720  -4.480  0.00  0.00      PROA    \nATOM    909 HE22 GLN P  62     -17.320  66.310  -4.710  0.00  0.00      PROA    \nATOM    910  C   GLN P  62     -16.140  63.640  -3.540  0.00  0.00      PROA    \nATOM    911  O   GLN P  62     -16.620  64.650  -2.990  0.00  0.00      PROA    \nATOM    912  N   VAL P  63     -16.640  62.410  -3.470  0.00  0.00      PROA    \nATOM    913  HN  VAL P  63     -16.130  61.670  -3.910  0.00  0.00      PROA    \nATOM    914  CA  VAL P  63     -17.840  62.110  -2.620  0.00  0.00      PROA    \nATOM    915  HA  VAL P  63     -18.610  62.790  -2.970  0.00  0.00      PROA    \nATOM    916  CB  VAL P  63     -18.190  60.600  -2.980  0.00  0.00      PROA    \nATOM    917  HB  VAL P  63     -17.250  60.000  -2.970  0.00  0.00      PROA    \nATOM    918  CG1 VAL P  63     -19.220  60.110  -1.920  0.00  0.00      PROA    \nATOM    919 HG11 VAL P  63     -20.060  60.750  -1.570  0.00  0.00      PROA    \nATOM    920 HG12 VAL P  63     -19.700  59.200  -2.330  0.00  0.00      PROA    \nATOM    921 HG13 VAL P  63     -18.710  59.860  -0.960  0.00  0.00      PROA    \nATOM    922  CG2 VAL P  63     -18.750  60.420  -4.340  0.00  0.00      PROA    \nATOM    923 HG21 VAL P  63     -18.990  59.350  -4.560  0.00  0.00      PROA    \nATOM    924 HG22 VAL P  63     -19.650  61.070  -4.440  0.00  0.00      PROA    \nATOM    925 HG23 VAL P  63     -18.000  60.650  -5.130  0.00  0.00      PROA    \nATOM    926  C   VAL P  63     -17.640  62.360  -1.150  0.00  0.00      PROA    \nATOM    927  O   VAL P  63     -18.580  62.840  -0.460  0.00  0.00      PROA    \nATOM    928  N   GLU P  64     -16.480  62.100  -0.510  0.00  0.00      PROA    \nATOM    929  HN  GLU P  64     -15.900  61.440  -0.980  0.00  0.00      PROA    \nATOM    930  CA  GLU P  64     -16.270  62.420   0.960  0.00  0.00      PROA    \nATOM    931  HA  GLU P  64     -17.180  62.010   1.360  0.00  0.00      PROA    \nATOM    932  CB  GLU P  64     -15.060  61.600   1.400  0.00  0.00      PROA    \nATOM    933  HB1 GLU P  64     -15.330  60.600   1.010  0.00  0.00      PROA    \nATOM    934  HB2 GLU P  64     -14.180  61.930   0.810  0.00  0.00      PROA    \nATOM    935  CG  GLU P  64     -14.800  61.530   2.890  0.00  0.00      PROA    \nATOM    936  HG1 GLU P  64     -13.900  60.920   3.130  0.00  0.00      PROA    \nATOM    937  HG2 GLU P  64     -14.570  62.550   3.250  0.00  0.00      PROA    \nATOM    938  CD  GLU P  64     -16.000  61.010   3.730  0.00  0.00      PROA    \nATOM    939  OE1 GLU P  64     -16.470  59.920   3.600  0.00  0.00      PROA    \nATOM    940  OE2 GLU P  64     -16.290  61.740   4.770  0.00  0.00      PROA    \nATOM    941  C   GLU P  64     -16.260  63.970   1.220  0.00  0.00      PROA    \nATOM    942  O   GLU P  64     -16.940  64.520   2.140  0.00  0.00      PROA    \nATOM    943  N   SER P  65     -15.560  64.750   0.350  0.00  0.00      PROA    \nATOM    944  HN  SER P  65     -14.990  64.360  -0.370  0.00  0.00      PROA    \nATOM    945  CA  SER P  65     -15.400  66.240   0.510  0.00  0.00      PROA    \nATOM    946  HA  SER P  65     -15.340  66.430   1.570  0.00  0.00      PROA    \nATOM    947  CB  SER P  65     -14.140  66.880  -0.280  0.00  0.00      PROA    \nATOM    948  HB1 SER P  65     -14.210  67.980  -0.390  0.00  0.00      PROA    \nATOM    949  HB2 SER P  65     -13.190  66.670   0.260  0.00  0.00      PROA    \nATOM    950  OG  SER P  65     -14.010  66.400  -1.590  0.00  0.00      PROA    \nATOM    951  HG1 SER P  65     -13.940  65.450  -1.500  0.00  0.00      PROA    \nATOM    952  C   SER P  65     -16.600  67.000   0.170  0.00  0.00      PROA    \nATOM    953  O   SER P  65     -16.920  68.120   0.640  0.00  0.00      PROA    \nATOM    954  N   ASP P  66     -17.480  66.490  -0.710  0.00  0.00      PROA    \nATOM    955  HN  ASP P  66     -17.280  65.630  -1.190  0.00  0.00      PROA    \nATOM    956  CA  ASP P  66     -18.770  66.980  -0.990  0.00  0.00      PROA    \nATOM    957  HA  ASP P  66     -18.530  67.990  -1.260  0.00  0.00      PROA    \nATOM    958  CB  ASP P  66     -19.460  66.320  -2.170  0.00  0.00      PROA    \nATOM    959  HB1 ASP P  66     -18.690  66.380  -2.970  0.00  0.00      PROA    \nATOM    960  HB2 ASP P  66     -19.940  65.340  -2.000  0.00  0.00      PROA    \nATOM    961  CG  ASP P  66     -20.580  67.210  -2.740  0.00  0.00      PROA    \nATOM    962  OD1 ASP P  66     -20.490  68.410  -2.960  0.00  0.00      PROA    \nATOM    963  OD2 ASP P  66     -21.650  66.570  -2.970  0.00  0.00      PROA    \nATOM    964  C   ASP P  66     -19.710  67.010   0.250  0.00  0.00      PROA    \nATOM    965  O   ASP P  66     -20.440  67.950   0.610  0.00  0.00      PROA    \nATOM    966  N   ASP P  67     -19.660  65.990   1.090  0.00  0.00      PROA    \nATOM    967  HN  ASP P  67     -19.230  65.130   0.850  0.00  0.00      PROA    \nATOM    968  CA  ASP P  67     -20.280  66.060   2.380  0.00  0.00      PROA    \nATOM    969  HA  ASP P  67     -21.340  66.220   2.320  0.00  0.00      PROA    \nATOM    970  CB  ASP P  67     -20.140  64.570   2.950  0.00  0.00      PROA    \nATOM    971  HB1 ASP P  67     -20.330  63.840   2.130  0.00  0.00      PROA    \nATOM    972  HB2 ASP P  67     -19.080  64.410   3.220  0.00  0.00      PROA    \nATOM    973  CG  ASP P  67     -21.040  64.170   4.080  0.00  0.00      PROA    \nATOM    974  OD1 ASP P  67     -22.260  64.230   3.860  0.00  0.00      PROA    \nATOM    975  OD2 ASP P  67     -20.520  63.690   5.140  0.00  0.00      PROA    \nATOM    976  C   ASP P  67     -19.790  67.130   3.360  0.00  0.00      PROA    \nATOM    977  O   ASP P  67     -20.650  67.750   4.000  0.00  0.00      PROA    \nATOM    978  N   TYR P  68     -18.440  67.400   3.450  0.00  0.00      PROA    \nATOM    979  HN  TYR P  68     -17.790  66.830   2.960  0.00  0.00      PROA    \nATOM    980  CA  TYR P  68     -17.970  68.640   4.070  0.00  0.00      PROA    \nATOM    981  HA  TYR P  68     -18.230  68.750   5.110  0.00  0.00      PROA    \nATOM    982  CB  TYR P  68     -16.370  68.680   4.070  0.00  0.00      PROA    \nATOM    983  HB1 TYR P  68     -16.040  67.650   4.320  0.00  0.00      PROA    \nATOM    984  HB2 TYR P  68     -15.950  68.800   3.050  0.00  0.00      PROA    \nATOM    985  CG  TYR P  68     -15.750  69.800   4.900  0.00  0.00      PROA    \nATOM    986  CD1 TYR P  68     -15.480  69.690   6.220  0.00  0.00      PROA    \nATOM    987  HD1 TYR P  68     -15.730  68.800   6.780  0.00  0.00      PROA    \nATOM    988  CE1 TYR P  68     -15.070  70.810   7.000  0.00  0.00      PROA    \nATOM    989  HE1 TYR P  68     -15.050  70.750   8.080  0.00  0.00      PROA    \nATOM    990  CZ  TYR P  68     -14.960  72.030   6.390  0.00  0.00      PROA    \nATOM    991  OH  TYR P  68     -14.790  73.160   7.170  0.00  0.00      PROA    \nATOM    992  HH  TYR P  68     -14.840  73.990   6.680  0.00  0.00      PROA    \nATOM    993  CD2 TYR P  68     -15.530  71.040   4.210  0.00  0.00      PROA    \nATOM    994  HD2 TYR P  68     -15.800  71.100   3.160  0.00  0.00      PROA    \nATOM    995  CE2 TYR P  68     -15.150  72.150   4.950  0.00  0.00      PROA    \nATOM    996  HE2 TYR P  68     -15.030  73.080   4.410  0.00  0.00      PROA    \nATOM    997  C   TYR P  68     -18.530  69.980   3.440  0.00  0.00      PROA    \nATOM    998  O   TYR P  68     -18.970  70.820   4.200  0.00  0.00      PROA    \nATOM    999  N   ILE P  69     -18.680  70.100   2.130  0.00  0.00      PROA    \nATOM   1000  HN  ILE P  69     -18.300  69.420   1.500  0.00  0.00      PROA    \nATOM   1001  CA  ILE P  69     -19.320  71.250   1.440  0.00  0.00      PROA    \nATOM   1002  HA  ILE P  69     -18.920  72.130   1.910  0.00  0.00      PROA    \nATOM   1003  CB  ILE P  69     -18.950  71.130  -0.040  0.00  0.00      PROA    \nATOM   1004  HB  ILE P  69     -19.080  70.070  -0.360  0.00  0.00      PROA    \nATOM   1005  CG2 ILE P  69     -19.850  72.020  -1.000  0.00  0.00      PROA    \nATOM   1006 HG21 ILE P  69     -19.500  73.070  -1.050  0.00  0.00      PROA    \nATOM   1007 HG22 ILE P  69     -19.710  71.550  -1.990  0.00  0.00      PROA    \nATOM   1008 HG23 ILE P  69     -20.940  71.950  -0.790  0.00  0.00      PROA    \nATOM   1009  CG1 ILE P  69     -17.450  71.400  -0.260  0.00  0.00      PROA    \nATOM   1010 HG11 ILE P  69     -16.800  71.060   0.580  0.00  0.00      PROA    \nATOM   1011 HG12 ILE P  69     -17.100  70.800  -1.130  0.00  0.00      PROA    \nATOM   1012  CD  ILE P  69     -17.010  72.880  -0.460  0.00  0.00      PROA    \nATOM   1013  HD1 ILE P  69     -17.540  73.430   0.350  0.00  0.00      PROA    \nATOM   1014  HD2 ILE P  69     -15.920  73.040  -0.390  0.00  0.00      PROA    \nATOM   1015  HD3 ILE P  69     -17.390  73.350  -1.390  0.00  0.00      PROA    \nATOM   1016  C   ILE P  69     -20.770  71.410   1.820  0.00  0.00      PROA    \nATOM   1017  O   ILE P  69     -21.160  72.570   2.140  0.00  0.00      PROA    \nATOM   1018  N   ALA P  70     -21.580  70.280   1.900  0.00  0.00      PROA    \nATOM   1019  HN  ALA P  70     -21.210  69.440   1.530  0.00  0.00      PROA    \nATOM   1020  CA  ALA P  70     -22.960  70.270   2.470  0.00  0.00      PROA    \nATOM   1021  HA  ALA P  70     -23.590  70.960   1.930  0.00  0.00      PROA    \nATOM   1022  CB  ALA P  70     -23.460  68.800   2.190  0.00  0.00      PROA    \nATOM   1023  HB1 ALA P  70     -22.930  68.090   2.860  0.00  0.00      PROA    \nATOM   1024  HB2 ALA P  70     -24.550  68.780   2.390  0.00  0.00      PROA    \nATOM   1025  HB3 ALA P  70     -23.330  68.580   1.110  0.00  0.00      PROA    \nATOM   1026  C   ALA P  70     -23.020  70.620   3.930  0.00  0.00      PROA    \nATOM   1027  O   ALA P  70     -23.880  71.410   4.360  0.00  0.00      PROA    \nATOM   1028  N   THR P  71     -22.090  70.030   4.710  0.00  0.00      PROA    \nATOM   1029  HN  THR P  71     -21.410  69.480   4.230  0.00  0.00      PROA    \nATOM   1030  CA  THR P  71     -21.940  70.130   6.160  0.00  0.00      PROA    \nATOM   1031  HA  THR P  71     -22.840  69.920   6.720  0.00  0.00      PROA    \nATOM   1032  CB  THR P  71     -21.100  69.060   6.760  0.00  0.00      PROA    \nATOM   1033  HB  THR P  71     -20.050  69.090   6.410  0.00  0.00      PROA    \nATOM   1034  OG1 THR P  71     -21.710  67.800   6.400  0.00  0.00      PROA    \nATOM   1035  HG1 THR P  71     -21.700  67.620   5.460  0.00  0.00      PROA    \nATOM   1036  CG2 THR P  71     -21.300  69.150   8.330  0.00  0.00      PROA    \nATOM   1037 HG21 THR P  71     -20.740  68.290   8.760  0.00  0.00      PROA    \nATOM   1038 HG22 THR P  71     -20.950  70.120   8.750  0.00  0.00      PROA    \nATOM   1039 HG23 THR P  71     -22.340  68.930   8.630  0.00  0.00      PROA    \nATOM   1040  C   THR P  71     -21.540  71.480   6.630  0.00  0.00      PROA    \nATOM   1041  O   THR P  71     -22.100  72.070   7.610  0.00  0.00      PROA    \nATOM   1042  N   ASN P  72     -20.470  72.120   6.010  0.00  0.00      PROA    \nATOM   1043  HN  ASN P  72     -19.930  71.690   5.290  0.00  0.00      PROA    \nATOM   1044  CA  ASN P  72     -19.890  73.320   6.620  0.00  0.00      PROA    \nATOM   1045  HA  ASN P  72     -20.520  73.810   7.350  0.00  0.00      PROA    \nATOM   1046  CB  ASN P  72     -18.510  72.780   7.130  0.00  0.00      PROA    \nATOM   1047  HB1 ASN P  72     -18.050  72.080   6.400  0.00  0.00      PROA    \nATOM   1048  HB2 ASN P  72     -17.870  73.620   7.460  0.00  0.00      PROA    \nATOM   1049  CG  ASN P  72     -18.820  71.900   8.400  0.00  0.00      PROA    \nATOM   1050  OD1 ASN P  72     -18.690  70.660   8.400  0.00  0.00      PROA    \nATOM   1051  ND2 ASN P  72     -19.180  72.550   9.510  0.00  0.00      PROA    \nATOM   1052 HD21 ASN P  72     -19.460  72.060  10.340  0.00  0.00      PROA    \nATOM   1053 HD22 ASN P  72     -19.080  73.540   9.540  0.00  0.00      PROA    \nATOM   1054  C   ASN P  72     -19.470  74.380   5.510  0.00  0.00      PROA    \nATOM   1055  O   ASN P  72     -18.860  75.400   5.800  0.00  0.00      PROA    \nATOM   1056  N   GLY P  73     -19.760  74.120   4.220  0.00  0.00      PROA    \nATOM   1057  HN  GLY P  73     -20.230  73.270   4.000  0.00  0.00      PROA    \nATOM   1058  CA  GLY P  73     -19.420  74.990   3.070  0.00  0.00      PROA    \nATOM   1059  HA1 GLY P  73     -19.760  75.990   3.290  0.00  0.00      PROA    \nATOM   1060  HA2 GLY P  73     -20.010  74.660   2.240  0.00  0.00      PROA    \nATOM   1061  C   GLY P  73     -17.910  75.150   2.670  0.00  0.00      PROA    \nATOM   1062  O   GLY P  73     -16.960  74.530   3.210  0.00  0.00      PROA    \nATOM   1063  N   PRO P  74     -17.730  76.030   1.720  0.00  0.00      PROA    \nATOM   1064  CD  PRO P  74     -18.710  76.760   0.980  0.00  0.00      PROA    \nATOM   1065  HD1 PRO P  74     -19.670  76.200   0.910  0.00  0.00      PROA    \nATOM   1066  HD2 PRO P  74     -19.000  77.710   1.470  0.00  0.00      PROA    \nATOM   1067  CA  PRO P  74     -16.410  76.450   1.250  0.00  0.00      PROA    \nATOM   1068  HA  PRO P  74     -15.880  75.550   0.970  0.00  0.00      PROA    \nATOM   1069  CB  PRO P  74     -16.680  77.440   0.100  0.00  0.00      PROA    \nATOM   1070  HB1 PRO P  74     -15.970  77.200  -0.720  0.00  0.00      PROA    \nATOM   1071  HB2 PRO P  74     -16.440  78.470   0.430  0.00  0.00      PROA    \nATOM   1072  CG  PRO P  74     -18.120  77.090  -0.340  0.00  0.00      PROA    \nATOM   1073  HG1 PRO P  74     -18.570  78.000  -0.790  0.00  0.00      PROA    \nATOM   1074  HG2 PRO P  74     -18.260  76.150  -0.920  0.00  0.00      PROA    \nATOM   1075  C   PRO P  74     -15.530  76.890   2.360  0.00  0.00      PROA    \nATOM   1076  O   PRO P  74     -15.970  77.340   3.420  0.00  0.00      PROA    \nATOM   1077  N   LEU P  75     -14.270  76.470   2.270  0.00  0.00      PROA    \nATOM   1078  HN  LEU P  75     -14.090  76.090   1.370  0.00  0.00      PROA    \nATOM   1079  CA  LEU P  75     -13.200  76.650   3.250  0.00  0.00      PROA    \nATOM   1080  HA  LEU P  75     -13.770  76.520   4.160  0.00  0.00      PROA    \nATOM   1081  CB  LEU P  75     -11.940  75.720   3.100  0.00  0.00      PROA    \nATOM   1082  HB1 LEU P  75     -11.650  75.610   2.030  0.00  0.00      PROA    \nATOM   1083  HB2 LEU P  75     -11.160  76.090   3.790  0.00  0.00      PROA    \nATOM   1084  CG  LEU P  75     -12.190  74.220   3.570  0.00  0.00      PROA    \nATOM   1085  HG  LEU P  75     -13.010  73.720   3.020  0.00  0.00      PROA    \nATOM   1086  CD1 LEU P  75     -10.920  73.500   3.550  0.00  0.00      PROA    \nATOM   1087 HD11 LEU P  75     -10.340  73.500   2.600  0.00  0.00      PROA    \nATOM   1088 HD12 LEU P  75     -10.200  73.940   4.260  0.00  0.00      PROA    \nATOM   1089 HD13 LEU P  75     -11.090  72.500   4.010  0.00  0.00      PROA    \nATOM   1090  CD2 LEU P  75     -12.480  74.210   5.110  0.00  0.00      PROA    \nATOM   1091 HD21 LEU P  75     -11.860  74.900   5.720  0.00  0.00      PROA    \nATOM   1092 HD22 LEU P  75     -13.510  74.570   5.330  0.00  0.00      PROA    \nATOM   1093 HD23 LEU P  75     -12.450  73.180   5.520  0.00  0.00      PROA    \nATOM   1094  C   LEU P  75     -12.710  78.080   3.030  0.00  0.00      PROA    \nATOM   1095  O   LEU P  75     -12.880  78.740   2.000  0.00  0.00      PROA    \nATOM   1096  N   LYS P  76     -12.020  78.680   3.990  0.00  0.00      PROA    \nATOM   1097  HN  LYS P  76     -11.960  78.250   4.890  0.00  0.00      PROA    \nATOM   1098  CA  LYS P  76     -11.270  79.860   3.830  0.00  0.00      PROA    \nATOM   1099  HA  LYS P  76     -11.800  80.630   3.280  0.00  0.00      PROA    \nATOM   1100  CB  LYS P  76     -11.180  80.650   5.140  0.00  0.00      PROA    \nATOM   1101  HB1 LYS P  76     -11.050  79.930   5.970  0.00  0.00      PROA    \nATOM   1102  HB2 LYS P  76     -10.260  81.270   5.190  0.00  0.00      PROA    \nATOM   1103  CG  LYS P  76     -12.410  81.520   5.560  0.00  0.00      PROA    \nATOM   1104  HG1 LYS P  76     -12.160  82.160   6.430  0.00  0.00      PROA    \nATOM   1105  HG2 LYS P  76     -12.780  82.130   4.720  0.00  0.00      PROA    \nATOM   1106  CD  LYS P  76     -13.520  80.630   6.110  0.00  0.00      PROA    \nATOM   1107  HD1 LYS P  76     -13.800  79.900   5.320  0.00  0.00      PROA    \nATOM   1108  HD2 LYS P  76     -13.110  80.010   6.940  0.00  0.00      PROA    \nATOM   1109  CE  LYS P  76     -14.840  81.290   6.470  0.00  0.00      PROA    \nATOM   1110  HE1 LYS P  76     -14.650  82.120   7.190  0.00  0.00      PROA    \nATOM   1111  HE2 LYS P  76     -15.270  81.660   5.510  0.00  0.00      PROA    \nATOM   1112  NZ  LYS P  76     -15.740  80.320   7.080  0.00  0.00      PROA    \nATOM   1113  HZ1 LYS P  76     -16.640  80.770   7.330  0.00  0.00      PROA    \nATOM   1114  HZ2 LYS P  76     -15.900  79.560   6.400  0.00  0.00      PROA    \nATOM   1115  HZ3 LYS P  76     -15.350  80.000   7.990  0.00  0.00      PROA    \nATOM   1116  C   LYS P  76      -9.900  79.750   3.030  0.00  0.00      PROA    \nATOM   1117  O   LYS P  76      -9.320  78.720   2.820  0.00  0.00      PROA    \nATOM   1118  N   VAL P  77      -9.320  80.920   2.660  0.00  0.00      PROA    \nATOM   1119  HN  VAL P  77      -9.610  81.810   3.010  0.00  0.00      PROA    \nATOM   1120  CA  VAL P  77      -8.130  80.850   1.850  0.00  0.00      PROA    \nATOM   1121  HA  VAL P  77      -8.170  79.980   1.210  0.00  0.00      PROA    \nATOM   1122  CB  VAL P  77      -7.920  81.980   0.840  0.00  0.00      PROA    \nATOM   1123  HB  VAL P  77      -7.940  82.920   1.440  0.00  0.00      PROA    \nATOM   1124  CG1 VAL P  77      -6.590  81.750   0.090  0.00  0.00      PROA    \nATOM   1125 HG11 VAL P  77      -5.670  81.940   0.680  0.00  0.00      PROA    \nATOM   1126 HG12 VAL P  77      -6.520  80.690  -0.250  0.00  0.00      PROA    \nATOM   1127 HG13 VAL P  77      -6.590  82.470  -0.750  0.00  0.00      PROA    \nATOM   1128  CG2 VAL P  77      -9.160  82.050  -0.060  0.00  0.00      PROA    \nATOM   1129 HG21 VAL P  77      -9.040  82.980  -0.660  0.00  0.00      PROA    \nATOM   1130 HG22 VAL P  77      -9.190  81.130  -0.680  0.00  0.00      PROA    \nATOM   1131 HG23 VAL P  77     -10.120  82.160   0.490  0.00  0.00      PROA    \nATOM   1132  C   VAL P  77      -6.970  80.680   2.960  0.00  0.00      PROA    \nATOM   1133  O   VAL P  77      -6.740  81.420   3.900  0.00  0.00      PROA    \nATOM   1134  N   GLY P  78      -6.210  79.570   2.710  0.00  0.00      PROA    \nATOM   1135  HN  GLY P  78      -6.230  79.010   1.900  0.00  0.00      PROA    \nATOM   1136  CA  GLY P  78      -5.210  79.060   3.710  0.00  0.00      PROA    \nATOM   1137  HA1 GLY P  78      -4.820  79.880   4.290  0.00  0.00      PROA    \nATOM   1138  HA2 GLY P  78      -4.480  78.480   3.170  0.00  0.00      PROA    \nATOM   1139  C   GLY P  78      -5.850  78.150   4.790  0.00  0.00      PROA    \nATOM   1140  O   GLY P  78      -5.220  77.680   5.690  0.00  0.00      PROA    \nATOM   1141  N   GLY P  79      -7.170  77.940   4.620  0.00  0.00      PROA    \nATOM   1142  HN  GLY P  79      -7.640  78.300   3.820  0.00  0.00      PROA    \nATOM   1143  CA  GLY P  79      -8.060  76.970   5.360  0.00  0.00      PROA    \nATOM   1144  HA1 GLY P  79      -9.070  77.280   5.130  0.00  0.00      PROA    \nATOM   1145  HA2 GLY P  79      -7.870  77.210   6.400  0.00  0.00      PROA    \nATOM   1146  C   GLY P  79      -7.730  75.520   5.120  0.00  0.00      PROA    \nATOM   1147  O   GLY P  79      -6.830  75.250   4.350  0.00  0.00      PROA    \nATOM   1148  N   SER P  80      -8.420  74.630   5.920  0.00  0.00      PROA    \nATOM   1149  HN  SER P  80      -8.890  74.970   6.730  0.00  0.00      PROA    \nATOM   1150  CA  SER P  80      -8.030  73.140   5.830  0.00  0.00      PROA    \nATOM   1151  HA  SER P  80      -7.840  72.940   4.780  0.00  0.00      PROA    \nATOM   1152  CB  SER P  80      -6.750  72.760   6.620  0.00  0.00      PROA    \nATOM   1153  HB1 SER P  80      -6.360  71.720   6.610  0.00  0.00      PROA    \nATOM   1154  HB2 SER P  80      -5.940  73.330   6.130  0.00  0.00      PROA    \nATOM   1155  OG  SER P  80      -6.860  73.130   7.990  0.00  0.00      PROA    \nATOM   1156  HG1 SER P  80      -7.030  74.070   8.100  0.00  0.00      PROA    \nATOM   1157  C   SER P  80      -9.170  72.200   6.160  0.00  0.00      PROA    \nATOM   1158  O   SER P  80     -10.110  72.680   6.670  0.00  0.00      PROA    \nATOM   1159  N   CYS P  81      -9.090  70.920   5.910  0.00  0.00      PROA    \nATOM   1160  HN  CYS P  81      -8.420  70.470   5.320  0.00  0.00      PROA    \nATOM   1161  CA  CYS P  81      -9.930  69.980   6.630  0.00  0.00      PROA    \nATOM   1162  HA  CYS P  81      -9.860  70.200   7.680  0.00  0.00      PROA    \nATOM   1163  CB  CYS P  81     -11.420  69.960   6.080  0.00  0.00      PROA    \nATOM   1164  HB1 CYS P  81     -11.960  69.290   6.780  0.00  0.00      PROA    \nATOM   1165  HB2 CYS P  81     -11.820  70.990   6.230  0.00  0.00      PROA    \nATOM   1166  SG  CYS P  81     -11.500  69.560   4.320  0.00  0.00      PROA    \nATOM   1167  HG1 CYS P  81     -10.580  68.610   4.200  0.00  0.00      PROA    \nATOM   1168  C   CYS P  81      -9.290  68.640   6.570  0.00  0.00      PROA    \nATOM   1169  O   CYS P  81      -8.740  68.290   5.540  0.00  0.00      PROA    \nATOM   1170  N   VAL P  82      -9.460  67.680   7.590  0.00  0.00      PROA    \nATOM   1171  HN  VAL P  82     -10.040  67.810   8.390  0.00  0.00      PROA    \nATOM   1172  CA  VAL P  82      -8.940  66.370   7.480  0.00  0.00      PROA    \nATOM   1173  HA  VAL P  82      -8.190  66.310   6.710  0.00  0.00      PROA    \nATOM   1174  CB  VAL P  82      -8.320  65.840   8.780  0.00  0.00      PROA    \nATOM   1175  HB  VAL P  82      -9.030  65.490   9.560  0.00  0.00      PROA    \nATOM   1176  CG1 VAL P  82      -7.390  64.560   8.390  0.00  0.00      PROA    \nATOM   1177 HG11 VAL P  82      -6.660  64.350   9.190  0.00  0.00      PROA    \nATOM   1178 HG12 VAL P  82      -7.910  63.590   8.200  0.00  0.00      PROA    \nATOM   1179 HG13 VAL P  82      -6.810  64.850   7.480  0.00  0.00      PROA    \nATOM   1180  CG2 VAL P  82      -7.430  66.990   9.230  0.00  0.00      PROA    \nATOM   1181 HG21 VAL P  82      -6.550  67.190   8.590  0.00  0.00      PROA    \nATOM   1182 HG22 VAL P  82      -7.880  67.970   9.510  0.00  0.00      PROA    \nATOM   1183 HG23 VAL P  82      -6.910  66.650  10.150  0.00  0.00      PROA    \nATOM   1184  C   VAL P  82     -10.110  65.380   7.200  0.00  0.00      PROA    \nATOM   1185  O   VAL P  82     -11.130  65.390   7.920  0.00  0.00      PROA    \nATOM   1186  N   LEU P  83     -10.030  64.550   6.170  0.00  0.00      PROA    \nATOM   1187  HN  LEU P  83      -9.250  64.400   5.570  0.00  0.00      PROA    \nATOM   1188  CA  LEU P  83     -11.070  63.600   5.840  0.00  0.00      PROA    \nATOM   1189  HA  LEU P  83     -11.800  63.520   6.640  0.00  0.00      PROA    \nATOM   1190  CB  LEU P  83     -11.960  64.040   4.610  0.00  0.00      PROA    \nATOM   1191  HB1 LEU P  83     -11.500  64.010   3.600  0.00  0.00      PROA    \nATOM   1192  HB2 LEU P  83     -12.840  63.380   4.480  0.00  0.00      PROA    \nATOM   1193  CG  LEU P  83     -12.550  65.500   4.690  0.00  0.00      PROA    \nATOM   1194  HG  LEU P  83     -11.780  66.160   5.150  0.00  0.00      PROA    \nATOM   1195  CD1 LEU P  83     -12.960  66.140   3.360  0.00  0.00      PROA    \nATOM   1196 HD11 LEU P  83     -13.540  67.050   3.640  0.00  0.00      PROA    \nATOM   1197 HD12 LEU P  83     -12.100  66.320   2.680  0.00  0.00      PROA    \nATOM   1198 HD13 LEU P  83     -13.520  65.380   2.770  0.00  0.00      PROA    \nATOM   1199  CD2 LEU P  83     -13.700  65.540   5.760  0.00  0.00      PROA    \nATOM   1200 HD21 LEU P  83     -13.230  65.190   6.700  0.00  0.00      PROA    \nATOM   1201 HD22 LEU P  83     -14.210  66.500   6.000  0.00  0.00      PROA    \nATOM   1202 HD23 LEU P  83     -14.430  64.740   5.540  0.00  0.00      PROA    \nATOM   1203  C   LEU P  83     -10.480  62.260   5.630  0.00  0.00      PROA    \nATOM   1204  O   LEU P  83      -9.320  62.040   5.700  0.00  0.00      PROA    \nATOM   1205  N   SER P  84     -11.350  61.170   5.450  0.00  0.00      PROA    \nATOM   1206  HN  SER P  84     -12.350  61.160   5.500  0.00  0.00      PROA    \nATOM   1207  CA  SER P  84     -10.910  59.900   4.960  0.00  0.00      PROA    \nATOM   1208  HA  SER P  84     -10.410  59.490   5.830  0.00  0.00      PROA    \nATOM   1209  CB  SER P  84     -12.140  59.070   4.620  0.00  0.00      PROA    \nATOM   1210  HB1 SER P  84     -12.890  58.980   5.430  0.00  0.00      PROA    \nATOM   1211  HB2 SER P  84     -12.640  59.390   3.680  0.00  0.00      PROA    \nATOM   1212  OG  SER P  84     -11.900  57.630   4.270  0.00  0.00      PROA    \nATOM   1213  HG1 SER P  84     -12.790  57.310   4.090  0.00  0.00      PROA    \nATOM   1214  C   SER P  84      -9.840  59.790   3.880  0.00  0.00      PROA    \nATOM   1215  O   SER P  84      -9.920  60.400   2.800  0.00  0.00      PROA    \nATOM   1216  N   GLY P  85      -8.850  58.910   4.120  0.00  0.00      PROA    \nATOM   1217  HN  GLY P  85      -8.850  58.410   4.980  0.00  0.00      PROA    \nATOM   1218  CA  GLY P  85      -7.940  58.470   3.180  0.00  0.00      PROA    \nATOM   1219  HA1 GLY P  85      -7.040  58.080   3.630  0.00  0.00      PROA    \nATOM   1220  HA2 GLY P  85      -7.850  59.290   2.480  0.00  0.00      PROA    \nATOM   1221  C   GLY P  85      -8.280  57.390   2.380  0.00  0.00      PROA    \nATOM   1222  O   GLY P  85      -7.500  56.960   1.570  0.00  0.00      PROA    \nATOM   1223  N   HIS P  86      -9.500  56.840   2.500  0.00  0.00      PROA    \nATOM   1224  HN  HIS P  86     -10.120  57.170   3.200  0.00  0.00      PROA    \nATOM   1225  CA  HIS P  86     -10.040  55.840   1.660  0.00  0.00      PROA    \nATOM   1226  HA  HIS P  86     -10.950  55.430   2.080  0.00  0.00      PROA    \nATOM   1227  CB  HIS P  86     -10.590  56.500   0.430  0.00  0.00      PROA    \nATOM   1228  HB1 HIS P  86      -9.740  57.000  -0.090  0.00  0.00      PROA    \nATOM   1229  HB2 HIS P  86     -11.010  55.790  -0.310  0.00  0.00      PROA    \nATOM   1230  ND1 HIS P  86     -11.490  58.810   0.770  0.00  0.00      PROA    \nATOM   1231  HD1 HIS P  86     -10.680  59.370   0.950  0.00  0.00      PROA    \nATOM   1232  CG  HIS P  86     -11.700  57.470   0.770  0.00  0.00      PROA    \nATOM   1233  CE1 HIS P  86     -12.740  59.410   0.750  0.00  0.00      PROA    \nATOM   1234  HE1 HIS P  86     -12.960  60.470   0.580  0.00  0.00      PROA    \nATOM   1235  NE2 HIS P  86     -13.660  58.450   0.680  0.00  0.00      PROA    \nATOM   1236  CD2 HIS P  86     -13.040  57.220   0.730  0.00  0.00      PROA    \nATOM   1237  HD2 HIS P  86     -13.670  56.340   0.660  0.00  0.00      PROA    \nATOM   1238  C   HIS P  86      -9.140  54.590   1.510  0.00  0.00      PROA    \nATOM   1239  O   HIS P  86      -8.780  53.860   2.460  0.00  0.00      PROA    \nATOM   1240  N   ASN P  87      -8.780  54.170   0.250  0.00  0.00      PROA    \nATOM   1241  HN  ASN P  87      -9.190  54.680  -0.510  0.00  0.00      PROA    \nATOM   1242  CA  ASN P  87      -7.970  52.990  -0.050  0.00  0.00      PROA    \nATOM   1243  HA  ASN P  87      -8.130  52.210   0.680  0.00  0.00      PROA    \nATOM   1244  CB  ASN P  87      -8.510  52.330  -1.300  0.00  0.00      PROA    \nATOM   1245  HB1 ASN P  87      -7.870  51.450  -1.530  0.00  0.00      PROA    \nATOM   1246  HB2 ASN P  87      -9.600  52.100  -1.240  0.00  0.00      PROA    \nATOM   1247  CG  ASN P  87      -8.500  53.220  -2.530  0.00  0.00      PROA    \nATOM   1248  OD1 ASN P  87      -9.310  54.180  -2.670  0.00  0.00      PROA    \nATOM   1249  ND2 ASN P  87      -7.630  52.940  -3.540  0.00  0.00      PROA    \nATOM   1250 HD21 ASN P  87      -7.700  53.530  -4.340  0.00  0.00      PROA    \nATOM   1251 HD22 ASN P  87      -6.860  52.330  -3.360  0.00  0.00      PROA    \nATOM   1252  C   ASN P  87      -6.520  53.350  -0.020  0.00  0.00      PROA    \nATOM   1253  O   ASN P  87      -5.640  52.560  -0.240  0.00  0.00      PROA    \nATOM   1254  N   LEU P  88      -6.120  54.570   0.270  0.00  0.00      PROA    \nATOM   1255  HN  LEU P  88      -6.840  55.180   0.590  0.00  0.00      PROA    \nATOM   1256  CA  LEU P  88      -4.730  54.980   0.060  0.00  0.00      PROA    \nATOM   1257  HA  LEU P  88      -4.070  54.210  -0.300  0.00  0.00      PROA    \nATOM   1258  CB  LEU P  88      -4.510  56.250  -0.780  0.00  0.00      PROA    \nATOM   1259  HB1 LEU P  88      -4.970  57.080  -0.210  0.00  0.00      PROA    \nATOM   1260  HB2 LEU P  88      -3.410  56.440  -0.720  0.00  0.00      PROA    \nATOM   1261  CG  LEU P  88      -4.970  56.210  -2.280  0.00  0.00      PROA    \nATOM   1262  HG  LEU P  88      -6.080  56.260  -2.240  0.00  0.00      PROA    \nATOM   1263  CD1 LEU P  88      -4.540  57.490  -3.120  0.00  0.00      PROA    \nATOM   1264 HD11 LEU P  88      -4.940  57.590  -4.150  0.00  0.00      PROA    \nATOM   1265 HD12 LEU P  88      -4.940  58.410  -2.650  0.00  0.00      PROA    \nATOM   1266 HD13 LEU P  88      -3.440  57.380  -3.240  0.00  0.00      PROA    \nATOM   1267  CD2 LEU P  88      -4.490  54.920  -2.900  0.00  0.00      PROA    \nATOM   1268 HD21 LEU P  88      -4.890  54.050  -2.340  0.00  0.00      PROA    \nATOM   1269 HD22 LEU P  88      -5.000  54.810  -3.880  0.00  0.00      PROA    \nATOM   1270 HD23 LEU P  88      -3.380  54.860  -2.990  0.00  0.00      PROA    \nATOM   1271  C   LEU P  88      -4.040  55.170   1.350  0.00  0.00      PROA    \nATOM   1272  O   LEU P  88      -3.010  54.670   1.670  0.00  0.00      PROA    \nATOM   1273  N   ALA P  89      -4.720  55.900   2.260  0.00  0.00      PROA    \nATOM   1274  HN  ALA P  89      -5.650  56.230   2.130  0.00  0.00      PROA    \nATOM   1275  CA  ALA P  89      -4.140  56.520   3.480  0.00  0.00      PROA    \nATOM   1276  HA  ALA P  89      -3.220  55.990   3.650  0.00  0.00      PROA    \nATOM   1277  CB  ALA P  89      -3.750  58.020   3.350  0.00  0.00      PROA    \nATOM   1278  HB1 ALA P  89      -4.620  58.710   3.260  0.00  0.00      PROA    \nATOM   1279  HB2 ALA P  89      -3.300  58.360   4.310  0.00  0.00      PROA    \nATOM   1280  HB3 ALA P  89      -3.190  58.260   2.410  0.00  0.00      PROA    \nATOM   1281  C   ALA P  89      -5.040  56.260   4.600  0.00  0.00      PROA    \nATOM   1282  O   ALA P  89      -6.220  55.950   4.330  0.00  0.00      PROA    \nATOM   1283  N   LYS P  90      -4.620  56.310   5.830  0.00  0.00      PROA    \nATOM   1284  HN  LYS P  90      -3.640  56.390   5.950  0.00  0.00      PROA    \nATOM   1285  CA  LYS P  90      -5.270  56.320   7.030  0.00  0.00      PROA    \nATOM   1286  HA  LYS P  90      -5.970  55.530   6.830  0.00  0.00      PROA    \nATOM   1287  CB  LYS P  90      -4.380  56.000   8.240  0.00  0.00      PROA    \nATOM   1288  HB1 LYS P  90      -3.880  55.010   8.110  0.00  0.00      PROA    \nATOM   1289  HB2 LYS P  90      -3.560  56.730   8.390  0.00  0.00      PROA    \nATOM   1290  CG  LYS P  90      -5.050  55.940   9.570  0.00  0.00      PROA    \nATOM   1291  HG1 LYS P  90      -5.640  56.850   9.830  0.00  0.00      PROA    \nATOM   1292  HG2 LYS P  90      -5.850  55.210   9.370  0.00  0.00      PROA    \nATOM   1293  CD  LYS P  90      -4.200  55.400  10.700  0.00  0.00      PROA    \nATOM   1294  HD1 LYS P  90      -3.350  54.820  10.280  0.00  0.00      PROA    \nATOM   1295  HD2 LYS P  90      -3.720  56.270  11.190  0.00  0.00      PROA    \nATOM   1296  CE  LYS P  90      -4.930  54.510  11.700  0.00  0.00      PROA    \nATOM   1297  HE1 LYS P  90      -4.160  54.190  12.430  0.00  0.00      PROA    \nATOM   1298  HE2 LYS P  90      -5.710  55.080  12.250  0.00  0.00      PROA    \nATOM   1299  NZ  LYS P  90      -5.490  53.220  11.110  0.00  0.00      PROA    \nATOM   1300  HZ1 LYS P  90      -5.770  52.640  11.930  0.00  0.00      PROA    \nATOM   1301  HZ2 LYS P  90      -6.320  53.540  10.580  0.00  0.00      PROA    \nATOM   1302  HZ3 LYS P  90      -4.880  52.620  10.510  0.00  0.00      PROA    \nATOM   1303  C   LYS P  90      -6.120  57.610   7.180  0.00  0.00      PROA    \nATOM   1304  O   LYS P  90      -7.320  57.480   7.520  0.00  0.00      PROA    \nATOM   1305  N   HIS P  91      -5.550  58.820   6.920  0.00  0.00      PROA    \nATOM   1306  HN  HIS P  91      -4.570  58.950   6.810  0.00  0.00      PROA    \nATOM   1307  CA  HIS P  91      -6.200  60.120   6.860  0.00  0.00      PROA    \nATOM   1308  HA  HIS P  91      -7.250  59.890   6.780  0.00  0.00      PROA    \nATOM   1309  CB  HIS P  91      -5.870  61.070   8.000  0.00  0.00      PROA    \nATOM   1310  HB1 HIS P  91      -4.850  61.500   7.890  0.00  0.00      PROA    \nATOM   1311  HB2 HIS P  91      -6.610  61.880   8.180  0.00  0.00      PROA    \nATOM   1312  ND1 HIS P  91      -7.170  59.950   9.840  0.00  0.00      PROA    \nATOM   1313  HD1 HIS P  91      -8.100  59.810   9.480  0.00  0.00      PROA    \nATOM   1314  CG  HIS P  91      -5.990  60.390   9.290  0.00  0.00      PROA    \nATOM   1315  CE1 HIS P  91      -6.880  59.650  11.150  0.00  0.00      PROA    \nATOM   1316  HE1 HIS P  91      -7.640  59.360  11.880  0.00  0.00      PROA    \nATOM   1317  NE2 HIS P  91      -5.570  59.830  11.410  0.00  0.00      PROA    \nATOM   1318  CD2 HIS P  91      -5.040  60.330  10.230  0.00  0.00      PROA    \nATOM   1319  HD2 HIS P  91      -3.990  60.610  10.250  0.00  0.00      PROA    \nATOM   1320  C   HIS P  91      -5.740  60.780   5.520  0.00  0.00      PROA    \nATOM   1321  O   HIS P  91      -4.690  60.480   4.940  0.00  0.00      PROA    \nATOM   1322  N   CYS P  92      -6.600  61.610   4.950  0.00  0.00      PROA    \nATOM   1323  HN  CYS P  92      -7.520  61.780   5.290  0.00  0.00      PROA    \nATOM   1324  CA  CYS P  92      -6.270  62.540   3.880  0.00  0.00      PROA    \nATOM   1325  HA  CYS P  92      -5.220  62.480   3.640  0.00  0.00      PROA    \nATOM   1326  CB  CYS P  92      -7.110  62.310   2.590  0.00  0.00      PROA    \nATOM   1327  HB1 CYS P  92      -6.850  61.260   2.370  0.00  0.00      PROA    \nATOM   1328  HB2 CYS P  92      -8.210  62.300   2.750  0.00  0.00      PROA    \nATOM   1329  SG  CYS P  92      -6.560  63.420   1.190  0.00  0.00      PROA    \nATOM   1330  HG1 CYS P  92      -7.660  64.150   1.120  0.00  0.00      PROA    \nATOM   1331  C   CYS P  92      -6.480  63.990   4.450  0.00  0.00      PROA    \nATOM   1332  O   CYS P  92      -7.560  64.360   4.770  0.00  0.00      PROA    \nATOM   1333  N   LEU P  93      -5.390  64.830   4.320  0.00  0.00      PROA    \nATOM   1334  HN  LEU P  93      -4.590  64.590   3.770  0.00  0.00      PROA    \nATOM   1335  CA  LEU P  93      -5.450  66.230   4.810  0.00  0.00      PROA    \nATOM   1336  HA  LEU P  93      -6.230  66.290   5.550  0.00  0.00      PROA    \nATOM   1337  CB  LEU P  93      -4.130  66.560   5.450  0.00  0.00      PROA    \nATOM   1338  HB1 LEU P  93      -4.190  66.090   6.450  0.00  0.00      PROA    \nATOM   1339  HB2 LEU P  93      -3.280  66.110   4.890  0.00  0.00      PROA    \nATOM   1340  CG  LEU P  93      -3.920  68.140   5.640  0.00  0.00      PROA    \nATOM   1341  HG  LEU P  93      -3.970  68.720   4.680  0.00  0.00      PROA    \nATOM   1342  CD1 LEU P  93      -5.040  68.830   6.480  0.00  0.00      PROA    \nATOM   1343 HD11 LEU P  93      -5.160  68.410   7.500  0.00  0.00      PROA    \nATOM   1344 HD12 LEU P  93      -4.890  69.910   6.680  0.00  0.00      PROA    \nATOM   1345 HD13 LEU P  93      -6.040  68.710   6.000  0.00  0.00      PROA    \nATOM   1346  CD2 LEU P  93      -2.520  68.340   6.250  0.00  0.00      PROA    \nATOM   1347 HD21 LEU P  93      -2.570  69.320   6.760  0.00  0.00      PROA    \nATOM   1348 HD22 LEU P  93      -2.450  67.720   7.170  0.00  0.00      PROA    \nATOM   1349 HD23 LEU P  93      -1.810  68.290   5.390  0.00  0.00      PROA    \nATOM   1350  C   LEU P  93      -5.770  67.170   3.550  0.00  0.00      PROA    \nATOM   1351  O   LEU P  93      -4.950  67.170   2.660  0.00  0.00      PROA    \nATOM   1352  N   HIS P  94      -6.900  67.900   3.550  0.00  0.00      PROA    \nATOM   1353  HN  HIS P  94      -7.490  67.910   4.350  0.00  0.00      PROA    \nATOM   1354  CA  HIS P  94      -7.080  68.840   2.430  0.00  0.00      PROA    \nATOM   1355  HA  HIS P  94      -6.440  68.700   1.570  0.00  0.00      PROA    \nATOM   1356  CB  HIS P  94      -8.510  68.860   1.850  0.00  0.00      PROA    \nATOM   1357  HB1 HIS P  94      -9.210  69.240   2.630  0.00  0.00      PROA    \nATOM   1358  HB2 HIS P  94      -8.520  69.710   1.140  0.00  0.00      PROA    \nATOM   1359  ND1 HIS P  94      -9.760  67.360   0.170  0.00  0.00      PROA    \nATOM   1360  HD1 HIS P  94      -9.950  68.040  -0.540  0.00  0.00      PROA    \nATOM   1361  CG  HIS P  94      -9.020  67.560   1.340  0.00  0.00      PROA    \nATOM   1362  CE1 HIS P  94     -10.020  66.040   0.100  0.00  0.00      PROA    \nATOM   1363  HE1 HIS P  94     -10.520  65.690  -0.800  0.00  0.00      PROA    \nATOM   1364  NE2 HIS P  94      -9.600  65.410   1.180  0.00  0.00      PROA    \nATOM   1365  CD2 HIS P  94      -8.900  66.320   1.900  0.00  0.00      PROA    \nATOM   1366  HD2 HIS P  94      -8.480  66.020   2.850  0.00  0.00      PROA    \nATOM   1367  C   HIS P  94      -6.760  70.280   2.960  0.00  0.00      PROA    \nATOM   1368  O   HIS P  94      -7.330  70.790   3.860  0.00  0.00      PROA    \nATOM   1369  N   VAL P  95      -5.770  70.950   2.330  0.00  0.00      PROA    \nATOM   1370  HN  VAL P  95      -5.290  70.470   1.600  0.00  0.00      PROA    \nATOM   1371  CA  VAL P  95      -5.450  72.300   2.500  0.00  0.00      PROA    \nATOM   1372  HA  VAL P  95      -5.900  72.730   3.380  0.00  0.00      PROA    \nATOM   1373  CB  VAL P  95      -3.910  72.410   2.880  0.00  0.00      PROA    \nATOM   1374  HB  VAL P  95      -3.580  73.450   2.690  0.00  0.00      PROA    \nATOM   1375  CG1 VAL P  95      -3.590  72.040   4.300  0.00  0.00      PROA    \nATOM   1376 HG11 VAL P  95      -2.500  71.850   4.410  0.00  0.00      PROA    \nATOM   1377 HG12 VAL P  95      -4.170  72.740   4.930  0.00  0.00      PROA    \nATOM   1378 HG13 VAL P  95      -4.000  71.030   4.510  0.00  0.00      PROA    \nATOM   1379  CG2 VAL P  95      -3.080  71.470   2.030  0.00  0.00      PROA    \nATOM   1380 HG21 VAL P  95      -3.150  70.390   2.290  0.00  0.00      PROA    \nATOM   1381 HG22 VAL P  95      -3.390  71.570   0.970  0.00  0.00      PROA    \nATOM   1382 HG23 VAL P  95      -2.010  71.790   2.050  0.00  0.00      PROA    \nATOM   1383  C   VAL P  95      -5.670  73.240   1.300  0.00  0.00      PROA    \nATOM   1384  O   VAL P  95      -5.400  72.860   0.210  0.00  0.00      PROA    \nATOM   1385  N   VAL P  96      -6.040  74.490   1.540  0.00  0.00      PROA    \nATOM   1386  HN  VAL P  96      -5.990  75.030   2.370  0.00  0.00      PROA    \nATOM   1387  CA  VAL P  96      -6.390  75.320   0.420  0.00  0.00      PROA    \nATOM   1388  HA  VAL P  96      -6.370  74.830  -0.540  0.00  0.00      PROA    \nATOM   1389  CB  VAL P  96      -7.750  75.980   0.600  0.00  0.00      PROA    \nATOM   1390  HB  VAL P  96      -7.650  76.520   1.570  0.00  0.00      PROA    \nATOM   1391  CG1 VAL P  96      -8.090  77.020  -0.500  0.00  0.00      PROA    \nATOM   1392 HG11 VAL P  96      -7.970  76.590  -1.510  0.00  0.00      PROA    \nATOM   1393 HG12 VAL P  96      -9.110  77.460  -0.380  0.00  0.00      PROA    \nATOM   1394 HG13 VAL P  96      -7.430  77.900  -0.390  0.00  0.00      PROA    \nATOM   1395  CG2 VAL P  96      -8.890  74.830   0.410  0.00  0.00      PROA    \nATOM   1396 HG21 VAL P  96      -9.870  75.360   0.340  0.00  0.00      PROA    \nATOM   1397 HG22 VAL P  96      -8.940  74.410  -0.610  0.00  0.00      PROA    \nATOM   1398 HG23 VAL P  96      -8.790  74.070   1.210  0.00  0.00      PROA    \nATOM   1399  C   VAL P  96      -5.270  76.340   0.380  0.00  0.00      PROA    \nATOM   1400  O   VAL P  96      -5.060  77.270   1.190  0.00  0.00      PROA    \nATOM   1401  N   GLY P  97      -4.480  76.220  -0.700  0.00  0.00      PROA    \nATOM   1402  HN  GLY P  97      -4.610  75.460  -1.330  0.00  0.00      PROA    \nATOM   1403  CA  GLY P  97      -3.460  77.230  -0.950  0.00  0.00      PROA    \nATOM   1404  HA1 GLY P  97      -2.940  76.790  -1.780  0.00  0.00      PROA    \nATOM   1405  HA2 GLY P  97      -2.840  77.400  -0.080  0.00  0.00      PROA    \nATOM   1406  C   GLY P  97      -4.000  78.580  -1.390  0.00  0.00      PROA    \nATOM   1407  O   GLY P  97      -5.160  78.770  -1.790  0.00  0.00      PROA    \nATOM   1408  N   PRO P  98      -3.230  79.700  -1.260  0.00  0.00      PROA    \nATOM   1409  CD  PRO P  98      -1.990  79.850  -0.560  0.00  0.00      PROA    \nATOM   1410  HD1 PRO P  98      -1.300  79.000  -0.790  0.00  0.00      PROA    \nATOM   1411  HD2 PRO P  98      -2.150  80.110   0.510  0.00  0.00      PROA    \nATOM   1412  CA  PRO P  98      -3.620  80.950  -1.940  0.00  0.00      PROA    \nATOM   1413  HA  PRO P  98      -4.650  81.260  -1.870  0.00  0.00      PROA    \nATOM   1414  CB  PRO P  98      -2.590  81.960  -1.410  0.00  0.00      PROA    \nATOM   1415  HB1 PRO P  98      -3.010  82.240  -0.420  0.00  0.00      PROA    \nATOM   1416  HB2 PRO P  98      -2.590  82.850  -2.080  0.00  0.00      PROA    \nATOM   1417  CG  PRO P  98      -1.370  81.120  -1.140  0.00  0.00      PROA    \nATOM   1418  HG1 PRO P  98      -0.790  80.750  -2.020  0.00  0.00      PROA    \nATOM   1419  HG2 PRO P  98      -0.740  81.710  -0.440  0.00  0.00      PROA    \nATOM   1420  C   PRO P  98      -3.570  80.870  -3.480  0.00  0.00      PROA    \nATOM   1421  O   PRO P  98      -2.490  80.560  -4.010  0.00  0.00      PROA    \nATOM   1422  N   ASN P  99      -4.700  81.050  -4.210  0.00  0.00      PROA    \nATOM   1423  HN  ASN P  99      -5.580  80.980  -3.740  0.00  0.00      PROA    \nATOM   1424  CA  ASN P  99      -4.730  81.180  -5.650  0.00  0.00      PROA    \nATOM   1425  HA  ASN P  99      -3.980  80.520  -6.040  0.00  0.00      PROA    \nATOM   1426  CB  ASN P  99      -6.170  80.990  -6.200  0.00  0.00      PROA    \nATOM   1427  HB1 ASN P  99      -6.640  80.020  -5.940  0.00  0.00      PROA    \nATOM   1428  HB2 ASN P  99      -6.830  81.800  -5.820  0.00  0.00      PROA    \nATOM   1429  CG  ASN P  99      -6.270  81.060  -7.740  0.00  0.00      PROA    \nATOM   1430  OD1 ASN P  99      -5.270  81.160  -8.460  0.00  0.00      PROA    \nATOM   1431  ND2 ASN P  99      -7.580  81.000  -8.240  0.00  0.00      PROA    \nATOM   1432 HD21 ASN P  99      -8.370  81.010  -7.620  0.00  0.00      PROA    \nATOM   1433 HD22 ASN P  99      -7.730  81.180  -9.210  0.00  0.00      PROA    \nATOM   1434  C   ASN P  99      -4.080  82.590  -6.020  0.00  0.00      PROA    \nATOM   1435  O   ASN P  99      -4.690  83.620  -5.950  0.00  0.00      PROA    \nATOM   1436  N   VAL P 100      -2.820  82.560  -6.450  0.00  0.00      PROA    \nATOM   1437  HN  VAL P 100      -2.300  81.710  -6.430  0.00  0.00      PROA    \nATOM   1438  CA  VAL P 100      -1.990  83.690  -6.800  0.00  0.00      PROA    \nATOM   1439  HA  VAL P 100      -2.250  84.410  -6.040  0.00  0.00      PROA    \nATOM   1440  CB  VAL P 100      -0.450  83.320  -6.680  0.00  0.00      PROA    \nATOM   1441  HB  VAL P 100      -0.390  82.240  -6.970  0.00  0.00      PROA    \nATOM   1442  CG1 VAL P 100       0.390  84.150  -7.550  0.00  0.00      PROA    \nATOM   1443 HG11 VAL P 100       0.230  85.210  -7.270  0.00  0.00      PROA    \nATOM   1444 HG12 VAL P 100       1.460  83.950  -7.320  0.00  0.00      PROA    \nATOM   1445 HG13 VAL P 100       0.150  84.050  -8.630  0.00  0.00      PROA    \nATOM   1446  CG2 VAL P 100       0.010  83.350  -5.220  0.00  0.00      PROA    \nATOM   1447 HG21 VAL P 100      -0.260  84.300  -4.710  0.00  0.00      PROA    \nATOM   1448 HG22 VAL P 100      -0.500  82.490  -4.750  0.00  0.00      PROA    \nATOM   1449 HG23 VAL P 100       1.100  83.280  -4.980  0.00  0.00      PROA    \nATOM   1450  C   VAL P 100      -2.320  84.210  -8.250  0.00  0.00      PROA    \nATOM   1451  O   VAL P 100      -2.290  85.400  -8.450  0.00  0.00      PROA    \nATOM   1452  N   ASN P 101      -2.760  83.310  -9.180  0.00  0.00      PROA    \nATOM   1453  HN  ASN P 101      -2.840  82.360  -8.900  0.00  0.00      PROA    \nATOM   1454  CA  ASN P 101      -3.400  83.740 -10.380  0.00  0.00      PROA    \nATOM   1455  HA  ASN P 101      -2.740  84.500 -10.750  0.00  0.00      PROA    \nATOM   1456  CB  ASN P 101      -3.570  82.490 -11.320  0.00  0.00      PROA    \nATOM   1457  HB1 ASN P 101      -4.070  81.750 -10.670  0.00  0.00      PROA    \nATOM   1458  HB2 ASN P 101      -4.170  82.810 -12.200  0.00  0.00      PROA    \nATOM   1459  CG  ASN P 101      -2.250  81.970 -11.980  0.00  0.00      PROA    \nATOM   1460  OD1 ASN P 101      -1.280  82.650 -12.140  0.00  0.00      PROA    \nATOM   1461  ND2 ASN P 101      -2.260  80.620 -12.160  0.00  0.00      PROA    \nATOM   1462 HD21 ASN P 101      -3.100  80.080 -12.240  0.00  0.00      PROA    \nATOM   1463 HD22 ASN P 101      -1.440  80.070 -12.310  0.00  0.00      PROA    \nATOM   1464  C   ASN P 101      -4.670  84.620 -10.310  0.00  0.00      PROA    \nATOM   1465  O   ASN P 101      -4.880  85.620 -10.980  0.00  0.00      PROA    \nATOM   1466  N   LYS P 102      -5.600  84.190  -9.460  0.00  0.00      PROA    \nATOM   1467  HN  LYS P 102      -5.440  83.360  -8.930  0.00  0.00      PROA    \nATOM   1468  CA  LYS P 102      -6.660  85.040  -9.030  0.00  0.00      PROA    \nATOM   1469  HA  LYS P 102      -7.170  85.470  -9.870  0.00  0.00      PROA    \nATOM   1470  CB  LYS P 102      -7.710  84.210  -8.260  0.00  0.00      PROA    \nATOM   1471  HB1 LYS P 102      -8.210  83.390  -8.820  0.00  0.00      PROA    \nATOM   1472  HB2 LYS P 102      -7.040  83.790  -7.480  0.00  0.00      PROA    \nATOM   1473  CG  LYS P 102      -8.780  85.010  -7.530  0.00  0.00      PROA    \nATOM   1474  HG1 LYS P 102      -8.410  85.810  -6.850  0.00  0.00      PROA    \nATOM   1475  HG2 LYS P 102      -9.360  85.470  -8.360  0.00  0.00      PROA    \nATOM   1476  CD  LYS P 102      -9.810  84.200  -6.710  0.00  0.00      PROA    \nATOM   1477  HD1 LYS P 102     -10.180  83.400  -7.370  0.00  0.00      PROA    \nATOM   1478  HD2 LYS P 102      -9.380  83.590  -5.880  0.00  0.00      PROA    \nATOM   1479  CE  LYS P 102     -10.950  85.100  -6.140  0.00  0.00      PROA    \nATOM   1480  HE1 LYS P 102     -11.160  85.890  -6.890  0.00  0.00      PROA    \nATOM   1481  HE2 LYS P 102     -11.860  84.540  -5.820  0.00  0.00      PROA    \nATOM   1482  NZ  LYS P 102     -10.470  85.810  -4.950  0.00  0.00      PROA    \nATOM   1483  HZ1 LYS P 102     -11.240  86.180  -4.370  0.00  0.00      PROA    \nATOM   1484  HZ2 LYS P 102      -9.920  85.270  -4.250  0.00  0.00      PROA    \nATOM   1485  HZ3 LYS P 102     -10.100  86.740  -5.260  0.00  0.00      PROA    \nATOM   1486  C   LYS P 102      -6.180  86.290  -8.210  0.00  0.00      PROA    \nATOM   1487  O   LYS P 102      -6.760  87.390  -8.440  0.00  0.00      PROA    \nATOM   1488  N   GLY P 103      -5.130  86.150  -7.380  0.00  0.00      PROA    \nATOM   1489  HN  GLY P 103      -4.600  85.310  -7.360  0.00  0.00      PROA    \nATOM   1490  CA  GLY P 103      -4.670  87.210  -6.480  0.00  0.00      PROA    \nATOM   1491  HA1 GLY P 103      -4.990  88.140  -6.920  0.00  0.00      PROA    \nATOM   1492  HA2 GLY P 103      -3.590  87.110  -6.450  0.00  0.00      PROA    \nATOM   1493  C   GLY P 103      -4.960  87.160  -5.030  0.00  0.00      PROA    \nATOM   1494  O   GLY P 103      -5.030  88.160  -4.290  0.00  0.00      PROA    \nATOM   1495  N   GLU P 104      -5.120  85.980  -4.480  0.00  0.00      PROA    \nATOM   1496  HN  GLU P 104      -5.260  85.170  -5.050  0.00  0.00      PROA    \nATOM   1497  CA  GLU P 104      -4.840  85.630  -3.060  0.00  0.00      PROA    \nATOM   1498  HA  GLU P 104      -5.510  86.210  -2.440  0.00  0.00      PROA    \nATOM   1499  CB  GLU P 104      -5.230  84.200  -2.770  0.00  0.00      PROA    \nATOM   1500  HB1 GLU P 104      -4.450  83.600  -3.280  0.00  0.00      PROA    \nATOM   1501  HB2 GLU P 104      -5.160  83.930  -1.690  0.00  0.00      PROA    \nATOM   1502  CG  GLU P 104      -6.670  83.890  -3.260  0.00  0.00      PROA    \nATOM   1503  HG1 GLU P 104      -6.790  83.960  -4.360  0.00  0.00      PROA    \nATOM   1504  HG2 GLU P 104      -6.850  82.850  -2.930  0.00  0.00      PROA    \nATOM   1505  CD  GLU P 104      -7.810  84.580  -2.540  0.00  0.00      PROA    \nATOM   1506  OE1 GLU P 104      -8.940  84.470  -3.000  0.00  0.00      PROA    \nATOM   1507  OE2 GLU P 104      -7.520  85.140  -1.470  0.00  0.00      PROA    \nATOM   1508  C   GLU P 104      -3.390  85.900  -2.710  0.00  0.00      PROA    \nATOM   1509  O   GLU P 104      -2.460  85.690  -3.480  0.00  0.00      PROA    \nATOM   1510  N   ASP P 105      -3.250  86.400  -1.490  0.00  0.00      PROA    \nATOM   1511  HN  ASP P 105      -4.000  86.490  -0.850  0.00  0.00      PROA    \nATOM   1512  CA  ASP P 105      -1.880  86.730  -0.950  0.00  0.00      PROA    \nATOM   1513  HA  ASP P 105      -1.340  87.380  -1.620  0.00  0.00      PROA    \nATOM   1514  CB  ASP P 105      -2.090  87.420   0.400  0.00  0.00      PROA    \nATOM   1515  HB1 ASP P 105      -2.880  86.960   1.030  0.00  0.00      PROA    \nATOM   1516  HB2 ASP P 105      -1.130  87.350   0.960  0.00  0.00      PROA    \nATOM   1517  CG  ASP P 105      -2.430  88.910   0.300  0.00  0.00      PROA    \nATOM   1518  OD1 ASP P 105      -2.660  89.520   1.430  0.00  0.00      PROA    \nATOM   1519  OD2 ASP P 105      -2.640  89.490  -0.750  0.00  0.00      PROA    \nATOM   1520  C   ASP P 105      -1.040  85.490  -0.760  0.00  0.00      PROA    \nATOM   1521  O   ASP P 105      -1.440  84.480  -0.200  0.00  0.00      PROA    \nATOM   1522  N   ILE P 106       0.240  85.480  -1.230  0.00  0.00      PROA    \nATOM   1523  HN  ILE P 106       0.700  86.230  -1.700  0.00  0.00      PROA    \nATOM   1524  CA  ILE P 106       1.080  84.360  -0.950  0.00  0.00      PROA    \nATOM   1525  HA  ILE P 106       0.520  83.490  -1.280  0.00  0.00      PROA    \nATOM   1526  CB  ILE P 106       2.310  84.250  -1.800  0.00  0.00      PROA    \nATOM   1527  HB  ILE P 106       1.950  84.560  -2.800  0.00  0.00      PROA    \nATOM   1528  CG2 ILE P 106       3.480  85.180  -1.280  0.00  0.00      PROA    \nATOM   1529 HG21 ILE P 106       4.290  85.230  -2.040  0.00  0.00      PROA    \nATOM   1530 HG22 ILE P 106       3.110  86.150  -0.880  0.00  0.00      PROA    \nATOM   1531 HG23 ILE P 106       3.970  84.640  -0.440  0.00  0.00      PROA    \nATOM   1532  CG1 ILE P 106       2.760  82.770  -2.030  0.00  0.00      PROA    \nATOM   1533 HG11 ILE P 106       2.980  82.380  -1.010  0.00  0.00      PROA    \nATOM   1534 HG12 ILE P 106       1.870  82.290  -2.470  0.00  0.00      PROA    \nATOM   1535  CD  ILE P 106       3.910  82.480  -3.020  0.00  0.00      PROA    \nATOM   1536  HD1 ILE P 106       4.760  83.180  -2.900  0.00  0.00      PROA    \nATOM   1537  HD2 ILE P 106       4.290  81.440  -2.920  0.00  0.00      PROA    \nATOM   1538  HD3 ILE P 106       3.580  82.620  -4.080  0.00  0.00      PROA    \nATOM   1539  C   ILE P 106       1.410  84.220   0.540  0.00  0.00      PROA    \nATOM   1540  O   ILE P 106       1.650  83.130   1.070  0.00  0.00      PROA    \nATOM   1541  N   GLN P 107       1.240  85.260   1.420  0.00  0.00      PROA    \nATOM   1542  HN  GLN P 107       1.180  86.160   0.990  0.00  0.00      PROA    \nATOM   1543  CA  GLN P 107       1.270  85.210   2.900  0.00  0.00      PROA    \nATOM   1544  HA  GLN P 107       2.290  85.160   3.240  0.00  0.00      PROA    \nATOM   1545  CB  GLN P 107       0.790  86.570   3.410  0.00  0.00      PROA    \nATOM   1546  HB1 GLN P 107       1.530  87.330   3.080  0.00  0.00      PROA    \nATOM   1547  HB2 GLN P 107      -0.170  86.880   2.950  0.00  0.00      PROA    \nATOM   1548  CG  GLN P 107       0.540  86.740   4.950  0.00  0.00      PROA    \nATOM   1549  HG1 GLN P 107       0.000  87.650   5.300  0.00  0.00      PROA    \nATOM   1550  HG2 GLN P 107      -0.120  85.910   5.270  0.00  0.00      PROA    \nATOM   1551  CD  GLN P 107       1.840  86.620   5.700  0.00  0.00      PROA    \nATOM   1552  OE1 GLN P 107       2.250  85.610   6.190  0.00  0.00      PROA    \nATOM   1553  NE2 GLN P 107       2.560  87.740   5.730  0.00  0.00      PROA    \nATOM   1554 HE21 GLN P 107       2.160  88.620   5.460  0.00  0.00      PROA    \nATOM   1555 HE22 GLN P 107       3.440  87.750   6.190  0.00  0.00      PROA    \nATOM   1556  C   GLN P 107       0.350  84.090   3.500  0.00  0.00      PROA    \nATOM   1557  O   GLN P 107       0.690  83.290   4.420  0.00  0.00      PROA    \nATOM   1558  N   LEU P 108      -0.860  83.890   2.870  0.00  0.00      PROA    \nATOM   1559  HN  LEU P 108      -1.200  84.450   2.120  0.00  0.00      PROA    \nATOM   1560  CA  LEU P 108      -1.810  82.870   3.210  0.00  0.00      PROA    \nATOM   1561  HA  LEU P 108      -2.050  82.970   4.260  0.00  0.00      PROA    \nATOM   1562  CB  LEU P 108      -3.110  83.200   2.420  0.00  0.00      PROA    \nATOM   1563  HB1 LEU P 108      -2.800  83.470   1.390  0.00  0.00      PROA    \nATOM   1564  HB2 LEU P 108      -3.760  82.290   2.360  0.00  0.00      PROA    \nATOM   1565  CG  LEU P 108      -3.940  84.240   3.070  0.00  0.00      PROA    \nATOM   1566  HG  LEU P 108      -3.300  85.120   3.270  0.00  0.00      PROA    \nATOM   1567  CD1 LEU P 108      -5.000  84.700   2.120  0.00  0.00      PROA    \nATOM   1568 HD11 LEU P 108      -4.540  84.920   1.130  0.00  0.00      PROA    \nATOM   1569 HD12 LEU P 108      -5.770  83.920   1.940  0.00  0.00      PROA    \nATOM   1570 HD13 LEU P 108      -5.540  85.610   2.460  0.00  0.00      PROA    \nATOM   1571  CD2 LEU P 108      -4.530  83.830   4.380  0.00  0.00      PROA    \nATOM   1572 HD21 LEU P 108      -3.730  83.850   5.160  0.00  0.00      PROA    \nATOM   1573 HD22 LEU P 108      -5.470  84.320   4.710  0.00  0.00      PROA    \nATOM   1574 HD23 LEU P 108      -4.700  82.730   4.400  0.00  0.00      PROA    \nATOM   1575  C   LEU P 108      -1.230  81.430   2.930  0.00  0.00      PROA    \nATOM   1576  O   LEU P 108      -1.830  80.420   3.300  0.00  0.00      PROA    \nATOM   1577  N   LEU P 109      -0.140  81.230   2.130  0.00  0.00      PROA    \nATOM   1578  HN  LEU P 109       0.330  82.020   1.730  0.00  0.00      PROA    \nATOM   1579  CA  LEU P 109       0.480  79.940   1.800  0.00  0.00      PROA    \nATOM   1580  HA  LEU P 109      -0.360  79.300   1.550  0.00  0.00      PROA    \nATOM   1581  CB  LEU P 109       1.570  80.150   0.700  0.00  0.00      PROA    \nATOM   1582  HB1 LEU P 109       1.130  80.630  -0.200  0.00  0.00      PROA    \nATOM   1583  HB2 LEU P 109       2.360  80.810   1.110  0.00  0.00      PROA    \nATOM   1584  CG  LEU P 109       2.370  78.950   0.290  0.00  0.00      PROA    \nATOM   1585  HG  LEU P 109       2.990  78.540   1.120  0.00  0.00      PROA    \nATOM   1586  CD1 LEU P 109       1.490  77.800  -0.190  0.00  0.00      PROA    \nATOM   1587 HD11 LEU P 109       1.090  77.980  -1.210  0.00  0.00      PROA    \nATOM   1588 HD12 LEU P 109       2.100  76.880  -0.270  0.00  0.00      PROA    \nATOM   1589 HD13 LEU P 109       0.680  77.540   0.530  0.00  0.00      PROA    \nATOM   1590  CD2 LEU P 109       3.230  79.340  -0.980  0.00  0.00      PROA    \nATOM   1591 HD21 LEU P 109       2.590  79.750  -1.790  0.00  0.00      PROA    \nATOM   1592 HD22 LEU P 109       3.940  80.170  -0.770  0.00  0.00      PROA    \nATOM   1593 HD23 LEU P 109       3.700  78.420  -1.390  0.00  0.00      PROA    \nATOM   1594  C   LEU P 109       1.150  79.330   3.070  0.00  0.00      PROA    \nATOM   1595  O   LEU P 109       1.200  78.130   3.280  0.00  0.00      PROA    \nATOM   1596  N   LYS P 110       1.600  80.230   3.900  0.00  0.00      PROA    \nATOM   1597  HN  LYS P 110       1.360  81.190   3.800  0.00  0.00      PROA    \nATOM   1598  CA  LYS P 110       2.180  79.930   5.220  0.00  0.00      PROA    \nATOM   1599  HA  LYS P 110       2.940  79.170   5.130  0.00  0.00      PROA    \nATOM   1600  CB  LYS P 110       2.830  81.170   5.850  0.00  0.00      PROA    \nATOM   1601  HB1 LYS P 110       3.650  81.500   5.170  0.00  0.00      PROA    \nATOM   1602  HB2 LYS P 110       2.030  81.940   5.930  0.00  0.00      PROA    \nATOM   1603  CG  LYS P 110       3.360  80.990   7.240  0.00  0.00      PROA    \nATOM   1604  HG1 LYS P 110       2.520  80.930   7.960  0.00  0.00      PROA    \nATOM   1605  HG2 LYS P 110       3.970  80.070   7.390  0.00  0.00      PROA    \nATOM   1606  CD  LYS P 110       4.230  82.180   7.730  0.00  0.00      PROA    \nATOM   1607  HD1 LYS P 110       3.990  83.120   7.200  0.00  0.00      PROA    \nATOM   1608  HD2 LYS P 110       4.090  82.340   8.820  0.00  0.00      PROA    \nATOM   1609  CE  LYS P 110       5.750  82.070   7.360  0.00  0.00      PROA    \nATOM   1610  HE1 LYS P 110       5.940  82.020   6.260  0.00  0.00      PROA    \nATOM   1611  HE2 LYS P 110       6.300  82.930   7.800  0.00  0.00      PROA    \nATOM   1612  NZ  LYS P 110       6.300  80.880   8.000  0.00  0.00      PROA    \nATOM   1613  HZ1 LYS P 110       5.940  80.940   8.970  0.00  0.00      PROA    \nATOM   1614  HZ2 LYS P 110       6.040  79.990   7.530  0.00  0.00      PROA    \nATOM   1615  HZ3 LYS P 110       7.340  80.980   8.010  0.00  0.00      PROA    \nATOM   1616  C   LYS P 110       1.060  79.510   6.140  0.00  0.00      PROA    \nATOM   1617  O   LYS P 110       1.270  78.620   6.810  0.00  0.00      PROA    \nATOM   1618  N   SER P 111      -0.190  80.110   6.040  0.00  0.00      PROA    \nATOM   1619  HN  SER P 111      -0.380  80.980   5.580  0.00  0.00      PROA    \nATOM   1620  CA  SER P 111      -1.350  79.670   6.780  0.00  0.00      PROA    \nATOM   1621  HA  SER P 111      -1.140  79.710   7.840  0.00  0.00      PROA    \nATOM   1622  CB  SER P 111      -2.650  80.550   6.580  0.00  0.00      PROA    \nATOM   1623  HB1 SER P 111      -3.030  80.420   5.540  0.00  0.00      PROA    \nATOM   1624  HB2 SER P 111      -3.450  80.060   7.170  0.00  0.00      PROA    \nATOM   1625  OG  SER P 111      -2.460  81.900   6.910  0.00  0.00      PROA    \nATOM   1626  HG1 SER P 111      -3.090  82.140   7.600  0.00  0.00      PROA    \nATOM   1627  C   SER P 111      -1.740  78.320   6.270  0.00  0.00      PROA    \nATOM   1628  O   SER P 111      -2.050  77.400   7.050  0.00  0.00      PROA    \nATOM   1629  N   ALA P 112      -1.630  78.060   4.950  0.00  0.00      PROA    \nATOM   1630  HN  ALA P 112      -1.470  78.800   4.300  0.00  0.00      PROA    \nATOM   1631  CA  ALA P 112      -1.840  76.700   4.440  0.00  0.00      PROA    \nATOM   1632  HA  ALA P 112      -2.800  76.350   4.790  0.00  0.00      PROA    \nATOM   1633  CB  ALA P 112      -1.940  76.830   2.870  0.00  0.00      PROA    \nATOM   1634  HB1 ALA P 112      -1.050  77.320   2.430  0.00  0.00      PROA    \nATOM   1635  HB2 ALA P 112      -2.040  75.820   2.420  0.00  0.00      PROA    \nATOM   1636  HB3 ALA P 112      -2.780  77.550   2.800  0.00  0.00      PROA    \nATOM   1637  C   ALA P 112      -0.770  75.690   4.800  0.00  0.00      PROA    \nATOM   1638  O   ALA P 112      -1.100  74.580   5.180  0.00  0.00      PROA    \nATOM   1639  N   TYR P 113       0.590  76.030   4.710  0.00  0.00      PROA    \nATOM   1640  HN  TYR P 113       0.920  76.820   4.210  0.00  0.00      PROA    \nATOM   1641  CA  TYR P 113       1.570  75.130   5.310  0.00  0.00      PROA    \nATOM   1642  HA  TYR P 113       1.470  74.120   4.930  0.00  0.00      PROA    \nATOM   1643  CB  TYR P 113       3.040  75.540   4.950  0.00  0.00      PROA    \nATOM   1644  HB1 TYR P 113       3.130  76.630   5.100  0.00  0.00      PROA    \nATOM   1645  HB2 TYR P 113       3.770  75.100   5.660  0.00  0.00      PROA    \nATOM   1646  CG  TYR P 113       3.480  75.160   3.560  0.00  0.00      PROA    \nATOM   1647  CD1 TYR P 113       3.620  73.800   3.170  0.00  0.00      PROA    \nATOM   1648  HD1 TYR P 113       3.310  73.130   3.960  0.00  0.00      PROA    \nATOM   1649  CE1 TYR P 113       3.740  73.350   1.840  0.00  0.00      PROA    \nATOM   1650  HE1 TYR P 113       3.720  72.280   1.710  0.00  0.00      PROA    \nATOM   1651  CZ  TYR P 113       4.030  74.290   0.880  0.00  0.00      PROA    \nATOM   1652  OH  TYR P 113       4.440  73.860  -0.390  0.00  0.00      PROA    \nATOM   1653  HH  TYR P 113       4.660  74.640  -0.920  0.00  0.00      PROA    \nATOM   1654  CD2 TYR P 113       3.820  76.100   2.520  0.00  0.00      PROA    \nATOM   1655  HD2 TYR P 113       3.830  77.170   2.670  0.00  0.00      PROA    \nATOM   1656  CE2 TYR P 113       4.060  75.690   1.200  0.00  0.00      PROA    \nATOM   1657  HE2 TYR P 113       4.180  76.330   0.340  0.00  0.00      PROA    \nATOM   1658  C   TYR P 113       1.490  74.920   6.790  0.00  0.00      PROA    \nATOM   1659  O   TYR P 113       1.780  73.880   7.260  0.00  0.00      PROA    \nATOM   1660  N   GLU P 114       1.030  75.940   7.560  0.00  0.00      PROA    \nATOM   1661  HN  GLU P 114       0.990  76.880   7.240  0.00  0.00      PROA    \nATOM   1662  CA  GLU P 114       1.010  75.780   9.010  0.00  0.00      PROA    \nATOM   1663  HA  GLU P 114       2.010  75.590   9.380  0.00  0.00      PROA    \nATOM   1664  CB  GLU P 114       0.520  77.160   9.630  0.00  0.00      PROA    \nATOM   1665  HB1 GLU P 114       1.320  77.890   9.360  0.00  0.00      PROA    \nATOM   1666  HB2 GLU P 114      -0.490  77.360   9.210  0.00  0.00      PROA    \nATOM   1667  CG  GLU P 114       0.530  77.150  11.200  0.00  0.00      PROA    \nATOM   1668  HG1 GLU P 114       0.330  78.230  11.390  0.00  0.00      PROA    \nATOM   1669  HG2 GLU P 114      -0.350  76.510  11.430  0.00  0.00      PROA    \nATOM   1670  CD  GLU P 114       1.820  76.770  11.850  0.00  0.00      PROA    \nATOM   1671  OE1 GLU P 114       1.810  75.800  12.720  0.00  0.00      PROA    \nATOM   1672  OE2 GLU P 114       2.880  77.460  11.680  0.00  0.00      PROA    \nATOM   1673  C   GLU P 114       0.100  74.630   9.460  0.00  0.00      PROA    \nATOM   1674  O   GLU P 114       0.430  73.860  10.350  0.00  0.00      PROA    \nATOM   1675  N   ASN P 115      -0.930  74.320   8.720  0.00  0.00      PROA    \nATOM   1676  HN  ASN P 115      -1.140  74.860   7.900  0.00  0.00      PROA    \nATOM   1677  CA  ASN P 115      -1.980  73.320   9.000  0.00  0.00      PROA    \nATOM   1678  HA  ASN P 115      -2.320  73.630   9.970  0.00  0.00      PROA    \nATOM   1679  CB  ASN P 115      -3.170  73.590   8.030  0.00  0.00      PROA    \nATOM   1680  HB1 ASN P 115      -2.780  73.500   6.990  0.00  0.00      PROA    \nATOM   1681  HB2 ASN P 115      -4.000  72.860   8.070  0.00  0.00      PROA    \nATOM   1682  CG  ASN P 115      -3.650  75.030   8.300  0.00  0.00      PROA    \nATOM   1683  OD1 ASN P 115      -3.570  75.590   9.350  0.00  0.00      PROA    \nATOM   1684  ND2 ASN P 115      -4.360  75.560   7.230  0.00  0.00      PROA    \nATOM   1685 HD21 ASN P 115      -4.460  76.530   7.010  0.00  0.00      PROA    \nATOM   1686 HD22 ASN P 115      -4.880  74.960   6.620  0.00  0.00      PROA    \nATOM   1687  C   ASN P 115      -1.520  71.900   8.960  0.00  0.00      PROA    \nATOM   1688  O   ASN P 115      -2.220  70.960   9.230  0.00  0.00      PROA    \nATOM   1689  N   PHE P 116      -0.250  71.730   8.630  0.00  0.00      PROA    \nATOM   1690  HN  PHE P 116       0.350  72.520   8.590  0.00  0.00      PROA    \nATOM   1691  CA  PHE P 116       0.380  70.390   8.430  0.00  0.00      PROA    \nATOM   1692  HA  PHE P 116      -0.370  69.630   8.230  0.00  0.00      PROA    \nATOM   1693  CB  PHE P 116       1.650  70.540   7.540  0.00  0.00      PROA    \nATOM   1694  HB1 PHE P 116       2.310  71.430   7.670  0.00  0.00      PROA    \nATOM   1695  HB2 PHE P 116       2.180  69.570   7.710  0.00  0.00      PROA    \nATOM   1696  CG  PHE P 116       1.460  70.540   5.980  0.00  0.00      PROA    \nATOM   1697  CD1 PHE P 116       0.320  70.950   5.330  0.00  0.00      PROA    \nATOM   1698  HD1 PHE P 116      -0.550  71.250   5.900  0.00  0.00      PROA    \nATOM   1699  CE1 PHE P 116       0.360  71.180   3.900  0.00  0.00      PROA    \nATOM   1700  HE1 PHE P 116      -0.590  71.340   3.420  0.00  0.00      PROA    \nATOM   1701  CZ  PHE P 116       1.490  70.720   3.180  0.00  0.00      PROA    \nATOM   1702  HZ  PHE P 116       1.480  70.810   2.100  0.00  0.00      PROA    \nATOM   1703  CD2 PHE P 116       2.570  70.200   5.190  0.00  0.00      PROA    \nATOM   1704  HD2 PHE P 116       3.400  69.800   5.760  0.00  0.00      PROA    \nATOM   1705  CE2 PHE P 116       2.590  70.180   3.820  0.00  0.00      PROA    \nATOM   1706  HE2 PHE P 116       3.400  69.810   3.210  0.00  0.00      PROA    \nATOM   1707  C   PHE P 116       0.890  70.040   9.800  0.00  0.00      PROA    \nATOM   1708  O   PHE P 116       1.010  68.880  10.220  0.00  0.00      PROA    \nATOM   1709  N   ASN P 117       1.110  70.980  10.760  0.00  0.00      PROA    \nATOM   1710  HN  ASN P 117       0.820  71.910  10.560  0.00  0.00      PROA    \nATOM   1711  CA  ASN P 117       1.900  70.800  11.930  0.00  0.00      PROA    \nATOM   1712  HA  ASN P 117       2.640  70.080  11.630  0.00  0.00      PROA    \nATOM   1713  CB  ASN P 117       2.680  72.100  12.480  0.00  0.00      PROA    \nATOM   1714  HB1 ASN P 117       1.960  72.920  12.660  0.00  0.00      PROA    \nATOM   1715  HB2 ASN P 117       3.190  71.810  13.420  0.00  0.00      PROA    \nATOM   1716  CG  ASN P 117       3.690  72.530  11.520  0.00  0.00      PROA    \nATOM   1717  OD1 ASN P 117       4.770  71.920  11.300  0.00  0.00      PROA    \nATOM   1718  ND2 ASN P 117       3.480  73.750  11.020  0.00  0.00      PROA    \nATOM   1719 HD21 ASN P 117       2.830  74.390  11.420  0.00  0.00      PROA    \nATOM   1720 HD22 ASN P 117       4.180  74.250  10.500  0.00  0.00      PROA    \nATOM   1721  C   ASN P 117       1.170  70.160  13.090  0.00  0.00      PROA    \nATOM   1722  O   ASN P 117       1.830  69.770  14.080  0.00  0.00      PROA    \nATOM   1723  N   GLN P 118      -0.120  70.010  12.970  0.00  0.00      PROA    \nATOM   1724  HN  GLN P 118      -0.640  70.330  12.180  0.00  0.00      PROA    \nATOM   1725  CA  GLN P 118      -0.900  69.180  13.920  0.00  0.00      PROA    \nATOM   1726  HA  GLN P 118      -0.570  69.290  14.940  0.00  0.00      PROA    \nATOM   1727  CB  GLN P 118      -2.470  69.560  13.910  0.00  0.00      PROA    \nATOM   1728  HB1 GLN P 118      -2.820  69.550  12.850  0.00  0.00      PROA    \nATOM   1729  HB2 GLN P 118      -3.140  68.860  14.460  0.00  0.00      PROA    \nATOM   1730  CG  GLN P 118      -2.680  70.990  14.490  0.00  0.00      PROA    \nATOM   1731  HG1 GLN P 118      -2.560  71.760  13.700  0.00  0.00      PROA    \nATOM   1732  HG2 GLN P 118      -3.760  71.080  14.740  0.00  0.00      PROA    \nATOM   1733  CD  GLN P 118      -1.930  71.420  15.720  0.00  0.00      PROA    \nATOM   1734  OE1 GLN P 118      -2.390  71.160  16.840  0.00  0.00      PROA    \nATOM   1735  NE2 GLN P 118      -0.750  72.080  15.600  0.00  0.00      PROA    \nATOM   1736 HE21 GLN P 118      -0.390  72.280  16.510  0.00  0.00      PROA    \nATOM   1737 HE22 GLN P 118      -0.510  72.560  14.760  0.00  0.00      PROA    \nATOM   1738  C   GLN P 118      -0.630  67.660  13.650  0.00  0.00      PROA    \nATOM   1739  O   GLN P 118      -0.960  66.850  14.470  0.00  0.00      PROA    \nATOM   1740  N   HIS P 119      -0.090  67.170  12.470  0.00  0.00      PROA    \nATOM   1741  HN  HIS P 119       0.320  67.740  11.750  0.00  0.00      PROA    \nATOM   1742  CA  HIS P 119       0.090  65.790  12.180  0.00  0.00      PROA    \nATOM   1743  HA  HIS P 119      -0.410  65.240  12.950  0.00  0.00      PROA    \nATOM   1744  CB  HIS P 119      -0.480  65.440  10.740  0.00  0.00      PROA    \nATOM   1745  HB1 HIS P 119       0.240  65.910  10.030  0.00  0.00      PROA    \nATOM   1746  HB2 HIS P 119      -0.460  64.330  10.620  0.00  0.00      PROA    \nATOM   1747  ND1 HIS P 119      -3.020  65.330  11.030  0.00  0.00      PROA    \nATOM   1748  HD1 HIS P 119      -3.020  64.470  11.540  0.00  0.00      PROA    \nATOM   1749  CG  HIS P 119      -1.920  66.000  10.580  0.00  0.00      PROA    \nATOM   1750  CE1 HIS P 119      -4.130  66.110  10.870  0.00  0.00      PROA    \nATOM   1751  HE1 HIS P 119      -5.100  65.710  11.150  0.00  0.00      PROA    \nATOM   1752  NE2 HIS P 119      -3.750  67.250  10.300  0.00  0.00      PROA    \nATOM   1753  CD2 HIS P 119      -2.380  67.180  10.070  0.00  0.00      PROA    \nATOM   1754  HD2 HIS P 119      -1.920  68.020   9.560  0.00  0.00      PROA    \nATOM   1755  C   HIS P 119       1.540  65.500  12.130  0.00  0.00      PROA    \nATOM   1756  O   HIS P 119       2.360  66.280  11.620  0.00  0.00      PROA    \nATOM   1757  N   GLU P 120       1.940  64.440  12.800  0.00  0.00      PROA    \nATOM   1758  HN  GLU P 120       1.270  63.850  13.240  0.00  0.00      PROA    \nATOM   1759  CA  GLU P 120       3.330  64.120  12.880  0.00  0.00      PROA    \nATOM   1760  HA  GLU P 120       3.850  64.980  13.270  0.00  0.00      PROA    \nATOM   1761  CB  GLU P 120       3.390  63.020  13.900  0.00  0.00      PROA    \nATOM   1762  HB1 GLU P 120       2.710  62.220  13.550  0.00  0.00      PROA    \nATOM   1763  HB2 GLU P 120       4.420  62.610  13.860  0.00  0.00      PROA    \nATOM   1764  CG  GLU P 120       2.990  63.450  15.290  0.00  0.00      PROA    \nATOM   1765  HG1 GLU P 120       3.540  64.360  15.600  0.00  0.00      PROA    \nATOM   1766  HG2 GLU P 120       1.930  63.760  15.250  0.00  0.00      PROA    \nATOM   1767  CD  GLU P 120       3.160  62.200  16.230  0.00  0.00      PROA    \nATOM   1768  OE1 GLU P 120       3.780  62.340  17.340  0.00  0.00      PROA    \nATOM   1769  OE2 GLU P 120       2.710  61.120  15.840  0.00  0.00      PROA    \nATOM   1770  C   GLU P 120       4.070  63.840  11.600  0.00  0.00      PROA    \nATOM   1771  O   GLU P 120       5.250  64.090  11.430  0.00  0.00      PROA    \nATOM   1772  N   VAL P 121       3.420  63.050  10.670  0.00  0.00      PROA    \nATOM   1773  HN  VAL P 121       2.500  62.750  10.880  0.00  0.00      PROA    \nATOM   1774  CA  VAL P 121       4.110  62.470   9.540  0.00  0.00      PROA    \nATOM   1775  HA  VAL P 121       5.030  63.000   9.350  0.00  0.00      PROA    \nATOM   1776  CB  VAL P 121       4.380  60.980   9.580  0.00  0.00      PROA    \nATOM   1777  HB  VAL P 121       3.460  60.370   9.490  0.00  0.00      PROA    \nATOM   1778  CG1 VAL P 121       5.330  60.570   8.420  0.00  0.00      PROA    \nATOM   1779 HG11 VAL P 121       5.240  59.470   8.280  0.00  0.00      PROA    \nATOM   1780 HG12 VAL P 121       4.930  61.120   7.540  0.00  0.00      PROA    \nATOM   1781 HG13 VAL P 121       6.370  60.900   8.630  0.00  0.00      PROA    \nATOM   1782  CG2 VAL P 121       5.020  60.680  10.940  0.00  0.00      PROA    \nATOM   1783 HG21 VAL P 121       5.830  61.420  11.150  0.00  0.00      PROA    \nATOM   1784 HG22 VAL P 121       4.290  60.740  11.770  0.00  0.00      PROA    \nATOM   1785 HG23 VAL P 121       5.470  59.670  10.880  0.00  0.00      PROA    \nATOM   1786  C   VAL P 121       3.190  62.780   8.390  0.00  0.00      PROA    \nATOM   1787  O   VAL P 121       2.040  62.420   8.400  0.00  0.00      PROA    \nATOM   1788  N   LEU P 122       3.590  63.530   7.280  0.00  0.00      PROA    \nATOM   1789  HN  LEU P 122       4.510  63.900   7.330  0.00  0.00      PROA    \nATOM   1790  CA  LEU P 122       2.810  63.800   6.060  0.00  0.00      PROA    \nATOM   1791  HA  LEU P 122       1.890  63.240   6.080  0.00  0.00      PROA    \nATOM   1792  CB  LEU P 122       2.550  65.370   5.980  0.00  0.00      PROA    \nATOM   1793  HB1 LEU P 122       3.500  65.890   5.760  0.00  0.00      PROA    \nATOM   1794  HB2 LEU P 122       1.820  65.520   5.150  0.00  0.00      PROA    \nATOM   1795  CG  LEU P 122       1.920  66.050   7.210  0.00  0.00      PROA    \nATOM   1796  HG  LEU P 122       1.490  65.270   7.870  0.00  0.00      PROA    \nATOM   1797  CD1 LEU P 122       2.960  66.880   7.990  0.00  0.00      PROA    \nATOM   1798 HD11 LEU P 122       2.630  67.340   8.950  0.00  0.00      PROA    \nATOM   1799 HD12 LEU P 122       3.920  66.380   8.230  0.00  0.00      PROA    \nATOM   1800 HD13 LEU P 122       3.270  67.670   7.270  0.00  0.00      PROA    \nATOM   1801  CD2 LEU P 122       0.650  66.830   6.750  0.00  0.00      PROA    \nATOM   1802 HD21 LEU P 122       0.080  67.310   7.580  0.00  0.00      PROA    \nATOM   1803 HD22 LEU P 122       0.980  67.480   5.910  0.00  0.00      PROA    \nATOM   1804 HD23 LEU P 122      -0.120  66.190   6.260  0.00  0.00      PROA    \nATOM   1805  C   LEU P 122       3.450  63.380   4.750  0.00  0.00      PROA    \nATOM   1806  O   LEU P 122       4.600  63.730   4.520  0.00  0.00      PROA    \nATOM   1807  N   LEU P 123       2.730  62.730   3.800  0.00  0.00      PROA    \nATOM   1808  HN  LEU P 123       1.810  62.490   4.100  0.00  0.00      PROA    \nATOM   1809  CA  LEU P 123       3.030  62.630   2.350  0.00  0.00      PROA    \nATOM   1810  HA  LEU P 123       4.100  62.620   2.200  0.00  0.00      PROA    \nATOM   1811  CB  LEU P 123       2.650  61.140   1.840  0.00  0.00      PROA    \nATOM   1812  HB1 LEU P 123       3.320  60.410   2.340  0.00  0.00      PROA    \nATOM   1813  HB2 LEU P 123       1.610  60.970   2.200  0.00  0.00      PROA    \nATOM   1814  CG  LEU P 123       2.860  60.940   0.290  0.00  0.00      PROA    \nATOM   1815  HG  LEU P 123       2.110  61.600  -0.190  0.00  0.00      PROA    \nATOM   1816  CD1 LEU P 123       4.260  61.230  -0.360  0.00  0.00      PROA    \nATOM   1817 HD11 LEU P 123       4.260  61.080  -1.460  0.00  0.00      PROA    \nATOM   1818 HD12 LEU P 123       4.680  62.240  -0.140  0.00  0.00      PROA    \nATOM   1819 HD13 LEU P 123       4.960  60.520   0.130  0.00  0.00      PROA    \nATOM   1820  CD2 LEU P 123       2.350  59.520  -0.040  0.00  0.00      PROA    \nATOM   1821 HD21 LEU P 123       2.610  58.770   0.740  0.00  0.00      PROA    \nATOM   1822 HD22 LEU P 123       1.280  59.480  -0.340  0.00  0.00      PROA    \nATOM   1823 HD23 LEU P 123       2.880  59.150  -0.950  0.00  0.00      PROA    \nATOM   1824  C   LEU P 123       2.450  63.760   1.580  0.00  0.00      PROA    \nATOM   1825  O   LEU P 123       1.220  63.930   1.680  0.00  0.00      PROA    \nATOM   1826  N   ALA P 124       3.230  64.620   0.750  0.00  0.00      PROA    \nATOM   1827  HN  ALA P 124       4.230  64.610   0.770  0.00  0.00      PROA    \nATOM   1828  CA  ALA P 124       2.570  65.830   0.120  0.00  0.00      PROA    \nATOM   1829  HA  ALA P 124       1.500  65.700   0.000  0.00  0.00      PROA    \nATOM   1830  CB  ALA P 124       2.690  67.110   1.100  0.00  0.00      PROA    \nATOM   1831  HB1 ALA P 124       2.080  67.030   2.030  0.00  0.00      PROA    \nATOM   1832  HB2 ALA P 124       3.680  67.120   1.600  0.00  0.00      PROA    \nATOM   1833  HB3 ALA P 124       2.290  68.050   0.660  0.00  0.00      PROA    \nATOM   1834  C   ALA P 124       3.300  66.470  -1.080  0.00  0.00      PROA    \nATOM   1835  O   ALA P 124       4.460  66.270  -1.310  0.00  0.00      PROA    \nATOM   1836  N   PRO P 125       2.570  67.190  -2.020  0.00  0.00      PROA    \nATOM   1837  CD  PRO P 125       1.070  67.420  -2.040  0.00  0.00      PROA    \nATOM   1838  HD1 PRO P 125       0.510  66.460  -2.010  0.00  0.00      PROA    \nATOM   1839  HD2 PRO P 125       0.770  67.980  -1.120  0.00  0.00      PROA    \nATOM   1840  CA  PRO P 125       3.150  67.950  -3.210  0.00  0.00      PROA    \nATOM   1841  HA  PRO P 125       3.940  67.320  -3.590  0.00  0.00      PROA    \nATOM   1842  CB  PRO P 125       1.980  68.020  -4.230  0.00  0.00      PROA    \nATOM   1843  HB1 PRO P 125       1.870  66.980  -4.610  0.00  0.00      PROA    \nATOM   1844  HB2 PRO P 125       1.990  68.780  -5.040  0.00  0.00      PROA    \nATOM   1845  CG  PRO P 125       0.760  68.320  -3.320  0.00  0.00      PROA    \nATOM   1846  HG1 PRO P 125       0.780  69.390  -3.020  0.00  0.00      PROA    \nATOM   1847  HG2 PRO P 125      -0.200  67.960  -3.740  0.00  0.00      PROA    \nATOM   1848  C   PRO P 125       3.660  69.270  -2.750  0.00  0.00      PROA    \nATOM   1849  O   PRO P 125       3.380  69.630  -1.560  0.00  0.00      PROA    \nATOM   1850  N   LEU P 126       4.010  70.070  -3.710  0.00  0.00      PROA    \nATOM   1851  HN  LEU P 126       4.170  69.770  -4.640  0.00  0.00      PROA    \nATOM   1852  CA  LEU P 126       4.400  71.450  -3.490  0.00  0.00      PROA    \nATOM   1853  HA  LEU P 126       4.750  71.650  -2.490  0.00  0.00      PROA    \nATOM   1854  CB  LEU P 126       5.490  72.030  -4.480  0.00  0.00      PROA    \nATOM   1855  HB1 LEU P 126       5.250  71.640  -5.490  0.00  0.00      PROA    \nATOM   1856  HB2 LEU P 126       5.680  73.120  -4.390  0.00  0.00      PROA    \nATOM   1857  CG  LEU P 126       6.920  71.490  -4.070  0.00  0.00      PROA    \nATOM   1858  HG  LEU P 126       6.710  70.410  -3.960  0.00  0.00      PROA    \nATOM   1859  CD1 LEU P 126       8.020  71.900  -5.020  0.00  0.00      PROA    \nATOM   1860 HD11 LEU P 126       7.700  71.550  -6.030  0.00  0.00      PROA    \nATOM   1861 HD12 LEU P 126       8.180  72.960  -5.280  0.00  0.00      PROA    \nATOM   1862 HD13 LEU P 126       9.000  71.420  -4.800  0.00  0.00      PROA    \nATOM   1863  CD2 LEU P 126       7.460  71.990  -2.760  0.00  0.00      PROA    \nATOM   1864 HD21 LEU P 126       7.570  73.090  -2.860  0.00  0.00      PROA    \nATOM   1865 HD22 LEU P 126       6.820  71.690  -1.900  0.00  0.00      PROA    \nATOM   1866 HD23 LEU P 126       8.460  71.580  -2.530  0.00  0.00      PROA    \nATOM   1867  C   LEU P 126       3.130  72.280  -3.580  0.00  0.00      PROA    \nATOM   1868  O   LEU P 126       2.480  72.210  -4.630  0.00  0.00      PROA    \nATOM   1869  N   LEU P 127       2.740  73.100  -2.600  0.00  0.00      PROA    \nATOM   1870  HN  LEU P 127       3.210  73.170  -1.720  0.00  0.00      PROA    \nATOM   1871  CA  LEU P 127       1.420  73.720  -2.620  0.00  0.00      PROA    \nATOM   1872  HA  LEU P 127       0.780  73.000  -3.100  0.00  0.00      PROA    \nATOM   1873  CB  LEU P 127       0.950  74.110  -1.250  0.00  0.00      PROA    \nATOM   1874  HB1 LEU P 127       1.470  74.950  -0.750  0.00  0.00      PROA    \nATOM   1875  HB2 LEU P 127      -0.070  74.540  -1.370  0.00  0.00      PROA    \nATOM   1876  CG  LEU P 127       0.750  73.050  -0.160  0.00  0.00      PROA    \nATOM   1877  HG  LEU P 127       1.750  72.580  -0.030  0.00  0.00      PROA    \nATOM   1878  CD1 LEU P 127       0.250  73.770   1.070  0.00  0.00      PROA    \nATOM   1879 HD11 LEU P 127      -0.740  74.200   0.800  0.00  0.00      PROA    \nATOM   1880 HD12 LEU P 127      -0.050  73.150   1.950  0.00  0.00      PROA    \nATOM   1881 HD13 LEU P 127       0.920  74.580   1.420  0.00  0.00      PROA    \nATOM   1882  CD2 LEU P 127      -0.280  71.880  -0.410  0.00  0.00      PROA    \nATOM   1883 HD21 LEU P 127      -1.340  72.210  -0.470  0.00  0.00      PROA    \nATOM   1884 HD22 LEU P 127      -0.040  71.410  -1.390  0.00  0.00      PROA    \nATOM   1885 HD23 LEU P 127      -0.140  71.160   0.420  0.00  0.00      PROA    \nATOM   1886  C   LEU P 127       1.440  74.990  -3.490  0.00  0.00      PROA    \nATOM   1887  O   LEU P 127       2.440  75.640  -3.620  0.00  0.00      PROA    \nATOM   1888  N   SER P 128       0.320  75.110  -4.260  0.00  0.00      PROA    \nATOM   1889  HN  SER P 128      -0.380  74.400  -4.290  0.00  0.00      PROA    \nATOM   1890  CA  SER P 128      -0.010  76.240  -5.180  0.00  0.00      PROA    \nATOM   1891  HA  SER P 128      -1.040  76.150  -5.510  0.00  0.00      PROA    \nATOM   1892  CB  SER P 128      -0.120  77.520  -4.420  0.00  0.00      PROA    \nATOM   1893  HB1 SER P 128       0.770  77.670  -3.780  0.00  0.00      PROA    \nATOM   1894  HB2 SER P 128      -0.230  78.360  -5.140  0.00  0.00      PROA    \nATOM   1895  OG  SER P 128      -1.280  77.440  -3.500  0.00  0.00      PROA    \nATOM   1896  HG1 SER P 128      -1.710  76.610  -3.670  0.00  0.00      PROA    \nATOM   1897  C   SER P 128       0.870  76.180  -6.450  0.00  0.00      PROA    \nATOM   1898  O   SER P 128       0.990  77.100  -7.270  0.00  0.00      PROA    \nATOM   1899  N   ALA P 129       1.520  75.030  -6.670  0.00  0.00      PROA    \nATOM   1900  HN  ALA P 129       1.410  74.180  -6.180  0.00  0.00      PROA    \nATOM   1901  CA  ALA P 129       2.490  75.010  -7.670  0.00  0.00      PROA    \nATOM   1902  HA  ALA P 129       2.970  75.980  -7.700  0.00  0.00      PROA    \nATOM   1903  CB  ALA P 129       3.610  73.900  -7.330  0.00  0.00      PROA    \nATOM   1904  HB1 ALA P 129       4.340  73.850  -8.170  0.00  0.00      PROA    \nATOM   1905  HB2 ALA P 129       4.260  74.080  -6.450  0.00  0.00      PROA    \nATOM   1906  HB3 ALA P 129       3.170  72.880  -7.230  0.00  0.00      PROA    \nATOM   1907  C   ALA P 129       2.000  74.680  -9.060  0.00  0.00      PROA    \nATOM   1908  O   ALA P 129       2.780  74.690 -10.100  0.00  0.00      PROA    \nATOM   1909  N   GLY P 130       0.690  74.390  -9.290  0.00  0.00      PROA    \nATOM   1910  HN  GLY P 130      -0.030  74.630  -8.640  0.00  0.00      PROA    \nATOM   1911  CA  GLY P 130       0.140  74.110 -10.610  0.00  0.00      PROA    \nATOM   1912  HA1 GLY P 130      -0.350  73.150 -10.590  0.00  0.00      PROA    \nATOM   1913  HA2 GLY P 130       0.950  74.090 -11.330  0.00  0.00      PROA    \nATOM   1914  C   GLY P 130      -0.810  75.190 -11.070  0.00  0.00      PROA    \nATOM   1915  O   GLY P 130      -0.460  76.270 -11.470  0.00  0.00      PROA    \nATOM   1916  N   ILE P 131      -2.100  74.910 -10.950  0.00  0.00      PROA    \nATOM   1917  HN  ILE P 131      -2.190  74.110 -10.370  0.00  0.00      PROA    \nATOM   1918  CA  ILE P 131      -3.320  75.600 -11.350  0.00  0.00      PROA    \nATOM   1919  HA  ILE P 131      -3.190  75.920 -12.370  0.00  0.00      PROA    \nATOM   1920  CB  ILE P 131      -4.640  74.770 -11.260  0.00  0.00      PROA    \nATOM   1921  HB  ILE P 131      -4.540  74.200 -10.310  0.00  0.00      PROA    \nATOM   1922  CG2 ILE P 131      -5.900  75.720 -11.210  0.00  0.00      PROA    \nATOM   1923 HG21 ILE P 131      -5.850  76.490 -12.010  0.00  0.00      PROA    \nATOM   1924 HG22 ILE P 131      -6.820  75.100 -11.330  0.00  0.00      PROA    \nATOM   1925 HG23 ILE P 131      -5.960  76.260 -10.240  0.00  0.00      PROA    \nATOM   1926  CG1 ILE P 131      -4.850  73.780 -12.460  0.00  0.00      PROA    \nATOM   1927 HG11 ILE P 131      -5.910  73.440 -12.500  0.00  0.00      PROA    \nATOM   1928 HG12 ILE P 131      -4.700  74.440 -13.350  0.00  0.00      PROA    \nATOM   1929  CD  ILE P 131      -3.910  72.560 -12.410  0.00  0.00      PROA    \nATOM   1930  HD1 ILE P 131      -3.960  72.160 -11.370  0.00  0.00      PROA    \nATOM   1931  HD2 ILE P 131      -4.290  71.750 -13.060  0.00  0.00      PROA    \nATOM   1932  HD3 ILE P 131      -2.860  72.690 -12.740  0.00  0.00      PROA    \nATOM   1933  C   ILE P 131      -3.340  77.000 -10.590  0.00  0.00      PROA    \nATOM   1934  O   ILE P 131      -3.730  78.000 -11.320  0.00  0.00      PROA    \nATOM   1935  N   PHE P 132      -2.820  77.140  -9.310  0.00  0.00      PROA    \nATOM   1936  HN  PHE P 132      -2.440  76.330  -8.880  0.00  0.00      PROA    \nATOM   1937  CA  PHE P 132      -2.920  78.360  -8.470  0.00  0.00      PROA    \nATOM   1938  HA  PHE P 132      -3.770  78.940  -8.800  0.00  0.00      PROA    \nATOM   1939  CB  PHE P 132      -2.940  78.030  -6.910  0.00  0.00      PROA    \nATOM   1940  HB1 PHE P 132      -2.170  77.240  -6.790  0.00  0.00      PROA    \nATOM   1941  HB2 PHE P 132      -2.680  78.890  -6.270  0.00  0.00      PROA    \nATOM   1942  CG  PHE P 132      -4.290  77.670  -6.470  0.00  0.00      PROA    \nATOM   1943  CD1 PHE P 132      -5.340  77.260  -7.290  0.00  0.00      PROA    \nATOM   1944  HD1 PHE P 132      -5.140  77.330  -8.350  0.00  0.00      PROA    \nATOM   1945  CE1 PHE P 132      -6.550  76.840  -6.720  0.00  0.00      PROA    \nATOM   1946  HE1 PHE P 132      -7.390  76.760  -7.400  0.00  0.00      PROA    \nATOM   1947  CZ  PHE P 132      -6.780  76.830  -5.360  0.00  0.00      PROA    \nATOM   1948  HZ  PHE P 132      -7.760  76.540  -5.000  0.00  0.00      PROA    \nATOM   1949  CD2 PHE P 132      -4.530  77.580  -5.020  0.00  0.00      PROA    \nATOM   1950  HD2 PHE P 132      -3.690  77.800  -4.370  0.00  0.00      PROA    \nATOM   1951  CE2 PHE P 132      -5.770  77.170  -4.470  0.00  0.00      PROA    \nATOM   1952  HE2 PHE P 132      -5.940  77.190  -3.400  0.00  0.00      PROA    \nATOM   1953  C   PHE P 132      -1.830  79.370  -8.640  0.00  0.00      PROA    \nATOM   1954  O   PHE P 132      -1.930  80.580  -8.390  0.00  0.00      PROA    \nATOM   1955  N   GLY P 133      -0.700  78.870  -9.250  0.00  0.00      PROA    \nATOM   1956  HN  GLY P 133      -0.630  77.890  -9.400  0.00  0.00      PROA    \nATOM   1957  CA  GLY P 133       0.310  79.780  -9.800  0.00  0.00      PROA    \nATOM   1958  HA1 GLY P 133      -0.180  80.450 -10.500  0.00  0.00      PROA    \nATOM   1959  HA2 GLY P 133       0.970  79.150 -10.370  0.00  0.00      PROA    \nATOM   1960  C   GLY P 133       1.260  80.530  -8.900  0.00  0.00      PROA    \nATOM   1961  O   GLY P 133       1.560  81.640  -9.300  0.00  0.00      PROA    \nATOM   1962  N   ALA P 134       1.720  79.870  -7.810  0.00  0.00      PROA    \nATOM   1963  HN  ALA P 134       1.510  78.910  -7.670  0.00  0.00      PROA    \nATOM   1964  CA  ALA P 134       2.700  80.280  -6.900  0.00  0.00      PROA    \nATOM   1965  HA  ALA P 134       2.900  81.340  -7.030  0.00  0.00      PROA    \nATOM   1966  CB  ALA P 134       2.230  79.930  -5.370  0.00  0.00      PROA    \nATOM   1967  HB1 ALA P 134       1.210  80.370  -5.310  0.00  0.00      PROA    \nATOM   1968  HB2 ALA P 134       2.230  78.830  -5.230  0.00  0.00      PROA    \nATOM   1969  HB3 ALA P 134       3.030  80.410  -4.760  0.00  0.00      PROA    \nATOM   1970  C   ALA P 134       4.080  79.610  -7.290  0.00  0.00      PROA    \nATOM   1971  O   ALA P 134       4.060  78.490  -7.710  0.00  0.00      PROA    \nATOM   1972  N   ASP P 135       5.190  80.280  -7.140  0.00  0.00      PROA    \nATOM   1973  HN  ASP P 135       5.170  81.220  -6.810  0.00  0.00      PROA    \nATOM   1974  CA  ASP P 135       6.580  79.770  -7.370  0.00  0.00      PROA    \nATOM   1975  HA  ASP P 135       6.640  79.500  -8.410  0.00  0.00      PROA    \nATOM   1976  CB  ASP P 135       7.620  80.950  -7.210  0.00  0.00      PROA    \nATOM   1977  HB1 ASP P 135       7.460  81.740  -7.970  0.00  0.00      PROA    \nATOM   1978  HB2 ASP P 135       7.420  81.460  -6.240  0.00  0.00      PROA    \nATOM   1979  CG  ASP P 135       9.100  80.610  -7.330  0.00  0.00      PROA    \nATOM   1980  OD1 ASP P 135       9.430  79.480  -7.810  0.00  0.00      PROA    \nATOM   1981  OD2 ASP P 135       9.990  81.490  -7.090  0.00  0.00      PROA    \nATOM   1982  C   ASP P 135       6.930  78.480  -6.550  0.00  0.00      PROA    \nATOM   1983  O   ASP P 135       7.070  78.620  -5.340  0.00  0.00      PROA    \nATOM   1984  N   PRO P 136       7.210  77.300  -7.130  0.00  0.00      PROA    \nATOM   1985  CD  PRO P 136       6.790  76.930  -8.560  0.00  0.00      PROA    \nATOM   1986  HD1 PRO P 136       5.690  77.030  -8.650  0.00  0.00      PROA    \nATOM   1987  HD2 PRO P 136       7.170  77.680  -9.290  0.00  0.00      PROA    \nATOM   1988  CA  PRO P 136       7.780  76.140  -6.470  0.00  0.00      PROA    \nATOM   1989  HA  PRO P 136       6.950  75.680  -5.940  0.00  0.00      PROA    \nATOM   1990  CB  PRO P 136       8.210  75.250  -7.600  0.00  0.00      PROA    \nATOM   1991  HB1 PRO P 136       8.470  74.190  -7.410  0.00  0.00      PROA    \nATOM   1992  HB2 PRO P 136       9.110  75.700  -8.080  0.00  0.00      PROA    \nATOM   1993  CG  PRO P 136       7.110  75.470  -8.710  0.00  0.00      PROA    \nATOM   1994  HG1 PRO P 136       7.460  75.300  -9.750  0.00  0.00      PROA    \nATOM   1995  HG2 PRO P 136       6.170  74.910  -8.520  0.00  0.00      PROA    \nATOM   1996  C   PRO P 136       9.050  76.410  -5.540  0.00  0.00      PROA    \nATOM   1997  O   PRO P 136       9.100  75.810  -4.550  0.00  0.00      PROA    \nATOM   1998  N   ILE P 137      10.010  77.200  -5.910  0.00  0.00      PROA    \nATOM   1999  HN  ILE P 137      10.050  77.710  -6.770  0.00  0.00      PROA    \nATOM   2000  CA  ILE P 137      11.300  77.310  -5.160  0.00  0.00      PROA    \nATOM   2001  HA  ILE P 137      11.610  76.300  -4.960  0.00  0.00      PROA    \nATOM   2002  CB  ILE P 137      12.470  77.900  -5.860  0.00  0.00      PROA    \nATOM   2003  HB  ILE P 137      12.380  79.010  -5.880  0.00  0.00      PROA    \nATOM   2004  CG2 ILE P 137      13.800  77.600  -5.100  0.00  0.00      PROA    \nATOM   2005 HG21 ILE P 137      13.950  76.500  -5.180  0.00  0.00      PROA    \nATOM   2006 HG22 ILE P 137      14.680  78.060  -5.610  0.00  0.00      PROA    \nATOM   2007 HG23 ILE P 137      13.790  77.950  -4.050  0.00  0.00      PROA    \nATOM   2008  CG1 ILE P 137      12.480  77.500  -7.360  0.00  0.00      PROA    \nATOM   2009 HG11 ILE P 137      11.610  78.000  -7.830  0.00  0.00      PROA    \nATOM   2010 HG12 ILE P 137      13.410  77.990  -7.710  0.00  0.00      PROA    \nATOM   2011  CD  ILE P 137      12.530  76.020  -7.660  0.00  0.00      PROA    \nATOM   2012  HD1 ILE P 137      11.650  75.520  -7.190  0.00  0.00      PROA    \nATOM   2013  HD2 ILE P 137      12.500  75.900  -8.760  0.00  0.00      PROA    \nATOM   2014  HD3 ILE P 137      13.530  75.700  -7.310  0.00  0.00      PROA    \nATOM   2015  C   ILE P 137      10.920  77.980  -3.790  0.00  0.00      PROA    \nATOM   2016  O   ILE P 137      11.330  77.520  -2.660  0.00  0.00      PROA    \nATOM   2017  N   HIS P 138      10.100  79.050  -3.930  0.00  0.00      PROA    \nATOM   2018  HN  HIS P 138       9.880  79.280  -4.870  0.00  0.00      PROA    \nATOM   2019  CA  HIS P 138       9.480  79.870  -2.950  0.00  0.00      PROA    \nATOM   2020  HA  HIS P 138      10.310  80.270  -2.390  0.00  0.00      PROA    \nATOM   2021  CB  HIS P 138       8.750  81.040  -3.580  0.00  0.00      PROA    \nATOM   2022  HB1 HIS P 138       9.370  81.410  -4.430  0.00  0.00      PROA    \nATOM   2023  HB2 HIS P 138       7.770  80.680  -3.960  0.00  0.00      PROA    \nATOM   2024  ND1 HIS P 138       8.990  83.300  -2.630  0.00  0.00      PROA    \nATOM   2025  HD1 HIS P 138       9.800  83.520  -3.170  0.00  0.00      PROA    \nATOM   2026  CG  HIS P 138       8.320  82.110  -2.680  0.00  0.00      PROA    \nATOM   2027  CE1 HIS P 138       8.300  84.100  -1.730  0.00  0.00      PROA    \nATOM   2028  HE1 HIS P 138       8.610  85.120  -1.540  0.00  0.00      PROA    \nATOM   2029  NE2 HIS P 138       7.300  83.400  -1.200  0.00  0.00      PROA    \nATOM   2030  CD2 HIS P 138       7.270  82.240  -1.870  0.00  0.00      PROA    \nATOM   2031  HD2 HIS P 138       6.480  81.600  -1.510  0.00  0.00      PROA    \nATOM   2032  C   HIS P 138       8.520  79.130  -2.060  0.00  0.00      PROA    \nATOM   2033  O   HIS P 138       8.400  79.260  -0.890  0.00  0.00      PROA    \nATOM   2034  N   SER P 139       7.750  78.270  -2.700  0.00  0.00      PROA    \nATOM   2035  HN  SER P 139       7.960  78.170  -3.670  0.00  0.00      PROA    \nATOM   2036  CA  SER P 139       6.800  77.380  -2.040  0.00  0.00      PROA    \nATOM   2037  HA  SER P 139       6.150  77.910  -1.360  0.00  0.00      PROA    \nATOM   2038  CB  SER P 139       5.860  76.610  -3.080  0.00  0.00      PROA    \nATOM   2039  HB1 SER P 139       5.450  77.420  -3.720  0.00  0.00      PROA    \nATOM   2040  HB2 SER P 139       6.620  76.000  -3.610  0.00  0.00      PROA    \nATOM   2041  OG  SER P 139       4.890  75.750  -2.420  0.00  0.00      PROA    \nATOM   2042  HG1 SER P 139       4.120  75.650  -2.990  0.00  0.00      PROA    \nATOM   2043  C   SER P 139       7.560  76.400  -1.150  0.00  0.00      PROA    \nATOM   2044  O   SER P 139       7.140  76.170  -0.020  0.00  0.00      PROA    \nATOM   2045  N   LEU P 140       8.680  75.770  -1.600  0.00  0.00      PROA    \nATOM   2046  HN  LEU P 140       8.900  75.880  -2.570  0.00  0.00      PROA    \nATOM   2047  CA  LEU P 140       9.500  74.930  -0.810  0.00  0.00      PROA    \nATOM   2048  HA  LEU P 140       8.860  74.200  -0.340  0.00  0.00      PROA    \nATOM   2049  CB  LEU P 140      10.540  74.190  -1.650  0.00  0.00      PROA    \nATOM   2050  HB1 LEU P 140       9.880  73.570  -2.300  0.00  0.00      PROA    \nATOM   2051  HB2 LEU P 140      10.920  74.880  -2.430  0.00  0.00      PROA    \nATOM   2052  CG  LEU P 140      11.660  73.400  -0.940  0.00  0.00      PROA    \nATOM   2053  HG  LEU P 140      11.430  73.160   0.120  0.00  0.00      PROA    \nATOM   2054  CD1 LEU P 140      11.980  72.020  -1.630  0.00  0.00      PROA    \nATOM   2055 HD11 LEU P 140      12.810  71.630  -1.010  0.00  0.00      PROA    \nATOM   2056 HD12 LEU P 140      11.100  71.340  -1.540  0.00  0.00      PROA    \nATOM   2057 HD13 LEU P 140      12.300  72.100  -2.690  0.00  0.00      PROA    \nATOM   2058  CD2 LEU P 140      13.010  74.200  -0.920  0.00  0.00      PROA    \nATOM   2059 HD21 LEU P 140      13.410  74.650  -1.860  0.00  0.00      PROA    \nATOM   2060 HD22 LEU P 140      13.000  75.040  -0.200  0.00  0.00      PROA    \nATOM   2061 HD23 LEU P 140      13.740  73.470  -0.510  0.00  0.00      PROA    \nATOM   2062  C   LEU P 140      10.100  75.700   0.360  0.00  0.00      PROA    \nATOM   2063  O   LEU P 140      10.020  75.220   1.460  0.00  0.00      PROA    \nATOM   2064  N   ARG P 141      10.560  76.950   0.150  0.00  0.00      PROA    \nATOM   2065  HN  ARG P 141      10.590  77.210  -0.810  0.00  0.00      PROA    \nATOM   2066  CA  ARG P 141      11.100  77.790   1.180  0.00  0.00      PROA    \nATOM   2067  HA  ARG P 141      11.890  77.240   1.670  0.00  0.00      PROA    \nATOM   2068  CB  ARG P 141      11.780  79.000   0.570  0.00  0.00      PROA    \nATOM   2069  HB1 ARG P 141      11.180  79.590  -0.150  0.00  0.00      PROA    \nATOM   2070  HB2 ARG P 141      12.060  79.830   1.260  0.00  0.00      PROA    \nATOM   2071  CG  ARG P 141      13.040  78.610  -0.140  0.00  0.00      PROA    \nATOM   2072  HG1 ARG P 141      13.830  78.340   0.590  0.00  0.00      PROA    \nATOM   2073  HG2 ARG P 141      12.770  77.850  -0.910  0.00  0.00      PROA    \nATOM   2074  CD  ARG P 141      13.710  79.750  -0.940  0.00  0.00      PROA    \nATOM   2075  HD1 ARG P 141      12.930  80.070  -1.660  0.00  0.00      PROA    \nATOM   2076  HD2 ARG P 141      14.000  80.650  -0.360  0.00  0.00      PROA    \nATOM   2077  NE  ARG P 141      14.940  79.320  -1.680  0.00  0.00      PROA    \nATOM   2078  HE  ARG P 141      15.700  78.860  -1.210  0.00  0.00      PROA    \nATOM   2079  CZ  ARG P 141      15.390  79.790  -2.820  0.00  0.00      PROA    \nATOM   2080  NH1 ARG P 141      14.850  80.940  -3.310  0.00  0.00      PROA    \nATOM   2081 HH11 ARG P 141      14.070  81.450  -2.940  0.00  0.00      PROA    \nATOM   2082 HH12 ARG P 141      15.240  81.140  -4.210  0.00  0.00      PROA    \nATOM   2083  NH2 ARG P 141      16.430  79.280  -3.520  0.00  0.00      PROA    \nATOM   2084 HH21 ARG P 141      16.890  79.900  -4.160  0.00  0.00      PROA    \nATOM   2085 HH22 ARG P 141      16.870  78.510  -3.070  0.00  0.00      PROA    \nATOM   2086  C   ARG P 141      10.110  78.080   2.280  0.00  0.00      PROA    \nATOM   2087  O   ARG P 141      10.350  77.920   3.450  0.00  0.00      PROA    \nATOM   2088  N   VAL P 142       8.840  78.420   1.850  0.00  0.00      PROA    \nATOM   2089  HN  VAL P 142       8.650  78.570   0.880  0.00  0.00      PROA    \nATOM   2090  CA  VAL P 142       7.720  78.650   2.820  0.00  0.00      PROA    \nATOM   2091  HA  VAL P 142       8.040  79.360   3.560  0.00  0.00      PROA    \nATOM   2092  CB  VAL P 142       6.430  79.410   2.320  0.00  0.00      PROA    \nATOM   2093  HB  VAL P 142       5.890  78.850   1.530  0.00  0.00      PROA    \nATOM   2094  CG1 VAL P 142       5.420  79.630   3.510  0.00  0.00      PROA    \nATOM   2095 HG11 VAL P 142       5.720  80.400   4.260  0.00  0.00      PROA    \nATOM   2096 HG12 VAL P 142       4.500  80.100   3.130  0.00  0.00      PROA    \nATOM   2097 HG13 VAL P 142       5.020  78.710   3.990  0.00  0.00      PROA    \nATOM   2098  CG2 VAL P 142       6.820  80.830   1.810  0.00  0.00      PROA    \nATOM   2099 HG21 VAL P 142       7.630  80.670   1.070  0.00  0.00      PROA    \nATOM   2100 HG22 VAL P 142       5.950  81.330   1.320  0.00  0.00      PROA    \nATOM   2101 HG23 VAL P 142       7.140  81.570   2.570  0.00  0.00      PROA    \nATOM   2102  C   VAL P 142       7.450  77.420   3.580  0.00  0.00      PROA    \nATOM   2103  O   VAL P 142       7.240  77.430   4.810  0.00  0.00      PROA    \nATOM   2104  N   CYS P 143       7.430  76.200   2.860  0.00  0.00      PROA    \nATOM   2105  HN  CYS P 143       7.290  76.240   1.880  0.00  0.00      PROA    \nATOM   2106  CA  CYS P 143       7.260  74.870   3.450  0.00  0.00      PROA    \nATOM   2107  HA  CYS P 143       6.310  74.850   3.970  0.00  0.00      PROA    \nATOM   2108  CB  CYS P 143       7.250  73.780   2.270  0.00  0.00      PROA    \nATOM   2109  HB1 CYS P 143       6.530  73.970   1.450  0.00  0.00      PROA    \nATOM   2110  HB2 CYS P 143       8.280  73.820   1.840  0.00  0.00      PROA    \nATOM   2111  SG  CYS P 143       6.930  72.120   2.870  0.00  0.00      PROA    \nATOM   2112  HG1 CYS P 143       5.610  72.250   2.950  0.00  0.00      PROA    \nATOM   2113  C   CYS P 143       8.290  74.580   4.560  0.00  0.00      PROA    \nATOM   2114  O   CYS P 143       7.980  74.340   5.720  0.00  0.00      PROA    \nATOM   2115  N   VAL P 144       9.570  74.730   4.240  0.00  0.00      PROA    \nATOM   2116  HN  VAL P 144       9.860  74.860   3.300  0.00  0.00      PROA    \nATOM   2117  CA  VAL P 144      10.700  74.660   5.150  0.00  0.00      PROA    \nATOM   2118  HA  VAL P 144      10.790  73.670   5.560  0.00  0.00      PROA    \nATOM   2119  CB  VAL P 144      12.040  74.830   4.430  0.00  0.00      PROA    \nATOM   2120  HB  VAL P 144      12.020  75.750   3.810  0.00  0.00      PROA    \nATOM   2121  CG1 VAL P 144      13.290  74.850   5.450  0.00  0.00      PROA    \nATOM   2122 HG11 VAL P 144      13.060  74.160   6.290  0.00  0.00      PROA    \nATOM   2123 HG12 VAL P 144      14.280  74.470   5.100  0.00  0.00      PROA    \nATOM   2124 HG13 VAL P 144      13.460  75.880   5.830  0.00  0.00      PROA    \nATOM   2125  CG2 VAL P 144      12.230  73.660   3.430  0.00  0.00      PROA    \nATOM   2126 HG21 VAL P 144      12.180  72.670   3.920  0.00  0.00      PROA    \nATOM   2127 HG22 VAL P 144      11.530  73.620   2.560  0.00  0.00      PROA    \nATOM   2128 HG23 VAL P 144      13.210  73.860   2.950  0.00  0.00      PROA    \nATOM   2129  C   VAL P 144      10.630  75.590   6.350  0.00  0.00      PROA    \nATOM   2130  O   VAL P 144      10.750  75.260   7.540  0.00  0.00      PROA    \nATOM   2131  N   ASP P 145      10.240  76.920   6.110  0.00  0.00      PROA    \nATOM   2132  HN  ASP P 145      10.010  77.260   5.190  0.00  0.00      PROA    \nATOM   2133  CA  ASP P 145      10.080  77.850   7.150  0.00  0.00      PROA    \nATOM   2134  HA  ASP P 145      11.000  77.730   7.700  0.00  0.00      PROA    \nATOM   2135  CB  ASP P 145       9.940  79.230   6.500  0.00  0.00      PROA    \nATOM   2136  HB1 ASP P 145      10.890  79.430   5.970  0.00  0.00      PROA    \nATOM   2137  HB2 ASP P 145       9.040  79.210   5.850  0.00  0.00      PROA    \nATOM   2138  CG  ASP P 145       9.770  80.390   7.510  0.00  0.00      PROA    \nATOM   2139  OD1 ASP P 145       8.750  81.140   7.480  0.00  0.00      PROA    \nATOM   2140  OD2 ASP P 145      10.740  80.530   8.320  0.00  0.00      PROA    \nATOM   2141  C   ASP P 145       8.980  77.470   8.180  0.00  0.00      PROA    \nATOM   2142  O   ASP P 145       9.070  77.480   9.430  0.00  0.00      PROA    \nATOM   2143  N   THR P 146       7.890  76.910   7.660  0.00  0.00      PROA    \nATOM   2144  HN  THR P 146       7.960  76.780   6.670  0.00  0.00      PROA    \nATOM   2145  CA  THR P 146       6.680  76.790   8.420  0.00  0.00      PROA    \nATOM   2146  HA  THR P 146       6.820  77.330   9.340  0.00  0.00      PROA    \nATOM   2147  CB  THR P 146       5.420  77.160   7.580  0.00  0.00      PROA    \nATOM   2148  HB  THR P 146       5.070  76.310   6.950  0.00  0.00      PROA    \nATOM   2149  OG1 THR P 146       5.500  78.320   6.730  0.00  0.00      PROA    \nATOM   2150  HG1 THR P 146       6.130  78.050   6.050  0.00  0.00      PROA    \nATOM   2151  CG2 THR P 146       4.320  77.620   8.520  0.00  0.00      PROA    \nATOM   2152 HG21 THR P 146       3.460  78.170   8.090  0.00  0.00      PROA    \nATOM   2153 HG22 THR P 146       3.940  76.690   9.000  0.00  0.00      PROA    \nATOM   2154 HG23 THR P 146       4.660  78.260   9.360  0.00  0.00      PROA    \nATOM   2155  C   THR P 146       6.380  75.400   8.870  0.00  0.00      PROA    \nATOM   2156  O   THR P 146       5.680  75.260   9.860  0.00  0.00      PROA    \nATOM   2157  N   VAL P 147       6.900  74.330   8.190  0.00  0.00      PROA    \nATOM   2158  HN  VAL P 147       7.530  74.480   7.440  0.00  0.00      PROA    \nATOM   2159  CA  VAL P 147       6.600  72.950   8.560  0.00  0.00      PROA    \nATOM   2160  HA  VAL P 147       5.730  72.960   9.200  0.00  0.00      PROA    \nATOM   2161  CB  VAL P 147       6.360  72.080   7.280  0.00  0.00      PROA    \nATOM   2162  HB  VAL P 147       7.260  72.030   6.620  0.00  0.00      PROA    \nATOM   2163  CG1 VAL P 147       5.850  70.690   7.680  0.00  0.00      PROA    \nATOM   2164 HG11 VAL P 147       6.750  70.210   8.110  0.00  0.00      PROA    \nATOM   2165 HG12 VAL P 147       5.080  70.770   8.470  0.00  0.00      PROA    \nATOM   2166 HG13 VAL P 147       5.430  70.030   6.890  0.00  0.00      PROA    \nATOM   2167  CG2 VAL P 147       5.160  72.800   6.490  0.00  0.00      PROA    \nATOM   2168 HG21 VAL P 147       4.230  72.960   7.080  0.00  0.00      PROA    \nATOM   2169 HG22 VAL P 147       5.520  73.790   6.140  0.00  0.00      PROA    \nATOM   2170 HG23 VAL P 147       4.970  72.170   5.600  0.00  0.00      PROA    \nATOM   2171  C   VAL P 147       7.760  72.490   9.460  0.00  0.00      PROA    \nATOM   2172  O   VAL P 147       8.920  72.490   9.000  0.00  0.00      PROA    \nATOM   2173  N   ARG P 148       7.450  72.130  10.690  0.00  0.00      PROA    \nATOM   2174  HN  ARG P 148       6.520  72.310  11.010  0.00  0.00      PROA    \nATOM   2175  CA  ARG P 148       8.330  71.600  11.730  0.00  0.00      PROA    \nATOM   2176  HA  ARG P 148       9.360  71.640  11.390  0.00  0.00      PROA    \nATOM   2177  CB  ARG P 148       8.160  72.380  13.040  0.00  0.00      PROA    \nATOM   2178  HB1 ARG P 148       7.100  72.280  13.360  0.00  0.00      PROA    \nATOM   2179  HB2 ARG P 148       8.850  71.840  13.730  0.00  0.00      PROA    \nATOM   2180  CG  ARG P 148       8.650  73.880  13.030  0.00  0.00      PROA    \nATOM   2181  HG1 ARG P 148       9.160  74.100  13.990  0.00  0.00      PROA    \nATOM   2182  HG2 ARG P 148       9.500  73.870  12.320  0.00  0.00      PROA    \nATOM   2183  CD  ARG P 148       7.670  75.060  12.770  0.00  0.00      PROA    \nATOM   2184  HD1 ARG P 148       8.180  76.050  12.850  0.00  0.00      PROA    \nATOM   2185  HD2 ARG P 148       7.430  74.870  11.700  0.00  0.00      PROA    \nATOM   2186  NE  ARG P 148       6.500  74.860  13.680  0.00  0.00      PROA    \nATOM   2187  HE  ARG P 148       6.670  74.260  14.450  0.00  0.00      PROA    \nATOM   2188  CZ  ARG P 148       5.350  75.430  13.420  0.00  0.00      PROA    \nATOM   2189  NH1 ARG P 148       4.250  75.100  14.110  0.00  0.00      PROA    \nATOM   2190 HH11 ARG P 148       3.360  75.460  13.810  0.00  0.00      PROA    \nATOM   2191 HH12 ARG P 148       4.310  74.440  14.850  0.00  0.00      PROA    \nATOM   2192  NH2 ARG P 148       5.210  76.420  12.540  0.00  0.00      PROA    \nATOM   2193 HH21 ARG P 148       6.030  76.630  12.010  0.00  0.00      PROA    \nATOM   2194 HH22 ARG P 148       4.300  76.740  12.240  0.00  0.00      PROA    \nATOM   2195  C   ARG P 148       8.030  70.180  12.090  0.00  0.00      PROA    \nATOM   2196  O   ARG P 148       8.770  69.400  12.700  0.00  0.00      PROA    \nATOM   2197  N   THR P 149       6.840  69.550  11.590  0.00  0.00      PROA    \nATOM   2198  HN  THR P 149       6.180  69.980  10.980  0.00  0.00      PROA    \nATOM   2199  CA  THR P 149       6.660  68.130  11.640  0.00  0.00      PROA    \nATOM   2200  HA  THR P 149       7.110  67.730  12.530  0.00  0.00      PROA    \nATOM   2201  CB  THR P 149       5.210  67.610  11.870  0.00  0.00      PROA    \nATOM   2202  HB  THR P 149       5.250  66.510  12.020  0.00  0.00      PROA    \nATOM   2203  OG1 THR P 149       4.310  67.940  10.910  0.00  0.00      PROA    \nATOM   2204  HG1 THR P 149       3.480  67.520  11.180  0.00  0.00      PROA    \nATOM   2205  CG2 THR P 149       4.650  68.280  13.140  0.00  0.00      PROA    \nATOM   2206 HG21 THR P 149       5.290  68.000  14.010  0.00  0.00      PROA    \nATOM   2207 HG22 THR P 149       4.660  69.380  12.960  0.00  0.00      PROA    \nATOM   2208 HG23 THR P 149       3.650  67.860  13.370  0.00  0.00      PROA    \nATOM   2209  C   THR P 149       7.280  67.490  10.400  0.00  0.00      PROA    \nATOM   2210  O   THR P 149       7.880  68.220   9.560  0.00  0.00      PROA    \nATOM   2211  N   ASN P 150       7.260  66.170  10.230  0.00  0.00      PROA    \nATOM   2212  HN  ASN P 150       6.910  65.570  10.940  0.00  0.00      PROA    \nATOM   2213  CA  ASN P 150       7.930  65.500   9.180  0.00  0.00      PROA    \nATOM   2214  HA  ASN P 150       8.890  65.970   9.070  0.00  0.00      PROA    \nATOM   2215  CB  ASN P 150       8.260  63.980   9.310  0.00  0.00      PROA    \nATOM   2216  HB1 ASN P 150       7.410  63.390   9.720  0.00  0.00      PROA    \nATOM   2217  HB2 ASN P 150       8.620  63.550   8.350  0.00  0.00      PROA    \nATOM   2218  CG  ASN P 150       9.400  63.760  10.370  0.00  0.00      PROA    \nATOM   2219  OD1 ASN P 150       9.660  64.570  11.240  0.00  0.00      PROA    \nATOM   2220  ND2 ASN P 150      10.190  62.700  10.120  0.00  0.00      PROA    \nATOM   2221 HD21 ASN P 150      10.130  62.240   9.230  0.00  0.00      PROA    \nATOM   2222 HD22 ASN P 150      10.940  62.520  10.760  0.00  0.00      PROA    \nATOM   2223  C   ASN P 150       7.160  65.530   7.840  0.00  0.00      PROA    \nATOM   2224  O   ASN P 150       6.030  65.090   7.840  0.00  0.00      PROA    \nATOM   2225  N   VAL P 151       7.770  66.000   6.690  0.00  0.00      PROA    \nATOM   2226  HN  VAL P 151       8.710  66.300   6.600  0.00  0.00      PROA    \nATOM   2227  CA  VAL P 151       6.990  66.260   5.500  0.00  0.00      PROA    \nATOM   2228  HA  VAL P 151       6.040  65.760   5.570  0.00  0.00      PROA    \nATOM   2229  CB  VAL P 151       6.620  67.760   5.340  0.00  0.00      PROA    \nATOM   2230  HB  VAL P 151       5.980  67.890   6.240  0.00  0.00      PROA    \nATOM   2231  CG1 VAL P 151       7.870  68.670   5.420  0.00  0.00      PROA    \nATOM   2232 HG11 VAL P 151       8.560  68.400   4.600  0.00  0.00      PROA    \nATOM   2233 HG12 VAL P 151       7.460  69.700   5.370  0.00  0.00      PROA    \nATOM   2234 HG13 VAL P 151       8.440  68.570   6.370  0.00  0.00      PROA    \nATOM   2235  CG2 VAL P 151       5.770  68.100   4.140  0.00  0.00      PROA    \nATOM   2236 HG21 VAL P 151       6.340  68.020   3.190  0.00  0.00      PROA    \nATOM   2237 HG22 VAL P 151       4.830  67.520   4.170  0.00  0.00      PROA    \nATOM   2238 HG23 VAL P 151       5.570  69.190   4.140  0.00  0.00      PROA    \nATOM   2239  C   VAL P 151       7.760  65.680   4.370  0.00  0.00      PROA    \nATOM   2240  O   VAL P 151       8.910  65.910   4.120  0.00  0.00      PROA    \nATOM   2241  N   TYR P 152       7.070  64.780   3.650  0.00  0.00      PROA    \nATOM   2242  HN  TYR P 152       6.180  64.420   3.940  0.00  0.00      PROA    \nATOM   2243  CA  TYR P 152       7.690  64.090   2.550  0.00  0.00      PROA    \nATOM   2244  HA  TYR P 152       8.750  64.260   2.600  0.00  0.00      PROA    \nATOM   2245  CB  TYR P 152       7.340  62.590   2.710  0.00  0.00      PROA    \nATOM   2246  HB1 TYR P 152       6.260  62.410   2.910  0.00  0.00      PROA    \nATOM   2247  HB2 TYR P 152       7.750  62.000   1.860  0.00  0.00      PROA    \nATOM   2248  CG  TYR P 152       8.190  62.070   3.930  0.00  0.00      PROA    \nATOM   2249  CD1 TYR P 152       9.470  61.440   3.840  0.00  0.00      PROA    \nATOM   2250  HD1 TYR P 152       9.790  61.340   2.820  0.00  0.00      PROA    \nATOM   2251  CE1 TYR P 152      10.150  61.040   5.040  0.00  0.00      PROA    \nATOM   2252  HE1 TYR P 152      11.180  60.730   5.100  0.00  0.00      PROA    \nATOM   2253  CZ  TYR P 152       9.490  61.110   6.240  0.00  0.00      PROA    \nATOM   2254  OH  TYR P 152      10.150  60.690   7.400  0.00  0.00      PROA    \nATOM   2255  HH  TYR P 152       9.570  60.090   7.860  0.00  0.00      PROA    \nATOM   2256  CD2 TYR P 152       7.550  62.120   5.150  0.00  0.00      PROA    \nATOM   2257  HD2 TYR P 152       6.590  62.560   5.370  0.00  0.00      PROA    \nATOM   2258  CE2 TYR P 152       8.160  61.550   6.280  0.00  0.00      PROA    \nATOM   2259  HE2 TYR P 152       7.610  61.580   7.200  0.00  0.00      PROA    \nATOM   2260  C   TYR P 152       7.230  64.610   1.280  0.00  0.00      PROA    \nATOM   2261  O   TYR P 152       6.060  64.390   0.950  0.00  0.00      PROA    \nATOM   2262  N   LEU P 153       8.110  65.280   0.490  0.00  0.00      PROA    \nATOM   2263  HN  LEU P 153       9.010  65.510   0.870  0.00  0.00      PROA    \nATOM   2264  CA  LEU P 153       7.680  65.990  -0.720  0.00  0.00      PROA    \nATOM   2265  HA  LEU P 153       6.630  66.260  -0.690  0.00  0.00      PROA    \nATOM   2266  CB  LEU P 153       8.630  67.210  -1.030  0.00  0.00      PROA    \nATOM   2267  HB1 LEU P 153       9.680  66.900  -1.230  0.00  0.00      PROA    \nATOM   2268  HB2 LEU P 153       8.250  67.750  -1.930  0.00  0.00      PROA    \nATOM   2269  CG  LEU P 153       8.580  68.310   0.140  0.00  0.00      PROA    \nATOM   2270  HG  LEU P 153       8.620  67.770   1.110  0.00  0.00      PROA    \nATOM   2271  CD1 LEU P 153       9.860  69.270   0.010  0.00  0.00      PROA    \nATOM   2272 HD11 LEU P 153       9.800  69.970   0.870  0.00  0.00      PROA    \nATOM   2273 HD12 LEU P 153      10.830  68.750   0.120  0.00  0.00      PROA    \nATOM   2274 HD13 LEU P 153       9.980  69.910  -0.900  0.00  0.00      PROA    \nATOM   2275  CD2 LEU P 153       7.360  69.090   0.080  0.00  0.00      PROA    \nATOM   2276 HD21 LEU P 153       6.540  68.370  -0.130  0.00  0.00      PROA    \nATOM   2277 HD22 LEU P 153       7.110  69.650   1.000  0.00  0.00      PROA    \nATOM   2278 HD23 LEU P 153       7.440  69.830  -0.750  0.00  0.00      PROA    \nATOM   2279  C   LEU P 153       7.780  65.070  -1.970  0.00  0.00      PROA    \nATOM   2280  O   LEU P 153       8.920  64.840  -2.490  0.00  0.00      PROA    \nATOM   2281  N   ALA P 154       6.670  64.550  -2.410  0.00  0.00      PROA    \nATOM   2282  HN  ALA P 154       5.810  64.720  -1.950  0.00  0.00      PROA    \nATOM   2283  CA  ALA P 154       6.660  63.910  -3.740  0.00  0.00      PROA    \nATOM   2284  HA  ALA P 154       7.610  63.390  -3.750  0.00  0.00      PROA    \nATOM   2285  CB  ALA P 154       5.300  63.070  -3.770  0.00  0.00      PROA    \nATOM   2286  HB1 ALA P 154       5.290  62.400  -2.880  0.00  0.00      PROA    \nATOM   2287  HB2 ALA P 154       4.330  63.600  -3.830  0.00  0.00      PROA    \nATOM   2288  HB3 ALA P 154       5.280  62.390  -4.650  0.00  0.00      PROA    \nATOM   2289  C   ALA P 154       6.640  64.900  -4.930  0.00  0.00      PROA    \nATOM   2290  O   ALA P 154       5.670  65.540  -5.120  0.00  0.00      PROA    \nATOM   2291  N   VAL P 155       7.710  64.950  -5.760  0.00  0.00      PROA    \nATOM   2292  HN  VAL P 155       8.450  64.360  -5.440  0.00  0.00      PROA    \nATOM   2293  CA  VAL P 155       7.870  65.840  -6.860  0.00  0.00      PROA    \nATOM   2294  HA  VAL P 155       6.980  66.440  -6.910  0.00  0.00      PROA    \nATOM   2295  CB  VAL P 155       9.040  66.850  -6.730  0.00  0.00      PROA    \nATOM   2296  HB  VAL P 155       9.870  66.150  -6.470  0.00  0.00      PROA    \nATOM   2297  CG1 VAL P 155       9.400  67.450  -8.110  0.00  0.00      PROA    \nATOM   2298 HG11 VAL P 155       8.510  67.890  -8.600  0.00  0.00      PROA    \nATOM   2299 HG12 VAL P 155      10.240  68.150  -7.910  0.00  0.00      PROA    \nATOM   2300 HG13 VAL P 155       9.940  66.710  -8.750  0.00  0.00      PROA    \nATOM   2301  CG2 VAL P 155       8.750  67.880  -5.600  0.00  0.00      PROA    \nATOM   2302 HG21 VAL P 155       7.820  68.460  -5.760  0.00  0.00      PROA    \nATOM   2303 HG22 VAL P 155       8.690  67.370  -4.620  0.00  0.00      PROA    \nATOM   2304 HG23 VAL P 155       9.590  68.620  -5.640  0.00  0.00      PROA    \nATOM   2305  C   VAL P 155       7.910  64.900  -8.070  0.00  0.00      PROA    \nATOM   2306  O   VAL P 155       8.910  64.200  -8.310  0.00  0.00      PROA    \nATOM   2307  N   PHE P 156       6.850  64.970  -8.870  0.00  0.00      PROA    \nATOM   2308  HN  PHE P 156       6.110  65.560  -8.540  0.00  0.00      PROA    \nATOM   2309  CA  PHE P 156       6.510  64.230 -10.090  0.00  0.00      PROA    \nATOM   2310  HA  PHE P 156       6.510  63.170  -9.920  0.00  0.00      PROA    \nATOM   2311  CB  PHE P 156       5.050  64.630 -10.440  0.00  0.00      PROA    \nATOM   2312  HB1 PHE P 156       4.320  64.320  -9.660  0.00  0.00      PROA    \nATOM   2313  HB2 PHE P 156       5.010  65.740 -10.540  0.00  0.00      PROA    \nATOM   2314  CG  PHE P 156       4.520  64.070 -11.780  0.00  0.00      PROA    \nATOM   2315  CD1 PHE P 156       3.730  62.940 -11.810  0.00  0.00      PROA    \nATOM   2316  HD1 PHE P 156       3.670  62.320 -10.930  0.00  0.00      PROA    \nATOM   2317  CE1 PHE P 156       3.190  62.330 -13.000  0.00  0.00      PROA    \nATOM   2318  HE1 PHE P 156       2.780  61.340 -13.080  0.00  0.00      PROA    \nATOM   2319  CZ  PHE P 156       3.270  63.040 -14.240  0.00  0.00      PROA    \nATOM   2320  HZ  PHE P 156       2.900  62.550 -15.130  0.00  0.00      PROA    \nATOM   2321  CD2 PHE P 156       4.590  64.770 -13.040  0.00  0.00      PROA    \nATOM   2322  HD2 PHE P 156       5.090  65.730 -13.140  0.00  0.00      PROA    \nATOM   2323  CE2 PHE P 156       4.000  64.230 -14.240  0.00  0.00      PROA    \nATOM   2324  HE2 PHE P 156       3.950  64.850 -15.130  0.00  0.00      PROA    \nATOM   2325  C   PHE P 156       7.500  64.460 -11.140  0.00  0.00      PROA    \nATOM   2326  O   PHE P 156       7.950  63.600 -11.940  0.00  0.00      PROA    \nATOM   2327  N   ASP P 157       7.890  65.780 -11.260  0.00  0.00      PROA    \nATOM   2328  HN  ASP P 157       7.680  66.450 -10.560  0.00  0.00      PROA    \nATOM   2329  CA  ASP P 157       8.720  66.250 -12.350  0.00  0.00      PROA    \nATOM   2330  HA  ASP P 157       8.540  65.650 -13.230  0.00  0.00      PROA    \nATOM   2331  CB  ASP P 157       8.280  67.680 -12.690  0.00  0.00      PROA    \nATOM   2332  HB1 ASP P 157       7.170  67.680 -12.820  0.00  0.00      PROA    \nATOM   2333  HB2 ASP P 157       8.640  68.440 -11.960  0.00  0.00      PROA    \nATOM   2334  CG  ASP P 157       8.940  68.140 -14.010  0.00  0.00      PROA    \nATOM   2335  OD1 ASP P 157       8.720  69.370 -14.320  0.00  0.00      PROA    \nATOM   2336  OD2 ASP P 157       9.590  67.350 -14.730  0.00  0.00      PROA    \nATOM   2337  C   ASP P 157      10.180  66.050 -12.040  0.00  0.00      PROA    \nATOM   2338  O   ASP P 157      10.760  66.650 -11.140  0.00  0.00      PROA    \nATOM   2339  N   LYS P 158      10.880  65.310 -12.890  0.00  0.00      PROA    \nATOM   2340  HN  LYS P 158      10.340  64.900 -13.620  0.00  0.00      PROA    \nATOM   2341  CA  LYS P 158      12.310  65.270 -12.850  0.00  0.00      PROA    \nATOM   2342  HA  LYS P 158      12.710  64.940 -11.900  0.00  0.00      PROA    \nATOM   2343  CB  LYS P 158      12.920  64.080 -13.740  0.00  0.00      PROA    \nATOM   2344  HB1 LYS P 158      13.950  63.780 -13.450  0.00  0.00      PROA    \nATOM   2345  HB2 LYS P 158      12.370  63.200 -13.330  0.00  0.00      PROA    \nATOM   2346  CG  LYS P 158      12.690  64.180 -15.240  0.00  0.00      PROA    \nATOM   2347  HG1 LYS P 158      11.610  63.980 -15.430  0.00  0.00      PROA    \nATOM   2348  HG2 LYS P 158      12.830  65.230 -15.580  0.00  0.00      PROA    \nATOM   2349  CD  LYS P 158      13.590  63.250 -16.180  0.00  0.00      PROA    \nATOM   2350  HD1 LYS P 158      13.160  63.410 -17.190  0.00  0.00      PROA    \nATOM   2351  HD2 LYS P 158      14.620  63.670 -16.130  0.00  0.00      PROA    \nATOM   2352  CE  LYS P 158      13.680  61.840 -15.860  0.00  0.00      PROA    \nATOM   2353  HE1 LYS P 158      14.220  61.710 -14.900  0.00  0.00      PROA    \nATOM   2354  HE2 LYS P 158      12.780  61.230 -16.080  0.00  0.00      PROA    \nATOM   2355  NZ  LYS P 158      14.600  61.190 -16.850  0.00  0.00      PROA    \nATOM   2356  HZ1 LYS P 158      14.260  60.240 -17.080  0.00  0.00      PROA    \nATOM   2357  HZ2 LYS P 158      14.680  61.650 -17.780  0.00  0.00      PROA    \nATOM   2358  HZ3 LYS P 158      15.550  61.170 -16.430  0.00  0.00      PROA    \nATOM   2359  C   LYS P 158      13.060  66.580 -13.090  0.00  0.00      PROA    \nATOM   2360  O   LYS P 158      14.180  66.690 -12.570  0.00  0.00      PROA    \nATOM   2361  N   ASN P 159      12.540  67.570 -13.860  0.00  0.00      PROA    \nATOM   2362  HN  ASN P 159      11.670  67.450 -14.330  0.00  0.00      PROA    \nATOM   2363  CA  ASN P 159      13.070  68.960 -13.960  0.00  0.00      PROA    \nATOM   2364  HA  ASN P 159      14.140  68.830 -14.030  0.00  0.00      PROA    \nATOM   2365  CB  ASN P 159      12.380  69.690 -15.240  0.00  0.00      PROA    \nATOM   2366  HB1 ASN P 159      12.490  68.910 -16.030  0.00  0.00      PROA    \nATOM   2367  HB2 ASN P 159      11.290  69.800 -15.110  0.00  0.00      PROA    \nATOM   2368  CG  ASN P 159      12.960  71.070 -15.560  0.00  0.00      PROA    \nATOM   2369  OD1 ASN P 159      12.230  72.050 -15.600  0.00  0.00      PROA    \nATOM   2370  ND2 ASN P 159      14.230  71.240 -15.980  0.00  0.00      PROA    \nATOM   2371 HD21 ASN P 159      14.910  70.510 -15.920  0.00  0.00      PROA    \nATOM   2372 HD22 ASN P 159      14.440  72.130 -16.390  0.00  0.00      PROA    \nATOM   2373  C   ASN P 159      13.030  69.800 -12.770  0.00  0.00      PROA    \nATOM   2374  O   ASN P 159      13.900  70.530 -12.360  0.00  0.00      PROA    \nATOM   2375  N   LEU P 160      11.830  69.780 -12.070  0.00  0.00      PROA    \nATOM   2376  HN  LEU P 160      11.070  69.220 -12.400  0.00  0.00      PROA    \nATOM   2377  CA  LEU P 160      11.710  70.510 -10.780  0.00  0.00      PROA    \nATOM   2378  HA  LEU P 160      12.040  71.530 -10.930  0.00  0.00      PROA    \nATOM   2379  CB  LEU P 160      10.200  70.560 -10.540  0.00  0.00      PROA    \nATOM   2380  HB1 LEU P 160       9.640  70.730 -11.480  0.00  0.00      PROA    \nATOM   2381  HB2 LEU P 160       9.820  69.600 -10.130  0.00  0.00      PROA    \nATOM   2382  CG  LEU P 160       9.910  71.540  -9.460  0.00  0.00      PROA    \nATOM   2383  HG  LEU P 160      10.440  71.080  -8.600  0.00  0.00      PROA    \nATOM   2384  CD1 LEU P 160      10.280  73.010  -9.620  0.00  0.00      PROA    \nATOM   2385 HD11 LEU P 160      10.220  73.470  -8.610  0.00  0.00      PROA    \nATOM   2386 HD12 LEU P 160      11.360  73.190  -9.790  0.00  0.00      PROA    \nATOM   2387 HD13 LEU P 160       9.630  73.630 -10.280  0.00  0.00      PROA    \nATOM   2388  CD2 LEU P 160       8.350  71.460  -9.170  0.00  0.00      PROA    \nATOM   2389 HD21 LEU P 160       8.140  70.480  -8.690  0.00  0.00      PROA    \nATOM   2390 HD22 LEU P 160       8.100  72.240  -8.410  0.00  0.00      PROA    \nATOM   2391 HD23 LEU P 160       7.670  71.590 -10.040  0.00  0.00      PROA    \nATOM   2392  C   LEU P 160      12.430  69.940  -9.630  0.00  0.00      PROA    \nATOM   2393  O   LEU P 160      12.970  70.750  -8.890  0.00  0.00      PROA    \nATOM   2394  N   TYR P 161      12.560  68.580  -9.490  0.00  0.00      PROA    \nATOM   2395  HN  TYR P 161      12.070  68.010 -10.140  0.00  0.00      PROA    \nATOM   2396  CA  TYR P 161      13.420  67.990  -8.570  0.00  0.00      PROA    \nATOM   2397  HA  TYR P 161      13.060  68.400  -7.640  0.00  0.00      PROA    \nATOM   2398  CB  TYR P 161      13.290  66.440  -8.810  0.00  0.00      PROA    \nATOM   2399  HB1 TYR P 161      12.260  66.010  -8.830  0.00  0.00      PROA    \nATOM   2400  HB2 TYR P 161      13.600  66.200  -9.850  0.00  0.00      PROA    \nATOM   2401  CG  TYR P 161      14.050  65.630  -7.750  0.00  0.00      PROA    \nATOM   2402  CD1 TYR P 161      13.460  65.170  -6.550  0.00  0.00      PROA    \nATOM   2403  HD1 TYR P 161      12.460  65.510  -6.310  0.00  0.00      PROA    \nATOM   2404  CE1 TYR P 161      14.360  64.700  -5.580  0.00  0.00      PROA    \nATOM   2405  HE1 TYR P 161      14.060  64.360  -4.600  0.00  0.00      PROA    \nATOM   2406  CZ  TYR P 161      15.740  64.610  -5.720  0.00  0.00      PROA    \nATOM   2407  OH  TYR P 161      16.410  64.200  -4.510  0.00  0.00      PROA    \nATOM   2408  HH  TYR P 161      17.360  64.230  -4.620  0.00  0.00      PROA    \nATOM   2409  CD2 TYR P 161      15.360  65.390  -7.970  0.00  0.00      PROA    \nATOM   2410  HD2 TYR P 161      15.750  65.670  -8.940  0.00  0.00      PROA    \nATOM   2411  CE2 TYR P 161      16.290  64.860  -7.000  0.00  0.00      PROA    \nATOM   2412  HE2 TYR P 161      17.340  64.770  -7.210  0.00  0.00      PROA    \nATOM   2413  C   TYR P 161      14.890  68.410  -8.740  0.00  0.00      PROA    \nATOM   2414  O   TYR P 161      15.440  68.760  -7.680  0.00  0.00      PROA    \nATOM   2415  N   ASP P 162      15.480  68.480  -9.990  0.00  0.00      PROA    \nATOM   2416  HN  ASP P 162      14.940  68.100 -10.730  0.00  0.00      PROA    \nATOM   2417  CA  ASP P 162      16.730  69.050 -10.210  0.00  0.00      PROA    \nATOM   2418  HA  ASP P 162      17.460  68.620  -9.530  0.00  0.00      PROA    \nATOM   2419  CB  ASP P 162      17.070  68.920 -11.800  0.00  0.00      PROA    \nATOM   2420  HB1 ASP P 162      16.640  68.030 -12.310  0.00  0.00      PROA    \nATOM   2421  HB2 ASP P 162      16.400  69.760 -12.060  0.00  0.00      PROA    \nATOM   2422  CG  ASP P 162      18.490  69.150 -12.130  0.00  0.00      PROA    \nATOM   2423  OD1 ASP P 162      18.720  69.830 -13.110  0.00  0.00      PROA    \nATOM   2424  OD2 ASP P 162      19.400  68.670 -11.380  0.00  0.00      PROA    \nATOM   2425  C   ASP P 162      16.860  70.490  -9.760  0.00  0.00      PROA    \nATOM   2426  O   ASP P 162      17.720  70.910  -9.030  0.00  0.00      PROA    \nATOM   2427  N   LYS P 163      15.870  71.360 -10.150  0.00  0.00      PROA    \nATOM   2428  HN  LYS P 163      15.120  70.970 -10.680  0.00  0.00      PROA    \nATOM   2429  CA  LYS P 163      15.830  72.770  -9.830  0.00  0.00      PROA    \nATOM   2430  HA  LYS P 163      16.810  73.150 -10.090  0.00  0.00      PROA    \nATOM   2431  CB  LYS P 163      14.740  73.530 -10.720  0.00  0.00      PROA    \nATOM   2432  HB1 LYS P 163      13.810  72.950 -10.560  0.00  0.00      PROA    \nATOM   2433  HB2 LYS P 163      14.730  74.570 -10.320  0.00  0.00      PROA    \nATOM   2434  CG  LYS P 163      14.990  73.570 -12.230  0.00  0.00      PROA    \nATOM   2435  HG1 LYS P 163      15.790  74.320 -12.440  0.00  0.00      PROA    \nATOM   2436  HG2 LYS P 163      15.510  72.650 -12.570  0.00  0.00      PROA    \nATOM   2437  CD  LYS P 163      13.730  73.870 -13.050  0.00  0.00      PROA    \nATOM   2438  HD1 LYS P 163      13.970  73.930 -14.140  0.00  0.00      PROA    \nATOM   2439  HD2 LYS P 163      12.950  73.070 -12.990  0.00  0.00      PROA    \nATOM   2440  CE  LYS P 163      13.100  75.260 -12.690  0.00  0.00      PROA    \nATOM   2441  HE1 LYS P 163      12.090  75.380 -13.140  0.00  0.00      PROA    \nATOM   2442  HE2 LYS P 163      12.790  75.300 -11.620  0.00  0.00      PROA    \nATOM   2443  NZ  LYS P 163      13.940  76.430 -13.000  0.00  0.00      PROA    \nATOM   2444  HZ1 LYS P 163      13.770  76.710 -13.980  0.00  0.00      PROA    \nATOM   2445  HZ2 LYS P 163      13.550  77.190 -12.400  0.00  0.00      PROA    \nATOM   2446  HZ3 LYS P 163      14.970  76.350 -12.830  0.00  0.00      PROA    \nATOM   2447  C   LYS P 163      15.740  73.160  -8.310  0.00  0.00      PROA    \nATOM   2448  O   LYS P 163      16.460  74.060  -7.920  0.00  0.00      PROA    \nATOM   2449  N   LEU P 164      14.980  72.480  -7.550  0.00  0.00      PROA    \nATOM   2450  HN  LEU P 164      14.460  71.740  -7.980  0.00  0.00      PROA    \nATOM   2451  CA  LEU P 164      14.750  72.710  -6.170  0.00  0.00      PROA    \nATOM   2452  HA  LEU P 164      14.570  73.770  -6.000  0.00  0.00      PROA    \nATOM   2453  CB  LEU P 164      13.640  71.760  -5.630  0.00  0.00      PROA    \nATOM   2454  HB1 LEU P 164      13.870  70.690  -5.800  0.00  0.00      PROA    \nATOM   2455  HB2 LEU P 164      13.590  71.860  -4.530  0.00  0.00      PROA    \nATOM   2456  CG  LEU P 164      12.220  72.120  -6.080  0.00  0.00      PROA    \nATOM   2457  HG  LEU P 164      12.430  72.340  -7.150  0.00  0.00      PROA    \nATOM   2458  CD1 LEU P 164      11.380  70.860  -5.890  0.00  0.00      PROA    \nATOM   2459 HD11 LEU P 164      11.200  70.720  -4.800  0.00  0.00      PROA    \nATOM   2460 HD12 LEU P 164      10.460  70.910  -6.510  0.00  0.00      PROA    \nATOM   2461 HD13 LEU P 164      11.870  69.910  -6.200  0.00  0.00      PROA    \nATOM   2462  CD2 LEU P 164      11.590  73.350  -5.460  0.00  0.00      PROA    \nATOM   2463 HD21 LEU P 164      11.230  73.100  -4.440  0.00  0.00      PROA    \nATOM   2464 HD22 LEU P 164      12.360  74.150  -5.410  0.00  0.00      PROA    \nATOM   2465 HD23 LEU P 164      10.740  73.660  -6.110  0.00  0.00      PROA    \nATOM   2466  C   LEU P 164      15.970  72.460  -5.280  0.00  0.00      PROA    \nATOM   2467  O   LEU P 164      16.320  73.210  -4.390  0.00  0.00      PROA    \nATOM   2468  N   VAL P 165      16.650  71.300  -5.580  0.00  0.00      PROA    \nATOM   2469  HN  VAL P 165      16.250  70.550  -6.100  0.00  0.00      PROA    \nATOM   2470  CA  VAL P 165      17.840  70.890  -4.760  0.00  0.00      PROA    \nATOM   2471  HA  VAL P 165      17.580  71.050  -3.720  0.00  0.00      PROA    \nATOM   2472  CB  VAL P 165      18.260  69.420  -4.980  0.00  0.00      PROA    \nATOM   2473  HB  VAL P 165      18.270  69.310  -6.090  0.00  0.00      PROA    \nATOM   2474  CG1 VAL P 165      19.600  68.950  -4.330  0.00  0.00      PROA    \nATOM   2475 HG11 VAL P 165      19.540  69.010  -3.220  0.00  0.00      PROA    \nATOM   2476 HG12 VAL P 165      19.690  67.860  -4.510  0.00  0.00      PROA    \nATOM   2477 HG13 VAL P 165      20.440  69.560  -4.710  0.00  0.00      PROA    \nATOM   2478  CG2 VAL P 165      17.050  68.520  -4.560  0.00  0.00      PROA    \nATOM   2479 HG21 VAL P 165      17.350  67.460  -4.400  0.00  0.00      PROA    \nATOM   2480 HG22 VAL P 165      16.700  68.900  -3.580  0.00  0.00      PROA    \nATOM   2481 HG23 VAL P 165      16.250  68.530  -5.340  0.00  0.00      PROA    \nATOM   2482  C   VAL P 165      19.010  71.820  -4.960  0.00  0.00      PROA    \nATOM   2483  O   VAL P 165      19.770  72.100  -4.060  0.00  0.00      PROA    \nATOM   2484  N   SER P 166      19.120  72.250  -6.230  0.00  0.00      PROA    \nATOM   2485  HN  SER P 166      18.420  71.910  -6.870  0.00  0.00      PROA    \nATOM   2486  CA  SER P 166      20.080  73.100  -6.800  0.00  0.00      PROA    \nATOM   2487  HA  SER P 166      21.090  72.780  -6.630  0.00  0.00      PROA    \nATOM   2488  CB  SER P 166      19.820  73.310  -8.330  0.00  0.00      PROA    \nATOM   2489  HB1 SER P 166      18.800  73.630  -8.620  0.00  0.00      PROA    \nATOM   2490  HB2 SER P 166      20.500  74.050  -8.810  0.00  0.00      PROA    \nATOM   2491  OG  SER P 166      20.040  72.070  -9.040  0.00  0.00      PROA    \nATOM   2492  HG1 SER P 166      19.190  71.610  -9.050  0.00  0.00      PROA    \nATOM   2493  C   SER P 166      20.060  74.470  -6.150  0.00  0.00      PROA    \nATOM   2494  O   SER P 166      21.110  75.140  -5.980  0.00  0.00      PROA    \nATOM   2495  N   LEU P 167      18.910  75.050  -6.070  0.00  0.00      PROA    \nATOM   2496  HN  LEU P 167      18.000  74.690  -6.270  0.00  0.00      PROA    \nATOM   2497  CA  LEU P 167      18.720  76.390  -5.580  0.00  0.00      PROA    \nATOM   2498  HA  LEU P 167      19.640  76.960  -5.670  0.00  0.00      PROA    \nATOM   2499  CB  LEU P 167      17.540  77.170  -6.380  0.00  0.00      PROA    \nATOM   2500  HB1 LEU P 167      16.560  76.690  -6.150  0.00  0.00      PROA    \nATOM   2501  HB2 LEU P 167      17.530  78.270  -6.200  0.00  0.00      PROA    \nATOM   2502  CG  LEU P 167      17.710  77.140  -7.930  0.00  0.00      PROA    \nATOM   2503  HG  LEU P 167      17.840  76.080  -8.240  0.00  0.00      PROA    \nATOM   2504  CD1 LEU P 167      16.560  77.820  -8.670  0.00  0.00      PROA    \nATOM   2505 HD11 LEU P 167      16.720  78.910  -8.510  0.00  0.00      PROA    \nATOM   2506 HD12 LEU P 167      16.790  77.730  -9.750  0.00  0.00      PROA    \nATOM   2507 HD13 LEU P 167      15.510  77.580  -8.360  0.00  0.00      PROA    \nATOM   2508  CD2 LEU P 167      19.090  77.720  -8.420  0.00  0.00      PROA    \nATOM   2509 HD21 LEU P 167      19.200  77.580  -9.520  0.00  0.00      PROA    \nATOM   2510 HD22 LEU P 167      19.150  78.790  -8.130  0.00  0.00      PROA    \nATOM   2511 HD23 LEU P 167      20.000  77.240  -8.000  0.00  0.00      PROA    \nATOM   2512  C   LEU P 167      18.420  76.470  -4.080  0.00  0.00      PROA    \nATOM   2513  O   LEU P 167      18.670  77.550  -3.470  0.00  0.00      PROA    \nATOM   2514  N   PHE P 168      17.820  75.390  -3.460  0.00  0.00      PROA    \nATOM   2515  HN  PHE P 168      17.390  74.600  -3.890  0.00  0.00      PROA    \nATOM   2516  CA  PHE P 168      17.690  75.330  -2.010  0.00  0.00      PROA    \nATOM   2517  HA  PHE P 168      17.180  76.210  -1.650  0.00  0.00      PROA    \nATOM   2518  CB  PHE P 168      16.800  74.130  -1.560  0.00  0.00      PROA    \nATOM   2519  HB1 PHE P 168      15.790  74.100  -2.030  0.00  0.00      PROA    \nATOM   2520  HB2 PHE P 168      17.280  73.220  -1.980  0.00  0.00      PROA    \nATOM   2521  CG  PHE P 168      16.600  73.910  -0.120  0.00  0.00      PROA    \nATOM   2522  CD1 PHE P 168      16.950  72.700   0.480  0.00  0.00      PROA    \nATOM   2523  HD1 PHE P 168      17.430  71.920  -0.100  0.00  0.00      PROA    \nATOM   2524  CE1 PHE P 168      16.920  72.550   1.870  0.00  0.00      PROA    \nATOM   2525  HE1 PHE P 168      17.420  71.690   2.290  0.00  0.00      PROA    \nATOM   2526  CZ  PHE P 168      16.310  73.490   2.650  0.00  0.00      PROA    \nATOM   2527  HZ  PHE P 168      16.200  73.290   3.710  0.00  0.00      PROA    \nATOM   2528  CD2 PHE P 168      16.010  74.910   0.720  0.00  0.00      PROA    \nATOM   2529  HD2 PHE P 168      15.700  75.810   0.210  0.00  0.00      PROA    \nATOM   2530  CE2 PHE P 168      15.780  74.640   2.090  0.00  0.00      PROA    \nATOM   2531  HE2 PHE P 168      15.330  75.440   2.650  0.00  0.00      PROA    \nATOM   2532  C   PHE P 168      19.040  75.260  -1.360  0.00  0.00      PROA    \nATOM   2533  O   PHE P 168      19.380  75.940  -0.360  0.00  0.00      PROA    \nATOM   2534  N   LEU P 169      19.930  74.400  -1.940  0.00  0.00      PROA    \nATOM   2535  HN  LEU P 169      19.710  73.780  -2.690  0.00  0.00      PROA    \nATOM   2536  CA  LEU P 169      21.220  74.150  -1.360  0.00  0.00      PROA    \nATOM   2537  HA  LEU P 169      21.150  74.480  -0.330  0.00  0.00      PROA    \nATOM   2538  CB  LEU P 169      21.620  72.610  -1.420  0.00  0.00      PROA    \nATOM   2539  HB1 LEU P 169      21.690  72.110  -2.410  0.00  0.00      PROA    \nATOM   2540  HB2 LEU P 169      22.650  72.510  -1.020  0.00  0.00      PROA    \nATOM   2541  CG  LEU P 169      20.780  71.590  -0.640  0.00  0.00      PROA    \nATOM   2542  HG  LEU P 169      19.810  71.420  -1.160  0.00  0.00      PROA    \nATOM   2543  CD1 LEU P 169      21.490  70.190  -0.640  0.00  0.00      PROA    \nATOM   2544 HD11 LEU P 169      22.440  70.390  -0.090  0.00  0.00      PROA    \nATOM   2545 HD12 LEU P 169      20.860  69.420  -0.140  0.00  0.00      PROA    \nATOM   2546 HD13 LEU P 169      21.710  69.790  -1.650  0.00  0.00      PROA    \nATOM   2547  CD2 LEU P 169      20.450  72.080   0.840  0.00  0.00      PROA    \nATOM   2548 HD21 LEU P 169      21.410  71.920   1.370  0.00  0.00      PROA    \nATOM   2549 HD22 LEU P 169      20.170  73.150   0.820  0.00  0.00      PROA    \nATOM   2550 HD23 LEU P 169      19.630  71.460   1.270  0.00  0.00      PROA    \nATOM   2551  C   LEU P 169      22.280  75.020  -1.990  0.00  0.00      PROA    \nATOM   2552  O   LEU P 169      22.780  74.740  -3.090  0.00  0.00      PROA    \nATOM   2553  N   GLU P 170      22.840  76.020  -1.300  0.00  0.00      PROA    \nATOM   2554  HN  GLU P 170      22.520  76.180  -0.370  0.00  0.00      PROA    \nATOM   2555  CA  GLU P 170      23.890  76.900  -1.700  0.00  0.00      PROA    \nATOM   2556  HA  GLU P 170      24.250  76.640  -2.690  0.00  0.00      PROA    \nATOM   2557  CB  GLU P 170      23.450  78.420  -1.620  0.00  0.00      PROA    \nATOM   2558  HB1 GLU P 170      23.030  78.750  -0.640  0.00  0.00      PROA    \nATOM   2559  HB2 GLU P 170      24.310  79.060  -1.880  0.00  0.00      PROA    \nATOM   2560  CG  GLU P 170      22.300  78.710  -2.710  0.00  0.00      PROA    \nATOM   2561  HG1 GLU P 170      22.870  78.610  -3.660  0.00  0.00      PROA    \nATOM   2562  HG2 GLU P 170      21.490  77.950  -2.660  0.00  0.00      PROA    \nATOM   2563  CD  GLU P 170      21.740  80.140  -2.830  0.00  0.00      PROA    \nATOM   2564  OE1 GLU P 170      22.410  80.970  -3.520  0.00  0.00      PROA    \nATOM   2565  OE2 GLU P 170      20.700  80.390  -2.110  0.00  0.00      PROA    \nATOM   2566  C   GLU P 170      25.110  76.610  -0.780  0.00  0.00      PROA    \nATOM   2567  O   GLU P 170      26.130  77.260  -0.950  0.00  0.00      PROA    \nATOM   2568  N   MET P 171      25.150  75.620   0.120  0.00  0.00      PROA    \nATOM   2569  HN  MET P 171      24.370  75.000   0.140  0.00  0.00      PROA    \nATOM   2570  CA  MET P 171      26.180  75.260   1.070  0.00  0.00      PROA    \nATOM   2571  HA  MET P 171      25.710  74.410   1.550  0.00  0.00      PROA    \nATOM   2572  CB  MET P 171      27.490  74.840   0.310  0.00  0.00      PROA    \nATOM   2573  HB1 MET P 171      27.940  75.770  -0.100  0.00  0.00      PROA    \nATOM   2574  HB2 MET P 171      28.220  74.390   1.010  0.00  0.00      PROA    \nATOM   2575  CG  MET P 171      27.250  73.790  -0.710  0.00  0.00      PROA    \nATOM   2576  HG1 MET P 171      28.150  73.600  -1.320  0.00  0.00      PROA    \nATOM   2577  HG2 MET P 171      26.580  74.230  -1.470  0.00  0.00      PROA    \nATOM   2578  SD  MET P 171      26.540  72.120  -0.080  0.00  0.00      PROA    \nATOM   2579  CE  MET P 171      25.770  71.490  -1.640  0.00  0.00      PROA    \nATOM   2580  HE1 MET P 171      26.380  71.520  -2.570  0.00  0.00      PROA    \nATOM   2581  HE2 MET P 171      25.360  70.470  -1.520  0.00  0.00      PROA    \nATOM   2582  HE3 MET P 171      24.770  71.890  -1.890  0.00  0.00      PROA    \nATOM   2583  C   MET P 171      26.550  76.320   2.090  0.00  0.00      PROA    \nATOM   2584  O   MET P 171      25.860  77.330   2.160  0.00  0.00      PROA    \nATOM   2585  NT  MET P 171      27.450  76.060   3.120  0.00  0.00      PROA    \nATOM   2586  HNT MET P 171      28.030  75.250   3.030  0.00  0.00      PROA    \nATOM   2587  CAT MET P 171      27.620  76.880   4.320  0.00  0.00      PROA    \nATOM   2588  HT1 MET P 171      27.540  77.950   4.050  0.00  0.00      PROA    \nATOM   2589  HT2 MET P 171      26.710  76.710   4.930  0.00  0.00      PROA    \nATOM   2590  HT3 MET P 171      28.510  76.680   4.950  0.00  0.00      PROA    \nEND\n",
           "type": "blob"
          }
         ],
         "kwargs": {
          "defaultRepresentation": false,
          "ext": "pdb",
          "name": "nglview.adaptor.MDAnalysisTrajectory"
         },
         "methodName": "loadFile",
         "reconstruc_color_scheme": false,
         "target": "Stage",
         "type": "call_method"
        },
        {
         "args": [
          "cartoon"
         ],
         "component_index": 0,
         "kwargs": {
          "color": "white",
          "sele": "protein"
         },
         "methodName": "addRepresentation",
         "reconstruc_color_scheme": false,
         "target": "compList",
         "type": "call_method"
        },
        {
         "args": [
          "shape",
          [
           [
            "cylinder",
            [
             2.299999952316284,
             52.59000015258789,
             7.690000057220459
            ],
            [
             2.809999942779541,
             63.79999923706055,
             6.059999942779541
            ],
            [
             0.25098039215686274,
             0.8784313725490196,
             0.8156862745098039,
             1
            ],
            1,
            "VAL:3_LEU:122"
           ]
          ]
         ],
         "fire_embed": true,
         "kwargs": {},
         "methodName": "addShape",
         "reconstruc_color_scheme": false,
         "target": "Widget",
         "type": "call_method"
        },
        {
         "args": [
          "shape",
          [
           [
            "cylinder",
            [
             7.539999961853027,
             53.27000045776367,
             5.449999809265137
            ],
            [
             0.14000000059604645,
             74.11000061035156,
             -10.609999656677246
            ],
            [
             0.36441277048191045,
             0.896841863271933,
             0.8435989539929308,
             1
            ],
            1,
            "SER:5_GLY:130"
           ]
          ]
         ],
         "fire_embed": true,
         "kwargs": {},
         "methodName": "addShape",
         "reconstruc_color_scheme": false,
         "target": "Widget",
         "type": "call_method"
        },
        {
         "args": [
          "shape",
          [
           [
            "cylinder",
            [
             2.299999952316284,
             52.59000015258789,
             7.690000057220459
            ],
            [
             3.0299999713897705,
             62.630001068115234,
             2.3499999046325684
            ],
            [
             0.3768537410078834,
             0.8988610783834784,
             0.8466603446459189,
             1
            ],
            1,
            "VAL:3_LEU:123"
           ]
          ]
         ],
         "fire_embed": true,
         "kwargs": {},
         "methodName": "addShape",
         "reconstruc_color_scheme": false,
         "target": "Widget",
         "type": "call_method"
        },
        {
         "args": [
          "shape",
          [
           [
            "cylinder",
            [
             7.539999961853027,
             53.27000045776367,
             5.449999809265137
            ],
            [
             2.299999952316284,
             60.650001525878906,
             -4.960000038146973
            ],
            [
             0.4273494449074208,
             0.9070567161891625,
             0.8590859890609883,
             1
            ],
            1,
            "SER:5_ILE:23"
           ]
          ]
         ],
         "fire_embed": true,
         "kwargs": {},
         "methodName": "addShape",
         "reconstruc_color_scheme": false,
         "target": "Widget",
         "type": "call_method"
        },
        {
         "args": [
          "shape",
          [
           [
            "cylinder",
            [
             -15.239999771118164,
             74.48999786376953,
             -3.200000047683716
            ],
            [
             -6.659999847412109,
             85.04000091552734,
             -9.029999732971191
            ],
            [
             0.4397904154333937,
             0.9090759313007079,
             0.8621473797139765,
             1
            ],
            1,
            "TYR:42_LYS:102"
           ]
          ]
         ],
         "fire_embed": true,
         "kwargs": {},
         "methodName": "addShape",
         "reconstruc_color_scheme": false,
         "target": "Widget",
         "type": "call_method"
        },
        {
         "args": [
          "shape",
          [
           [
            "cylinder",
            [
             -16.270000457763672,
             62.41999816894531,
             0.9599999785423279
            ],
            [
             -8.029999732971191,
             73.13999938964844,
             5.829999923706055
            ],
            [
             0.46540417828098524,
             0.9132331388833013,
             0.8684502428230697,
             1
            ],
            1,
            "GLU:64_SER:80"
           ]
          ]
         ],
         "fire_embed": true,
         "kwargs": {},
         "methodName": "addShape",
         "reconstruc_color_scheme": false,
         "target": "Widget",
         "type": "call_method"
        },
        {
         "args": [
          "shape",
          [
           [
            "cylinder",
            [
             -17.84000015258789,
             62.11000061035156,
             -2.619999885559082
            ],
            [
             -8.029999732971191,
             73.13999938964844,
             5.829999923706055
            ],
            [
             0.47784514880695805,
             0.9152523539948466,
             0.8715116334760578,
             1
            ],
            1,
            "VAL:63_SER:80"
           ]
          ]
         ],
         "fire_embed": true,
         "kwargs": {},
         "methodName": "addShape",
         "reconstruc_color_scheme": false,
         "target": "Widget",
         "type": "call_method"
        },
        {
         "args": [
          "shape",
          [
           [
            "cylinder",
            [
             7.539999961853027,
             53.27000045776367,
             5.449999809265137
            ],
            [
             -0.9399999976158142,
             58.36000061035156,
             8.039999961853027
            ],
            [
             0.4902861193329311,
             0.917271569106392,
             0.8745730241290459,
             1
            ],
            1,
            "SER:5_THR:33"
           ]
          ]
         ],
         "fire_embed": true,
         "kwargs": {},
         "methodName": "addShape",
         "reconstruc_color_scheme": false,
         "target": "Widget",
         "type": "call_method"
        },
        {
         "args": [
          "shape",
          [
           [
            "cylinder",
            [
             -1.809999942779541,
             82.87000274658203,
             3.2100000381469727
            ],
            [
             20.079999923706055,
             73.0999984741211,
             -6.800000190734863
            ],
            [
             0.5407818232324684,
             0.925467206912076,
             0.8869986685441152,
             1
            ],
            1,
            "LEU:108_SER:166"
           ]
          ]
         ],
         "fire_embed": true,
         "kwargs": {},
         "methodName": "addShape",
         "reconstruc_color_scheme": false,
         "target": "Widget",
         "type": "call_method"
        },
        {
         "args": [
          "shape",
          [
           [
            "cylinder",
            [
             -10.9399995803833,
             67.2699966430664,
             -7.429999828338623
            ],
            [
             -2.9200000762939453,
             78.36000061035156,
             -8.470000267028809
            ],
            [
             0.5539546155540869,
             0.927605199383124,
             0.8902401410002203,
             1
            ],
            1,
            "HIS:45_PHE:132"
           ]
          ]
         ],
         "fire_embed": true,
         "kwargs": {},
         "methodName": "addShape",
         "reconstruc_color_scheme": false,
         "target": "Widget",
         "type": "call_method"
        },
        {
         "args": [
          "shape",
          [
           [
            "cylinder",
            [
             -15.239999771118164,
             74.48999786376953,
             -3.200000047683716
            ],
            [
             -4.670000076293945,
             87.20999908447266,
             -6.480000019073486
            ],
            [
             0.5912775271320058,
             0.9336628447177601,
             0.8994243129591847,
             1
            ],
            1,
            "TYR:42_GLY:103"
           ]
          ]
         ],
         "fire_embed": true,
         "kwargs": {},
         "methodName": "addShape",
         "reconstruc_color_scheme": false,
         "target": "Widget",
         "type": "call_method"
        },
        {
         "args": [
          "shape",
          [
           [
            "cylinder",
            [
             2.299999952316284,
             52.59000015258789,
             7.690000057220459
            ],
            [
             14.3100004196167,
             56.58000183105469,
             -1.0399999618530273
            ],
            [
             0.5912775271320058,
             0.9336628447177601,
             0.8994243129591847,
             1
            ],
            1,
            "VAL:3_GLY:8"
           ]
          ]
         ],
         "fire_embed": true,
         "kwargs": {},
         "methodName": "addShape",
         "reconstruc_color_scheme": false,
         "target": "Widget",
         "type": "call_method"
        },
        {
         "args": [
          "shape",
          [
           [
            "cylinder",
            [
             -2.0299999713897705,
             65.86000061035156,
             1.4700000286102295
            ],
            [
             0.14000000059604645,
             74.11000061035156,
             -10.609999656677246
            ],
            [
             0.6044503194536242,
             0.9358008371888081,
             0.9026657854152897,
             1
            ],
            1,
            "VAL:36_GLY:130"
           ]
          ]
         ],
         "fire_embed": true,
         "kwargs": {},
         "methodName": "addShape",
         "reconstruc_color_scheme": false,
         "target": "Widget",
         "type": "call_method"
        },
        {
         "args": [
          "shape",
          [
           [
            "cylinder",
            [
             -17.84000015258789,
             62.11000061035156,
             -2.619999885559082
            ],
            [
             -5.210000038146973,
             79.05999755859375,
             3.7100000381469727
            ],
            [
             0.6168912899795971,
             0.9378200523003535,
             0.9057271760682778,
             1
            ],
            1,
            "VAL:63_GLY:78"
           ]
          ]
         ],
         "fire_embed": true,
         "kwargs": {},
         "methodName": "addShape",
         "reconstruc_color_scheme": false,
         "target": "Widget",
         "type": "call_method"
        },
        {
         "args": [
          "shape",
          [
           [
            "cylinder",
            [
             -8.029999732971191,
             73.13999938964844,
             5.829999923706055
            ],
            [
             11.100000381469727,
             77.79000091552734,
             1.1799999475479126
            ],
            [
             0.6168912899795971,
             0.9378200523003535,
             0.9057271760682778,
             1
            ],
            1,
            "SER:80_ARG:141"
           ]
          ]
         ],
         "fire_embed": true,
         "kwargs": {},
         "methodName": "addShape",
         "reconstruc_color_scheme": false,
         "target": "Widget",
         "type": "call_method"
        },
        {
         "args": [
          "shape",
          [
           [
            "cylinder",
            [
             0.14000000059604645,
             53.310001373291016,
             2.9200000762939453
            ],
            [
             2.809999942779541,
             63.79999923706055,
             6.059999942779541
            ],
            [
             0.6168912899795971,
             0.9378200523003535,
             0.9057271760682778,
             1
            ],
            1,
            "LYS:31_LEU:122"
           ]
          ]
         ],
         "fire_embed": true,
         "kwargs": {},
         "methodName": "addShape",
         "reconstruc_color_scheme": false,
         "target": "Widget",
         "type": "call_method"
        },
        {
         "args": [
          "shape",
          [
           [
            "cylinder",
            [
             -5.210000038146973,
             79.05999755859375,
             3.7100000381469727
            ],
            [
             -9.930000305175781,
             69.9800033569336,
             6.630000114440918
            ],
            [
             0.6168912899795971,
             0.9378200523003535,
             0.9057271760682778,
             1
            ],
            1,
            "GLY:78_CYS:81"
           ]
          ]
         ],
         "fire_embed": true,
         "kwargs": {},
         "methodName": "addShape",
         "reconstruc_color_scheme": false,
         "target": "Widget",
         "type": "call_method"
        },
        {
         "args": [
          "shape",
          [
           [
            "cylinder",
            [
             0.3799999952316284,
             70.38999938964844,
             8.430000305175781
            ],
            [
             1.4199999570846558,
             73.72000122070312,
             -2.619999885559082
            ],
            [
             0.6168912899795971,
             0.9378200523003535,
             0.9057271760682778,
             1
            ],
            1,
            "PHE:116_LEU:127"
           ]
          ]
         ],
         "fire_embed": true,
         "kwargs": {},
         "methodName": "addShape",
         "reconstruc_color_scheme": false,
         "target": "Widget",
         "type": "call_method"
        },
        {
         "args": [
          "shape",
          [
           [
            "cylinder",
            [
             -3.869999885559082,
             70.5199966430664,
             -2.609999895095825
            ],
            [
             -12.34000015258789,
             76.6500015258789,
             -1.590000033378601
            ],
            [
             0.6293322605055702,
             0.9398392674118988,
             0.908788566721266,
             1
            ],
            1,
            "ALA:38_VAL:41"
           ]
          ]
         ],
         "fire_embed": true,
         "kwargs": {},
         "methodName": "addShape",
         "reconstruc_color_scheme": false,
         "target": "Widget",
         "type": "call_method"
        },
        {
         "args": [
          "shape",
          [
           [
            "cylinder",
            [
             -4.269999980926514,
             67.08999633789062,
             -1.159999966621399
            ],
            [
             6.800000190734863,
             77.37999725341797,
             -2.0399999618530273
            ],
            [
             0.6293322605055702,
             0.9398392674118988,
             0.908788566721266,
             1
            ],
            1,
            "ASN:37_SER:139"
           ]
          ]
         ],
         "fire_embed": true,
         "kwargs": {},
         "methodName": "addShape",
         "reconstruc_color_scheme": false,
         "target": "Widget",
         "type": "call_method"
        }
       ],
       "_ngl_original_stage_parameters": {
        "ambientColor": 14540253,
        "ambientIntensity": 0.2,
        "backgroundColor": "white",
        "cameraEyeSep": 0.3,
        "cameraFov": 40,
        "cameraType": "perspective",
        "clipDist": 10,
        "clipFar": 100,
        "clipNear": 0,
        "fogFar": 100,
        "fogNear": 50,
        "hoverTimeout": 0,
        "impostor": true,
        "lightColor": 14540253,
        "lightIntensity": 1,
        "mousePreset": "default",
        "panSpeed": 1,
        "quality": "medium",
        "rotateSpeed": 2,
        "sampleLevel": 0,
        "tooltip": true,
        "workerDefault": true,
        "zoomSpeed": 1.2
       },
       "_ngl_repr_dict": {
        "0": {
         "0": {
          "params": {
           "aspectRatio": 5,
           "assembly": "default",
           "capped": true,
           "clipCenter": {
            "x": 0,
            "y": 0,
            "z": 0
           },
           "clipNear": 0,
           "clipRadius": 0,
           "colorMode": "hcl",
           "colorReverse": false,
           "colorScale": "RdYlBu",
           "colorScheme": "uniform",
           "colorValue": 16777215,
           "defaultAssembly": "",
           "depthWrite": true,
           "diffuse": 16777215,
           "diffuseInterior": false,
           "disablePicking": false,
           "flatShaded": false,
           "interiorColor": 2236962,
           "interiorDarkening": 0,
           "lazy": false,
           "matrix": {
            "elements": [
             1,
             0,
             0,
             0,
             0,
             1,
             0,
             0,
             0,
             0,
             1,
             0,
             0,
             0,
             0,
             1
            ]
           },
           "metalness": 0,
           "opacity": 1,
           "quality": "medium",
           "radialSegments": 10,
           "radiusData": {},
           "radiusScale": 0.7,
           "radiusSize": 1,
           "radiusType": "sstruc",
           "roughness": 0.4,
           "sele": "protein",
           "side": "double",
           "smoothSheet": false,
           "subdiv": 6,
           "tension": null,
           "useInteriorColor": true,
           "visible": true,
           "wireframe": false
          },
          "type": "cartoon"
         }
        }
       },
       "_ngl_serialize": false,
       "_ngl_version": "2.0.0-dev.36",
       "_ngl_view_id": [
        "F1D267D9-2C44-4D96-9983-9B7A051D3115",
        "55BFCF16-8E91-477A-8744-A7AA1A238762",
        "36A0FD6D-3C10-44F4-B592-0921C02CCC7B",
        "E6212F1D-EF54-4502-B663-F4E1A58C1A58"
       ],
       "_player_dict": {},
       "_scene_position": {},
       "_scene_rotation": {},
       "_synced_model_ids": [],
       "_synced_repr_model_ids": [],
       "_view_height": "",
       "_view_width": "",
       "background": "white",
       "frame": 0,
       "gui_style": null,
       "layout": "IPY_MODEL_93fce3e4d77e48f78efef4ffdc8d197f",
       "max_frame": 0,
       "n_components": 1,
       "picked": {}
      }
     },
     "ac79511fbf9e42d09d3c577519fde8a2": {
      "model_module": "@jupyter-widgets/controls",
      "model_module_version": "1.5.0",
      "model_name": "ButtonStyleModel",
      "state": {}
     },
     "b355b2449f494ae7a622ce44ae6ff1ff": {
      "model_module": "@jupyter-widgets/controls",
      "model_module_version": "1.5.0",
      "model_name": "DescriptionStyleModel",
      "state": {
       "description_width": ""
      }
     },
     "ce75b75896854659badbe82f686d127b": {
      "model_module": "@jupyter-widgets/controls",
      "model_module_version": "1.5.0",
      "model_name": "SliderStyleModel",
      "state": {
       "description_width": ""
      }
     },
     "d2a247e53f574e23ad246f0dc065d094": {
      "model_module": "@jupyter-widgets/controls",
      "model_module_version": "1.5.0",
      "model_name": "LinkModel",
      "state": {
       "source": [
        "IPY_MODEL_3073fca179b54da583130839dd2863ef",
        "value"
       ],
       "target": [
        "IPY_MODEL_aa9e528013d04be7995679d408ca9214",
        "frame"
       ]
      }
     },
     "e250aaac69c94dccb9b9b636a1b4ed38": {
      "model_module": "@jupyter-widgets/controls",
      "model_module_version": "1.5.0",
      "model_name": "LinkModel",
      "state": {
       "source": [
        "IPY_MODEL_3073fca179b54da583130839dd2863ef",
        "value"
       ],
       "target": [
        "IPY_MODEL_f4eb83d07ff44d45bd9b0482ac7410ad",
        "value"
       ]
      }
     },
     "ec4e8a1b4c894d73be4ce2998fd2fbe5": {
      "model_module": "@jupyter-widgets/controls",
      "model_module_version": "1.5.0",
      "model_name": "LinkModel",
      "state": {
       "source": [
        "IPY_MODEL_3073fca179b54da583130839dd2863ef",
        "max"
       ],
       "target": [
        "IPY_MODEL_aa9e528013d04be7995679d408ca9214",
        "max_frame"
       ]
      }
     },
     "f0b6ac41b8394457986bc856a8cd080f": {
      "model_module": "@jupyter-widgets/base",
      "model_module_version": "1.2.0",
      "model_name": "LayoutModel",
      "state": {}
     },
     "f4eb83d07ff44d45bd9b0482ac7410ad": {
      "model_module": "@jupyter-widgets/controls",
      "model_module_version": "1.5.0",
      "model_name": "IntSliderModel",
      "state": {
       "layout": "IPY_MODEL_8062ae128c784bbfaf2c2c63f71be9a0",
       "max": 0,
       "style": "IPY_MODEL_ce75b75896854659badbe82f686d127b"
      }
     },
     "faecb172e27247fe9892636883979a35": {
      "model_module": "@jupyter-widgets/base",
      "model_module_version": "1.2.0",
      "model_name": "LayoutModel",
      "state": {
       "width": "34px"
      }
     }
    },
    "version_major": 2,
    "version_minor": 0
   }
  }
 },
 "nbformat": 4,
 "nbformat_minor": 5
}
