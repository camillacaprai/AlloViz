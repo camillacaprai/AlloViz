{
 "cells": [
  {
   "cell_type": "markdown",
   "id": "d22f2260-263c-446d-bd8d-562df50a0fd9",
   "metadata": {},
   "source": [
    "# Quickstart\n",
    "\n",
    "[![Binder](https://mybinder.org/badge_logo.svg)](https://mybinder.org/v2/gh/frannerin/AlloViz/HEAD?labpath=notebooks%2Fquickstart)"
   ]
  },
  {
   "cell_type": "code",
   "execution_count": 1,
   "id": "ced01365",
   "metadata": {},
   "outputs": [],
   "source": [
    "import AlloViz"
   ]
  },
  {
   "cell_type": "markdown",
   "id": "1246eada-adb5-4b1f-bba7-25742106a758",
   "metadata": {},
   "source": [
    "## System setup\n",
    "\n",
    "The [Protein](https://alloviz.readthedocs.io/en/latest/api/AlloViz.Protein.html) class constructor processes the input data to prepare it for the downstream calculations, analyses and visualization.\n",
    "\n",
    "A structure and Molecular Dynamics simulation trajectories from [GPCRmd database](https://submission.gpcrmd.org/) of the GPCR Beta-2 adrenergic receptor (in complex with agonist epinephrine, GPCRmd ID [117](https://submission.gpcrmd.org/view/117/)) are included with the notebooks in AlloViz. Multiple trajectories can be passed in a list, e.g.: `[\"data/117/traj_1.xtc\", \"data/117/traj_2.xtc\", \"data/117/traj_3.xtc\"]`"
   ]
  },
  {
   "cell_type": "code",
   "execution_count": 2,
   "id": "8df01ddb-60ca-455e-8c14-3d873311881b",
   "metadata": {},
   "outputs": [
    {
     "name": "stderr",
     "output_type": "stream",
     "text": [
      "/home/frann/miniconda3/envs/alloviz/lib/python3.9/site-packages/MDAnalysis/coordinates/PDB.py:432: UserWarning: 1 A^3 CRYST1 record, this is usually a placeholder. Unit cell dimensions will be set to None.\n",
      "  warnings.warn(\"1 A^3 CRYST1 record,\"\n"
     ]
    }
   ],
   "source": [
    "system = AlloViz.Protein(pdb=\"data/117/protein.pdb\",\n",
    "                         trajs=\"data/117/traj_1.xtc\",\n",
    "                         path=\"data/117\")"
   ]
  },
  {
   "cell_type": "markdown",
   "id": "452dab23-2dc1-4903-a260-2016ba49ab7c",
   "metadata": {},
   "source": [
    "## Network calculation\n",
    "\n",
    "AlloViz brings together 8 different Python packages, previously peer-reviewed and published, which allow the construction of allosteric communication networks using different descriptors (plus a network construction method we implemented ourselves). All the available options can be found in [this table](https://alloviz.readthedocs.io/en/latest/table.html) (the last column has the names to be used in the [calculate](https://alloviz.readthedocs.io/en/latest/api/AlloViz.Protein.calculate.html) method below).\n",
    "\n",
    "We are going to use `pytraj_CA` as network construction method, which measures the correlation of the residues' positions along the trajectory using Pearson's linear correlation coefficient. Multiple networks can be calculated at the same time supplying a list of names, e.g. `[\"dynetan\", \"GetContacts\"]`"
   ]
  },
  {
   "cell_type": "code",
   "execution_count": 3,
   "id": "3f1f408c-fb9b-4a30-92e0-e4f43e13e960",
   "metadata": {
    "tags": []
   },
   "outputs": [
    {
     "name": "stdout",
     "output_type": "stream",
     "text": [
      "pytraj_CA\n",
      "adding raw data of pytraj_CA for data/117/protein.pdb:  ['data/117/data/pytraj_CA/raw/1.pq']\n"
     ]
    },
    {
     "data": {
      "text/plain": [
       "<AlloViz.Wrappers.pytraj_w.pytraj_CA at 0x7f1d40ddd970>"
      ]
     },
     "execution_count": 3,
     "metadata": {},
     "output_type": "execute_result"
    }
   ],
   "source": [
    "system.calculate(pkgs=\"pytraj_CA\")"
   ]
  },
  {
   "cell_type": "markdown",
   "id": "a02bb7c9-13d6-4f10-a0b2-660e331f8098",
   "metadata": {},
   "source": [
    "The calculated raw data is both saved as a file for reconstitution later and added as an attribute of the Protein object:"
   ]
  },
  {
   "cell_type": "code",
   "execution_count": 4,
   "id": "66ee4cac-ac53-4681-9b54-8ede6150445e",
   "metadata": {},
   "outputs": [
    {
     "data": {
      "text/html": [
       "<div>\n",
       "<style scoped>\n",
       "    .dataframe tbody tr th:only-of-type {\n",
       "        vertical-align: middle;\n",
       "    }\n",
       "\n",
       "    .dataframe tbody tr th {\n",
       "        vertical-align: top;\n",
       "    }\n",
       "\n",
       "    .dataframe thead th {\n",
       "        text-align: right;\n",
       "    }\n",
       "</style>\n",
       "<table border=\"1\" class=\"dataframe\">\n",
       "  <thead>\n",
       "    <tr style=\"text-align: right;\">\n",
       "      <th></th>\n",
       "      <th></th>\n",
       "      <th>weight</th>\n",
       "    </tr>\n",
       "  </thead>\n",
       "  <tbody>\n",
       "    <tr>\n",
       "      <th rowspan=\"5\" valign=\"top\">GLN:26</th>\n",
       "      <th>GLU:27</th>\n",
       "      <td>0.924889</td>\n",
       "    </tr>\n",
       "    <tr>\n",
       "      <th>ARG:28</th>\n",
       "      <td>0.816165</td>\n",
       "    </tr>\n",
       "    <tr>\n",
       "      <th>ASP:29</th>\n",
       "      <td>0.729000</td>\n",
       "    </tr>\n",
       "    <tr>\n",
       "      <th>GLU:30</th>\n",
       "      <td>0.779299</td>\n",
       "    </tr>\n",
       "    <tr>\n",
       "      <th>VAL:31</th>\n",
       "      <td>0.828841</td>\n",
       "    </tr>\n",
       "    <tr>\n",
       "      <th>...</th>\n",
       "      <th>...</th>\n",
       "      <td>...</td>\n",
       "    </tr>\n",
       "    <tr>\n",
       "      <th rowspan=\"2\" valign=\"top\">LEU:339</th>\n",
       "      <th>CYS:341</th>\n",
       "      <td>0.897811</td>\n",
       "    </tr>\n",
       "    <tr>\n",
       "      <th>LEU:342</th>\n",
       "      <td>0.753879</td>\n",
       "    </tr>\n",
       "    <tr>\n",
       "      <th rowspan=\"2\" valign=\"top\">LEU:340</th>\n",
       "      <th>CYS:341</th>\n",
       "      <td>0.938434</td>\n",
       "    </tr>\n",
       "    <tr>\n",
       "      <th>LEU:342</th>\n",
       "      <td>0.849064</td>\n",
       "    </tr>\n",
       "    <tr>\n",
       "      <th>CYS:341</th>\n",
       "      <th>LEU:342</th>\n",
       "      <td>0.903325</td>\n",
       "    </tr>\n",
       "  </tbody>\n",
       "</table>\n",
       "<p>45753 rows × 1 columns</p>\n",
       "</div>"
      ],
      "text/plain": [
       "                   weight\n",
       "GLN:26  GLU:27   0.924889\n",
       "        ARG:28   0.816165\n",
       "        ASP:29   0.729000\n",
       "        GLU:30   0.779299\n",
       "        VAL:31   0.828841\n",
       "...                   ...\n",
       "LEU:339 CYS:341  0.897811\n",
       "        LEU:342  0.753879\n",
       "LEU:340 CYS:341  0.938434\n",
       "        LEU:342  0.849064\n",
       "CYS:341 LEU:342  0.903325\n",
       "\n",
       "[45753 rows x 1 columns]"
      ]
     },
     "execution_count": 4,
     "metadata": {},
     "output_type": "execute_result"
    }
   ],
   "source": [
    "system.pytraj_CA.raw"
   ]
  },
  {
   "cell_type": "markdown",
   "id": "b91d5606-7a9b-481e-9b39-f9044516fc15",
   "metadata": {},
   "source": [
    "## Network filtering\n",
    "\n",
    "AlloViz allows to filter the calculated networks according to different criteria (the different options are each of the functions defined in the [Filtering](https://alloviz.readthedocs.io/en/latest/api/AlloViz.AlloViz.Filtering.html) module).\n",
    "\n",
    "We are going to filter the dynetan network using the [Spatially_distant](https://alloviz.readthedocs.io/en/latest/api/AlloViz.AlloViz.Filtering.Spatially_distant.html) filter, which filters out residue pairs of the network with a CA-CA distance below a threshold (default: 10 angstroms) to focus on long-range residue pairs. Multiple filterings can be performed supplying a list of strings to the [filter](https://alloviz.readthedocs.io/en/latest/api/AlloViz.Protein.filter.html) method."
   ]
  },
  {
   "cell_type": "code",
   "execution_count": 5,
   "id": "ba3c8852-0f39-4d38-83e5-acb9a4ad5730",
   "metadata": {},
   "outputs": [
    {
     "data": {
      "text/plain": [
       "<AlloViz.AlloViz.Filtering.Filtering at 0x7f1da847e7f0>"
      ]
     },
     "execution_count": 5,
     "metadata": {},
     "output_type": "execute_result"
    }
   ],
   "source": [
    "system.filter(filterings=\"Spatially_distant\")\n",
    "# the same as doing: system.pyraj_CA.filter(filterings=\"Spatially_distant\")"
   ]
  },
  {
   "cell_type": "markdown",
   "id": "0d265117-581a-4cc0-b169-5390e114cfd1",
   "metadata": {},
   "source": [
    "The results are stored as a new attribute of the `dynetan` results, with the filtered network stored as NetworkX's Graph object for later analysis:"
   ]
  },
  {
   "cell_type": "code",
   "execution_count": 6,
   "id": "53a80614-1a92-4134-aa99-d32bda37ad08",
   "metadata": {},
   "outputs": [
    {
     "data": {
      "text/plain": [
       "{'weight': <networkx.classes.graph.Graph at 0x7f1da847eca0>}"
      ]
     },
     "execution_count": 6,
     "metadata": {},
     "output_type": "execute_result"
    }
   ],
   "source": [
    "system.pytraj_CA.Spatially_distant.graphs"
   ]
  },
  {
   "cell_type": "markdown",
   "id": "bfe55fec-9897-438e-9a58-58ca997cb6ae",
   "metadata": {},
   "source": [
    "## Network analysis\n",
    "\n",
    "AlloViz can analyze the filtered networks with the betweenness centrality and current-flow betweenness centrality metrics (for edges and/or for nodes) functions of NetworkX. Other NetworkX functions that return per-edge or per-residue values can be passed to the [analyze](https://alloviz.readthedocs.io/en/latest/api/AlloViz.Protein.analyze.html) method using the instructions in the documentation.\n",
    "\n",
    "For example, we can analyze the betweenness centrality (\"btw\") of both the edges and the nodes of the filtered network. As before, we can run multiple analysis at the same time by supplying lists."
   ]
  },
  {
   "cell_type": "code",
   "execution_count": 7,
   "id": "e46681d9-242c-4ce0-9241-1a5fa24bfa06",
   "metadata": {},
   "outputs": [
    {
     "name": "stdout",
     "output_type": "stream",
     "text": [
      "adding analyzed edges <AlloViz.Wrappers.pytraj_w.pytraj_CA object at 0x7f1d40ddd970> Spatially_distant data of for data/117/protein.pdb\n",
      "adding analyzed nodes <AlloViz.Wrappers.pytraj_w.pytraj_CA object at 0x7f1d40ddd970> Spatially_distant data of for data/117/protein.pdb\n"
     ]
    }
   ],
   "source": [
    "system.analyze(elements=[\"edges\", \"nodes\"], metrics=\"btw\")\n",
    "# the same as: system.dynetan.Spatially_distant.analyze(elements=[\"edges\", \"nodes\"], metrics=\"btw\")"
   ]
  },
  {
   "cell_type": "markdown",
   "id": "7e520509-3311-4d31-a3aa-25823a8f98c1",
   "metadata": {},
   "source": [
    "The results are stored as DataFrames as new attributes of the `Spatially_distant` filtering results, one for each element (nodes and edges) of the network."
   ]
  },
  {
   "cell_type": "code",
   "execution_count": 8,
   "id": "da8d8eb6-dcb0-4818-8f39-75c5ad83cfe0",
   "metadata": {},
   "outputs": [
    {
     "data": {
      "text/html": [
       "<div>\n",
       "<style scoped>\n",
       "    .dataframe tbody tr th:only-of-type {\n",
       "        vertical-align: middle;\n",
       "    }\n",
       "\n",
       "    .dataframe tbody tr th {\n",
       "        vertical-align: top;\n",
       "    }\n",
       "\n",
       "    .dataframe thead th {\n",
       "        text-align: right;\n",
       "    }\n",
       "</style>\n",
       "<table border=\"1\" class=\"dataframe\">\n",
       "  <thead>\n",
       "    <tr style=\"text-align: right;\">\n",
       "      <th></th>\n",
       "      <th>btw</th>\n",
       "    </tr>\n",
       "  </thead>\n",
       "  <tbody>\n",
       "    <tr>\n",
       "      <th>GLN:26</th>\n",
       "      <td>0.010209</td>\n",
       "    </tr>\n",
       "    <tr>\n",
       "      <th>VAL:31</th>\n",
       "      <td>0.007019</td>\n",
       "    </tr>\n",
       "    <tr>\n",
       "      <th>TRP:32</th>\n",
       "      <td>0.002662</td>\n",
       "    </tr>\n",
       "    <tr>\n",
       "      <th>VAL:33</th>\n",
       "      <td>0.001760</td>\n",
       "    </tr>\n",
       "    <tr>\n",
       "      <th>VAL:34</th>\n",
       "      <td>0.007129</td>\n",
       "    </tr>\n",
       "    <tr>\n",
       "      <th>...</th>\n",
       "      <td>...</td>\n",
       "    </tr>\n",
       "    <tr>\n",
       "      <th>LEU:342</th>\n",
       "      <td>0.000154</td>\n",
       "    </tr>\n",
       "    <tr>\n",
       "      <th>GLU:27</th>\n",
       "      <td>0.012629</td>\n",
       "    </tr>\n",
       "    <tr>\n",
       "      <th>ARG:28</th>\n",
       "      <td>0.002816</td>\n",
       "    </tr>\n",
       "    <tr>\n",
       "      <th>ASP:29</th>\n",
       "      <td>0.000154</td>\n",
       "    </tr>\n",
       "    <tr>\n",
       "      <th>GLU:30</th>\n",
       "      <td>0.002904</td>\n",
       "    </tr>\n",
       "  </tbody>\n",
       "</table>\n",
       "<p>303 rows × 1 columns</p>\n",
       "</div>"
      ],
      "text/plain": [
       "              btw\n",
       "GLN:26   0.010209\n",
       "VAL:31   0.007019\n",
       "TRP:32   0.002662\n",
       "VAL:33   0.001760\n",
       "VAL:34   0.007129\n",
       "...           ...\n",
       "LEU:342  0.000154\n",
       "GLU:27   0.012629\n",
       "ARG:28   0.002816\n",
       "ASP:29   0.000154\n",
       "GLU:30   0.002904\n",
       "\n",
       "[303 rows x 1 columns]"
      ]
     },
     "execution_count": 8,
     "metadata": {},
     "output_type": "execute_result"
    }
   ],
   "source": [
    "system.pytraj_CA.Spatially_distant.nodes"
   ]
  },
  {
   "cell_type": "markdown",
   "id": "537df4c2-8b6f-4ce7-b20e-d660d1f713d3",
   "metadata": {},
   "source": [
    "## Network visualization\n",
    "\n",
    "The analysis results of the edges or the nodes (and also both together) can be visualised on the protein structure with an interactive widget. The exact element that we wish to visualise can be specified to the [view](https://alloviz.readthedocs.io/en/latest/api/AlloViz.Protein.view.html) method, or we can exploit the custom edges' and nodes' [DataFrames' view](https://alloviz.readthedocs.io/en/latest/api/AlloViz.AlloViz.Elements.Element.view.html) method.\n",
    "\n",
    "For example, to view the edges' betweenness centrality analysis results:"
   ]
  },
  {
   "cell_type": "code",
   "execution_count": 9,
   "id": "b63d52cb-4592-4a2f-86c2-768a6d5a3b1c",
   "metadata": {},
   "outputs": [
    {
     "data": {
      "application/vnd.jupyter.widget-view+json": {
       "model_id": "2894df1efcb24050a94b29bcd308d951",
       "version_major": 2,
       "version_minor": 0
      },
      "text/plain": []
     },
     "metadata": {},
     "output_type": "display_data"
    },
    {
     "name": "stderr",
     "output_type": "stream",
     "text": [
      "/home/frann/miniconda3/envs/alloviz/lib/python3.9/site-packages/MDAnalysis/coordinates/PDB.py:432: UserWarning: 1 A^3 CRYST1 record, this is usually a placeholder. Unit cell dimensions will be set to None.\n",
      "  warnings.warn(\"1 A^3 CRYST1 record,\"\n"
     ]
    },
    {
     "data": {
      "application/vnd.jupyter.widget-view+json": {
       "model_id": "a0ad27cf6c86450a8a32e7f991181db2",
       "version_major": 2,
       "version_minor": 0
      },
      "text/plain": [
       "NGLWidget()"
      ]
     },
     "metadata": {},
     "output_type": "display_data"
    },
    {
     "data": {
      "image/png": "[encoded data removed]",
      "text/plain": [
       "<Figure size 640x480 with 2 Axes>"
      ]
     },
     "metadata": {},
     "output_type": "display_data"
    }
   ],
   "source": [
    "system.pytraj_CA.Spatially_distant.nodes.view(\"btw\")\n",
    "# the same as: system.view(pkg=\"pytraj_CA\", metric=\"btw\", filtering=\"Spatially_distant\", element=\"nodes\")"
   ]
  }
 ],
 "metadata": {
  "kernelspec": {
   "display_name": "Python [conda env:alloviz] *",
   "language": "python",
   "name": "conda-env-alloviz-py"
  },
  "language_info": {
   "codemirror_mode": {
    "name": "ipython",
    "version": 3
   },
   "file_extension": ".py",
   "mimetype": "text/x-python",
   "name": "python",
   "nbconvert_exporter": "python",
   "pygments_lexer": "ipython3",
   "version": "3.9.16"
  },
  "toc-autonumbering": false,
  "toc-showtags": true,
  "widgets": {
   "application/vnd.jupyter.widget-state+json": {
    "state": {},
    "version_major": 2,
    "version_minor": 0
   }
  }
 },
 "nbformat": 4,
 "nbformat_minor": 5
}
