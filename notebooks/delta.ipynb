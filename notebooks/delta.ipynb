{
 "cells": [
  {
   "cell_type": "markdown",
   "id": "d22f2260-263c-446d-bd8d-562df50a0fd9",
   "metadata": {},
   "source": [
    "# Delta network\n",
    "\n",
    "[![Binder](https://mybinder.org/badge_logo.svg)](https://mybinder.org/v2/gh/frannerin/AlloViz/HEAD?labpath=notebooks%2Fdelta.ipynb)\n",
    "\n",
    "A delta-network can be calculated by subtracting the edge weights of two networks that have “comparable” nodes (e.g., two networks of the same protein in different conformations, such as activation states). The delta-network reduces the noise in the data and provides a better way of comparing two systems, in opposition to a direct comparison of the networks’ edge weights, and thus is able to capture more subtle differences."
   ]
  },
  {
   "cell_type": "code",
   "execution_count": 1,
   "id": "ced01365",
   "metadata": {},
   "outputs": [],
   "source": [
    "import AlloViz"
   ]
  },
  {
   "cell_type": "markdown",
   "id": "1246eada-adb5-4b1f-bba7-25742106a758",
   "metadata": {},
   "source": [
    "## Systems setup\n",
    "\n",
    "We are going to use the structure and simulations of the class A GPCR Beta-2 adrenergic receptor (B2AR) in the active form bound to epinephrine (full agonist, GPCRmd ID [117](https://submission.gpcrmd.org/view/117/)) and in the inactive form bound to carazolol (inverse agonist, [160](https://submission.gpcrmd.org/view/160/)).\n",
    "\n",
    "The GPCR argument can be a True boolean, in which case the structure will be processed as a GPCR and the corresponding generic numbering will be retrieved from GPCRdb. It can also be the ID of a GPCRmd database dynamics entry, to automatically retrieve the files from the database and process them."
   ]
  },
  {
   "cell_type": "code",
   "execution_count": 2,
   "id": "572d3f7c-ca4c-4f78-a520-ae128a98be1c",
   "metadata": {},
   "outputs": [
    {
     "name": "stderr",
     "output_type": "stream",
     "text": [
      "/home/frann/miniconda3/envs/alloviz/lib/python3.9/site-packages/MDAnalysis/coordinates/PDB.py:432: UserWarning: 1 A^3 CRYST1 record, this is usually a placeholder. Unit cell dimensions will be set to None.\n",
      "  warnings.warn(\"1 A^3 CRYST1 record,\"\n",
      "/home/frann/miniconda3/envs/alloviz/lib/python3.9/site-packages/MDAnalysis/coordinates/PDB.py:753: UserWarning: Unit cell dimensions not found. CRYST1 record set to unitary values.\n",
      "  warnings.warn(\"Unit cell dimensions not found. \"\n",
      "/home/frann/miniconda3/envs/alloviz/lib/python3.9/site-packages/MDAnalysis/coordinates/PDB.py:1129: UserWarning: Found no information for attr: 'formalcharges' Using default value of '0'\n",
      "  warnings.warn(\"Found no information for attr: '{}'\"\n",
      "/home/frann/miniconda3/envs/alloviz/lib/python3.9/site-packages/MDAnalysis/lib/util.py:664: RuntimeWarning: Constructed NamedStream from a NamedStream\n",
      "  warnings.warn(\"Constructed NamedStream from a NamedStream\",\n"
     ]
    }
   ],
   "source": [
    "activeB2AR = AlloViz.Protein(pdb=\"data/117/protein.pdb\",\n",
    "                             trajs=[\"data/117/traj_1.xtc\", \"data/117/traj_2.xtc\"],\n",
    "                             path=\"data/117\",\n",
    "                             GPCR=True,\n",
    "                             name=\"Active B2AR\")\n",
    "inactiveB2AR = AlloViz.Protein(pdb=\"data/160/protein.pdb\",\n",
    "                             trajs=[\"data/160/traj_1.xtc\", \"data/160/traj_1.xtc\"],\n",
    "                             path=\"data/160\",\n",
    "                             GPCR=True,\n",
    "                             name=\"Inactive B2AR\")"
   ]
  },
  {
   "cell_type": "markdown",
   "id": "452dab23-2dc1-4903-a260-2016ba49ab7c",
   "metadata": {},
   "source": [
    "## Network calculation\n",
    "\n",
    "From all the available [options](https://alloviz.readthedocs.io/en/latest/table.html), we are going to use correlationplus_CA_Pear as network construction method, which measures measures the correlation of the residues' alpha-carbons positions along the trajectory using the Pearson's correlation coefficient. We are going to pass 2 as the number of cores so that the network calculations of the two trajectory replicas run in parallel."
   ]
  },
  {
   "cell_type": "code",
   "execution_count": 3,
   "id": "3f1f408c-fb9b-4a30-92e0-e4f43e13e960",
   "metadata": {
    "tags": []
   },
   "outputs": [
    {
     "name": "stdout",
     "output_type": "stream",
     "text": [
      "correlationplus_CA_Pear\n"
     ]
    },
    {
     "name": "stderr",
     "output_type": "stream",
     "text": [
      "/home/frann/miniconda3/envs/alloviz/lib/python3.9/pickle.py:578: UserWarning: Reader has no dt information, set to 1.0 ps\n",
      "  rv = reduce(self.proto)\n"
     ]
    },
    {
     "name": "stdout",
     "output_type": "stream",
     "text": [
      "adding raw data of correlationplus_CA_Pear for data/117/protein.pdb:  ['data/117/data/correlationplus_CA_Pear/raw/1.pq', 'data/117/data/correlationplus_CA_Pear/raw/2.pq']\n",
      "correlationplus_CA_Pear\n"
     ]
    },
    {
     "name": "stderr",
     "output_type": "stream",
     "text": [
      "/home/frann/miniconda3/envs/alloviz/lib/python3.9/site-packages/MDAnalysis/coordinates/PDB.py:432: UserWarning: 1 A^3 CRYST1 record, this is usually a placeholder. Unit cell dimensions will be set to None.\n",
      "  warnings.warn(\"1 A^3 CRYST1 record,\"\n",
      "/home/frann/miniconda3/envs/alloviz/lib/python3.9/pickle.py:578: UserWarning: Reader has no dt information, set to 1.0 ps\n",
      "  rv = reduce(self.proto)\n",
      "/home/frann/miniconda3/envs/alloviz/lib/python3.9/site-packages/MDAnalysis/coordinates/PDB.py:432: UserWarning: 1 A^3 CRYST1 record, this is usually a placeholder. Unit cell dimensions will be set to None.\n",
      "  warnings.warn(\"1 A^3 CRYST1 record,\"\n"
     ]
    },
    {
     "name": "stdout",
     "output_type": "stream",
     "text": [
      "adding raw data of correlationplus_CA_Pear for data/160/protein.pdb:  ['data/160/data/correlationplus_CA_Pear/raw/1.pq', 'data/160/data/correlationplus_CA_Pear/raw/2.pq']\n"
     ]
    },
    {
     "data": {
      "text/plain": [
       "<AlloViz.Wrappers.correlationplus_w.correlationplus_CA_Pear at 0x7f59602b10a0>"
      ]
     },
     "execution_count": 3,
     "metadata": {},
     "output_type": "execute_result"
    }
   ],
   "source": [
    "activeB2AR.calculate(pkgs=\"correlationplus_CA_Pear\", cores=2)\n",
    "inactiveB2AR.calculate(pkgs=\"correlationplus_CA_Pear\", cores=2)"
   ]
  },
  {
   "cell_type": "markdown",
   "id": "b91d5606-7a9b-481e-9b39-f9044516fc15",
   "metadata": {},
   "source": [
    "## Network filtering\n",
    "\n",
    "From all the available [filters](https://alloviz.readthedocs.io/en/latest/api/AlloViz.AlloViz.Filtering.html), we are going to choose `\"No_Sequence_Neighbors\"`, which filters out residue pairs that are too close to each other in the protein sequence (less than 5 positions away in the sequence)."
   ]
  },
  {
   "cell_type": "code",
   "execution_count": 4,
   "id": "ba3c8852-0f39-4d38-83e5-acb9a4ad5730",
   "metadata": {},
   "outputs": [
    {
     "data": {
      "text/plain": [
       "<AlloViz.AlloViz.Filtering.Filtering at 0x7f5960277a90>"
      ]
     },
     "execution_count": 4,
     "metadata": {},
     "output_type": "execute_result"
    }
   ],
   "source": [
    "activeB2AR.filter(filterings=\"No_Sequence_Neighbors\")\n",
    "inactiveB2AR.filter(filterings=\"No_Sequence_Neighbors\")"
   ]
  },
  {
   "cell_type": "markdown",
   "id": "bfe55fec-9897-438e-9a58-58ca997cb6ae",
   "metadata": {},
   "source": [
    "## Network analysis\n",
    "\n",
    "And finally, we are going to analyze the edges using the betweenness centrality metric (\"btw\")."
   ]
  },
  {
   "cell_type": "code",
   "execution_count": 5,
   "id": "e46681d9-242c-4ce0-9241-1a5fa24bfa06",
   "metadata": {},
   "outputs": [
    {
     "name": "stdout",
     "output_type": "stream",
     "text": [
      "adding analyzed edges <AlloViz.Wrappers.correlationplus_w.correlationplus_CA_Pear object at 0x7f596063f100> No_Sequence_Neighbors data of for data/117/protein.pdb\n",
      "adding analyzed edges <AlloViz.Wrappers.correlationplus_w.correlationplus_CA_Pear object at 0x7f59602b10a0> No_Sequence_Neighbors data of for data/160/protein.pdb\n"
     ]
    }
   ],
   "source": [
    "activeB2AR.analyze(elements=\"edges\", metrics=\"btw\")\n",
    "inactiveB2AR.analyze(elements=\"edges\", metrics=\"btw\")"
   ]
  },
  {
   "cell_type": "markdown",
   "id": "38c8ae03-153d-4235-90a8-a0702d480a0c",
   "metadata": {},
   "source": [
    "## Delta-network construction\n",
    "\n",
    "The [Delta](https://alloviz.readthedocs.io/en/latest/api/AlloViz.Delta.html) constructor performs the delta-network calculations automatically when supplied with two `Protein` objects."
   ]
  },
  {
   "cell_type": "code",
   "execution_count": 6,
   "id": "b8d698c3-992d-443e-a1e0-803f9eacb82d",
   "metadata": {},
   "outputs": [],
   "source": [
    "delta = AlloViz.Delta(activeB2AR, inactiveB2AR)"
   ]
  },
  {
   "cell_type": "markdown",
   "id": "4e008a13-d9f7-41b2-9064-79b275d0b64a",
   "metadata": {},
   "source": [
    "To find the corresponding nodes (and thus edges) to be subtracted between the two structures, open-source PyMOL is used to retrieve a sequence alignment from a structural superposition:"
   ]
  },
  {
   "cell_type": "code",
   "execution_count": 7,
   "id": "5954183b-78f2-49b4-a615-adaebcee1e51",
   "metadata": {},
   "outputs": [
    {
     "name": "stdout",
     "output_type": "stream",
     "text": [
      "Alignment with 2 rows and 305 columns\n",
      "QERDEVWVVGMGIVMSLIVLAIVFGNVLVITAIAKFERLQTVTN...LCL prot1\n",
      "QERDEVWVVGMGIVMSLIVLAIVFGNVLVITAIAKFERLQTVTN...LR- prot2\n"
     ]
    }
   ],
   "source": [
    "print(delta._aln)"
   ]
  },
  {
   "cell_type": "code",
   "execution_count": 8,
   "id": "c4e798b0-b7be-4b31-9cc9-0a107c47b589",
   "metadata": {
    "tags": []
   },
   "outputs": [
    {
     "data": {
      "application/vnd.jupyter.widget-view+json": {
       "model_id": "a229e412c66a48a0aaef365792a1e388",
       "version_major": 2,
       "version_minor": 0
      },
      "text/plain": []
     },
     "metadata": {},
     "output_type": "display_data"
    },
    {
     "name": "stderr",
     "output_type": "stream",
     "text": [
      "/home/frann/miniconda3/envs/alloviz/lib/python3.9/site-packages/MDAnalysis/coordinates/PDB.py:432: UserWarning: 1 A^3 CRYST1 record, this is usually a placeholder. Unit cell dimensions will be set to None.\n",
      "  warnings.warn(\"1 A^3 CRYST1 record,\"\n"
     ]
    },
    {
     "data": {
      "application/vnd.jupyter.widget-view+json": {
       "model_id": "19a5fc63642944deb97834b199a7e1c2",
       "version_major": 2,
       "version_minor": 0
      },
      "text/plain": [
       "NGLWidget()"
      ]
     },
     "metadata": {},
     "output_type": "display_data"
    },
    {
     "data": {
      "image/png": "[encoded data removed]",
      "text/plain": [
       "<Figure size 640x480 with 2 Axes>"
      ]
     },
     "metadata": {},
     "output_type": "display_data"
    }
   ],
   "source": [
    "delta.view(pkg=\"correlationplus_CA_Pear\", metric=\"btw\", filtering=\"No_Sequence_Neighbors\", element=\"edges\")"
   ]
  },
  {
   "cell_type": "markdown",
   "id": "13827432-a675-4619-84ac-eb0091aab1e6",
   "metadata": {},
   "source": [
    "The global structure and communication of the two compared systems is expected to be alike (except for just a few conformational changes due to the perturbation), and thus most residue pair interactions will have similar weights. The calculation of the delta-network reduces this noise and helps to highlight the subtle differences between the two networks.\n",
    "\n",
    "Each of the network’s edge weights of one structure are subtracted from the corresponding edge weights of the first one. This connotes that, the more positive a value is in the resulting delta-network, the more important the edge is in the first structure (i.e., the edge has a significant weight in the first structure’s network and, if its magnitude is preserved in the delta-network, it means that it was not as significant in the other structure’s network and the subtraction did not quite affect it). Similarly, the more negative a value is in the delta-network, the more important the edge is in the other structure. "
   ]
  }
 ],
 "metadata": {
  "kernelspec": {
   "display_name": "Python [conda env:alloviz] *",
   "language": "python",
   "name": "conda-env-alloviz-py"
  },
  "language_info": {
   "codemirror_mode": {
    "name": "ipython",
    "version": 3
   },
   "file_extension": ".py",
   "mimetype": "text/x-python",
   "name": "python",
   "nbconvert_exporter": "python",
   "pygments_lexer": "ipython3",
   "version": "3.9.16"
  },
  "toc-autonumbering": false,
  "toc-showtags": true,
  "widgets": {
   "application/vnd.jupyter.widget-state+json": {
    "state": {},
    "version_major": 2,
    "version_minor": 0
   }
  }
 },
 "nbformat": 4,
 "nbformat_minor": 5
}
