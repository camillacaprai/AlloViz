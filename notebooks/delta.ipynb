{
 "cells": [
  {
   "cell_type": "markdown",
   "id": "d22f2260-263c-446d-bd8d-562df50a0fd9",
   "metadata": {},
   "source": [
    "# Delta network"
   ]
  },
  {
   "cell_type": "code",
   "execution_count": 1,
   "id": "ced01365",
   "metadata": {},
   "outputs": [],
   "source": [
    "import AlloViz"
   ]
  },
  {
   "cell_type": "markdown",
   "id": "1246eada-adb5-4b1f-bba7-25742106a758",
   "metadata": {},
   "source": [
    "## what\n",
    "\n",
    "### System setup\n",
    "\n",
    "We are going to use the structure and simulations of the class A GPCR Beta-2 adrenergic receptor (B2AR) in its active state. They are stored in the [GPCRmd](https://submission.gpcrmd.org/view/117/) database, and supplying the [Protein](api/AlloViz.Protein.rst) class constructor with the GPCRmd ID as the `GPCR` parameter is enough, as the program automatically downloads the files. Alternatively, we could have specified the structure and trajectory files and other parameters of the constructor.\n",
    "\n",
    "The [Protein](api/AlloViz.Protein.rst) class constructor also processes the input data to prepare it for the downstream calculations, analyses and visualization."
   ]
  },
  {
   "cell_type": "code",
   "execution_count": 2,
   "id": "572d3f7c-ca4c-4f78-a520-ae128a98be1c",
   "metadata": {},
   "outputs": [
    {
     "name": "stdout",
     "output_type": "stream",
     "text": [
      "downloading 117/11156_trj_117.xtc\n",
      "downloading 117/11157_trj_117.xtc\n",
      "downloading 117/11158_trj_117.xtc\n",
      "downloading 117/11159_dyn_117.pdb\n",
      "downloading 117/11160_dyn_117.psf\n",
      "downloading 117/11161_prm_117.tar.gz\n"
     ]
    },
    {
     "name": "stderr",
     "output_type": "stream",
     "text": [
      "/gpcr/users/frann/networks/dev_expl_nover/lib/python3.9/site-packages/MDAnalysis/coordinates/PDB.py:749: UserWarning: Unit cell dimensions not found. CRYST1 record set to unitary values.\n",
      "  warnings.warn(\"Unit cell dimensions not found. \"\n",
      "/gpcr/users/frann/networks/dev_expl_nover/lib/python3.9/site-packages/MDAnalysis/lib/util.py:662: RuntimeWarning: Constructed NamedStream from a NamedStream\n",
      "  warnings.warn(\"Constructed NamedStream from a NamedStream\",\n",
      "/gpcr/users/frann/networks/dev_expl_nover/lib/python3.9/site-packages/MDAnalysis/coordinates/PDB.py:431: UserWarning: 1 A^3 CRYST1 record, this is usually a placeholder. Unit cell dimensions will be set to None.\n",
      "  warnings.warn(\"1 A^3 CRYST1 record,\"\n"
     ]
    }
   ],
   "source": [
    "activeB2AR = AlloViz.Protein(GPCR=117, name=\"Active B2AR\")"
   ]
  },
  {
   "cell_type": "markdown",
   "id": "452dab23-2dc1-4903-a260-2016ba49ab7c",
   "metadata": {},
   "source": [
    "### Network calculation\n",
    "\n",
    "AlloViz brings together 8 different Python packages, previously peer-reviewed and published, which allow the construction of allosteric communication networks using different descriptors (plus a network construction method we implemented ourselves). All the available options can be found in [this table](table.rst) (the last column has the names to be used in the [calculate](api/AlloViz.Protein.calculate.rst) method of the Protein object).\n",
    "\n",
    "We are going to use pytraj as network construction method, which measures the correlation of the residues' alpha-carbons positions along the trajectory using the Pearson's correlation coefficient. Multiple networks can be calculated at the same time supplying a list of strings, e.g. `[\"pytraj_CA\", \"pytraj_CB\"]`"
   ]
  },
  {
   "cell_type": "code",
   "execution_count": 3,
   "id": "3f1f408c-fb9b-4a30-92e0-e4f43e13e960",
   "metadata": {
    "tags": []
   },
   "outputs": [
    {
     "name": "stdout",
     "output_type": "stream",
     "text": [
      "adding raw data of pytraj_CA for 117/data/protein.pdb:  ['117/data/pytraj_CA/raw/1.pq', '117/data/pytraj_CA/raw/2.pq', '117/data/pytraj_CA/raw/3.pq']\n"
     ]
    },
    {
     "data": {
      "text/plain": [
       "<AlloViz.Wrappers.pytraj_w.pytraj_CA at 0x7ff7931b8850>"
      ]
     },
     "execution_count": 3,
     "metadata": {},
     "output_type": "execute_result"
    }
   ],
   "source": [
    "activeB2AR.calculate(pkgs=\"pytraj_CA\")"
   ]
  },
  {
   "cell_type": "markdown",
   "id": "a02bb7c9-13d6-4f10-a0b2-660e331f8098",
   "metadata": {},
   "source": [
    "The calculated raw data is both saved as a file for reconstitution later and added as an attribute of the Protein object:"
   ]
  },
  {
   "cell_type": "code",
   "execution_count": 4,
   "id": "66ee4cac-ac53-4681-9b54-8ede6150445e",
   "metadata": {},
   "outputs": [
    {
     "data": {
      "text/html": [
       "<div>\n",
       "<style scoped>\n",
       "    .dataframe tbody tr th:only-of-type {\n",
       "        vertical-align: middle;\n",
       "    }\n",
       "\n",
       "    .dataframe tbody tr th {\n",
       "        vertical-align: top;\n",
       "    }\n",
       "\n",
       "    .dataframe thead th {\n",
       "        text-align: right;\n",
       "    }\n",
       "</style>\n",
       "<table border=\"1\" class=\"dataframe\">\n",
       "  <thead>\n",
       "    <tr style=\"text-align: right;\">\n",
       "      <th></th>\n",
       "      <th></th>\n",
       "      <th>1</th>\n",
       "      <th>2</th>\n",
       "      <th>3</th>\n",
       "      <th>weight</th>\n",
       "      <th>weight_std</th>\n",
       "    </tr>\n",
       "  </thead>\n",
       "  <tbody>\n",
       "    <tr>\n",
       "      <th rowspan=\"5\" valign=\"top\">GLN:26</th>\n",
       "      <th>GLU:27</th>\n",
       "      <td>0.924889</td>\n",
       "      <td>0.894519</td>\n",
       "      <td>0.915184</td>\n",
       "      <td>0.911531</td>\n",
       "      <td>0.015511</td>\n",
       "    </tr>\n",
       "    <tr>\n",
       "      <th>ARG:28</th>\n",
       "      <td>0.816165</td>\n",
       "      <td>0.641323</td>\n",
       "      <td>0.839703</td>\n",
       "      <td>0.765730</td>\n",
       "      <td>0.108381</td>\n",
       "    </tr>\n",
       "    <tr>\n",
       "      <th>ASP:29</th>\n",
       "      <td>0.729000</td>\n",
       "      <td>0.560310</td>\n",
       "      <td>0.476702</td>\n",
       "      <td>0.588670</td>\n",
       "      <td>0.128518</td>\n",
       "    </tr>\n",
       "    <tr>\n",
       "      <th>GLU:30</th>\n",
       "      <td>0.779299</td>\n",
       "      <td>0.553206</td>\n",
       "      <td>0.469027</td>\n",
       "      <td>0.600511</td>\n",
       "      <td>0.160454</td>\n",
       "    </tr>\n",
       "    <tr>\n",
       "      <th>VAL:31</th>\n",
       "      <td>0.828841</td>\n",
       "      <td>0.598500</td>\n",
       "      <td>0.471320</td>\n",
       "      <td>0.632887</td>\n",
       "      <td>0.181224</td>\n",
       "    </tr>\n",
       "    <tr>\n",
       "      <th>...</th>\n",
       "      <th>...</th>\n",
       "      <td>...</td>\n",
       "      <td>...</td>\n",
       "      <td>...</td>\n",
       "      <td>...</td>\n",
       "      <td>...</td>\n",
       "    </tr>\n",
       "    <tr>\n",
       "      <th rowspan=\"2\" valign=\"top\">LEU:339</th>\n",
       "      <th>CYS:341</th>\n",
       "      <td>0.897811</td>\n",
       "      <td>0.887321</td>\n",
       "      <td>0.881075</td>\n",
       "      <td>0.888736</td>\n",
       "      <td>0.008457</td>\n",
       "    </tr>\n",
       "    <tr>\n",
       "      <th>LEU:342</th>\n",
       "      <td>0.753879</td>\n",
       "      <td>0.770066</td>\n",
       "      <td>0.749877</td>\n",
       "      <td>0.757941</td>\n",
       "      <td>0.010690</td>\n",
       "    </tr>\n",
       "    <tr>\n",
       "      <th rowspan=\"2\" valign=\"top\">LEU:340</th>\n",
       "      <th>CYS:341</th>\n",
       "      <td>0.938434</td>\n",
       "      <td>0.925723</td>\n",
       "      <td>0.922498</td>\n",
       "      <td>0.928885</td>\n",
       "      <td>0.008425</td>\n",
       "    </tr>\n",
       "    <tr>\n",
       "      <th>LEU:342</th>\n",
       "      <td>0.849064</td>\n",
       "      <td>0.849135</td>\n",
       "      <td>0.830982</td>\n",
       "      <td>0.843060</td>\n",
       "      <td>0.010460</td>\n",
       "    </tr>\n",
       "    <tr>\n",
       "      <th>CYS:341</th>\n",
       "      <th>LEU:342</th>\n",
       "      <td>0.903325</td>\n",
       "      <td>0.923775</td>\n",
       "      <td>0.904496</td>\n",
       "      <td>0.910532</td>\n",
       "      <td>0.011484</td>\n",
       "    </tr>\n",
       "  </tbody>\n",
       "</table>\n",
       "<p>45753 rows × 5 columns</p>\n",
       "</div>"
      ],
      "text/plain": [
       "                        1         2         3    weight  weight_std\n",
       "GLN:26  GLU:27   0.924889  0.894519  0.915184  0.911531    0.015511\n",
       "        ARG:28   0.816165  0.641323  0.839703  0.765730    0.108381\n",
       "        ASP:29   0.729000  0.560310  0.476702  0.588670    0.128518\n",
       "        GLU:30   0.779299  0.553206  0.469027  0.600511    0.160454\n",
       "        VAL:31   0.828841  0.598500  0.471320  0.632887    0.181224\n",
       "...                   ...       ...       ...       ...         ...\n",
       "LEU:339 CYS:341  0.897811  0.887321  0.881075  0.888736    0.008457\n",
       "        LEU:342  0.753879  0.770066  0.749877  0.757941    0.010690\n",
       "LEU:340 CYS:341  0.938434  0.925723  0.922498  0.928885    0.008425\n",
       "        LEU:342  0.849064  0.849135  0.830982  0.843060    0.010460\n",
       "CYS:341 LEU:342  0.903325  0.923775  0.904496  0.910532    0.011484\n",
       "\n",
       "[45753 rows x 5 columns]"
      ]
     },
     "execution_count": 4,
     "metadata": {},
     "output_type": "execute_result"
    }
   ],
   "source": [
    "activeB2AR.pytraj_CA.raw"
   ]
  },
  {
   "cell_type": "markdown",
   "id": "b91d5606-7a9b-481e-9b39-f9044516fc15",
   "metadata": {},
   "source": [
    "### Network filtering\n",
    "\n",
    "AlloViz allows to filter the calculated networks according to different criteria (the different options are each of the functions defined in the [Filtering](api/AlloViz.AlloViz.Filtering.rst) module).\n",
    "\n",
    "We are going to filter the pytraj_CA network using the [Spatially_distant](api/AlloViz.AlloViz.Filtering.Spatially_distant.rst), which filters out residue pairs of the network with a CA-CA distance below a threshold (default: 10 angstroms) to focus on long-range residue pairs. Multiple filterings can be performed supplying a list of strings to the [filter](api/AlloViz.Protein.filter.rst) method, and this list can also contain an additional list if we wish to filter with a combination of two criteria sequentially, e.g. `[\"Spatially_distant\", [\"GPCR_Interhelix\", \"Spatially_distant\"]]`"
   ]
  },
  {
   "cell_type": "code",
   "execution_count": 5,
   "id": "ba3c8852-0f39-4d38-83e5-acb9a4ad5730",
   "metadata": {},
   "outputs": [
    {
     "data": {
      "text/plain": [
       "<AlloViz.AlloViz.Filtering.Filtering at 0x7ff7931b87c0>"
      ]
     },
     "execution_count": 5,
     "metadata": {},
     "output_type": "execute_result"
    }
   ],
   "source": [
    "activeB2AR.filter(filterings=\"Spatially_distant\")\n",
    "# the same as: activeB2AR.pyraj_CA.filter(filterings=\"Spatially_distant\")"
   ]
  },
  {
   "cell_type": "markdown",
   "id": "0d265117-581a-4cc0-b169-5390e114cfd1",
   "metadata": {},
   "source": [
    "The results are stored as a new attribute of the `pytraj_CA` results, with the filtered network stored as NetworkX's Graph objects for later analysis:"
   ]
  },
  {
   "cell_type": "code",
   "execution_count": 6,
   "id": "53a80614-1a92-4134-aa99-d32bda37ad08",
   "metadata": {},
   "outputs": [
    {
     "data": {
      "text/plain": [
       "{'1': <networkx.classes.graph.Graph at 0x7ff793059f10>,\n",
       " '2': <networkx.classes.graph.Graph at 0x7ff7930593d0>,\n",
       " '3': <networkx.classes.graph.Graph at 0x7ff793059160>,\n",
       " 'weight': <networkx.classes.graph.Graph at 0x7ff793059d60>}"
      ]
     },
     "execution_count": 6,
     "metadata": {},
     "output_type": "execute_result"
    }
   ],
   "source": [
    "activeB2AR.pytraj_CA.Spatially_distant.graphs"
   ]
  },
  {
   "cell_type": "markdown",
   "id": "bfe55fec-9897-438e-9a58-58ca997cb6ae",
   "metadata": {},
   "source": [
    "### Network analysis\n",
    "\n",
    "AlloViz can analyze the filtered networks with the betweenness centrality and current-flow betweenness centrality metrics (for edges and/or for nodes) functions of NetworkX. Other NetworkX functions that return per-edge or per-residue values can be passed to the [analyze](api/AlloViz.Protein.analyze.rst) method.\n",
    "\n",
    "For example, we can analyze the betweenness centrality (\"btw\") of both the edges and the nodes of the filtered network. As before, we can run multiple analysis at the same time by supplying lists."
   ]
  },
  {
   "cell_type": "code",
   "execution_count": 7,
   "id": "e46681d9-242c-4ce0-9241-1a5fa24bfa06",
   "metadata": {},
   "outputs": [
    {
     "name": "stdout",
     "output_type": "stream",
     "text": [
      "adding analyzed edges <AlloViz.Wrappers.pytraj_w.pytraj_CA object at 0x7ff7931b8850> Spatially_distant data of for 117/data/protein.pdb\n",
      "adding analyzed nodes <AlloViz.Wrappers.pytraj_w.pytraj_CA object at 0x7ff7931b8850> Spatially_distant data of for 117/data/protein.pdb\n"
     ]
    }
   ],
   "source": [
    "activeB2AR.analyze(elements=[\"edges\", \"nodes\"], metrics=\"btw\")\n",
    "# the same as: activeB2AR.pyraj_CA.Spatially_distant.analyze(elements=[\"edges\", \"nodes\"], metrics=\"btw\")"
   ]
  },
  {
   "cell_type": "markdown",
   "id": "7e520509-3311-4d31-a3aa-25823a8f98c1",
   "metadata": {},
   "source": [
    "The results are stored as DataFrames as new attributes of the `Spatially_distant` filtering results, one for each element of the network."
   ]
  },
  {
   "cell_type": "code",
   "execution_count": 8,
   "id": "da8d8eb6-dcb0-4818-8f39-75c5ad83cfe0",
   "metadata": {},
   "outputs": [
    {
     "data": {
      "text/html": [
       "<div>\n",
       "<style scoped>\n",
       "    .dataframe tbody tr th:only-of-type {\n",
       "        vertical-align: middle;\n",
       "    }\n",
       "\n",
       "    .dataframe tbody tr th {\n",
       "        vertical-align: top;\n",
       "    }\n",
       "\n",
       "    .dataframe thead th {\n",
       "        text-align: right;\n",
       "    }\n",
       "</style>\n",
       "<table border=\"1\" class=\"dataframe\">\n",
       "  <thead>\n",
       "    <tr style=\"text-align: right;\">\n",
       "      <th></th>\n",
       "      <th>btw_weight</th>\n",
       "      <th>btw</th>\n",
       "      <th>btw_std</th>\n",
       "    </tr>\n",
       "  </thead>\n",
       "  <tbody>\n",
       "    <tr>\n",
       "      <th>GLN:26</th>\n",
       "      <td>0.012079</td>\n",
       "      <td>0.006542</td>\n",
       "      <td>0.011065</td>\n",
       "    </tr>\n",
       "    <tr>\n",
       "      <th>VAL:31</th>\n",
       "      <td>0.000000</td>\n",
       "      <td>0.016751</td>\n",
       "      <td>0.021030</td>\n",
       "    </tr>\n",
       "    <tr>\n",
       "      <th>TRP:32</th>\n",
       "      <td>0.070912</td>\n",
       "      <td>0.000887</td>\n",
       "      <td>0.001297</td>\n",
       "    </tr>\n",
       "    <tr>\n",
       "      <th>VAL:33</th>\n",
       "      <td>0.000000</td>\n",
       "      <td>0.001694</td>\n",
       "      <td>0.002456</td>\n",
       "    </tr>\n",
       "    <tr>\n",
       "      <th>VAL:34</th>\n",
       "      <td>0.000154</td>\n",
       "      <td>0.002281</td>\n",
       "      <td>0.003875</td>\n",
       "    </tr>\n",
       "    <tr>\n",
       "      <th>...</th>\n",
       "      <td>...</td>\n",
       "      <td>...</td>\n",
       "      <td>...</td>\n",
       "    </tr>\n",
       "    <tr>\n",
       "      <th>LEU:342</th>\n",
       "      <td>0.002420</td>\n",
       "      <td>0.015981</td>\n",
       "      <td>0.010658</td>\n",
       "    </tr>\n",
       "    <tr>\n",
       "      <th>GLU:27</th>\n",
       "      <td>0.000022</td>\n",
       "      <td>0.008588</td>\n",
       "      <td>0.009183</td>\n",
       "    </tr>\n",
       "    <tr>\n",
       "      <th>ARG:28</th>\n",
       "      <td>0.004554</td>\n",
       "      <td>0.013656</td>\n",
       "      <td>0.021462</td>\n",
       "    </tr>\n",
       "    <tr>\n",
       "      <th>ASP:29</th>\n",
       "      <td>0.003542</td>\n",
       "      <td>0.017022</td>\n",
       "      <td>0.014820</td>\n",
       "    </tr>\n",
       "    <tr>\n",
       "      <th>GLU:30</th>\n",
       "      <td>0.002178</td>\n",
       "      <td>0.023718</td>\n",
       "      <td>0.037900</td>\n",
       "    </tr>\n",
       "  </tbody>\n",
       "</table>\n",
       "<p>303 rows × 3 columns</p>\n",
       "</div>"
      ],
      "text/plain": [
       "         btw_weight       btw   btw_std\n",
       "GLN:26     0.012079  0.006542  0.011065\n",
       "VAL:31     0.000000  0.016751  0.021030\n",
       "TRP:32     0.070912  0.000887  0.001297\n",
       "VAL:33     0.000000  0.001694  0.002456\n",
       "VAL:34     0.000154  0.002281  0.003875\n",
       "...             ...       ...       ...\n",
       "LEU:342    0.002420  0.015981  0.010658\n",
       "GLU:27     0.000022  0.008588  0.009183\n",
       "ARG:28     0.004554  0.013656  0.021462\n",
       "ASP:29     0.003542  0.017022  0.014820\n",
       "GLU:30     0.002178  0.023718  0.037900\n",
       "\n",
       "[303 rows x 3 columns]"
      ]
     },
     "execution_count": 8,
     "metadata": {},
     "output_type": "execute_result"
    }
   ],
   "source": [
    "activeB2AR.pytraj_CA.Spatially_distant.nodes"
   ]
  },
  {
   "cell_type": "markdown",
   "id": "537df4c2-8b6f-4ce7-b20e-d660d1f713d3",
   "metadata": {},
   "source": [
    "### Network visualization\n",
    "\n",
    "The analysis results of the edges or the nodes (and also both together) can be visualised on the protein structure with an interactive widget. The exact element that we wish to visualise can be specified to the [view](api/AlloViz.Protein.view.rst) method, or we can exploit the custom edges' and nodes' [DataFrames' view](api/AlloViz.AlloViz.Elements.Element.view.rst) method.\n",
    "\n",
    "For example, to view the edges' betweenness centrality analysis results:"
   ]
  },
  {
   "cell_type": "code",
   "execution_count": 11,
   "id": "b63d52cb-4592-4a2f-86c2-768a6d5a3b1c",
   "metadata": {},
   "outputs": [
    {
     "name": "stderr",
     "output_type": "stream",
     "text": [
      "/gpcr/users/frann/networks/dev_expl_nover/lib/python3.9/site-packages/MDAnalysis/coordinates/PDB.py:431: UserWarning: 1 A^3 CRYST1 record, this is usually a placeholder. Unit cell dimensions will be set to None.\n",
      "  warnings.warn(\"1 A^3 CRYST1 record,\"\n"
     ]
    },
    {
     "data": {
      "application/vnd.jupyter.widget-view+json": {
       "model_id": "8a87cc3b9ce84d398a4d4e984d21ed1a",
       "version_major": 2,
       "version_minor": 0
      },
      "text/plain": [
       "NGLWidget()"
      ]
     },
     "metadata": {},
     "output_type": "display_data"
    },
    {
     "data": {
      "image/png": "[encoded data removed]",
      "text/plain": [
       "<Figure size 432x288 with 2 Axes>"
      ]
     },
     "metadata": {
      "needs_background": "light"
     },
     "output_type": "display_data"
    }
   ],
   "source": [
    "activeB2AR.pytraj_CA.Spatially_distant.edges.view(\"btw\")\n",
    "# the same as: activeB2AR.view(pkg=\"pytraj_CA\", metric=\"btw\", filtering=\"Spatially_distant\", element=\"edges\")"
   ]
  },
  {
   "cell_type": "markdown",
   "id": "38c8ae03-153d-4235-90a8-a0702d480a0c",
   "metadata": {},
   "source": [
    "## Delta-network\n",
    "\n",
    "A delta-network of two `Protein`s allows to highlight the differences between the networks of the two structures. In this case, we could compare our active B2AR to the inactive state, which corresponds to the GPCRmd entry ID 160."
   ]
  },
  {
   "cell_type": "code",
   "execution_count": 12,
   "id": "0942482d-0aed-458c-a8c3-7a09feff0138",
   "metadata": {},
   "outputs": [
    {
     "name": "stdout",
     "output_type": "stream",
     "text": [
      "downloading 160/11498_trj_160.xtc\n",
      "downloading 160/11499_trj_160.xtc\n",
      "downloading 160/11500_trj_160.xtc\n",
      "downloading 160/11502_dyn_160.psf\n",
      "downloading 160/11503_dyn_160.pdb\n",
      "downloading 160/11504_prm_160.tar.gz\n"
     ]
    },
    {
     "name": "stderr",
     "output_type": "stream",
     "text": [
      "/gpcr/users/frann/networks/dev_expl_nover/lib/python3.9/site-packages/MDAnalysis/coordinates/PDB.py:749: UserWarning: Unit cell dimensions not found. CRYST1 record set to unitary values.\n",
      "  warnings.warn(\"Unit cell dimensions not found. \"\n",
      "/gpcr/users/frann/networks/dev_expl_nover/lib/python3.9/site-packages/MDAnalysis/lib/util.py:662: RuntimeWarning: Constructed NamedStream from a NamedStream\n",
      "  warnings.warn(\"Constructed NamedStream from a NamedStream\",\n",
      "/gpcr/users/frann/networks/dev_expl_nover/lib/python3.9/site-packages/MDAnalysis/coordinates/PDB.py:431: UserWarning: 1 A^3 CRYST1 record, this is usually a placeholder. Unit cell dimensions will be set to None.\n",
      "  warnings.warn(\"1 A^3 CRYST1 record,\"\n"
     ]
    },
    {
     "name": "stdout",
     "output_type": "stream",
     "text": [
      "adding raw data of pytraj_CA for 160/data/protein.pdb:  ['160/data/pytraj_CA/raw/1.pq', '160/data/pytraj_CA/raw/2.pq', '160/data/pytraj_CA/raw/3.pq']\n",
      "adding analyzed edges <AlloViz.Wrappers.pytraj_w.pytraj_CA object at 0x7ff7a00c2850> Spatially_distant data of for 160/data/protein.pdb\n"
     ]
    }
   ],
   "source": [
    "inactiveB2AR = AlloViz.Protein(GPCR=160, name=\"Inactive B2AR\")\n",
    "inactiveB2AR.calculate(\"pytraj_CA\")\n",
    "inactiveB2AR.filter(filterings=\"Spatially_distant\")\n",
    "inactiveB2AR.analyze(elements=\"edges\", metrics=\"btw\")"
   ]
  },
  {
   "cell_type": "markdown",
   "id": "b0b06943-8eb3-4796-a36c-cb9c23c47bb7",
   "metadata": {},
   "source": [
    "The [Delta](api/AlloViz.Delta.rst) constructor performs the delta-network calculations automatically when supplied with two `Protein` objects, and also includes a [view](api/AlloViz.Delta.view.rst) method for visualisation of the results."
   ]
  },
  {
   "cell_type": "code",
   "execution_count": 13,
   "id": "b8d698c3-992d-443e-a1e0-803f9eacb82d",
   "metadata": {},
   "outputs": [],
   "source": [
    "delta = AlloViz.Delta(activeB2AR, inactiveB2AR)"
   ]
  },
  {
   "cell_type": "code",
   "execution_count": 14,
   "id": "c4e798b0-b7be-4b31-9cc9-0a107c47b589",
   "metadata": {
    "tags": []
   },
   "outputs": [
    {
     "name": "stderr",
     "output_type": "stream",
     "text": [
      "/gpcr/users/frann/networks/dev_expl_nover/lib/python3.9/site-packages/MDAnalysis/coordinates/PDB.py:431: UserWarning: 1 A^3 CRYST1 record, this is usually a placeholder. Unit cell dimensions will be set to None.\n",
      "  warnings.warn(\"1 A^3 CRYST1 record,\"\n"
     ]
    },
    {
     "data": {
      "application/vnd.jupyter.widget-view+json": {
       "model_id": "4c981f34345b4077931b81b5a9ea91d8",
       "version_major": 2,
       "version_minor": 0
      },
      "text/plain": [
       "NGLWidget()"
      ]
     },
     "metadata": {},
     "output_type": "display_data"
    },
    {
     "data": {
      "image/png": "[encoded data removed]",
      "text/plain": [
       "<Figure size 432x288 with 2 Axes>"
      ]
     },
     "metadata": {
      "needs_background": "light"
     },
     "output_type": "display_data"
    }
   ],
   "source": [
    "delta.view(pkg=\"pytraj_CA\", metric=\"btw\", filtering=\"Spatially_distant\", element=[\"edges\"])\n",
    "# the same as: delta.pytraj_CA.Spatially_distant.edges.view(\"btw\")"
   ]
  }
 ],
 "metadata": {
  "kernelspec": {
   "display_name": "Python [conda env:alloviz] *",
   "language": "python",
   "name": "conda-env-alloviz-py"
  },
  "language_info": {
   "codemirror_mode": {
    "name": "ipython",
    "version": 3
   },
   "file_extension": ".py",
   "mimetype": "text/x-python",
   "name": "python",
   "nbconvert_exporter": "python",
   "pygments_lexer": "ipython3",
   "version": "3.9.16"
  },
  "toc-autonumbering": false,
  "toc-showtags": true,
  "widgets": {
   "application/vnd.jupyter.widget-state+json": {
    "state": {},
    "version_major": 2,
    "version_minor": 0
   }
  }
 },
 "nbformat": 4,
 "nbformat_minor": 5
}
